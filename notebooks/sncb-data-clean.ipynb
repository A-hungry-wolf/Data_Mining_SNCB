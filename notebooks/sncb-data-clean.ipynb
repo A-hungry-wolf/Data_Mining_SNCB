{
 "cells": [
  {
   "cell_type": "markdown",
   "id": "58ee9d1a",
   "metadata": {
    "papermill": {
     "duration": 0.00791,
     "end_time": "2023-11-09T23:45:43.893890",
     "exception": false,
     "start_time": "2023-11-09T23:45:43.885980",
     "status": "completed"
    },
    "tags": []
   },
   "source": [
    "# Data Import"
   ]
  },
  {
   "cell_type": "code",
   "execution_count": 1,
   "id": "f2da2486",
   "metadata": {
    "execution": {
     "iopub.execute_input": "2023-11-09T23:45:43.910584Z",
     "iopub.status.busy": "2023-11-09T23:45:43.909921Z",
     "iopub.status.idle": "2023-11-09T23:45:46.842981Z",
     "shell.execute_reply": "2023-11-09T23:45:46.841897Z"
    },
    "papermill": {
     "duration": 2.944405,
     "end_time": "2023-11-09T23:45:46.845600",
     "exception": false,
     "start_time": "2023-11-09T23:45:43.901195",
     "status": "completed"
    },
    "tags": []
   },
   "outputs": [],
   "source": [
    "import pandas as pd\n",
    "import os\n",
    "import seaborn as sns\n",
    "import numpy as np\n",
    "import matplotlib.pyplot as plt\n",
    "from sklearn.cluster import DBSCAN"
   ]
  },
  {
   "cell_type": "code",
   "execution_count": 2,
   "id": "44f22fac",
   "metadata": {
    "execution": {
     "iopub.execute_input": "2023-11-09T23:45:46.862688Z",
     "iopub.status.busy": "2023-11-09T23:45:46.862200Z",
     "iopub.status.idle": "2023-11-09T23:46:29.431314Z",
     "shell.execute_reply": "2023-11-09T23:46:29.430441Z"
    },
    "papermill": {
     "duration": 42.587568,
     "end_time": "2023-11-09T23:46:29.441002",
     "exception": false,
     "start_time": "2023-11-09T23:45:46.853434",
     "status": "completed"
    },
    "tags": []
   },
   "outputs": [
    {
     "name": "stdout",
     "output_type": "stream",
     "text": [
      "<class 'pandas.core.frame.DataFrame'>\n",
      "RangeIndex: 17679273 entries, 0 to 17679272\n",
      "Data columns (total 15 columns):\n",
      " #   Column              Dtype  \n",
      "---  ------              -----  \n",
      " 0   Unnamed: 0          int64  \n",
      " 1   mapped_veh_id       float64\n",
      " 2   timestamps_UTC      object \n",
      " 3   lat                 float64\n",
      " 4   lon                 float64\n",
      " 5   RS_E_InAirTemp_PC1  float64\n",
      " 6   RS_E_InAirTemp_PC2  float64\n",
      " 7   RS_E_OilPress_PC1   float64\n",
      " 8   RS_E_OilPress_PC2   float64\n",
      " 9   RS_E_RPM_PC1        float64\n",
      " 10  RS_E_RPM_PC2        float64\n",
      " 11  RS_E_WatTemp_PC1    float64\n",
      " 12  RS_E_WatTemp_PC2    float64\n",
      " 13  RS_T_OilTemp_PC1    float64\n",
      " 14  RS_T_OilTemp_PC2    float64\n",
      "dtypes: float64(13), int64(1), object(1)\n",
      "memory usage: 2.0+ GB\n",
      "None\n",
      "   Unnamed: 0  mapped_veh_id       timestamps_UTC        lat       lon  \\\n",
      "0           0          181.0  2023-08-01 03:44:12  50.769818  3.872114   \n",
      "1           1          143.0  2023-08-01 06:36:29  51.039993  3.693429   \n",
      "2           2          183.0  2023-08-24 06:53:54  50.742203  3.602035   \n",
      "3           3          177.0  2023-08-01 13:53:38  50.930914  5.327132   \n",
      "4           4          143.0  2023-08-24 07:02:30  51.180773  3.575259   \n",
      "\n",
      "   RS_E_InAirTemp_PC1  RS_E_InAirTemp_PC2  RS_E_OilPress_PC1  \\\n",
      "0                27.0                23.0              255.0   \n",
      "1                33.0                32.0              272.0   \n",
      "2                31.0                33.0              234.0   \n",
      "3                35.0                38.0              220.0   \n",
      "4                41.0                34.0              227.0   \n",
      "\n",
      "   RS_E_OilPress_PC2  RS_E_RPM_PC1  RS_E_RPM_PC2  RS_E_WatTemp_PC1  \\\n",
      "0              238.0         794.0         801.0              83.0   \n",
      "1              324.0         802.0         804.0              78.0   \n",
      "2              182.0         799.0         802.0              82.0   \n",
      "3              244.0         794.0         801.0              77.0   \n",
      "4              282.0         806.0         800.0              85.0   \n",
      "\n",
      "   RS_E_WatTemp_PC2  RS_T_OilTemp_PC1  RS_T_OilTemp_PC2  \n",
      "0              81.0              76.0              77.0  \n",
      "1              78.0              73.0              74.0  \n",
      "2              82.0              85.0              87.0  \n",
      "3              81.0              78.0              82.0  \n",
      "4              78.0              82.0              79.0  \n"
     ]
    }
   ],
   "source": [
    "dataset_path = '/kaggle/input/sncb-remote-diagnostics-in-fleet-maintenance/ar41_for_ulb.csv'\n",
    "\n",
    "# Check if the file exists before trying to read it\n",
    "if os.path.exists(dataset_path):\n",
    "    data = pd.read_csv(dataset_path, delimiter=';')\n",
    "\n",
    "    # Display the basic information and the first few rows of the dataframe\n",
    "    data_info = data.info()\n",
    "    data_head = data.head()\n",
    "\n",
    "    # If you want to print the information to the console\n",
    "    print(data_info)\n",
    "    print(data_head)\n",
    "else:\n",
    "    print(f\"The file {dataset_path} does not exist.\")"
   ]
  },
  {
   "cell_type": "markdown",
   "id": "eadea3b3",
   "metadata": {
    "papermill": {
     "duration": 0.007077,
     "end_time": "2023-11-09T23:46:29.455643",
     "exception": false,
     "start_time": "2023-11-09T23:46:29.448566",
     "status": "completed"
    },
    "tags": []
   },
   "source": [
    "# Remove Column `Unnamed: 0`"
   ]
  },
  {
   "cell_type": "code",
   "execution_count": 3,
   "id": "dca1e3d3",
   "metadata": {
    "execution": {
     "iopub.execute_input": "2023-11-09T23:46:29.472216Z",
     "iopub.status.busy": "2023-11-09T23:46:29.471728Z",
     "iopub.status.idle": "2023-11-09T23:46:30.021284Z",
     "shell.execute_reply": "2023-11-09T23:46:30.020369Z"
    },
    "papermill": {
     "duration": 0.560789,
     "end_time": "2023-11-09T23:46:30.023771",
     "exception": false,
     "start_time": "2023-11-09T23:46:29.462982",
     "status": "completed"
    },
    "tags": []
   },
   "outputs": [
    {
     "data": {
      "text/plain": [
       "(17679273, 14)"
      ]
     },
     "execution_count": 3,
     "metadata": {},
     "output_type": "execute_result"
    }
   ],
   "source": [
    "data.drop(['Unnamed: 0'], axis=1, inplace = True)\n",
    "data.shape"
   ]
  },
  {
   "cell_type": "markdown",
   "id": "51afc5bb",
   "metadata": {
    "papermill": {
     "duration": 0.007167,
     "end_time": "2023-11-09T23:46:30.038878",
     "exception": false,
     "start_time": "2023-11-09T23:46:30.031711",
     "status": "completed"
    },
    "tags": []
   },
   "source": [
    "# Detect Missing Value"
   ]
  },
  {
   "cell_type": "code",
   "execution_count": 4,
   "id": "0fcee145",
   "metadata": {
    "execution": {
     "iopub.execute_input": "2023-11-09T23:46:30.055947Z",
     "iopub.status.busy": "2023-11-09T23:46:30.055402Z",
     "iopub.status.idle": "2023-11-09T23:46:30.774328Z",
     "shell.execute_reply": "2023-11-09T23:46:30.773450Z"
    },
    "papermill": {
     "duration": 0.730077,
     "end_time": "2023-11-09T23:46:30.776570",
     "exception": false,
     "start_time": "2023-11-09T23:46:30.046493",
     "status": "completed"
    },
    "tags": []
   },
   "outputs": [
    {
     "data": {
      "text/plain": [
       "mapped_veh_id             0\n",
       "timestamps_UTC            0\n",
       "lat                       0\n",
       "lon                       0\n",
       "RS_E_InAirTemp_PC1        0\n",
       "RS_E_InAirTemp_PC2    12726\n",
       "RS_E_OilPress_PC1         0\n",
       "RS_E_OilPress_PC2     12726\n",
       "RS_E_RPM_PC1              0\n",
       "RS_E_RPM_PC2          12726\n",
       "RS_E_WatTemp_PC1          0\n",
       "RS_E_WatTemp_PC2      12726\n",
       "RS_T_OilTemp_PC1          0\n",
       "RS_T_OilTemp_PC2      12726\n",
       "dtype: int64"
      ]
     },
     "execution_count": 4,
     "metadata": {},
     "output_type": "execute_result"
    }
   ],
   "source": [
    "# Checking for missing values in each column\n",
    "missing_values = data.isnull().sum()\n",
    "missing_values"
   ]
  },
  {
   "cell_type": "markdown",
   "id": "9290b568",
   "metadata": {
    "papermill": {
     "duration": 0.00733,
     "end_time": "2023-11-09T23:46:30.791868",
     "exception": false,
     "start_time": "2023-11-09T23:46:30.784538",
     "status": "completed"
    },
    "tags": []
   },
   "source": [
    "Find a lot of missing values, and the count of them are the same, so let's try to diagnose whether it is caused by systematic problem of senser from PC2"
   ]
  },
  {
   "cell_type": "code",
   "execution_count": 5,
   "id": "a758ea82",
   "metadata": {
    "execution": {
     "iopub.execute_input": "2023-11-09T23:46:30.809096Z",
     "iopub.status.busy": "2023-11-09T23:46:30.808710Z",
     "iopub.status.idle": "2023-11-09T23:46:53.775350Z",
     "shell.execute_reply": "2023-11-09T23:46:53.774451Z"
    },
    "papermill": {
     "duration": 22.977588,
     "end_time": "2023-11-09T23:46:53.777285",
     "exception": false,
     "start_time": "2023-11-09T23:46:30.799697",
     "status": "completed"
    },
    "tags": []
   },
   "outputs": [
    {
     "data": {
      "text/plain": [
       "11759521    False\n",
       "14409419    False\n",
       "13286611    False\n",
       "17234666    False\n",
       "5221806     False\n",
       "            ...  \n",
       "16724009    False\n",
       "995273      False\n",
       "14298087    False\n",
       "15979243    False\n",
       "10041108    False\n",
       "Name: RS_E_InAirTemp_PC2, Length: 17679273, dtype: bool"
      ]
     },
     "execution_count": 5,
     "metadata": {},
     "output_type": "execute_result"
    }
   ],
   "source": [
    "# Load a subset of the data for analysis, we are focusing on one column with missing values for demonstration\n",
    "subset_data = pd.read_csv(dataset_path, delimiter = ';', usecols=['timestamps_UTC', 'RS_E_InAirTemp_PC2', 'RS_E_OilPress_PC2'])\n",
    "\n",
    "# Convert timestamps to datetime objects for easier analysis\n",
    "subset_data['timestamps_UTC'] = pd.to_datetime(subset_data['timestamps_UTC'])\n",
    "\n",
    "# Sort the data based on the timestamp\n",
    "subset_data.sort_values('timestamps_UTC', inplace=True)\n",
    "\n",
    "# Create a boolean series to indicate rows with missing values\n",
    "missing_value_series = subset_data['RS_E_InAirTemp_PC2'].isnull()\n",
    "\n",
    "# Print Missing Values\n",
    "missing_value_series"
   ]
  },
  {
   "cell_type": "code",
   "execution_count": 6,
   "id": "b9947fbf",
   "metadata": {
    "execution": {
     "iopub.execute_input": "2023-11-09T23:46:53.795170Z",
     "iopub.status.busy": "2023-11-09T23:46:53.794664Z",
     "iopub.status.idle": "2023-11-09T23:46:55.517707Z",
     "shell.execute_reply": "2023-11-09T23:46:55.516437Z"
    },
    "papermill": {
     "duration": 1.734914,
     "end_time": "2023-11-09T23:46:55.520148",
     "exception": false,
     "start_time": "2023-11-09T23:46:53.785234",
     "status": "completed"
    },
    "tags": []
   },
   "outputs": [
    {
     "data": {
      "image/png": "[encoded data removed]",
      "text/plain": [
       "<Figure size 1500x500 with 1 Axes>"
      ]
     },
     "metadata": {},
     "output_type": "display_data"
    }
   ],
   "source": [
    "# Resampling the data to get daily missing data proportion\n",
    "daily_missing_data = subset_data.set_index('timestamps_UTC').resample('D')['RS_E_InAirTemp_PC2'].apply(lambda x: x.isnull().mean())\n",
    "\n",
    "# Plotting the line plot\n",
    "plt.figure(figsize=(15,5))\n",
    "daily_missing_data.plot(kind='line', color='red', label='Missing Value Proportion', lw=2)\n",
    "plt.xlabel('Date')\n",
    "plt.ylabel('Proportion of Missing Data')\n",
    "plt.title('Daily Proportion of Missing Values for RS_E_InAirTemp_PC2')\n",
    "plt.legend()\n",
    "plt.grid(True)  # Adding grid for better readability\n",
    "plt.tight_layout()  # Adjust the plot to ensure everything fits without overlapping\n",
    "plt.show()"
   ]
  },
  {
   "cell_type": "code",
   "execution_count": 7,
   "id": "9a4ffa0f",
   "metadata": {
    "execution": {
     "iopub.execute_input": "2023-11-09T23:46:55.539069Z",
     "iopub.status.busy": "2023-11-09T23:46:55.538284Z",
     "iopub.status.idle": "2023-11-09T23:46:55.557950Z",
     "shell.execute_reply": "2023-11-09T23:46:55.556467Z"
    },
    "papermill": {
     "duration": 0.031794,
     "end_time": "2023-11-09T23:46:55.560679",
     "exception": false,
     "start_time": "2023-11-09T23:46:55.528885",
     "status": "completed"
    },
    "tags": []
   },
   "outputs": [
    {
     "data": {
      "text/plain": [
       "11759521    False\n",
       "14409419    False\n",
       "13286611    False\n",
       "17234666    False\n",
       "5221806     False\n",
       "            ...  \n",
       "16724009    False\n",
       "995273      False\n",
       "14298087    False\n",
       "15979243    False\n",
       "10041108    False\n",
       "Name: RS_E_OilPress_PC2, Length: 17679273, dtype: bool"
      ]
     },
     "execution_count": 7,
     "metadata": {},
     "output_type": "execute_result"
    }
   ],
   "source": [
    "# Create a boolean series to indicate rows with missing values\n",
    "missing_value_series_2 = subset_data['RS_E_OilPress_PC2'].isnull()\n",
    "\n",
    "# Print Missing Values\n",
    "missing_value_series_2"
   ]
  },
  {
   "cell_type": "code",
   "execution_count": 8,
   "id": "29fdc1e1",
   "metadata": {
    "execution": {
     "iopub.execute_input": "2023-11-09T23:46:55.580615Z",
     "iopub.status.busy": "2023-11-09T23:46:55.579467Z",
     "iopub.status.idle": "2023-11-09T23:46:57.200879Z",
     "shell.execute_reply": "2023-11-09T23:46:57.199535Z"
    },
    "papermill": {
     "duration": 1.633778,
     "end_time": "2023-11-09T23:46:57.203330",
     "exception": false,
     "start_time": "2023-11-09T23:46:55.569552",
     "status": "completed"
    },
    "tags": []
   },
   "outputs": [
    {
     "data": {
      "image/png": "[encoded data removed]",
      "text/plain": [
       "<Figure size 1500x500 with 1 Axes>"
      ]
     },
     "metadata": {},
     "output_type": "display_data"
    }
   ],
   "source": [
    "# Resampling the data to get daily missing data proportion\n",
    "daily_missing_data = subset_data.set_index('timestamps_UTC').resample('D')['RS_E_OilPress_PC2'].apply(lambda x: x.isnull().mean())\n",
    "\n",
    "# Plotting the line plot\n",
    "plt.figure(figsize=(15,5))\n",
    "daily_missing_data.plot(kind='line', color='red', label='Missing Value Proportion', lw=2)\n",
    "plt.xlabel('Date')\n",
    "plt.ylabel('Proportion of Missing Data')\n",
    "plt.title('Daily Proportion of Missing Values for RS_E_InAirTemp_PC2')\n",
    "plt.legend()\n",
    "plt.grid(True)  # Adding grid for better readability\n",
    "plt.tight_layout()  # Adjust the plot to ensure everything fits without overlapping\n",
    "plt.show()"
   ]
  },
  {
   "cell_type": "markdown",
   "id": "410a4f49",
   "metadata": {
    "papermill": {
     "duration": 0.008682,
     "end_time": "2023-11-09T23:46:57.221355",
     "exception": false,
     "start_time": "2023-11-09T23:46:57.212673",
     "status": "completed"
    },
    "tags": []
   },
   "source": [
    "The two graph shows that the distribution of all missing value are the same, so let's remove the missing values"
   ]
  },
  {
   "cell_type": "code",
   "execution_count": 9,
   "id": "5396b387",
   "metadata": {
    "execution": {
     "iopub.execute_input": "2023-11-09T23:46:57.241232Z",
     "iopub.status.busy": "2023-11-09T23:46:57.240887Z",
     "iopub.status.idle": "2023-11-09T23:46:58.392628Z",
     "shell.execute_reply": "2023-11-09T23:46:58.391177Z"
    },
    "papermill": {
     "duration": 1.164902,
     "end_time": "2023-11-09T23:46:58.395421",
     "exception": false,
     "start_time": "2023-11-09T23:46:57.230519",
     "status": "completed"
    },
    "tags": []
   },
   "outputs": [
    {
     "data": {
      "text/plain": [
       "((17679273, 14), (17666547, 14))"
      ]
     },
     "execution_count": 9,
     "metadata": {},
     "output_type": "execute_result"
    }
   ],
   "source": [
    "# Size of the dataset before removing missing values\n",
    "original_size = data.shape\n",
    "\n",
    "# Removing rows with missing values in any of the specified columns\n",
    "columns_with_missing_values = [\n",
    "    'RS_E_InAirTemp_PC2', 'RS_E_OilPress_PC2', \n",
    "    'RS_E_RPM_PC2', 'RS_E_WatTemp_PC2', 'RS_T_OilTemp_PC2'\n",
    "]\n",
    "\n",
    "# Drop the rows contain the missing value\n",
    "data = data.dropna(subset=columns_with_missing_values)\n",
    "\n",
    "# Size of the dataset after removing missing values\n",
    "data_size = data.shape\n",
    "\n",
    "original_size, data_size"
   ]
  },
  {
   "cell_type": "markdown",
   "id": "e3daa952",
   "metadata": {
    "papermill": {
     "duration": 0.008787,
     "end_time": "2023-11-09T23:46:58.413655",
     "exception": false,
     "start_time": "2023-11-09T23:46:58.404868",
     "status": "completed"
    },
    "tags": []
   },
   "source": [
    "# Remove Duplicate Rows"
   ]
  },
  {
   "cell_type": "code",
   "execution_count": 10,
   "id": "ad12b695",
   "metadata": {
    "execution": {
     "iopub.execute_input": "2023-11-09T23:46:58.433274Z",
     "iopub.status.busy": "2023-11-09T23:46:58.432909Z",
     "iopub.status.idle": "2023-11-09T23:46:58.439323Z",
     "shell.execute_reply": "2023-11-09T23:46:58.437474Z"
    },
    "papermill": {
     "duration": 0.018567,
     "end_time": "2023-11-09T23:46:58.441346",
     "exception": false,
     "start_time": "2023-11-09T23:46:58.422779",
     "status": "completed"
    },
    "tags": []
   },
   "outputs": [
    {
     "name": "stdout",
     "output_type": "stream",
     "text": [
      "(17666547, 14)\n"
     ]
    }
   ],
   "source": [
    "print(data.shape)"
   ]
  },
  {
   "cell_type": "code",
   "execution_count": 11,
   "id": "030d2382",
   "metadata": {
    "execution": {
     "iopub.execute_input": "2023-11-09T23:46:58.463799Z",
     "iopub.status.busy": "2023-11-09T23:46:58.462200Z",
     "iopub.status.idle": "2023-11-09T23:47:35.760076Z",
     "shell.execute_reply": "2023-11-09T23:47:35.758493Z"
    },
    "papermill": {
     "duration": 37.311385,
     "end_time": "2023-11-09T23:47:35.762833",
     "exception": false,
     "start_time": "2023-11-09T23:46:58.451448",
     "status": "completed"
    },
    "tags": []
   },
   "outputs": [],
   "source": [
    "data.drop_duplicates(inplace=True)"
   ]
  },
  {
   "cell_type": "code",
   "execution_count": 12,
   "id": "f0074150",
   "metadata": {
    "execution": {
     "iopub.execute_input": "2023-11-09T23:47:35.783187Z",
     "iopub.status.busy": "2023-11-09T23:47:35.782814Z",
     "iopub.status.idle": "2023-11-09T23:47:35.788830Z",
     "shell.execute_reply": "2023-11-09T23:47:35.787440Z"
    },
    "papermill": {
     "duration": 0.018467,
     "end_time": "2023-11-09T23:47:35.790896",
     "exception": false,
     "start_time": "2023-11-09T23:47:35.772429",
     "status": "completed"
    },
    "tags": []
   },
   "outputs": [
    {
     "name": "stdout",
     "output_type": "stream",
     "text": [
      "(17666547, 14)\n"
     ]
    }
   ],
   "source": [
    "print(data.shape)"
   ]
  },
  {
   "cell_type": "markdown",
   "id": "f1b46306",
   "metadata": {
    "papermill": {
     "duration": 0.00929,
     "end_time": "2023-11-09T23:47:35.809932",
     "exception": false,
     "start_time": "2023-11-09T23:47:35.800642",
     "status": "completed"
    },
    "tags": []
   },
   "source": [
    "no duplicate was found, move on"
   ]
  },
  {
   "cell_type": "markdown",
   "id": "9db29812",
   "metadata": {
    "papermill": {
     "duration": 0.00925,
     "end_time": "2023-11-09T23:47:35.828934",
     "exception": false,
     "start_time": "2023-11-09T23:47:35.819684",
     "status": "completed"
    },
    "tags": []
   },
   "source": [
    "# Remove Value 0 from all columns"
   ]
  },
  {
   "cell_type": "markdown",
   "id": "641ac859",
   "metadata": {
    "papermill": {
     "duration": 0.009367,
     "end_time": "2023-11-09T23:47:35.848035",
     "exception": false,
     "start_time": "2023-11-09T23:47:35.838668",
     "status": "completed"
    },
    "tags": []
   },
   "source": [
    "this code not worked because it will remove the tempure higher than usual (the information we need), bue do not treat tempurature 0 as outlier"
   ]
  },
  {
   "cell_type": "code",
   "execution_count": 13,
   "id": "e870820c",
   "metadata": {
    "execution": {
     "iopub.execute_input": "2023-11-09T23:47:35.868980Z",
     "iopub.status.busy": "2023-11-09T23:47:35.868640Z",
     "iopub.status.idle": "2023-11-09T23:47:35.874462Z",
     "shell.execute_reply": "2023-11-09T23:47:35.872916Z"
    },
    "papermill": {
     "duration": 0.018734,
     "end_time": "2023-11-09T23:47:35.876553",
     "exception": false,
     "start_time": "2023-11-09T23:47:35.857819",
     "status": "completed"
    },
    "tags": []
   },
   "outputs": [],
   "source": [
    "# # Make use of IQR Methodology\n",
    "# Q1 = data['RS_E_InAirTemp_PC1'].quantile(0.25)\n",
    "# Q3 = data['RS_E_InAirTemp_PC1'].quantile(0.75)\n",
    "\n",
    "# # Calculate IQR\n",
    "# IQR = Q3 - Q1\n",
    "\n",
    "# # Define Outlier Boundary\n",
    "# lower_bound = Q1 - 1.5 * IQR\n",
    "# upper_bound = Q3 + 1.5 * IQR\n",
    "\n",
    "# # Define Outliers\n",
    "# outliers = data[(data['RS_E_InAirTemp_PC1'] < lower_bound) | (data['RS_E_InAirTemp_PC1'] > upper_bound)]\n",
    "\n",
    "# outliers['RS_E_InAirTemp_PC1']"
   ]
  },
  {
   "cell_type": "code",
   "execution_count": 14,
   "id": "3890f40c",
   "metadata": {
    "execution": {
     "iopub.execute_input": "2023-11-09T23:47:35.897857Z",
     "iopub.status.busy": "2023-11-09T23:47:35.897490Z",
     "iopub.status.idle": "2023-11-09T23:47:38.557700Z",
     "shell.execute_reply": "2023-11-09T23:47:38.556779Z"
    },
    "papermill": {
     "duration": 2.673485,
     "end_time": "2023-11-09T23:47:38.559530",
     "exception": false,
     "start_time": "2023-11-09T23:47:35.886045",
     "status": "completed"
    },
    "tags": []
   },
   "outputs": [
    {
     "data": {
      "text/plain": [
       "(16302714, 14)"
      ]
     },
     "execution_count": 14,
     "metadata": {},
     "output_type": "execute_result"
    }
   ],
   "source": [
    "# list of columns should not contain 0 value\n",
    "columns_need_check = ['mapped_veh_id', 'timestamps_UTC', 'lat', 'lon', 'RS_E_InAirTemp_PC1', 'RS_E_InAirTemp_PC2', 'RS_E_OilPress_PC1',\n",
    "       'RS_E_OilPress_PC2', 'RS_E_RPM_PC1', 'RS_E_RPM_PC2', 'RS_E_WatTemp_PC1', 'RS_E_WatTemp_PC2', 'RS_T_OilTemp_PC1', 'RS_T_OilTemp_PC2']\n",
    "\n",
    "# Remove all the rows where columns value contains 0\n",
    "data = data[(data[columns_need_check] != 0).all(axis=1)]\n",
    "\n",
    "data.shape"
   ]
  },
  {
   "cell_type": "markdown",
   "id": "db99993d",
   "metadata": {
    "papermill": {
     "duration": 0.010966,
     "end_time": "2023-11-09T23:47:38.638297",
     "exception": false,
     "start_time": "2023-11-09T23:47:38.627331",
     "status": "completed"
    },
    "tags": []
   },
   "source": [
    "# Convert the 'timestamps_UTC' column to datetime"
   ]
  },
  {
   "cell_type": "code",
   "execution_count": 15,
   "id": "dbb5b3e1",
   "metadata": {
    "execution": {
     "iopub.execute_input": "2023-11-09T23:47:38.659807Z",
     "iopub.status.busy": "2023-11-09T23:47:38.659472Z",
     "iopub.status.idle": "2023-11-09T23:49:03.303477Z",
     "shell.execute_reply": "2023-11-09T23:49:03.301803Z"
    },
    "papermill": {
     "duration": 84.657603,
     "end_time": "2023-11-09T23:49:03.305836",
     "exception": false,
     "start_time": "2023-11-09T23:47:38.648233",
     "status": "completed"
    },
    "tags": []
   },
   "outputs": [
    {
     "name": "stdout",
     "output_type": "stream",
     "text": [
      "datetime64[ns]\n",
      "         date      time  hour  day  dayofweek   weekday\n",
      "0  2023-08-01  03:44:12     3    1          1   Tuesday\n",
      "1  2023-08-01  06:36:29     6    1          1   Tuesday\n",
      "2  2023-08-24  06:53:54     6   24          3  Thursday\n",
      "3  2023-08-01  13:53:38    13    1          1   Tuesday\n",
      "4  2023-08-24  07:02:30     7   24          3  Thursday\n",
      "(16302714, 19)\n"
     ]
    }
   ],
   "source": [
    "# Convert the 'timestamps_UTC' column to datetime format and coerce errors\n",
    "data['timestamps_UTC'] = pd.to_datetime(data['timestamps_UTC'], errors='coerce')\n",
    "\n",
    "# Verify the datatype of 'timestamps_UTC' after conversion\n",
    "print(data['timestamps_UTC'].dtype)\n",
    "\n",
    "# Extract date and time attributes for visualization\n",
    "data['date'] = data['timestamps_UTC'].dt.date\n",
    "data['time'] = data['timestamps_UTC'].dt.time\n",
    "data['hour'] = data['timestamps_UTC'].dt.hour\n",
    "data['day'] = data['timestamps_UTC'].dt.day\n",
    "data['dayofweek'] = data['timestamps_UTC'].dt.dayofweek\n",
    "data['weekday'] = data['timestamps_UTC'].dt.strftime('%A')\n",
    "\n",
    "# Verify that the new columns have been created\n",
    "print(data[['date', 'time', 'hour', 'day', 'dayofweek', 'weekday']].head())\n",
    "\n",
    "# Drop the 'timestamps_UTC' column if it's no longer needed\n",
    "data.drop(['timestamps_UTC'], axis=1, inplace=True)\n",
    "\n",
    "# Verify the shape of the data\n",
    "print(data.shape)\n"
   ]
  },
  {
   "cell_type": "markdown",
   "id": "f5eea800",
   "metadata": {
    "papermill": {
     "duration": 0.00958,
     "end_time": "2023-11-09T23:49:03.326176",
     "exception": false,
     "start_time": "2023-11-09T23:49:03.316596",
     "status": "completed"
    },
    "tags": []
   },
   "source": [
    "# Remove outranged Date"
   ]
  },
  {
   "cell_type": "code",
   "execution_count": 16,
   "id": "7e68b840",
   "metadata": {
    "execution": {
     "iopub.execute_input": "2023-11-09T23:49:03.348874Z",
     "iopub.status.busy": "2023-11-09T23:49:03.347850Z",
     "iopub.status.idle": "2023-11-09T23:49:04.324231Z",
     "shell.execute_reply": "2023-11-09T23:49:04.322775Z"
    },
    "papermill": {
     "duration": 0.990523,
     "end_time": "2023-11-09T23:49:04.326777",
     "exception": false,
     "start_time": "2023-11-09T23:49:03.336254",
     "status": "completed"
    },
    "tags": []
   },
   "outputs": [
    {
     "data": {
      "text/plain": [
       "date\n",
       "2022-08-22        22\n",
       "2023-01-01         3\n",
       "2023-01-03        21\n",
       "2023-01-04        47\n",
       "2023-01-05       104\n",
       "2023-01-06        81\n",
       "2023-01-07       139\n",
       "2023-01-08       228\n",
       "2023-01-09       142\n",
       "2023-01-10       143\n",
       "2023-01-11        88\n",
       "2023-01-12       113\n",
       "2023-01-13       408\n",
       "2023-01-14        55\n",
       "2023-01-15        55\n",
       "2023-01-16        32\n",
       "2023-01-17         2\n",
       "2023-01-20        34\n",
       "2023-01-22         4\n",
       "2023-01-23     59346\n",
       "2023-01-24     97312\n",
       "2023-01-25    101314\n",
       "2023-01-26    101466\n",
       "2023-01-27     98007\n",
       "2023-01-28     40499\n",
       "2023-01-29     47186\n",
       "2023-01-30     91982\n",
       "2023-01-31    106886\n",
       "2023-02-01    100152\n",
       "2023-02-02     90146\n",
       "2023-02-03     91637\n",
       "2023-02-04     36932\n",
       "2023-02-05     37128\n",
       "2023-02-06     91967\n",
       "2023-02-07    105060\n",
       "2023-02-08    102756\n",
       "2023-02-09    104948\n",
       "2023-02-10    105306\n",
       "2023-02-11     41584\n",
       "2023-02-12     41480\n",
       "2023-02-13     90099\n",
       "2023-02-14     94536\n",
       "2023-02-15     94108\n",
       "2023-02-16     91243\n",
       "2023-02-17     92072\n",
       "2023-02-18     42290\n",
       "2023-02-19     40461\n",
       "2023-02-20    102425\n",
       "2023-02-21     96579\n",
       "2023-02-22    101884\n",
       "2023-02-23     95838\n",
       "2023-02-24     84916\n",
       "2023-02-25     34471\n",
       "2023-02-26     38366\n",
       "2023-02-27    100056\n",
       "2023-02-28    108150\n",
       "2023-03-01    107690\n",
       "2023-03-02    113232\n",
       "2023-03-03    104013\n",
       "2023-03-04     47155\n",
       "2023-03-05     49200\n",
       "2023-03-06     99606\n",
       "2023-03-07    101856\n",
       "2023-03-08    108820\n",
       "2023-03-09    102798\n",
       "2023-03-10     37806\n",
       "2023-03-11     53089\n",
       "2023-03-12     42756\n",
       "2023-03-13     93645\n",
       "2023-03-14     80636\n",
       "2023-03-15     95153\n",
       "2023-03-16     87932\n",
       "2023-03-17     94101\n",
       "2023-03-18     15837\n",
       "2023-03-19     22048\n",
       "2023-03-20     96726\n",
       "2023-03-21     97521\n",
       "2023-03-22     92643\n",
       "2023-03-23     92384\n",
       "2023-03-24     89662\n",
       "2023-03-25      1811\n",
       "2023-03-26     40193\n",
       "2023-03-27     95865\n",
       "2023-03-28     99525\n",
       "2023-03-29     96983\n",
       "2023-03-30     86911\n",
       "2023-03-31     78918\n",
       "2023-04-01     28322\n",
       "2023-04-02     45206\n",
       "2023-04-03     77394\n",
       "2023-04-04     74890\n",
       "2023-04-05     77245\n",
       "2023-04-06     67204\n",
       "2023-04-07     62118\n",
       "2023-04-08     37155\n",
       "2023-04-09     29964\n",
       "2023-04-10     34203\n",
       "2023-04-11     56813\n",
       "2023-04-12     71661\n",
       "2023-04-13     69867\n",
       "2023-04-14     68001\n",
       "2023-04-15     39843\n",
       "2023-04-16     37198\n",
       "2023-04-17     97894\n",
       "2023-04-18     94381\n",
       "2023-04-19     99017\n",
       "2023-04-20     97723\n",
       "2023-04-21     90536\n",
       "2023-04-22     38337\n",
       "2023-04-23     44255\n",
       "2023-04-24     92610\n",
       "2023-04-25     90826\n",
       "2023-04-26     91459\n",
       "2023-04-27     96136\n",
       "2023-04-28     86289\n",
       "2023-04-29     21183\n",
       "2023-04-30     20430\n",
       "2023-05-01     35031\n",
       "2023-05-02     91096\n",
       "2023-05-03     92352\n",
       "2023-05-04     76720\n",
       "2023-05-05     90187\n",
       "2023-05-06     18280\n",
       "2023-05-07     24186\n",
       "2023-05-08     84840\n",
       "2023-05-09     89073\n",
       "2023-05-10     94859\n",
       "2023-05-11     92585\n",
       "2023-05-12     92471\n",
       "2023-05-13     35862\n",
       "2023-05-14     39805\n",
       "2023-05-15     92378\n",
       "2023-05-16    100583\n",
       "2023-05-17     95565\n",
       "2023-05-18     41910\n",
       "2023-05-19     79388\n",
       "2023-05-20     18380\n",
       "2023-05-21     23144\n",
       "2023-05-22     83308\n",
       "2023-05-23     98570\n",
       "2023-05-24     97497\n",
       "2023-05-25     95136\n",
       "2023-05-26     92298\n",
       "2023-05-27     23828\n",
       "2023-05-28     20961\n",
       "2023-05-29     40004\n",
       "2023-05-30     92002\n",
       "2023-05-31     99634\n",
       "2023-06-01     91411\n",
       "2023-06-02     89225\n",
       "2023-06-03     25418\n",
       "2023-06-04     28918\n",
       "2023-06-05     90916\n",
       "2023-06-06     91097\n",
       "2023-06-07     93676\n",
       "2023-06-08     90844\n",
       "2023-06-09     93399\n",
       "2023-06-10     29112\n",
       "2023-06-11     34775\n",
       "2023-06-12     96268\n",
       "2023-06-13     94758\n",
       "2023-06-14     94320\n",
       "2023-06-15     89336\n",
       "2023-06-16     85682\n",
       "2023-06-17     37204\n",
       "2023-06-18     40961\n",
       "2023-06-19     86860\n",
       "2023-06-20     89399\n",
       "2023-06-21    100163\n",
       "2023-06-22     96643\n",
       "2023-06-23     88662\n",
       "2023-06-24     37417\n",
       "2023-06-25     30384\n",
       "2023-06-26     82702\n",
       "2023-06-27     87236\n",
       "2023-06-28     95931\n",
       "2023-06-29     87732\n",
       "2023-06-30     87162\n",
       "2023-07-01     35551\n",
       "2023-07-02     36341\n",
       "2023-07-03     68165\n",
       "2023-07-04     65912\n",
       "2023-07-05     69889\n",
       "2023-07-06     53804\n",
       "2023-07-07     68350\n",
       "2023-07-08     41737\n",
       "2023-07-09     28275\n",
       "2023-07-10     74946\n",
       "2023-07-11     69752\n",
       "2023-07-12     69672\n",
       "2023-07-13     72598\n",
       "2023-07-14     67220\n",
       "2023-07-15     37473\n",
       "2023-07-16     35015\n",
       "2023-07-17     70810\n",
       "2023-07-18     65975\n",
       "2023-07-19     74225\n",
       "2023-07-20     69543\n",
       "2023-07-21     38167\n",
       "2023-07-22     41299\n",
       "2023-07-23     40800\n",
       "2023-07-24     72279\n",
       "2023-07-25     67943\n",
       "2023-07-26     67754\n",
       "2023-07-27     72304\n",
       "2023-07-28     61784\n",
       "2023-07-29     32963\n",
       "2023-07-30     42356\n",
       "2023-07-31     69001\n",
       "2023-08-01     70823\n",
       "2023-08-02     74348\n",
       "2023-08-03     74214\n",
       "2023-08-04     65083\n",
       "2023-08-05     35717\n",
       "2023-08-06     34258\n",
       "2023-08-07     71094\n",
       "2023-08-08     64475\n",
       "2023-08-09     67556\n",
       "2023-08-10     59767\n",
       "2023-08-11     69094\n",
       "2023-08-12     25054\n",
       "2023-08-13     27052\n",
       "2023-08-14     50710\n",
       "2023-08-15     31413\n",
       "2023-08-16     60453\n",
       "2023-08-17     61607\n",
       "2023-08-18     57091\n",
       "2023-08-19     28989\n",
       "2023-08-20     34839\n",
       "2023-08-21     65627\n",
       "2023-08-22     64350\n",
       "2023-08-23     64482\n",
       "2023-08-24     64586\n",
       "2023-08-25     66354\n",
       "2023-08-26     36244\n",
       "2023-08-27     36550\n",
       "2023-08-28     87883\n",
       "2023-08-29     91335\n",
       "2023-08-30     90396\n",
       "2023-08-31     87536\n",
       "2023-09-01     80327\n",
       "2023-09-02     33394\n",
       "2023-09-03     35239\n",
       "2023-09-04     91471\n",
       "2023-09-05     87586\n",
       "2023-09-06     83163\n",
       "2023-09-07     86820\n",
       "2023-09-08     83471\n",
       "2023-09-09     29354\n",
       "2023-09-10     31601\n",
       "2023-09-11     89159\n",
       "2023-09-12     93914\n",
       "2023-09-13     89804\n",
       "Name: count, dtype: int64"
      ]
     },
     "execution_count": 16,
     "metadata": {},
     "output_type": "execute_result"
    }
   ],
   "source": [
    "# Set the option to display up to 500 rows to shows all the results\n",
    "pd.set_option('display.max_rows', 500)\n",
    "\n",
    "date_distribution = data['date'].value_counts().sort_index()\n",
    "date_distribution"
   ]
  },
  {
   "cell_type": "code",
   "execution_count": 17,
   "id": "0293ed68",
   "metadata": {
    "execution": {
     "iopub.execute_input": "2023-11-09T23:49:04.349012Z",
     "iopub.status.busy": "2023-11-09T23:49:04.348645Z",
     "iopub.status.idle": "2023-11-09T23:49:04.353749Z",
     "shell.execute_reply": "2023-11-09T23:49:04.352434Z"
    },
    "papermill": {
     "duration": 0.019151,
     "end_time": "2023-11-09T23:49:04.356161",
     "exception": false,
     "start_time": "2023-11-09T23:49:04.337010",
     "status": "completed"
    },
    "tags": []
   },
   "outputs": [],
   "source": [
    "# data['timestamps_UTC'].value_counts().sort_index()"
   ]
  },
  {
   "cell_type": "code",
   "execution_count": 18,
   "id": "82b8feac",
   "metadata": {
    "execution": {
     "iopub.execute_input": "2023-11-09T23:49:04.378455Z",
     "iopub.status.busy": "2023-11-09T23:49:04.378042Z",
     "iopub.status.idle": "2023-11-09T23:49:05.305369Z",
     "shell.execute_reply": "2023-11-09T23:49:05.304521Z"
    },
    "papermill": {
     "duration": 0.94045,
     "end_time": "2023-11-09T23:49:05.307186",
     "exception": false,
     "start_time": "2023-11-09T23:49:04.366736",
     "status": "completed"
    },
    "tags": []
   },
   "outputs": [
    {
     "data": {
      "text/html": [
       "<div>\n",
       "<style scoped>\n",
       "    .dataframe tbody tr th:only-of-type {\n",
       "        vertical-align: middle;\n",
       "    }\n",
       "\n",
       "    .dataframe tbody tr th {\n",
       "        vertical-align: top;\n",
       "    }\n",
       "\n",
       "    .dataframe thead th {\n",
       "        text-align: right;\n",
       "    }\n",
       "</style>\n",
       "<table border=\"1\" class=\"dataframe\">\n",
       "  <thead>\n",
       "    <tr style=\"text-align: right;\">\n",
       "      <th></th>\n",
       "      <th>mapped_veh_id</th>\n",
       "      <th>lat</th>\n",
       "      <th>lon</th>\n",
       "      <th>RS_E_InAirTemp_PC1</th>\n",
       "      <th>RS_E_InAirTemp_PC2</th>\n",
       "      <th>RS_E_OilPress_PC1</th>\n",
       "      <th>RS_E_OilPress_PC2</th>\n",
       "      <th>RS_E_RPM_PC1</th>\n",
       "      <th>RS_E_RPM_PC2</th>\n",
       "      <th>RS_E_WatTemp_PC1</th>\n",
       "      <th>RS_E_WatTemp_PC2</th>\n",
       "      <th>RS_T_OilTemp_PC1</th>\n",
       "      <th>RS_T_OilTemp_PC2</th>\n",
       "      <th>date</th>\n",
       "      <th>time</th>\n",
       "      <th>hour</th>\n",
       "      <th>day</th>\n",
       "      <th>dayofweek</th>\n",
       "      <th>weekday</th>\n",
       "    </tr>\n",
       "  </thead>\n",
       "  <tbody>\n",
       "    <tr>\n",
       "      <th>387835</th>\n",
       "      <td>114.0</td>\n",
       "      <td>51.167832</td>\n",
       "      <td>4.970915</td>\n",
       "      <td>16.0</td>\n",
       "      <td>37.0</td>\n",
       "      <td>365.0</td>\n",
       "      <td>369.0</td>\n",
       "      <td>1488.0</td>\n",
       "      <td>1504.0</td>\n",
       "      <td>81.0</td>\n",
       "      <td>81.0</td>\n",
       "      <td>77.0</td>\n",
       "      <td>81.0</td>\n",
       "      <td>2023-01-05</td>\n",
       "      <td>04:08:17</td>\n",
       "      <td>4</td>\n",
       "      <td>5</td>\n",
       "      <td>3</td>\n",
       "      <td>Thursday</td>\n",
       "    </tr>\n",
       "    <tr>\n",
       "      <th>387860</th>\n",
       "      <td>114.0</td>\n",
       "      <td>51.224405</td>\n",
       "      <td>4.440917</td>\n",
       "      <td>15.0</td>\n",
       "      <td>21.0</td>\n",
       "      <td>244.0</td>\n",
       "      <td>241.0</td>\n",
       "      <td>797.0</td>\n",
       "      <td>819.0</td>\n",
       "      <td>80.0</td>\n",
       "      <td>80.0</td>\n",
       "      <td>73.0</td>\n",
       "      <td>74.0</td>\n",
       "      <td>2023-01-05</td>\n",
       "      <td>09:38:28</td>\n",
       "      <td>9</td>\n",
       "      <td>5</td>\n",
       "      <td>3</td>\n",
       "      <td>Thursday</td>\n",
       "    </tr>\n",
       "    <tr>\n",
       "      <th>388129</th>\n",
       "      <td>114.0</td>\n",
       "      <td>51.291419</td>\n",
       "      <td>4.399841</td>\n",
       "      <td>13.0</td>\n",
       "      <td>30.0</td>\n",
       "      <td>217.0</td>\n",
       "      <td>210.0</td>\n",
       "      <td>791.0</td>\n",
       "      <td>794.0</td>\n",
       "      <td>79.0</td>\n",
       "      <td>79.0</td>\n",
       "      <td>76.0</td>\n",
       "      <td>78.0</td>\n",
       "      <td>2023-01-05</td>\n",
       "      <td>06:59:46</td>\n",
       "      <td>6</td>\n",
       "      <td>5</td>\n",
       "      <td>3</td>\n",
       "      <td>Thursday</td>\n",
       "    </tr>\n",
       "    <tr>\n",
       "      <th>388130</th>\n",
       "      <td>114.0</td>\n",
       "      <td>51.169224</td>\n",
       "      <td>4.990896</td>\n",
       "      <td>15.0</td>\n",
       "      <td>36.0</td>\n",
       "      <td>224.0</td>\n",
       "      <td>213.0</td>\n",
       "      <td>799.0</td>\n",
       "      <td>790.0</td>\n",
       "      <td>78.0</td>\n",
       "      <td>78.0</td>\n",
       "      <td>76.0</td>\n",
       "      <td>78.0</td>\n",
       "      <td>2023-01-05</td>\n",
       "      <td>04:06:25</td>\n",
       "      <td>4</td>\n",
       "      <td>5</td>\n",
       "      <td>3</td>\n",
       "      <td>Thursday</td>\n",
       "    </tr>\n",
       "    <tr>\n",
       "      <th>388131</th>\n",
       "      <td>114.0</td>\n",
       "      <td>51.190393</td>\n",
       "      <td>5.113896</td>\n",
       "      <td>13.0</td>\n",
       "      <td>21.0</td>\n",
       "      <td>231.0</td>\n",
       "      <td>227.0</td>\n",
       "      <td>795.0</td>\n",
       "      <td>802.0</td>\n",
       "      <td>80.0</td>\n",
       "      <td>80.0</td>\n",
       "      <td>74.0</td>\n",
       "      <td>75.0</td>\n",
       "      <td>2023-01-05</td>\n",
       "      <td>03:51:36</td>\n",
       "      <td>3</td>\n",
       "      <td>5</td>\n",
       "      <td>3</td>\n",
       "      <td>Thursday</td>\n",
       "    </tr>\n",
       "    <tr>\n",
       "      <th>...</th>\n",
       "      <td>...</td>\n",
       "      <td>...</td>\n",
       "      <td>...</td>\n",
       "      <td>...</td>\n",
       "      <td>...</td>\n",
       "      <td>...</td>\n",
       "      <td>...</td>\n",
       "      <td>...</td>\n",
       "      <td>...</td>\n",
       "      <td>...</td>\n",
       "      <td>...</td>\n",
       "      <td>...</td>\n",
       "      <td>...</td>\n",
       "      <td>...</td>\n",
       "      <td>...</td>\n",
       "      <td>...</td>\n",
       "      <td>...</td>\n",
       "      <td>...</td>\n",
       "      <td>...</td>\n",
       "    </tr>\n",
       "    <tr>\n",
       "      <th>16694651</th>\n",
       "      <td>114.0</td>\n",
       "      <td>51.190395</td>\n",
       "      <td>5.113913</td>\n",
       "      <td>13.0</td>\n",
       "      <td>20.0</td>\n",
       "      <td>244.0</td>\n",
       "      <td>244.0</td>\n",
       "      <td>801.0</td>\n",
       "      <td>802.0</td>\n",
       "      <td>77.0</td>\n",
       "      <td>78.0</td>\n",
       "      <td>70.0</td>\n",
       "      <td>71.0</td>\n",
       "      <td>2023-01-05</td>\n",
       "      <td>03:23:40</td>\n",
       "      <td>3</td>\n",
       "      <td>5</td>\n",
       "      <td>3</td>\n",
       "      <td>Thursday</td>\n",
       "    </tr>\n",
       "    <tr>\n",
       "      <th>17386068</th>\n",
       "      <td>114.0</td>\n",
       "      <td>51.190425</td>\n",
       "      <td>5.113904</td>\n",
       "      <td>13.0</td>\n",
       "      <td>21.0</td>\n",
       "      <td>231.0</td>\n",
       "      <td>224.0</td>\n",
       "      <td>797.0</td>\n",
       "      <td>794.0</td>\n",
       "      <td>80.0</td>\n",
       "      <td>80.0</td>\n",
       "      <td>75.0</td>\n",
       "      <td>75.0</td>\n",
       "      <td>2023-01-05</td>\n",
       "      <td>03:52:57</td>\n",
       "      <td>3</td>\n",
       "      <td>5</td>\n",
       "      <td>3</td>\n",
       "      <td>Thursday</td>\n",
       "    </tr>\n",
       "    <tr>\n",
       "      <th>17398823</th>\n",
       "      <td>114.0</td>\n",
       "      <td>51.190412</td>\n",
       "      <td>5.113923</td>\n",
       "      <td>13.0</td>\n",
       "      <td>20.0</td>\n",
       "      <td>244.0</td>\n",
       "      <td>238.0</td>\n",
       "      <td>802.0</td>\n",
       "      <td>798.0</td>\n",
       "      <td>78.0</td>\n",
       "      <td>78.0</td>\n",
       "      <td>70.0</td>\n",
       "      <td>71.0</td>\n",
       "      <td>2023-01-05</td>\n",
       "      <td>03:25:28</td>\n",
       "      <td>3</td>\n",
       "      <td>5</td>\n",
       "      <td>3</td>\n",
       "      <td>Thursday</td>\n",
       "    </tr>\n",
       "    <tr>\n",
       "      <th>17407804</th>\n",
       "      <td>114.0</td>\n",
       "      <td>51.221958</td>\n",
       "      <td>5.437313</td>\n",
       "      <td>19.0</td>\n",
       "      <td>26.0</td>\n",
       "      <td>231.0</td>\n",
       "      <td>220.0</td>\n",
       "      <td>800.0</td>\n",
       "      <td>801.0</td>\n",
       "      <td>79.0</td>\n",
       "      <td>78.0</td>\n",
       "      <td>76.0</td>\n",
       "      <td>77.0</td>\n",
       "      <td>2023-01-05</td>\n",
       "      <td>20:38:39</td>\n",
       "      <td>20</td>\n",
       "      <td>5</td>\n",
       "      <td>3</td>\n",
       "      <td>Thursday</td>\n",
       "    </tr>\n",
       "    <tr>\n",
       "      <th>17407805</th>\n",
       "      <td>114.0</td>\n",
       "      <td>51.190379</td>\n",
       "      <td>5.113893</td>\n",
       "      <td>13.0</td>\n",
       "      <td>21.0</td>\n",
       "      <td>255.0</td>\n",
       "      <td>244.0</td>\n",
       "      <td>787.0</td>\n",
       "      <td>787.0</td>\n",
       "      <td>75.0</td>\n",
       "      <td>76.0</td>\n",
       "      <td>66.0</td>\n",
       "      <td>67.0</td>\n",
       "      <td>2023-01-05</td>\n",
       "      <td>03:12:49</td>\n",
       "      <td>3</td>\n",
       "      <td>5</td>\n",
       "      <td>3</td>\n",
       "      <td>Thursday</td>\n",
       "    </tr>\n",
       "  </tbody>\n",
       "</table>\n",
       "<p>104 rows × 19 columns</p>\n",
       "</div>"
      ],
      "text/plain": [
       "          mapped_veh_id        lat       lon  RS_E_InAirTemp_PC1  \\\n",
       "387835            114.0  51.167832  4.970915                16.0   \n",
       "387860            114.0  51.224405  4.440917                15.0   \n",
       "388129            114.0  51.291419  4.399841                13.0   \n",
       "388130            114.0  51.169224  4.990896                15.0   \n",
       "388131            114.0  51.190393  5.113896                13.0   \n",
       "...                 ...        ...       ...                 ...   \n",
       "16694651          114.0  51.190395  5.113913                13.0   \n",
       "17386068          114.0  51.190425  5.113904                13.0   \n",
       "17398823          114.0  51.190412  5.113923                13.0   \n",
       "17407804          114.0  51.221958  5.437313                19.0   \n",
       "17407805          114.0  51.190379  5.113893                13.0   \n",
       "\n",
       "          RS_E_InAirTemp_PC2  RS_E_OilPress_PC1  RS_E_OilPress_PC2  \\\n",
       "387835                  37.0              365.0              369.0   \n",
       "387860                  21.0              244.0              241.0   \n",
       "388129                  30.0              217.0              210.0   \n",
       "388130                  36.0              224.0              213.0   \n",
       "388131                  21.0              231.0              227.0   \n",
       "...                      ...                ...                ...   \n",
       "16694651                20.0              244.0              244.0   \n",
       "17386068                21.0              231.0              224.0   \n",
       "17398823                20.0              244.0              238.0   \n",
       "17407804                26.0              231.0              220.0   \n",
       "17407805                21.0              255.0              244.0   \n",
       "\n",
       "          RS_E_RPM_PC1  RS_E_RPM_PC2  RS_E_WatTemp_PC1  RS_E_WatTemp_PC2  \\\n",
       "387835          1488.0        1504.0              81.0              81.0   \n",
       "387860           797.0         819.0              80.0              80.0   \n",
       "388129           791.0         794.0              79.0              79.0   \n",
       "388130           799.0         790.0              78.0              78.0   \n",
       "388131           795.0         802.0              80.0              80.0   \n",
       "...                ...           ...               ...               ...   \n",
       "16694651         801.0         802.0              77.0              78.0   \n",
       "17386068         797.0         794.0              80.0              80.0   \n",
       "17398823         802.0         798.0              78.0              78.0   \n",
       "17407804         800.0         801.0              79.0              78.0   \n",
       "17407805         787.0         787.0              75.0              76.0   \n",
       "\n",
       "          RS_T_OilTemp_PC1  RS_T_OilTemp_PC2        date      time  hour  day  \\\n",
       "387835                77.0              81.0  2023-01-05  04:08:17     4    5   \n",
       "387860                73.0              74.0  2023-01-05  09:38:28     9    5   \n",
       "388129                76.0              78.0  2023-01-05  06:59:46     6    5   \n",
       "388130                76.0              78.0  2023-01-05  04:06:25     4    5   \n",
       "388131                74.0              75.0  2023-01-05  03:51:36     3    5   \n",
       "...                    ...               ...         ...       ...   ...  ...   \n",
       "16694651              70.0              71.0  2023-01-05  03:23:40     3    5   \n",
       "17386068              75.0              75.0  2023-01-05  03:52:57     3    5   \n",
       "17398823              70.0              71.0  2023-01-05  03:25:28     3    5   \n",
       "17407804              76.0              77.0  2023-01-05  20:38:39    20    5   \n",
       "17407805              66.0              67.0  2023-01-05  03:12:49     3    5   \n",
       "\n",
       "          dayofweek   weekday  \n",
       "387835            3  Thursday  \n",
       "387860            3  Thursday  \n",
       "388129            3  Thursday  \n",
       "388130            3  Thursday  \n",
       "388131            3  Thursday  \n",
       "...             ...       ...  \n",
       "16694651          3  Thursday  \n",
       "17386068          3  Thursday  \n",
       "17398823          3  Thursday  \n",
       "17407804          3  Thursday  \n",
       "17407805          3  Thursday  \n",
       "\n",
       "[104 rows x 19 columns]"
      ]
     },
     "execution_count": 18,
     "metadata": {},
     "output_type": "execute_result"
    }
   ],
   "source": [
    "# Set the option to display up to 500 rows to shows all the results\n",
    "pd.set_option('display.max_rows', 50)\n",
    "data[data['date'] == pd.to_datetime('2023-01-05').date()]"
   ]
  },
  {
   "cell_type": "markdown",
   "id": "f00f47d1",
   "metadata": {
    "papermill": {
     "duration": 0.009682,
     "end_time": "2023-11-09T23:49:05.327507",
     "exception": false,
     "start_time": "2023-11-09T23:49:05.317825",
     "status": "completed"
    },
    "tags": []
   },
   "source": [
    "we can find that the data is uncontinues and almost useless, so let's remove the data of date frequency less than 1000"
   ]
  },
  {
   "cell_type": "code",
   "execution_count": 19,
   "id": "c026f563",
   "metadata": {
    "execution": {
     "iopub.execute_input": "2023-11-09T23:49:05.349177Z",
     "iopub.status.busy": "2023-11-09T23:49:05.348845Z",
     "iopub.status.idle": "2023-11-09T23:49:07.490484Z",
     "shell.execute_reply": "2023-11-09T23:49:07.489618Z"
    },
    "papermill": {
     "duration": 2.155442,
     "end_time": "2023-11-09T23:49:07.492789",
     "exception": false,
     "start_time": "2023-11-09T23:49:05.337347",
     "status": "completed"
    },
    "tags": []
   },
   "outputs": [
    {
     "data": {
      "text/plain": [
       "(16300993, 19)"
      ]
     },
     "execution_count": 19,
     "metadata": {},
     "output_type": "execute_result"
    }
   ],
   "source": [
    "# Find dates with a frequency of less than 1000\n",
    "dates_to_remove = date_distribution[date_distribution < 1000].index\n",
    "\n",
    "# Remove these dates from the DataFrame\n",
    "data = data[~data['date'].isin(dates_to_remove)]\n",
    "\n",
    "data.shape"
   ]
  },
  {
   "cell_type": "markdown",
   "id": "86387a6d",
   "metadata": {
    "papermill": {
     "duration": 0.01137,
     "end_time": "2023-11-09T23:49:07.515546",
     "exception": false,
     "start_time": "2023-11-09T23:49:07.504176",
     "status": "completed"
    },
    "tags": []
   },
   "source": [
    "# Remove Outliers in lon & lat"
   ]
  },
  {
   "cell_type": "code",
   "execution_count": 20,
   "id": "fcf6b511",
   "metadata": {
    "execution": {
     "iopub.execute_input": "2023-11-09T23:49:07.538548Z",
     "iopub.status.busy": "2023-11-09T23:49:07.537915Z",
     "iopub.status.idle": "2023-11-09T23:49:08.059865Z",
     "shell.execute_reply": "2023-11-09T23:49:08.059072Z"
    },
    "papermill": {
     "duration": 0.536094,
     "end_time": "2023-11-09T23:49:08.062136",
     "exception": false,
     "start_time": "2023-11-09T23:49:07.526042",
     "status": "completed"
    },
    "tags": []
   },
   "outputs": [
    {
     "data": {
      "text/plain": [
       "377873      49.383591\n",
       "2929855     52.857059\n",
       "14485639    49.729545\n",
       "Name: lat, dtype: float64"
      ]
     },
     "execution_count": 20,
     "metadata": {},
     "output_type": "execute_result"
    }
   ],
   "source": [
    "# Make use of IQR Methodology\n",
    "Q1 = data['lat'].quantile(0.25)\n",
    "Q3 = data['lat'].quantile(0.75)\n",
    "\n",
    "# Calculate IQR\n",
    "IQR = Q3 - Q1\n",
    "\n",
    "# Define Outlier Boundary\n",
    "lower_bound = Q1 - 2.5 * IQR\n",
    "upper_bound = Q3 + 2 * IQR\n",
    "\n",
    "# Define Outliers\n",
    "outliers = data[(data['lat'] < lower_bound) | (data['lat'] > upper_bound)]\n",
    "\n",
    "outliers['lat']"
   ]
  },
  {
   "cell_type": "code",
   "execution_count": 21,
   "id": "66346911",
   "metadata": {
    "execution": {
     "iopub.execute_input": "2023-11-09T23:49:08.087123Z",
     "iopub.status.busy": "2023-11-09T23:49:08.086476Z",
     "iopub.status.idle": "2023-11-09T23:49:09.786813Z",
     "shell.execute_reply": "2023-11-09T23:49:09.785254Z"
    },
    "papermill": {
     "duration": 1.71555,
     "end_time": "2023-11-09T23:49:09.789281",
     "exception": false,
     "start_time": "2023-11-09T23:49:08.073731",
     "status": "completed"
    },
    "tags": []
   },
   "outputs": [
    {
     "data": {
      "text/plain": [
       "(16300990, 19)"
      ]
     },
     "execution_count": 21,
     "metadata": {},
     "output_type": "execute_result"
    }
   ],
   "source": [
    "# Filtering out the outliers directly without using the .drop() method\n",
    "data = data[~((data['lat'] < lower_bound) | (data['lat'] > upper_bound))]\n",
    "data.shape"
   ]
  },
  {
   "cell_type": "code",
   "execution_count": 22,
   "id": "28fed467",
   "metadata": {
    "execution": {
     "iopub.execute_input": "2023-11-09T23:49:09.812314Z",
     "iopub.status.busy": "2023-11-09T23:49:09.811966Z",
     "iopub.status.idle": "2023-11-09T23:49:10.411770Z",
     "shell.execute_reply": "2023-11-09T23:49:10.410664Z"
    },
    "papermill": {
     "duration": 0.614434,
     "end_time": "2023-11-09T23:49:10.414521",
     "exception": false,
     "start_time": "2023-11-09T23:49:09.800087",
     "status": "completed"
    },
    "tags": []
   },
   "outputs": [
    {
     "data": {
      "text/plain": [
       "3213259     0.206793\n",
       "4484586     0.175049\n",
       "9624290     2.474403\n",
       "12241898    1.954037\n",
       "13246459    0.190611\n",
       "16414114    2.872149\n",
       "17612420    1.960787\n",
       "Name: lon, dtype: float64"
      ]
     },
     "execution_count": 22,
     "metadata": {},
     "output_type": "execute_result"
    }
   ],
   "source": [
    "# Make use of IQR Methodology\n",
    "Q1 = data['lon'].quantile(0.25)\n",
    "Q3 = data['lon'].quantile(0.75)\n",
    "\n",
    "# Calculate IQR\n",
    "IQR = Q3 - Q1\n",
    "\n",
    "# Define Outlier Boundary\n",
    "lower_bound = Q1 - 1 * IQR\n",
    "upper_bound = Q3 + 1.5 * IQR\n",
    "\n",
    "# Define Outliers\n",
    "outliers = data[(data['lon'] < lower_bound) | (data['lon'] > upper_bound)]\n",
    "\n",
    "outliers['lon']"
   ]
  },
  {
   "cell_type": "code",
   "execution_count": 23,
   "id": "c0493e1b",
   "metadata": {
    "execution": {
     "iopub.execute_input": "2023-11-09T23:49:10.439969Z",
     "iopub.status.busy": "2023-11-09T23:49:10.439601Z",
     "iopub.status.idle": "2023-11-09T23:49:12.135281Z",
     "shell.execute_reply": "2023-11-09T23:49:12.134198Z"
    },
    "papermill": {
     "duration": 1.710788,
     "end_time": "2023-11-09T23:49:12.137374",
     "exception": false,
     "start_time": "2023-11-09T23:49:10.426586",
     "status": "completed"
    },
    "tags": []
   },
   "outputs": [
    {
     "data": {
      "text/plain": [
       "(16300983, 19)"
      ]
     },
     "execution_count": 23,
     "metadata": {},
     "output_type": "execute_result"
    }
   ],
   "source": [
    "# Filtering out the outliers directly without using the .drop() method\n",
    "data = data[~((data['lon'] < lower_bound) | (data['lon'] > upper_bound))]\n",
    "data.shape"
   ]
  },
  {
   "cell_type": "markdown",
   "id": "a45d96f4",
   "metadata": {
    "papermill": {
     "duration": 0.010585,
     "end_time": "2023-11-09T23:49:12.159160",
     "exception": false,
     "start_time": "2023-11-09T23:49:12.148575",
     "status": "completed"
    },
    "tags": []
   },
   "source": [
    "# Group the data by column `mapped_veh_id`"
   ]
  },
  {
   "cell_type": "code",
   "execution_count": 24,
   "id": "09857043",
   "metadata": {
    "execution": {
     "iopub.execute_input": "2023-11-09T23:49:12.183054Z",
     "iopub.status.busy": "2023-11-09T23:49:12.182698Z",
     "iopub.status.idle": "2023-11-09T23:49:12.191767Z",
     "shell.execute_reply": "2023-11-09T23:49:12.190643Z"
    },
    "papermill": {
     "duration": 0.024511,
     "end_time": "2023-11-09T23:49:12.194577",
     "exception": false,
     "start_time": "2023-11-09T23:49:12.170066",
     "status": "completed"
    },
    "tags": []
   },
   "outputs": [
    {
     "data": {
      "text/plain": [
       "0           181.0\n",
       "1           143.0\n",
       "2           183.0\n",
       "3           177.0\n",
       "4           143.0\n",
       "            ...  \n",
       "17679267    180.0\n",
       "17679268    180.0\n",
       "17679269    180.0\n",
       "17679271    177.0\n",
       "17679272    110.0\n",
       "Name: mapped_veh_id, Length: 16300983, dtype: float64"
      ]
     },
     "execution_count": 24,
     "metadata": {},
     "output_type": "execute_result"
    }
   ],
   "source": [
    "data['mapped_veh_id']"
   ]
  },
  {
   "cell_type": "code",
   "execution_count": 25,
   "id": "e16fe403",
   "metadata": {
    "execution": {
     "iopub.execute_input": "2023-11-09T23:49:12.219426Z",
     "iopub.status.busy": "2023-11-09T23:49:12.219020Z",
     "iopub.status.idle": "2023-11-09T23:49:24.524169Z",
     "shell.execute_reply": "2023-11-09T23:49:24.522655Z"
    },
    "papermill": {
     "duration": 12.320285,
     "end_time": "2023-11-09T23:49:24.526814",
     "exception": false,
     "start_time": "2023-11-09T23:49:12.206529",
     "status": "completed"
    },
    "tags": []
   },
   "outputs": [
    {
     "data": {
      "text/html": [
       "<div>\n",
       "<style scoped>\n",
       "    .dataframe tbody tr th:only-of-type {\n",
       "        vertical-align: middle;\n",
       "    }\n",
       "\n",
       "    .dataframe tbody tr th {\n",
       "        vertical-align: top;\n",
       "    }\n",
       "\n",
       "    .dataframe thead th {\n",
       "        text-align: right;\n",
       "    }\n",
       "</style>\n",
       "<table border=\"1\" class=\"dataframe\">\n",
       "  <thead>\n",
       "    <tr style=\"text-align: right;\">\n",
       "      <th></th>\n",
       "      <th>mapped_veh_id</th>\n",
       "      <th>lat</th>\n",
       "      <th>lon</th>\n",
       "      <th>RS_E_InAirTemp_PC1</th>\n",
       "      <th>RS_E_InAirTemp_PC2</th>\n",
       "      <th>RS_E_OilPress_PC1</th>\n",
       "      <th>RS_E_OilPress_PC2</th>\n",
       "      <th>RS_E_RPM_PC1</th>\n",
       "      <th>RS_E_RPM_PC2</th>\n",
       "      <th>RS_E_WatTemp_PC1</th>\n",
       "      <th>RS_E_WatTemp_PC2</th>\n",
       "      <th>RS_T_OilTemp_PC1</th>\n",
       "      <th>RS_T_OilTemp_PC2</th>\n",
       "      <th>date</th>\n",
       "      <th>time</th>\n",
       "      <th>hour</th>\n",
       "      <th>day</th>\n",
       "      <th>dayofweek</th>\n",
       "      <th>weekday</th>\n",
       "    </tr>\n",
       "  </thead>\n",
       "  <tbody>\n",
       "    <tr>\n",
       "      <th>3697751</th>\n",
       "      <td>102.0</td>\n",
       "      <td>51.107771</td>\n",
       "      <td>3.986401</td>\n",
       "      <td>6.0</td>\n",
       "      <td>10.0</td>\n",
       "      <td>227.0</td>\n",
       "      <td>231.0</td>\n",
       "      <td>798.0</td>\n",
       "      <td>798.0</td>\n",
       "      <td>78.0</td>\n",
       "      <td>81.0</td>\n",
       "      <td>72.0</td>\n",
       "      <td>79.0</td>\n",
       "      <td>2023-01-26</td>\n",
       "      <td>07:28:19</td>\n",
       "      <td>7</td>\n",
       "      <td>26</td>\n",
       "      <td>3</td>\n",
       "      <td>Thursday</td>\n",
       "    </tr>\n",
       "    <tr>\n",
       "      <th>9173140</th>\n",
       "      <td>102.0</td>\n",
       "      <td>50.770013</td>\n",
       "      <td>3.871419</td>\n",
       "      <td>21.0</td>\n",
       "      <td>27.0</td>\n",
       "      <td>269.0</td>\n",
       "      <td>269.0</td>\n",
       "      <td>797.0</td>\n",
       "      <td>799.0</td>\n",
       "      <td>68.0</td>\n",
       "      <td>71.0</td>\n",
       "      <td>58.0</td>\n",
       "      <td>62.0</td>\n",
       "      <td>2023-07-28</td>\n",
       "      <td>03:00:13</td>\n",
       "      <td>3</td>\n",
       "      <td>28</td>\n",
       "      <td>4</td>\n",
       "      <td>Friday</td>\n",
       "    </tr>\n",
       "    <tr>\n",
       "      <th>9173161</th>\n",
       "      <td>102.0</td>\n",
       "      <td>50.877348</td>\n",
       "      <td>3.625066</td>\n",
       "      <td>45.0</td>\n",
       "      <td>44.0</td>\n",
       "      <td>317.0</td>\n",
       "      <td>339.5</td>\n",
       "      <td>1414.0</td>\n",
       "      <td>1537.0</td>\n",
       "      <td>85.0</td>\n",
       "      <td>86.0</td>\n",
       "      <td>85.0</td>\n",
       "      <td>85.5</td>\n",
       "      <td>2023-07-28</td>\n",
       "      <td>15:16:24</td>\n",
       "      <td>15</td>\n",
       "      <td>28</td>\n",
       "      <td>4</td>\n",
       "      <td>Friday</td>\n",
       "    </tr>\n",
       "    <tr>\n",
       "      <th>14953329</th>\n",
       "      <td>102.0</td>\n",
       "      <td>50.906726</td>\n",
       "      <td>3.920042</td>\n",
       "      <td>25.0</td>\n",
       "      <td>13.0</td>\n",
       "      <td>213.0</td>\n",
       "      <td>217.0</td>\n",
       "      <td>796.0</td>\n",
       "      <td>806.0</td>\n",
       "      <td>78.0</td>\n",
       "      <td>81.0</td>\n",
       "      <td>73.0</td>\n",
       "      <td>81.0</td>\n",
       "      <td>2023-02-09</td>\n",
       "      <td>06:25:15</td>\n",
       "      <td>6</td>\n",
       "      <td>9</td>\n",
       "      <td>3</td>\n",
       "      <td>Thursday</td>\n",
       "    </tr>\n",
       "    <tr>\n",
       "      <th>4882786</th>\n",
       "      <td>102.0</td>\n",
       "      <td>51.040131</td>\n",
       "      <td>3.692792</td>\n",
       "      <td>38.0</td>\n",
       "      <td>36.0</td>\n",
       "      <td>203.0</td>\n",
       "      <td>203.0</td>\n",
       "      <td>795.0</td>\n",
       "      <td>807.0</td>\n",
       "      <td>80.0</td>\n",
       "      <td>81.0</td>\n",
       "      <td>77.0</td>\n",
       "      <td>80.0</td>\n",
       "      <td>2023-06-23</td>\n",
       "      <td>12:43:33</td>\n",
       "      <td>12</td>\n",
       "      <td>23</td>\n",
       "      <td>4</td>\n",
       "      <td>Friday</td>\n",
       "    </tr>\n",
       "    <tr>\n",
       "      <th>...</th>\n",
       "      <td>...</td>\n",
       "      <td>...</td>\n",
       "      <td>...</td>\n",
       "      <td>...</td>\n",
       "      <td>...</td>\n",
       "      <td>...</td>\n",
       "      <td>...</td>\n",
       "      <td>...</td>\n",
       "      <td>...</td>\n",
       "      <td>...</td>\n",
       "      <td>...</td>\n",
       "      <td>...</td>\n",
       "      <td>...</td>\n",
       "      <td>...</td>\n",
       "      <td>...</td>\n",
       "      <td>...</td>\n",
       "      <td>...</td>\n",
       "      <td>...</td>\n",
       "      <td>...</td>\n",
       "    </tr>\n",
       "    <tr>\n",
       "      <th>1183488</th>\n",
       "      <td>197.0</td>\n",
       "      <td>50.095041</td>\n",
       "      <td>4.526048</td>\n",
       "      <td>20.0</td>\n",
       "      <td>12.0</td>\n",
       "      <td>217.0</td>\n",
       "      <td>365.0</td>\n",
       "      <td>796.0</td>\n",
       "      <td>794.0</td>\n",
       "      <td>78.0</td>\n",
       "      <td>52.0</td>\n",
       "      <td>76.0</td>\n",
       "      <td>52.0</td>\n",
       "      <td>2023-02-06</td>\n",
       "      <td>04:43:00</td>\n",
       "      <td>4</td>\n",
       "      <td>6</td>\n",
       "      <td>0</td>\n",
       "      <td>Monday</td>\n",
       "    </tr>\n",
       "    <tr>\n",
       "      <th>4394852</th>\n",
       "      <td>197.0</td>\n",
       "      <td>50.237087</td>\n",
       "      <td>4.507164</td>\n",
       "      <td>47.0</td>\n",
       "      <td>40.0</td>\n",
       "      <td>338.0</td>\n",
       "      <td>427.0</td>\n",
       "      <td>1499.0</td>\n",
       "      <td>1500.0</td>\n",
       "      <td>87.0</td>\n",
       "      <td>82.0</td>\n",
       "      <td>89.0</td>\n",
       "      <td>87.0</td>\n",
       "      <td>2023-01-30</td>\n",
       "      <td>05:58:30</td>\n",
       "      <td>5</td>\n",
       "      <td>30</td>\n",
       "      <td>0</td>\n",
       "      <td>Monday</td>\n",
       "    </tr>\n",
       "    <tr>\n",
       "      <th>16777054</th>\n",
       "      <td>197.0</td>\n",
       "      <td>50.303358</td>\n",
       "      <td>4.111566</td>\n",
       "      <td>38.0</td>\n",
       "      <td>40.0</td>\n",
       "      <td>193.0</td>\n",
       "      <td>255.0</td>\n",
       "      <td>798.0</td>\n",
       "      <td>804.0</td>\n",
       "      <td>86.0</td>\n",
       "      <td>77.0</td>\n",
       "      <td>82.0</td>\n",
       "      <td>79.0</td>\n",
       "      <td>2023-06-23</td>\n",
       "      <td>14:38:51</td>\n",
       "      <td>14</td>\n",
       "      <td>23</td>\n",
       "      <td>4</td>\n",
       "      <td>Friday</td>\n",
       "    </tr>\n",
       "    <tr>\n",
       "      <th>14850387</th>\n",
       "      <td>197.0</td>\n",
       "      <td>50.419169</td>\n",
       "      <td>4.534289</td>\n",
       "      <td>17.0</td>\n",
       "      <td>13.0</td>\n",
       "      <td>200.0</td>\n",
       "      <td>393.0</td>\n",
       "      <td>796.0</td>\n",
       "      <td>797.0</td>\n",
       "      <td>86.0</td>\n",
       "      <td>51.0</td>\n",
       "      <td>78.0</td>\n",
       "      <td>50.0</td>\n",
       "      <td>2023-03-08</td>\n",
       "      <td>02:39:58</td>\n",
       "      <td>2</td>\n",
       "      <td>8</td>\n",
       "      <td>2</td>\n",
       "      <td>Wednesday</td>\n",
       "    </tr>\n",
       "    <tr>\n",
       "      <th>1880620</th>\n",
       "      <td>197.0</td>\n",
       "      <td>50.405963</td>\n",
       "      <td>4.429336</td>\n",
       "      <td>23.0</td>\n",
       "      <td>25.0</td>\n",
       "      <td>372.0</td>\n",
       "      <td>534.0</td>\n",
       "      <td>1339.0</td>\n",
       "      <td>1455.0</td>\n",
       "      <td>79.0</td>\n",
       "      <td>62.0</td>\n",
       "      <td>77.0</td>\n",
       "      <td>63.0</td>\n",
       "      <td>2023-03-08</td>\n",
       "      <td>15:56:24</td>\n",
       "      <td>15</td>\n",
       "      <td>8</td>\n",
       "      <td>2</td>\n",
       "      <td>Wednesday</td>\n",
       "    </tr>\n",
       "  </tbody>\n",
       "</table>\n",
       "<p>16300983 rows × 19 columns</p>\n",
       "</div>"
      ],
      "text/plain": [
       "          mapped_veh_id        lat       lon  RS_E_InAirTemp_PC1  \\\n",
       "3697751           102.0  51.107771  3.986401                 6.0   \n",
       "9173140           102.0  50.770013  3.871419                21.0   \n",
       "9173161           102.0  50.877348  3.625066                45.0   \n",
       "14953329          102.0  50.906726  3.920042                25.0   \n",
       "4882786           102.0  51.040131  3.692792                38.0   \n",
       "...                 ...        ...       ...                 ...   \n",
       "1183488           197.0  50.095041  4.526048                20.0   \n",
       "4394852           197.0  50.237087  4.507164                47.0   \n",
       "16777054          197.0  50.303358  4.111566                38.0   \n",
       "14850387          197.0  50.419169  4.534289                17.0   \n",
       "1880620           197.0  50.405963  4.429336                23.0   \n",
       "\n",
       "          RS_E_InAirTemp_PC2  RS_E_OilPress_PC1  RS_E_OilPress_PC2  \\\n",
       "3697751                 10.0              227.0              231.0   \n",
       "9173140                 27.0              269.0              269.0   \n",
       "9173161                 44.0              317.0              339.5   \n",
       "14953329                13.0              213.0              217.0   \n",
       "4882786                 36.0              203.0              203.0   \n",
       "...                      ...                ...                ...   \n",
       "1183488                 12.0              217.0              365.0   \n",
       "4394852                 40.0              338.0              427.0   \n",
       "16777054                40.0              193.0              255.0   \n",
       "14850387                13.0              200.0              393.0   \n",
       "1880620                 25.0              372.0              534.0   \n",
       "\n",
       "          RS_E_RPM_PC1  RS_E_RPM_PC2  RS_E_WatTemp_PC1  RS_E_WatTemp_PC2  \\\n",
       "3697751          798.0         798.0              78.0              81.0   \n",
       "9173140          797.0         799.0              68.0              71.0   \n",
       "9173161         1414.0        1537.0              85.0              86.0   \n",
       "14953329         796.0         806.0              78.0              81.0   \n",
       "4882786          795.0         807.0              80.0              81.0   \n",
       "...                ...           ...               ...               ...   \n",
       "1183488          796.0         794.0              78.0              52.0   \n",
       "4394852         1499.0        1500.0              87.0              82.0   \n",
       "16777054         798.0         804.0              86.0              77.0   \n",
       "14850387         796.0         797.0              86.0              51.0   \n",
       "1880620         1339.0        1455.0              79.0              62.0   \n",
       "\n",
       "          RS_T_OilTemp_PC1  RS_T_OilTemp_PC2        date      time  hour  day  \\\n",
       "3697751               72.0              79.0  2023-01-26  07:28:19     7   26   \n",
       "9173140               58.0              62.0  2023-07-28  03:00:13     3   28   \n",
       "9173161               85.0              85.5  2023-07-28  15:16:24    15   28   \n",
       "14953329              73.0              81.0  2023-02-09  06:25:15     6    9   \n",
       "4882786               77.0              80.0  2023-06-23  12:43:33    12   23   \n",
       "...                    ...               ...         ...       ...   ...  ...   \n",
       "1183488               76.0              52.0  2023-02-06  04:43:00     4    6   \n",
       "4394852               89.0              87.0  2023-01-30  05:58:30     5   30   \n",
       "16777054              82.0              79.0  2023-06-23  14:38:51    14   23   \n",
       "14850387              78.0              50.0  2023-03-08  02:39:58     2    8   \n",
       "1880620               77.0              63.0  2023-03-08  15:56:24    15    8   \n",
       "\n",
       "          dayofweek    weekday  \n",
       "3697751           3   Thursday  \n",
       "9173140           4     Friday  \n",
       "9173161           4     Friday  \n",
       "14953329          3   Thursday  \n",
       "4882786           4     Friday  \n",
       "...             ...        ...  \n",
       "1183488           0     Monday  \n",
       "4394852           0     Monday  \n",
       "16777054          4     Friday  \n",
       "14850387          2  Wednesday  \n",
       "1880620           2  Wednesday  \n",
       "\n",
       "[16300983 rows x 19 columns]"
      ]
     },
     "execution_count": 25,
     "metadata": {},
     "output_type": "execute_result"
    }
   ],
   "source": [
    "data.sort_values(by=['mapped_veh_id'], inplace=True)\n",
    "data"
   ]
  },
  {
   "cell_type": "markdown",
   "id": "bd6c9e32",
   "metadata": {
    "papermill": {
     "duration": 0.011169,
     "end_time": "2023-11-09T23:49:24.549648",
     "exception": false,
     "start_time": "2023-11-09T23:49:24.538479",
     "status": "completed"
    },
    "tags": []
   },
   "source": [
    "# Save Cleaned Data as a new Dataset"
   ]
  },
  {
   "cell_type": "code",
   "execution_count": 26,
   "id": "10cc9e49",
   "metadata": {
    "execution": {
     "iopub.execute_input": "2023-11-09T23:49:24.574408Z",
     "iopub.status.busy": "2023-11-09T23:49:24.573954Z",
     "iopub.status.idle": "2023-11-09T23:52:11.412978Z",
     "shell.execute_reply": "2023-11-09T23:52:11.411688Z"
    },
    "papermill": {
     "duration": 166.854451,
     "end_time": "2023-11-09T23:52:11.415655",
     "exception": false,
     "start_time": "2023-11-09T23:49:24.561204",
     "status": "completed"
    },
    "tags": []
   },
   "outputs": [],
   "source": [
    "data.to_csv('cleaned_ar41_for_ulb.csv', index=False)"
   ]
  }
 ],
 "metadata": {
  "kernelspec": {
   "display_name": "Python 3",
   "language": "python",
   "name": "python3"
  },
  "language_info": {
   "codemirror_mode": {
    "name": "ipython",
    "version": 3
   },
   "file_extension": ".py",
   "mimetype": "text/x-python",
   "name": "python",
   "nbconvert_exporter": "python",
   "pygments_lexer": "ipython3",
   "version": "3.10.12"
  },
  "papermill": {
   "default_parameters": {},
   "duration": 393.794023,
   "end_time": "2023-11-09T23:52:14.048175",
   "environment_variables": {},
   "exception": null,
   "input_path": "__notebook__.ipynb",
   "output_path": "__notebook__.ipynb",
   "parameters": {},
   "start_time": "2023-11-09T23:45:40.254152",
   "version": "2.4.0"
  }
 },
 "nbformat": 4,
 "nbformat_minor": 5
}
