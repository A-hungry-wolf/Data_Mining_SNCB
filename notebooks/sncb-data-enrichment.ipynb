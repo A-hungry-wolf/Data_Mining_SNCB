{
 "cells": [
  {
   "cell_type": "markdown",
   "id": "4471ac40",
   "metadata": {
    "papermill": {
     "duration": 0.004095,
     "end_time": "2023-11-24T10:05:26.845177",
     "exception": false,
     "start_time": "2023-11-24T10:05:26.841082",
     "status": "completed"
    },
    "tags": []
   },
   "source": [
    "# Data Import"
   ]
  },
  {
   "cell_type": "code",
   "execution_count": 1,
   "id": "995c3167",
   "metadata": {
    "execution": {
     "iopub.execute_input": "2023-11-24T10:05:26.858026Z",
     "iopub.status.busy": "2023-11-24T10:05:26.856899Z",
     "iopub.status.idle": "2023-11-24T10:05:29.250436Z",
     "shell.execute_reply": "2023-11-24T10:05:29.249189Z"
    },
    "papermill": {
     "duration": 2.402285,
     "end_time": "2023-11-24T10:05:29.253330",
     "exception": false,
     "start_time": "2023-11-24T10:05:26.851045",
     "status": "completed"
    },
    "tags": []
   },
   "outputs": [],
   "source": [
    "import pandas as pd\n",
    "import os\n",
    "import seaborn as sns\n",
    "import numpy as np\n",
    "import matplotlib.pyplot as plt\n",
    "from geopy.distance import geodesic"
   ]
  },
  {
   "cell_type": "code",
   "execution_count": 2,
   "id": "5743b594",
   "metadata": {
    "execution": {
     "iopub.execute_input": "2023-11-24T10:05:29.262589Z",
     "iopub.status.busy": "2023-11-24T10:05:29.261997Z",
     "iopub.status.idle": "2023-11-24T10:05:29.267099Z",
     "shell.execute_reply": "2023-11-24T10:05:29.265746Z"
    },
    "papermill": {
     "duration": 0.012286,
     "end_time": "2023-11-24T10:05:29.269388",
     "exception": false,
     "start_time": "2023-11-24T10:05:29.257102",
     "status": "completed"
    },
    "tags": []
   },
   "outputs": [],
   "source": [
    "# Set the run_code to test | run\n",
    "run_code = 'run'"
   ]
  },
  {
   "cell_type": "code",
   "execution_count": 3,
   "id": "69267ce5",
   "metadata": {
    "execution": {
     "iopub.execute_input": "2023-11-24T10:05:29.278532Z",
     "iopub.status.busy": "2023-11-24T10:05:29.278149Z",
     "iopub.status.idle": "2023-11-24T10:06:29.861071Z",
     "shell.execute_reply": "2023-11-24T10:06:29.859958Z"
    },
    "papermill": {
     "duration": 60.594271,
     "end_time": "2023-11-24T10:06:29.867387",
     "exception": false,
     "start_time": "2023-11-24T10:05:29.273116",
     "status": "completed"
    },
    "tags": []
   },
   "outputs": [
    {
     "name": "stdout",
     "output_type": "stream",
     "text": [
      "<class 'pandas.core.frame.DataFrame'>\n",
      "RangeIndex: 17677337 entries, 0 to 17677336\n",
      "Data columns (total 18 columns):\n",
      " #   Column              Dtype  \n",
      "---  ------              -----  \n",
      " 0   timestamps_UTC      object \n",
      " 1   mapped_veh_id       float64\n",
      " 2   lat                 float64\n",
      " 3   lon                 float64\n",
      " 4   RS_E_InAirTemp_PC1  float64\n",
      " 5   RS_E_InAirTemp_PC2  float64\n",
      " 6   RS_E_OilPress_PC1   float64\n",
      " 7   RS_E_OilPress_PC2   float64\n",
      " 8   RS_E_RPM_PC1        float64\n",
      " 9   RS_E_RPM_PC2        float64\n",
      " 10  RS_E_WatTemp_PC1    float64\n",
      " 11  RS_E_WatTemp_PC2    float64\n",
      " 12  RS_T_OilTemp_PC1    float64\n",
      " 13  RS_T_OilTemp_PC2    float64\n",
      " 14  date                object \n",
      " 15  hour                int64  \n",
      " 16  dayofweek           int64  \n",
      " 17  weekday             object \n",
      "dtypes: float64(13), int64(2), object(3)\n",
      "memory usage: 2.4+ GB\n",
      "None\n",
      "        timestamps_UTC  mapped_veh_id        lat       lon  \\\n",
      "0  2023-01-23 07:25:08          102.0  51.017864  3.769079   \n",
      "1  2023-01-23 07:25:16          102.0  51.017875  3.769046   \n",
      "2  2023-01-23 07:25:37          102.0  51.017208  3.770179   \n",
      "3  2023-01-23 07:25:41          102.0  51.016916  3.771036   \n",
      "4  2023-01-23 07:26:10          102.0  51.016503  3.772182   \n",
      "\n",
      "   RS_E_InAirTemp_PC1  RS_E_InAirTemp_PC2  RS_E_OilPress_PC1  \\\n",
      "0                17.0                18.0              210.0   \n",
      "1                17.0                20.0              200.0   \n",
      "2                19.0                20.0              193.0   \n",
      "3                19.0                20.0              196.0   \n",
      "4                19.0                21.0              200.0   \n",
      "\n",
      "   RS_E_OilPress_PC2  RS_E_RPM_PC1  RS_E_RPM_PC2  RS_E_WatTemp_PC1  \\\n",
      "0              210.0         858.0         839.0              78.0   \n",
      "1              200.0         801.0         804.0              79.0   \n",
      "2              207.0         803.0         808.0              80.0   \n",
      "3              203.0         801.0         803.0              80.0   \n",
      "4              203.0         795.0         807.0              80.0   \n",
      "\n",
      "   RS_E_WatTemp_PC2  RS_T_OilTemp_PC1  RS_T_OilTemp_PC2        date  hour  \\\n",
      "0              80.0              71.0              79.0  2023-01-23     7   \n",
      "1              80.0              76.0              79.0  2023-01-23     7   \n",
      "2              81.0              79.0              81.0  2023-01-23     7   \n",
      "3              81.0              79.0              81.0  2023-01-23     7   \n",
      "4              82.0              79.0              79.0  2023-01-23     7   \n",
      "\n",
      "   dayofweek weekday  \n",
      "0          0  Monday  \n",
      "1          0  Monday  \n",
      "2          0  Monday  \n",
      "3          0  Monday  \n",
      "4          0  Monday  \n"
     ]
    }
   ],
   "source": [
    "if run_code == 'run':\n",
    "    dataset_path = '/kaggle/input/sncb-eda-data-clean/cleaned_ar41_for_ulb.csv'\n",
    "else:\n",
    "    dataset_path = '/kaggle/input/sncb-data-augumentation/enriched_cleaned_ar41_for_ulb.csv'\n",
    "\n",
    "# Check if the file exists before trying to read it\n",
    "if os.path.exists(dataset_path):\n",
    "    data = pd.read_csv(dataset_path)\n",
    "\n",
    "    # Display the basic information and the first few rows of the dataframe\n",
    "    data_info = data.info()\n",
    "    data_head = data.head()\n",
    "\n",
    "    # If you want to print the information to the console\n",
    "    print(data_info)\n",
    "    print(data_head)\n",
    "else:\n",
    "    print(f\"The file {dataset_path} does not exist.\")"
   ]
  },
  {
   "cell_type": "markdown",
   "id": "9e82fefc",
   "metadata": {
    "papermill": {
     "duration": 0.004104,
     "end_time": "2023-11-24T10:06:29.875822",
     "exception": false,
     "start_time": "2023-11-24T10:06:29.871718",
     "status": "completed"
    },
    "tags": []
   },
   "source": [
    "# Speed Calculate"
   ]
  },
  {
   "cell_type": "code",
   "execution_count": 4,
   "id": "e7f44f5c",
   "metadata": {
    "execution": {
     "iopub.execute_input": "2023-11-24T10:06:29.885660Z",
     "iopub.status.busy": "2023-11-24T10:06:29.885234Z",
     "iopub.status.idle": "2023-11-24T10:06:29.922962Z",
     "shell.execute_reply": "2023-11-24T10:06:29.921791Z"
    },
    "papermill": {
     "duration": 0.045879,
     "end_time": "2023-11-24T10:06:29.925740",
     "exception": false,
     "start_time": "2023-11-24T10:06:29.879861",
     "status": "completed"
    },
    "tags": []
   },
   "outputs": [
    {
     "data": {
      "text/html": [
       "<div>\n",
       "<style scoped>\n",
       "    .dataframe tbody tr th:only-of-type {\n",
       "        vertical-align: middle;\n",
       "    }\n",
       "\n",
       "    .dataframe tbody tr th {\n",
       "        vertical-align: top;\n",
       "    }\n",
       "\n",
       "    .dataframe thead th {\n",
       "        text-align: right;\n",
       "    }\n",
       "</style>\n",
       "<table border=\"1\" class=\"dataframe\">\n",
       "  <thead>\n",
       "    <tr style=\"text-align: right;\">\n",
       "      <th></th>\n",
       "      <th>timestamps_UTC</th>\n",
       "      <th>mapped_veh_id</th>\n",
       "      <th>lat</th>\n",
       "      <th>lon</th>\n",
       "      <th>RS_E_InAirTemp_PC1</th>\n",
       "      <th>RS_E_InAirTemp_PC2</th>\n",
       "      <th>RS_E_OilPress_PC1</th>\n",
       "      <th>RS_E_OilPress_PC2</th>\n",
       "      <th>RS_E_RPM_PC1</th>\n",
       "      <th>RS_E_RPM_PC2</th>\n",
       "      <th>RS_E_WatTemp_PC1</th>\n",
       "      <th>RS_E_WatTemp_PC2</th>\n",
       "      <th>RS_T_OilTemp_PC1</th>\n",
       "      <th>RS_T_OilTemp_PC2</th>\n",
       "      <th>date</th>\n",
       "      <th>hour</th>\n",
       "      <th>dayofweek</th>\n",
       "      <th>weekday</th>\n",
       "    </tr>\n",
       "  </thead>\n",
       "  <tbody>\n",
       "    <tr>\n",
       "      <th>0</th>\n",
       "      <td>2023-01-23 07:25:08</td>\n",
       "      <td>102.0</td>\n",
       "      <td>51.017864</td>\n",
       "      <td>3.769079</td>\n",
       "      <td>17.0</td>\n",
       "      <td>18.0</td>\n",
       "      <td>210.0</td>\n",
       "      <td>210.0</td>\n",
       "      <td>858.0</td>\n",
       "      <td>839.0</td>\n",
       "      <td>78.0</td>\n",
       "      <td>80.0</td>\n",
       "      <td>71.0</td>\n",
       "      <td>79.0</td>\n",
       "      <td>2023-01-23</td>\n",
       "      <td>7</td>\n",
       "      <td>0</td>\n",
       "      <td>Monday</td>\n",
       "    </tr>\n",
       "    <tr>\n",
       "      <th>1</th>\n",
       "      <td>2023-01-23 07:25:16</td>\n",
       "      <td>102.0</td>\n",
       "      <td>51.017875</td>\n",
       "      <td>3.769046</td>\n",
       "      <td>17.0</td>\n",
       "      <td>20.0</td>\n",
       "      <td>200.0</td>\n",
       "      <td>200.0</td>\n",
       "      <td>801.0</td>\n",
       "      <td>804.0</td>\n",
       "      <td>79.0</td>\n",
       "      <td>80.0</td>\n",
       "      <td>76.0</td>\n",
       "      <td>79.0</td>\n",
       "      <td>2023-01-23</td>\n",
       "      <td>7</td>\n",
       "      <td>0</td>\n",
       "      <td>Monday</td>\n",
       "    </tr>\n",
       "    <tr>\n",
       "      <th>2</th>\n",
       "      <td>2023-01-23 07:25:37</td>\n",
       "      <td>102.0</td>\n",
       "      <td>51.017208</td>\n",
       "      <td>3.770179</td>\n",
       "      <td>19.0</td>\n",
       "      <td>20.0</td>\n",
       "      <td>193.0</td>\n",
       "      <td>207.0</td>\n",
       "      <td>803.0</td>\n",
       "      <td>808.0</td>\n",
       "      <td>80.0</td>\n",
       "      <td>81.0</td>\n",
       "      <td>79.0</td>\n",
       "      <td>81.0</td>\n",
       "      <td>2023-01-23</td>\n",
       "      <td>7</td>\n",
       "      <td>0</td>\n",
       "      <td>Monday</td>\n",
       "    </tr>\n",
       "    <tr>\n",
       "      <th>3</th>\n",
       "      <td>2023-01-23 07:25:41</td>\n",
       "      <td>102.0</td>\n",
       "      <td>51.016916</td>\n",
       "      <td>3.771036</td>\n",
       "      <td>19.0</td>\n",
       "      <td>20.0</td>\n",
       "      <td>196.0</td>\n",
       "      <td>203.0</td>\n",
       "      <td>801.0</td>\n",
       "      <td>803.0</td>\n",
       "      <td>80.0</td>\n",
       "      <td>81.0</td>\n",
       "      <td>79.0</td>\n",
       "      <td>81.0</td>\n",
       "      <td>2023-01-23</td>\n",
       "      <td>7</td>\n",
       "      <td>0</td>\n",
       "      <td>Monday</td>\n",
       "    </tr>\n",
       "    <tr>\n",
       "      <th>4</th>\n",
       "      <td>2023-01-23 07:26:10</td>\n",
       "      <td>102.0</td>\n",
       "      <td>51.016503</td>\n",
       "      <td>3.772182</td>\n",
       "      <td>19.0</td>\n",
       "      <td>21.0</td>\n",
       "      <td>200.0</td>\n",
       "      <td>203.0</td>\n",
       "      <td>795.0</td>\n",
       "      <td>807.0</td>\n",
       "      <td>80.0</td>\n",
       "      <td>82.0</td>\n",
       "      <td>79.0</td>\n",
       "      <td>79.0</td>\n",
       "      <td>2023-01-23</td>\n",
       "      <td>7</td>\n",
       "      <td>0</td>\n",
       "      <td>Monday</td>\n",
       "    </tr>\n",
       "    <tr>\n",
       "      <th>...</th>\n",
       "      <td>...</td>\n",
       "      <td>...</td>\n",
       "      <td>...</td>\n",
       "      <td>...</td>\n",
       "      <td>...</td>\n",
       "      <td>...</td>\n",
       "      <td>...</td>\n",
       "      <td>...</td>\n",
       "      <td>...</td>\n",
       "      <td>...</td>\n",
       "      <td>...</td>\n",
       "      <td>...</td>\n",
       "      <td>...</td>\n",
       "      <td>...</td>\n",
       "      <td>...</td>\n",
       "      <td>...</td>\n",
       "      <td>...</td>\n",
       "      <td>...</td>\n",
       "    </tr>\n",
       "    <tr>\n",
       "      <th>17677332</th>\n",
       "      <td>2023-09-13 17:33:03</td>\n",
       "      <td>197.0</td>\n",
       "      <td>50.402693</td>\n",
       "      <td>4.450111</td>\n",
       "      <td>37.0</td>\n",
       "      <td>40.0</td>\n",
       "      <td>220.0</td>\n",
       "      <td>258.0</td>\n",
       "      <td>803.0</td>\n",
       "      <td>803.0</td>\n",
       "      <td>81.0</td>\n",
       "      <td>79.0</td>\n",
       "      <td>77.0</td>\n",
       "      <td>81.0</td>\n",
       "      <td>2023-09-13</td>\n",
       "      <td>17</td>\n",
       "      <td>2</td>\n",
       "      <td>Wednesday</td>\n",
       "    </tr>\n",
       "    <tr>\n",
       "      <th>17677333</th>\n",
       "      <td>2023-09-13 17:33:58</td>\n",
       "      <td>197.0</td>\n",
       "      <td>50.401657</td>\n",
       "      <td>4.452693</td>\n",
       "      <td>37.0</td>\n",
       "      <td>38.0</td>\n",
       "      <td>224.0</td>\n",
       "      <td>307.0</td>\n",
       "      <td>843.0</td>\n",
       "      <td>941.0</td>\n",
       "      <td>80.0</td>\n",
       "      <td>78.0</td>\n",
       "      <td>77.0</td>\n",
       "      <td>80.0</td>\n",
       "      <td>2023-09-13</td>\n",
       "      <td>17</td>\n",
       "      <td>2</td>\n",
       "      <td>Wednesday</td>\n",
       "    </tr>\n",
       "    <tr>\n",
       "      <th>17677334</th>\n",
       "      <td>2023-09-13 17:34:03</td>\n",
       "      <td>197.0</td>\n",
       "      <td>50.401830</td>\n",
       "      <td>4.452217</td>\n",
       "      <td>37.0</td>\n",
       "      <td>38.0</td>\n",
       "      <td>224.0</td>\n",
       "      <td>307.0</td>\n",
       "      <td>841.0</td>\n",
       "      <td>932.0</td>\n",
       "      <td>80.0</td>\n",
       "      <td>78.0</td>\n",
       "      <td>77.0</td>\n",
       "      <td>80.0</td>\n",
       "      <td>2023-09-13</td>\n",
       "      <td>17</td>\n",
       "      <td>2</td>\n",
       "      <td>Wednesday</td>\n",
       "    </tr>\n",
       "    <tr>\n",
       "      <th>17677335</th>\n",
       "      <td>2023-09-13 17:34:58</td>\n",
       "      <td>197.0</td>\n",
       "      <td>50.401057</td>\n",
       "      <td>4.455388</td>\n",
       "      <td>36.0</td>\n",
       "      <td>38.0</td>\n",
       "      <td>207.0</td>\n",
       "      <td>244.0</td>\n",
       "      <td>800.0</td>\n",
       "      <td>803.0</td>\n",
       "      <td>81.0</td>\n",
       "      <td>80.0</td>\n",
       "      <td>77.0</td>\n",
       "      <td>82.0</td>\n",
       "      <td>2023-09-13</td>\n",
       "      <td>17</td>\n",
       "      <td>2</td>\n",
       "      <td>Wednesday</td>\n",
       "    </tr>\n",
       "    <tr>\n",
       "      <th>17677336</th>\n",
       "      <td>2023-09-13 17:35:04</td>\n",
       "      <td>197.0</td>\n",
       "      <td>50.401084</td>\n",
       "      <td>4.455169</td>\n",
       "      <td>36.0</td>\n",
       "      <td>38.0</td>\n",
       "      <td>213.0</td>\n",
       "      <td>244.0</td>\n",
       "      <td>802.0</td>\n",
       "      <td>801.0</td>\n",
       "      <td>82.0</td>\n",
       "      <td>80.0</td>\n",
       "      <td>79.0</td>\n",
       "      <td>82.0</td>\n",
       "      <td>2023-09-13</td>\n",
       "      <td>17</td>\n",
       "      <td>2</td>\n",
       "      <td>Wednesday</td>\n",
       "    </tr>\n",
       "  </tbody>\n",
       "</table>\n",
       "<p>17677337 rows × 18 columns</p>\n",
       "</div>"
      ],
      "text/plain": [
       "               timestamps_UTC  mapped_veh_id        lat       lon  \\\n",
       "0         2023-01-23 07:25:08          102.0  51.017864  3.769079   \n",
       "1         2023-01-23 07:25:16          102.0  51.017875  3.769046   \n",
       "2         2023-01-23 07:25:37          102.0  51.017208  3.770179   \n",
       "3         2023-01-23 07:25:41          102.0  51.016916  3.771036   \n",
       "4         2023-01-23 07:26:10          102.0  51.016503  3.772182   \n",
       "...                       ...            ...        ...       ...   \n",
       "17677332  2023-09-13 17:33:03          197.0  50.402693  4.450111   \n",
       "17677333  2023-09-13 17:33:58          197.0  50.401657  4.452693   \n",
       "17677334  2023-09-13 17:34:03          197.0  50.401830  4.452217   \n",
       "17677335  2023-09-13 17:34:58          197.0  50.401057  4.455388   \n",
       "17677336  2023-09-13 17:35:04          197.0  50.401084  4.455169   \n",
       "\n",
       "          RS_E_InAirTemp_PC1  RS_E_InAirTemp_PC2  RS_E_OilPress_PC1  \\\n",
       "0                       17.0                18.0              210.0   \n",
       "1                       17.0                20.0              200.0   \n",
       "2                       19.0                20.0              193.0   \n",
       "3                       19.0                20.0              196.0   \n",
       "4                       19.0                21.0              200.0   \n",
       "...                      ...                 ...                ...   \n",
       "17677332                37.0                40.0              220.0   \n",
       "17677333                37.0                38.0              224.0   \n",
       "17677334                37.0                38.0              224.0   \n",
       "17677335                36.0                38.0              207.0   \n",
       "17677336                36.0                38.0              213.0   \n",
       "\n",
       "          RS_E_OilPress_PC2  RS_E_RPM_PC1  RS_E_RPM_PC2  RS_E_WatTemp_PC1  \\\n",
       "0                     210.0         858.0         839.0              78.0   \n",
       "1                     200.0         801.0         804.0              79.0   \n",
       "2                     207.0         803.0         808.0              80.0   \n",
       "3                     203.0         801.0         803.0              80.0   \n",
       "4                     203.0         795.0         807.0              80.0   \n",
       "...                     ...           ...           ...               ...   \n",
       "17677332              258.0         803.0         803.0              81.0   \n",
       "17677333              307.0         843.0         941.0              80.0   \n",
       "17677334              307.0         841.0         932.0              80.0   \n",
       "17677335              244.0         800.0         803.0              81.0   \n",
       "17677336              244.0         802.0         801.0              82.0   \n",
       "\n",
       "          RS_E_WatTemp_PC2  RS_T_OilTemp_PC1  RS_T_OilTemp_PC2        date  \\\n",
       "0                     80.0              71.0              79.0  2023-01-23   \n",
       "1                     80.0              76.0              79.0  2023-01-23   \n",
       "2                     81.0              79.0              81.0  2023-01-23   \n",
       "3                     81.0              79.0              81.0  2023-01-23   \n",
       "4                     82.0              79.0              79.0  2023-01-23   \n",
       "...                    ...               ...               ...         ...   \n",
       "17677332              79.0              77.0              81.0  2023-09-13   \n",
       "17677333              78.0              77.0              80.0  2023-09-13   \n",
       "17677334              78.0              77.0              80.0  2023-09-13   \n",
       "17677335              80.0              77.0              82.0  2023-09-13   \n",
       "17677336              80.0              79.0              82.0  2023-09-13   \n",
       "\n",
       "          hour  dayofweek    weekday  \n",
       "0            7          0     Monday  \n",
       "1            7          0     Monday  \n",
       "2            7          0     Monday  \n",
       "3            7          0     Monday  \n",
       "4            7          0     Monday  \n",
       "...        ...        ...        ...  \n",
       "17677332    17          2  Wednesday  \n",
       "17677333    17          2  Wednesday  \n",
       "17677334    17          2  Wednesday  \n",
       "17677335    17          2  Wednesday  \n",
       "17677336    17          2  Wednesday  \n",
       "\n",
       "[17677337 rows x 18 columns]"
      ]
     },
     "execution_count": 4,
     "metadata": {},
     "output_type": "execute_result"
    }
   ],
   "source": [
    "data"
   ]
  },
  {
   "cell_type": "code",
   "execution_count": 5,
   "id": "f578c16b",
   "metadata": {
    "execution": {
     "iopub.execute_input": "2023-11-24T10:06:29.937576Z",
     "iopub.status.busy": "2023-11-24T10:06:29.936925Z",
     "iopub.status.idle": "2023-11-24T10:06:30.014783Z",
     "shell.execute_reply": "2023-11-24T10:06:30.013593Z"
    },
    "papermill": {
     "duration": 0.087249,
     "end_time": "2023-11-24T10:06:30.017569",
     "exception": false,
     "start_time": "2023-11-24T10:06:29.930320",
     "status": "completed"
    },
    "tags": []
   },
   "outputs": [],
   "source": [
    "data['lat'] = data['lat'].astype('float32')\n",
    "data['lon'] = data['lon'].astype('float32')\n",
    "# data['Distance'] = data['Distance'].astype('float32')\n",
    "# data['TimeDiff'] = data['TimeDiff'].astype('float32')\n",
    "# data['Speed'] = data['Speed'].astype('float32')"
   ]
  },
  {
   "cell_type": "code",
   "execution_count": 6,
   "id": "d35a3197",
   "metadata": {
    "execution": {
     "iopub.execute_input": "2023-11-24T10:06:30.028672Z",
     "iopub.status.busy": "2023-11-24T10:06:30.028020Z",
     "iopub.status.idle": "2023-11-24T11:03:12.662365Z",
     "shell.execute_reply": "2023-11-24T11:03:12.659709Z"
    },
    "papermill": {
     "duration": 3402.648487,
     "end_time": "2023-11-24T11:03:12.670489",
     "exception": false,
     "start_time": "2023-11-24T10:06:30.022002",
     "status": "completed"
    },
    "tags": []
   },
   "outputs": [
    {
     "name": "stdout",
     "output_type": "stream",
     "text": [
      "              timestamps_UTC        lat       lon  Distance      Speed\n",
      "0        2023-01-23 07:25:08  51.017864  3.769078  0.000000        NaN\n",
      "1        2023-01-23 07:25:16  51.017876  3.769046  0.002593   1.166701\n",
      "2        2023-01-23 07:25:37  51.017208  3.770179  0.108769  18.646103\n",
      "3        2023-01-23 07:25:41  51.016914  3.771036  0.068434  61.590906\n",
      "4        2023-01-23 07:26:10  51.016502  3.772182  0.092596  11.494614\n",
      "...                      ...        ...       ...       ...        ...\n",
      "17677332 2023-09-13 17:33:03  50.402695  4.450110  0.011761   8.467873\n",
      "17677333 2023-09-13 17:33:58  50.401657  4.452693  0.216873  14.195295\n",
      "17677334 2023-09-13 17:34:03  50.401829  4.452218  0.038821  27.950893\n",
      "17677335 2023-09-13 17:34:58  50.401058  4.455389  0.241191  15.787055\n",
      "17677336 2023-09-13 17:35:04  50.401085  4.455169  0.015909   9.545136\n",
      "\n",
      "[17677337 rows x 5 columns]\n"
     ]
    }
   ],
   "source": [
    "# Convert timestamps to datetime format\n",
    "data['timestamps_UTC'] = pd.to_datetime(data['timestamps_UTC'])\n",
    "\n",
    "# Vectorize the distance calculation\n",
    "def calculate_distances(lats, lons):\n",
    "    distances = np.zeros(len(lats))\n",
    "    for i in range(1, len(lats)):\n",
    "        if not np.isnan(lats[i]) and not np.isnan(lons[i]):\n",
    "            distances[i] = geodesic((lats[i-1], lons[i-1]), (lats[i], lons[i])).kilometers\n",
    "    return distances\n",
    "\n",
    "# Calculate distances using the vectorized function\n",
    "latitudes = data['lat'].to_numpy()\n",
    "longitudes = data['lon'].to_numpy()\n",
    "data['Distance'] = calculate_distances(latitudes, longitudes)\n",
    "\n",
    "# Calculate time intervals in hours\n",
    "time_diffs = data['timestamps_UTC'].diff().dt.total_seconds() / 3600\n",
    "time_diffs[0] = np.nan  # first element will be NaT after diff\n",
    "\n",
    "# Calculate speeds in km/h\n",
    "data['Speed'] = data['Distance'] / time_diffs\n",
    "\n",
    "# Replace infinite values with NaN if division by zero occurred\n",
    "data['Speed'].replace([np.inf, -np.inf], np.nan, inplace=True)\n",
    "\n",
    "# Print the results\n",
    "print(data[['timestamps_UTC', 'lat', 'lon', 'Distance', 'Speed']])"
   ]
  },
  {
   "cell_type": "markdown",
   "id": "eb2104a3",
   "metadata": {
    "papermill": {
     "duration": 0.004332,
     "end_time": "2023-11-24T11:03:12.679442",
     "exception": false,
     "start_time": "2023-11-24T11:03:12.675110",
     "status": "completed"
    },
    "tags": []
   },
   "source": [
    "# Distribution of Distance"
   ]
  },
  {
   "cell_type": "code",
   "execution_count": 7,
   "id": "b660e2f0",
   "metadata": {
    "execution": {
     "iopub.execute_input": "2023-11-24T11:03:12.692353Z",
     "iopub.status.busy": "2023-11-24T11:03:12.691602Z",
     "iopub.status.idle": "2023-11-24T11:04:28.598629Z",
     "shell.execute_reply": "2023-11-24T11:04:28.597431Z"
    },
    "papermill": {
     "duration": 75.923775,
     "end_time": "2023-11-24T11:04:28.607673",
     "exception": false,
     "start_time": "2023-11-24T11:03:12.683898",
     "status": "completed"
    },
    "tags": []
   },
   "outputs": [
    {
     "data": {
      "image/png": "[encoded data removed]",
      "text/plain": [
       "<Figure size 1200x600 with 1 Axes>"
      ]
     },
     "metadata": {},
     "output_type": "display_data"
    }
   ],
   "source": [
    "# Setting the overall aesthetics for the plot to have an academic look\n",
    "sns.set_theme(style='ticks', palette='muted')\n",
    "\n",
    "# Initialize the matplotlib figure\n",
    "plt.figure(figsize=(12, 6))\n",
    "\n",
    "# Plotting the Kernel Density Estimate (KDE) plot for RS_E_RPM_PC1\n",
    "sns.kdeplot(data['Distance'], fill=True, color=\"#1f77b4\", label='RS_E_RPM_PC1s', bw_adjust=0.5)\n",
    "\n",
    "\n",
    "# Adding titles and labels with a formal font type\n",
    "plt.title('Distribution of Distance', fontsize=16, fontweight='bold', family='serif')\n",
    "plt.xlabel('Distance', fontsize=14, family='serif')\n",
    "plt.ylabel('Density', fontsize=14, family='serif')\n",
    "\n",
    "# Adding gridlines and removing the top and right axis lines for a cleaner look\n",
    "sns.despine(trim=True)\n",
    "plt.grid(True)\n",
    "\n",
    "# Adjusting the legend to be more formal\n",
    "plt.legend(title='Sensors', title_fontsize='13', fontsize='12', frameon=False)\n",
    "\n",
    "# Show the plot with the improved academic aesthetics\n",
    "plt.show()"
   ]
  },
  {
   "cell_type": "markdown",
   "id": "401abe8f",
   "metadata": {
    "papermill": {
     "duration": 0.005095,
     "end_time": "2023-11-24T11:04:28.618162",
     "exception": false,
     "start_time": "2023-11-24T11:04:28.613067",
     "status": "completed"
    },
    "tags": []
   },
   "source": [
    "# Distribution of Speed"
   ]
  },
  {
   "cell_type": "code",
   "execution_count": 8,
   "id": "807b8c64",
   "metadata": {
    "execution": {
     "iopub.execute_input": "2023-11-24T11:04:28.631254Z",
     "iopub.status.busy": "2023-11-24T11:04:28.630818Z",
     "iopub.status.idle": "2023-11-24T11:05:49.198988Z",
     "shell.execute_reply": "2023-11-24T11:05:49.197630Z"
    },
    "papermill": {
     "duration": 80.584589,
     "end_time": "2023-11-24T11:05:49.208343",
     "exception": false,
     "start_time": "2023-11-24T11:04:28.623754",
     "status": "completed"
    },
    "tags": []
   },
   "outputs": [
    {
     "data": {
      "image/png": "[encoded data removed]",
      "text/plain": [
       "<Figure size 1200x600 with 1 Axes>"
      ]
     },
     "metadata": {},
     "output_type": "display_data"
    }
   ],
   "source": [
    "# Setting the overall aesthetics for the plot to have an academic look\n",
    "sns.set_theme(style='ticks', palette='muted')\n",
    "\n",
    "# Initialize the matplotlib figure\n",
    "plt.figure(figsize=(12, 6))\n",
    "\n",
    "# Plotting the Kernel Density Estimate (KDE) plot for RS_E_RPM_PC1\n",
    "sns.kdeplot(data['Speed'], fill=True, color=\"#1f77b4\", label='RS_E_RPM_PC1s', bw_adjust=0.5)\n",
    "\n",
    "\n",
    "# Adding titles and labels with a formal font type\n",
    "plt.title('Distribution of Speed', fontsize=16, fontweight='bold', family='serif')\n",
    "plt.xlabel('Speed', fontsize=14, family='serif')\n",
    "plt.ylabel('Density', fontsize=14, family='serif')\n",
    "\n",
    "# Adding gridlines and removing the top and right axis lines for a cleaner look\n",
    "sns.despine(trim=True)\n",
    "plt.grid(True)\n",
    "\n",
    "# Adjusting the legend to be more formal\n",
    "plt.legend(title='Sensors', title_fontsize='13', fontsize='12', frameon=False)\n",
    "\n",
    "# Show the plot with the improved academic aesthetics\n",
    "plt.show()"
   ]
  },
  {
   "cell_type": "markdown",
   "id": "eb21cc23",
   "metadata": {
    "papermill": {
     "duration": 0.005859,
     "end_time": "2023-11-24T11:05:49.220458",
     "exception": false,
     "start_time": "2023-11-24T11:05:49.214599",
     "status": "completed"
    },
    "tags": []
   },
   "source": [
    "# Save to CSV"
   ]
  },
  {
   "cell_type": "code",
   "execution_count": 9,
   "id": "92a1b4c5",
   "metadata": {
    "execution": {
     "iopub.execute_input": "2023-11-24T11:05:49.234438Z",
     "iopub.status.busy": "2023-11-24T11:05:49.234027Z",
     "iopub.status.idle": "2023-11-24T11:10:55.201681Z",
     "shell.execute_reply": "2023-11-24T11:10:55.200633Z"
    },
    "papermill": {
     "duration": 305.978202,
     "end_time": "2023-11-24T11:10:55.204704",
     "exception": false,
     "start_time": "2023-11-24T11:05:49.226502",
     "status": "completed"
    },
    "tags": []
   },
   "outputs": [],
   "source": [
    "data.to_csv('enriched_cleaned_ar41_for_ulb.csv', index=True)"
   ]
  }
 ],
 "metadata": {
  "kaggle": {
   "accelerator": "none",
   "dataSources": [
    {
     "datasetId": 3977452,
     "sourceId": 6927364,
     "sourceType": "datasetVersion"
    },
    {
     "sourceId": 151880217,
     "sourceType": "kernelVersion"
    },
    {
     "sourceId": 152092983,
     "sourceType": "kernelVersion"
    }
   ],
   "dockerImageVersionId": 30558,
   "isGpuEnabled": false,
   "isInternetEnabled": true,
   "language": "python",
   "sourceType": "notebook"
  },
  "kernelspec": {
   "display_name": "Python 3",
   "language": "python",
   "name": "python3"
  },
  "language_info": {
   "codemirror_mode": {
    "name": "ipython",
    "version": 3
   },
   "file_extension": ".py",
   "mimetype": "text/x-python",
   "name": "python",
   "nbconvert_exporter": "python",
   "pygments_lexer": "ipython3",
   "version": "3.10.12"
  },
  "papermill": {
   "default_parameters": {},
   "duration": 3934.784286,
   "end_time": "2023-11-24T11:10:57.941350",
   "environment_variables": {},
   "exception": null,
   "input_path": "__notebook__.ipynb",
   "output_path": "__notebook__.ipynb",
   "parameters": {},
   "start_time": "2023-11-24T10:05:23.157064",
   "version": "2.4.0"
  }
 },
 "nbformat": 4,
 "nbformat_minor": 5
}
