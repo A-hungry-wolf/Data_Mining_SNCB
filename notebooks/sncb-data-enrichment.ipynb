{
 "cells": [
  {
   "cell_type": "markdown",
   "id": "585ef2dc",
   "metadata": {
    "papermill": {
     "duration": 0.007076,
     "end_time": "2023-11-24T11:53:45.499391",
     "exception": false,
     "start_time": "2023-11-24T11:53:45.492315",
     "status": "completed"
    },
    "tags": []
   },
   "source": [
    "# Data Import"
   ]
  },
  {
   "cell_type": "code",
   "execution_count": 1,
   "id": "aefcf8d1",
   "metadata": {
    "execution": {
     "iopub.execute_input": "2023-11-24T11:53:45.514863Z",
     "iopub.status.busy": "2023-11-24T11:53:45.513643Z",
     "iopub.status.idle": "2023-11-24T11:53:48.902131Z",
     "shell.execute_reply": "2023-11-24T11:53:48.900366Z"
    },
    "papermill": {
     "duration": 3.398513,
     "end_time": "2023-11-24T11:53:48.905454",
     "exception": false,
     "start_time": "2023-11-24T11:53:45.506941",
     "status": "completed"
    },
    "tags": []
   },
   "outputs": [],
   "source": [
    "import pandas as pd\n",
    "import os\n",
    "import seaborn as sns\n",
    "import numpy as np\n",
    "import matplotlib.pyplot as plt\n",
    "from geopy.distance import geodesic"
   ]
  },
  {
   "cell_type": "code",
   "execution_count": 2,
   "id": "a0fa0575",
   "metadata": {
    "execution": {
     "iopub.execute_input": "2023-11-24T11:53:48.918289Z",
     "iopub.status.busy": "2023-11-24T11:53:48.917660Z",
     "iopub.status.idle": "2023-11-24T11:53:48.924340Z",
     "shell.execute_reply": "2023-11-24T11:53:48.922911Z"
    },
    "papermill": {
     "duration": 0.016693,
     "end_time": "2023-11-24T11:53:48.927510",
     "exception": false,
     "start_time": "2023-11-24T11:53:48.910817",
     "status": "completed"
    },
    "tags": []
   },
   "outputs": [],
   "source": [
    "# Set the run_code to test | run\n",
    "run_code = 'test'"
   ]
  },
  {
   "cell_type": "code",
   "execution_count": 3,
   "id": "dec98091",
   "metadata": {
    "execution": {
     "iopub.execute_input": "2023-11-24T11:53:48.940301Z",
     "iopub.status.busy": "2023-11-24T11:53:48.939893Z",
     "iopub.status.idle": "2023-11-24T11:55:44.158482Z",
     "shell.execute_reply": "2023-11-24T11:55:44.155665Z"
    },
    "papermill": {
     "duration": 115.244527,
     "end_time": "2023-11-24T11:55:44.177721",
     "exception": false,
     "start_time": "2023-11-24T11:53:48.933194",
     "status": "completed"
    },
    "tags": []
   },
   "outputs": [
    {
     "name": "stdout",
     "output_type": "stream",
     "text": [
      "<class 'pandas.core.frame.DataFrame'>\n",
      "RangeIndex: 17677337 entries, 0 to 17677336\n",
      "Data columns (total 21 columns):\n",
      " #   Column              Dtype  \n",
      "---  ------              -----  \n",
      " 0   Unnamed: 0          int64  \n",
      " 1   timestamps_UTC      object \n",
      " 2   mapped_veh_id       float64\n",
      " 3   lat                 float64\n",
      " 4   lon                 float64\n",
      " 5   RS_E_InAirTemp_PC1  float64\n",
      " 6   RS_E_InAirTemp_PC2  float64\n",
      " 7   RS_E_OilPress_PC1   float64\n",
      " 8   RS_E_OilPress_PC2   float64\n",
      " 9   RS_E_RPM_PC1        float64\n",
      " 10  RS_E_RPM_PC2        float64\n",
      " 11  RS_E_WatTemp_PC1    float64\n",
      " 12  RS_E_WatTemp_PC2    float64\n",
      " 13  RS_T_OilTemp_PC1    float64\n",
      " 14  RS_T_OilTemp_PC2    float64\n",
      " 15  date                object \n",
      " 16  hour                int64  \n",
      " 17  dayofweek           int64  \n",
      " 18  weekday             object \n",
      " 19  Distance            float64\n",
      " 20  Speed               float64\n",
      "dtypes: float64(15), int64(3), object(3)\n",
      "memory usage: 2.8+ GB\n",
      "None\n",
      "   Unnamed: 0       timestamps_UTC  mapped_veh_id        lat       lon  \\\n",
      "0           0  2023-01-23 07:25:08          102.0  51.017864  3.769078   \n",
      "1           1  2023-01-23 07:25:16          102.0  51.017876  3.769046   \n",
      "2           2  2023-01-23 07:25:37          102.0  51.017210  3.770179   \n",
      "3           3  2023-01-23 07:25:41          102.0  51.016914  3.771036   \n",
      "4           4  2023-01-23 07:26:10          102.0  51.016502  3.772182   \n",
      "\n",
      "   RS_E_InAirTemp_PC1  RS_E_InAirTemp_PC2  RS_E_OilPress_PC1  \\\n",
      "0                17.0                18.0              210.0   \n",
      "1                17.0                20.0              200.0   \n",
      "2                19.0                20.0              193.0   \n",
      "3                19.0                20.0              196.0   \n",
      "4                19.0                21.0              200.0   \n",
      "\n",
      "   RS_E_OilPress_PC2  RS_E_RPM_PC1  ...  RS_E_WatTemp_PC1  RS_E_WatTemp_PC2  \\\n",
      "0              210.0         858.0  ...              78.0              80.0   \n",
      "1              200.0         801.0  ...              79.0              80.0   \n",
      "2              207.0         803.0  ...              80.0              81.0   \n",
      "3              203.0         801.0  ...              80.0              81.0   \n",
      "4              203.0         795.0  ...              80.0              82.0   \n",
      "\n",
      "   RS_T_OilTemp_PC1  RS_T_OilTemp_PC2        date hour  dayofweek  weekday  \\\n",
      "0              71.0              79.0  2023-01-23    7          0   Monday   \n",
      "1              76.0              79.0  2023-01-23    7          0   Monday   \n",
      "2              79.0              81.0  2023-01-23    7          0   Monday   \n",
      "3              79.0              81.0  2023-01-23    7          0   Monday   \n",
      "4              79.0              79.0  2023-01-23    7          0   Monday   \n",
      "\n",
      "   Distance      Speed  \n",
      "0  0.000000        NaN  \n",
      "1  0.002593   1.166701  \n",
      "2  0.108769  18.646103  \n",
      "3  0.068434  61.590906  \n",
      "4  0.092596  11.494614  \n",
      "\n",
      "[5 rows x 21 columns]\n"
     ]
    }
   ],
   "source": [
    "if run_code == 'run':\n",
    "    dataset_path = '/kaggle/input/sncb-eda-data-clean/cleaned_ar41_for_ulb.csv'\n",
    "else:\n",
    "    dataset_path = '/kaggle/input/sncb-data-augumentation/enriched_cleaned_ar41_for_ulb.csv'\n",
    "\n",
    "# Check if the file exists before trying to read it\n",
    "if os.path.exists(dataset_path):\n",
    "    data = pd.read_csv(dataset_path)\n",
    "\n",
    "    # Display the basic information and the first few rows of the dataframe\n",
    "    data_info = data.info()\n",
    "    data_head = data.head()\n",
    "\n",
    "    # If you want to print the information to the console\n",
    "    print(data_info)\n",
    "    print(data_head)\n",
    "else:\n",
    "    print(f\"The file {dataset_path} does not exist.\")"
   ]
  },
  {
   "cell_type": "code",
   "execution_count": 4,
   "id": "4d76bbf2",
   "metadata": {
    "execution": {
     "iopub.execute_input": "2023-11-24T11:55:44.193468Z",
     "iopub.status.busy": "2023-11-24T11:55:44.192931Z",
     "iopub.status.idle": "2023-11-24T11:55:44.288238Z",
     "shell.execute_reply": "2023-11-24T11:55:44.286325Z"
    },
    "papermill": {
     "duration": 0.108843,
     "end_time": "2023-11-24T11:55:44.292485",
     "exception": false,
     "start_time": "2023-11-24T11:55:44.183642",
     "status": "completed"
    },
    "tags": []
   },
   "outputs": [],
   "source": [
    "data['lat'] = data['lat'].astype('float32')\n",
    "data['lon'] = data['lon'].astype('float32')"
   ]
  },
  {
   "cell_type": "markdown",
   "id": "e59e3ea3",
   "metadata": {
    "papermill": {
     "duration": 0.005526,
     "end_time": "2023-11-24T11:55:44.304746",
     "exception": false,
     "start_time": "2023-11-24T11:55:44.299220",
     "status": "completed"
    },
    "tags": []
   },
   "source": [
    "# Speed Calculate"
   ]
  },
  {
   "cell_type": "code",
   "execution_count": 5,
   "id": "924a0c26",
   "metadata": {
    "execution": {
     "iopub.execute_input": "2023-11-24T11:55:44.318769Z",
     "iopub.status.busy": "2023-11-24T11:55:44.318255Z",
     "iopub.status.idle": "2023-11-24T11:55:46.517685Z",
     "shell.execute_reply": "2023-11-24T11:55:46.516653Z"
    },
    "papermill": {
     "duration": 2.209665,
     "end_time": "2023-11-24T11:55:46.520359",
     "exception": false,
     "start_time": "2023-11-24T11:55:44.310694",
     "status": "completed"
    },
    "tags": []
   },
   "outputs": [],
   "source": [
    "data = data[data['Speed'] < 120]"
   ]
  },
  {
   "cell_type": "code",
   "execution_count": 6,
   "id": "36f9e13a",
   "metadata": {
    "execution": {
     "iopub.execute_input": "2023-11-24T11:55:46.535641Z",
     "iopub.status.busy": "2023-11-24T11:55:46.535239Z",
     "iopub.status.idle": "2023-11-24T13:11:41.725155Z",
     "shell.execute_reply": "2023-11-24T13:11:41.722215Z"
    },
    "papermill": {
     "duration": 4555.206067,
     "end_time": "2023-11-24T13:11:41.732871",
     "exception": false,
     "start_time": "2023-11-24T11:55:46.526804",
     "status": "completed"
    },
    "tags": []
   },
   "outputs": [
    {
     "name": "stdout",
     "output_type": "stream",
     "text": [
      "              timestamps_UTC        lat       lon  Distance      Speed\n",
      "1        2023-01-23 07:25:16  51.017876  3.769046  0.000000        NaN\n",
      "2        2023-01-23 07:25:37  51.017208  3.770179  0.108769  18.646103\n",
      "3        2023-01-23 07:25:41  51.016914  3.771036  0.068434  61.590906\n",
      "4        2023-01-23 07:26:10  51.016502  3.772182  0.092596  11.494614\n",
      "6        2023-01-23 07:27:09  51.015751  3.774149  0.161358   9.845582\n",
      "...                      ...        ...       ...       ...        ...\n",
      "17677332 2023-09-13 17:33:03  50.402695  4.450110  0.011761   8.467873\n",
      "17677333 2023-09-13 17:33:58  50.401657  4.452693  0.216873  14.195295\n",
      "17677334 2023-09-13 17:34:03  50.401829  4.452218  0.038821  27.950893\n",
      "17677335 2023-09-13 17:34:58  50.401058  4.455389  0.241191  15.787055\n",
      "17677336 2023-09-13 17:35:04  50.401085  4.455169  0.015909   9.545136\n",
      "\n",
      "[16730601 rows x 5 columns]\n"
     ]
    }
   ],
   "source": [
    "# Convert timestamps to datetime format\n",
    "data['timestamps_UTC'] = pd.to_datetime(data['timestamps_UTC'])\n",
    "\n",
    "# Vectorize the distance calculation\n",
    "def calculate_distances(lats, lons):\n",
    "    distances = np.zeros(len(lats))\n",
    "    for i in range(1, len(lats)):\n",
    "        if not np.isnan(lats[i]) and not np.isnan(lons[i]):\n",
    "            distances[i] = geodesic((lats[i-1], lons[i-1]), (lats[i], lons[i])).kilometers\n",
    "    return distances\n",
    "\n",
    "# Calculate distances using the vectorized function\n",
    "latitudes = data['lat'].to_numpy()\n",
    "longitudes = data['lon'].to_numpy()\n",
    "data['Distance'] = calculate_distances(latitudes, longitudes)\n",
    "\n",
    "# Calculate time intervals in hours\n",
    "time_diffs = data['timestamps_UTC'].diff().dt.total_seconds() / 3600\n",
    "time_diffs[0] = np.nan  # first element will be NaT after diff\n",
    "\n",
    "# Calculate speeds in km/h\n",
    "data['Speed'] = data['Distance'] / time_diffs\n",
    "\n",
    "# Replace infinite values with NaN if division by zero occurred\n",
    "data['Speed'].replace([np.inf, -np.inf], np.nan, inplace=True)\n",
    "\n",
    "# Print the results\n",
    "print(data[['timestamps_UTC', 'lat', 'lon', 'Distance', 'Speed']])"
   ]
  },
  {
   "cell_type": "code",
   "execution_count": 7,
   "id": "2518d9f8",
   "metadata": {
    "execution": {
     "iopub.execute_input": "2023-11-24T13:11:41.748218Z",
     "iopub.status.busy": "2023-11-24T13:11:41.747655Z",
     "iopub.status.idle": "2023-11-24T13:11:41.827310Z",
     "shell.execute_reply": "2023-11-24T13:11:41.825614Z"
    },
    "papermill": {
     "duration": 0.0918,
     "end_time": "2023-11-24T13:11:41.830628",
     "exception": false,
     "start_time": "2023-11-24T13:11:41.738828",
     "status": "completed"
    },
    "tags": []
   },
   "outputs": [],
   "source": [
    "# Change data type to reduce the data size\n",
    "data['Distance'] = data['Distance'].astype('float32')\n",
    "data['Speed'] = data['Speed'].astype('float32')"
   ]
  },
  {
   "cell_type": "markdown",
   "id": "e6c6533e",
   "metadata": {
    "papermill": {
     "duration": 0.005578,
     "end_time": "2023-11-24T13:11:41.842549",
     "exception": false,
     "start_time": "2023-11-24T13:11:41.836971",
     "status": "completed"
    },
    "tags": []
   },
   "source": [
    "# Distribution of Distance"
   ]
  },
  {
   "cell_type": "code",
   "execution_count": 8,
   "id": "9e58a8d6",
   "metadata": {
    "execution": {
     "iopub.execute_input": "2023-11-24T13:11:41.856414Z",
     "iopub.status.busy": "2023-11-24T13:11:41.855974Z",
     "iopub.status.idle": "2023-11-24T13:13:05.854381Z",
     "shell.execute_reply": "2023-11-24T13:13:05.853129Z"
    },
    "papermill": {
     "duration": 84.017642,
     "end_time": "2023-11-24T13:13:05.866163",
     "exception": false,
     "start_time": "2023-11-24T13:11:41.848521",
     "status": "completed"
    },
    "tags": []
   },
   "outputs": [
    {
     "data": {
      "image/png": "[encoded data removed]",
      "text/plain": [
       "<Figure size 1200x600 with 1 Axes>"
      ]
     },
     "metadata": {},
     "output_type": "display_data"
    }
   ],
   "source": [
    "# Setting the overall aesthetics for the plot to have an academic look\n",
    "sns.set_theme(style='ticks', palette='muted')\n",
    "\n",
    "# Initialize the matplotlib figure\n",
    "plt.figure(figsize=(12, 6))\n",
    "\n",
    "# Plotting the Kernel Density Estimate (KDE) plot for RS_E_RPM_PC1\n",
    "sns.kdeplot(data['Distance'], fill=True, color=\"#1f77b4\", label='RS_E_RPM_PC1s', bw_adjust=0.5)\n",
    "\n",
    "\n",
    "# Adding titles and labels with a formal font type\n",
    "plt.title('Distribution of Distance', fontsize=16, fontweight='bold', family='serif')\n",
    "plt.xlabel('Distance', fontsize=14, family='serif')\n",
    "plt.ylabel('Density', fontsize=14, family='serif')\n",
    "\n",
    "# Adding gridlines and removing the top and right axis lines for a cleaner look\n",
    "sns.despine(trim=True)\n",
    "plt.grid(True)\n",
    "\n",
    "# Adjusting the legend to be more formal\n",
    "plt.legend(title='Sensors', title_fontsize='13', fontsize='12', frameon=False)\n",
    "\n",
    "# Show the plot with the improved academic aesthetics\n",
    "plt.show()"
   ]
  },
  {
   "cell_type": "markdown",
   "id": "69943a65",
   "metadata": {
    "papermill": {
     "duration": 0.007122,
     "end_time": "2023-11-24T13:13:05.880284",
     "exception": false,
     "start_time": "2023-11-24T13:13:05.873162",
     "status": "completed"
    },
    "tags": []
   },
   "source": [
    "# Distribution of Speed"
   ]
  },
  {
   "cell_type": "code",
   "execution_count": 9,
   "id": "32c46d4b",
   "metadata": {
    "execution": {
     "iopub.execute_input": "2023-11-24T13:13:05.897482Z",
     "iopub.status.busy": "2023-11-24T13:13:05.896051Z",
     "iopub.status.idle": "2023-11-24T13:14:34.008111Z",
     "shell.execute_reply": "2023-11-24T13:14:34.006058Z"
    },
    "papermill": {
     "duration": 88.132709,
     "end_time": "2023-11-24T13:14:34.020193",
     "exception": false,
     "start_time": "2023-11-24T13:13:05.887484",
     "status": "completed"
    },
    "tags": []
   },
   "outputs": [
    {
     "data": {
      "image/png": "[encoded data removed]",
      "text/plain": [
       "<Figure size 1200x600 with 1 Axes>"
      ]
     },
     "metadata": {},
     "output_type": "display_data"
    }
   ],
   "source": [
    "# Setting the overall aesthetics for the plot to have an academic look\n",
    "sns.set_theme(style='ticks', palette='muted')\n",
    "\n",
    "# Initialize the matplotlib figure\n",
    "plt.figure(figsize=(12, 6))\n",
    "\n",
    "# Plotting the Kernel Density Estimate (KDE) plot for RS_E_RPM_PC1\n",
    "sns.kdeplot(data['Speed'], fill=True, color=\"#1f77b4\", label='RS_E_RPM_PC1s', bw_adjust=0.5)\n",
    "\n",
    "\n",
    "# Adding titles and labels with a formal font type\n",
    "plt.title('Distribution of Speed', fontsize=16, fontweight='bold', family='serif')\n",
    "plt.xlabel('Speed', fontsize=14, family='serif')\n",
    "plt.ylabel('Density', fontsize=14, family='serif')\n",
    "\n",
    "# Adding gridlines and removing the top and right axis lines for a cleaner look\n",
    "sns.despine(trim=True)\n",
    "plt.grid(True)\n",
    "\n",
    "# Adjusting the legend to be more formal\n",
    "plt.legend(title='Sensors', title_fontsize='13', fontsize='12', frameon=False)\n",
    "\n",
    "# Show the plot with the improved academic aesthetics\n",
    "plt.show()"
   ]
  },
  {
   "cell_type": "markdown",
   "id": "b381edaa",
   "metadata": {
    "papermill": {
     "duration": 0.007517,
     "end_time": "2023-11-24T13:14:34.035051",
     "exception": false,
     "start_time": "2023-11-24T13:14:34.027534",
     "status": "completed"
    },
    "tags": []
   },
   "source": [
    "# Save to CSV"
   ]
  },
  {
   "cell_type": "code",
   "execution_count": 10,
   "id": "000e1fec",
   "metadata": {
    "execution": {
     "iopub.execute_input": "2023-11-24T13:14:34.053570Z",
     "iopub.status.busy": "2023-11-24T13:14:34.052123Z",
     "iopub.status.idle": "2023-11-24T13:21:46.134567Z",
     "shell.execute_reply": "2023-11-24T13:21:46.133004Z"
    },
    "papermill": {
     "duration": 432.095423,
     "end_time": "2023-11-24T13:21:46.137939",
     "exception": false,
     "start_time": "2023-11-24T13:14:34.042516",
     "status": "completed"
    },
    "tags": []
   },
   "outputs": [],
   "source": [
    "data.to_csv('enriched_cleaned_ar41_for_ulb.csv', index=True)"
   ]
  }
 ],
 "metadata": {
  "kaggle": {
   "accelerator": "none",
   "dataSources": [
    {
     "datasetId": 3977452,
     "sourceId": 6927364,
     "sourceType": "datasetVersion"
    },
    {
     "sourceId": 151880217,
     "sourceType": "kernelVersion"
    },
    {
     "sourceId": 152092983,
     "sourceType": "kernelVersion"
    }
   ],
   "dockerImageVersionId": 30558,
   "isGpuEnabled": false,
   "isInternetEnabled": true,
   "language": "python",
   "sourceType": "notebook"
  },
  "kernelspec": {
   "display_name": "Python 3",
   "language": "python",
   "name": "python3"
  },
  "language_info": {
   "codemirror_mode": {
    "name": "ipython",
    "version": 3
   },
   "file_extension": ".py",
   "mimetype": "text/x-python",
   "name": "python",
   "nbconvert_exporter": "python",
   "pygments_lexer": "ipython3",
   "version": "3.10.12"
  },
  "papermill": {
   "default_parameters": {},
   "duration": 5288.378789,
   "end_time": "2023-11-24T13:21:48.985028",
   "environment_variables": {},
   "exception": null,
   "input_path": "__notebook__.ipynb",
   "output_path": "__notebook__.ipynb",
   "parameters": {},
   "start_time": "2023-11-24T11:53:40.606239",
   "version": "2.4.0"
  }
 },
 "nbformat": 4,
 "nbformat_minor": 5
}
