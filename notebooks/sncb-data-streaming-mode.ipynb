{
 "cells": [
  {
   "cell_type": "markdown",
   "id": "4f9e1ac5",
   "metadata": {
    "papermill": {
     "duration": 0.007213,
     "end_time": "2023-12-17T12:45:45.296084",
     "exception": false,
     "start_time": "2023-12-17T12:45:45.288871",
     "status": "completed"
    },
    "tags": []
   },
   "source": [
    "# Data Import"
   ]
  },
  {
   "cell_type": "code",
   "execution_count": 1,
   "id": "389a7471",
   "metadata": {
    "execution": {
     "iopub.execute_input": "2023-12-17T12:45:45.311539Z",
     "iopub.status.busy": "2023-12-17T12:45:45.311093Z",
     "iopub.status.idle": "2023-12-17T12:45:57.546129Z",
     "shell.execute_reply": "2023-12-17T12:45:57.545174Z"
    },
    "papermill": {
     "duration": 12.245828,
     "end_time": "2023-12-17T12:45:57.548738",
     "exception": false,
     "start_time": "2023-12-17T12:45:45.302910",
     "status": "completed"
    },
    "tags": []
   },
   "outputs": [],
   "source": [
    "import pandas as pd\n",
    "import os\n",
    "import seaborn as sns\n",
    "import numpy as np\n",
    "import matplotlib.pyplot as plt\n",
    "import matplotlib.dates as mdates\n",
    "from geopy.distance import geodesic\n",
    "\n",
    "from sklearn.cluster import KMeans\n",
    "from sklearn.ensemble import IsolationForest\n",
    "from sklearn.preprocessing import StandardScaler, OneHotEncoder, MinMaxScaler\n",
    "from sklearn.compose import ColumnTransformer\n",
    "from sklearn.impute import SimpleImputer\n",
    "from sklearn.pipeline import Pipeline\n",
    "from sklearn.metrics import silhouette_score\n",
    "from sklearn.cluster import DBSCAN\n",
    "from sklearn.cluster import MiniBatchKMeans\n",
    "from sklearn.metrics import mean_absolute_error\n",
    "\n",
    "from sklearn.neighbors import LocalOutlierFactor\n",
    "\n",
    "from sklearn.ensemble import IsolationForest\n",
    "\n",
    "from keras.models import Sequential, Model\n",
    "from keras.layers import LSTM, Dense, RepeatVector, TimeDistributed, Input, Dropout\n",
    "from keras.preprocessing.sequence import TimeseriesGenerator\n",
    "from keras.callbacks import EarlyStopping, ModelCheckpoint\n",
    "from keras.models import load_model\n",
    "\n",
    "from joblib import dump\n",
    "\n",
    "from sklearn.decomposition import PCA\n",
    "\n",
    "from mpl_toolkits.mplot3d import Axes3D\n",
    "\n",
    "import plotly.graph_objs as go\n",
    "\n",
    "import dask.dataframe as dd\n",
    "\n",
    "import joblib\n",
    "\n",
    "import gc\n",
    "\n",
    "import pyarrow\n",
    "\n",
    "import time"
   ]
  },
  {
   "cell_type": "code",
   "execution_count": 2,
   "id": "983e2bb4",
   "metadata": {
    "execution": {
     "iopub.execute_input": "2023-12-17T12:45:57.564719Z",
     "iopub.status.busy": "2023-12-17T12:45:57.563994Z",
     "iopub.status.idle": "2023-12-17T12:48:50.497160Z",
     "shell.execute_reply": "2023-12-17T12:48:50.495780Z"
    },
    "papermill": {
     "duration": 172.952487,
     "end_time": "2023-12-17T12:48:50.508228",
     "exception": false,
     "start_time": "2023-12-17T12:45:57.555741",
     "status": "completed"
    },
    "tags": []
   },
   "outputs": [
    {
     "name": "stdout",
     "output_type": "stream",
     "text": [
      "<class 'pandas.core.frame.DataFrame'>\n",
      "RangeIndex: 17677337 entries, 0 to 17677336\n",
      "Data columns (total 42 columns):\n",
      " #   Column              Dtype  \n",
      "---  ------              -----  \n",
      " 0   Unnamed: 0          int64  \n",
      " 1   timestamps_UTC      object \n",
      " 2   mapped_veh_id       float64\n",
      " 3   lat                 float64\n",
      " 4   lon                 float64\n",
      " 5   RS_E_InAirTemp_PC1  float64\n",
      " 6   RS_E_InAirTemp_PC2  float64\n",
      " 7   RS_E_OilPress_PC1   float64\n",
      " 8   RS_E_OilPress_PC2   float64\n",
      " 9   RS_E_RPM_PC1        float64\n",
      " 10  RS_E_RPM_PC2        float64\n",
      " 11  RS_E_WatTemp_PC1    float64\n",
      " 12  RS_E_WatTemp_PC2    float64\n",
      " 13  RS_T_OilTemp_PC1    float64\n",
      " 14  RS_T_OilTemp_PC2    float64\n",
      " 15  date                object \n",
      " 16  hour                float64\n",
      " 17  dayofweek           float64\n",
      " 18  weekday             object \n",
      " 19  Distance            float64\n",
      " 20  Speed               float64\n",
      " 21  date_hour           object \n",
      " 22  datetime_x          object \n",
      " 23  weather_main        object \n",
      " 24  temp                float64\n",
      " 25  feels_like          float64\n",
      " 26  pressure            float64\n",
      " 27  humidity            float64\n",
      " 28  wind                float64\n",
      " 29  clouds              float64\n",
      " 30  temp_celsius        float64\n",
      " 31  feels_like_celsius  float64\n",
      " 32  datetime_y          object \n",
      " 33  aqi                 float64\n",
      " 34  co                  float64\n",
      " 35  no                  float64\n",
      " 36  no2                 float64\n",
      " 37  o3                  float64\n",
      " 38  so2                 float64\n",
      " 39  pm2_5               float64\n",
      " 40  pm10                float64\n",
      " 41  nh3                 float64\n",
      "dtypes: float64(34), int64(1), object(7)\n",
      "memory usage: 5.5+ GB\n",
      "Dataframe Info:\n",
      "None\n",
      "\n",
      "First Few Rows of Data:\n",
      "   Unnamed: 0       timestamps_UTC  mapped_veh_id    lat   lon  \\\n",
      "0           0  2023-01-23 07:25:08          102.0  51.02  3.77   \n",
      "1           1  2023-01-23 07:25:16          102.0  51.02  3.77   \n",
      "2           2  2023-01-23 07:25:37          102.0  51.02  3.77   \n",
      "3           3  2023-01-23 07:25:41          102.0  51.02  3.77   \n",
      "4           4  2023-01-23 07:26:10          102.0  51.02  3.77   \n",
      "\n",
      "   RS_E_InAirTemp_PC1  RS_E_InAirTemp_PC2  RS_E_OilPress_PC1  \\\n",
      "0                17.0                18.0              210.0   \n",
      "1                17.0                20.0              200.0   \n",
      "2                19.0                20.0              193.0   \n",
      "3                19.0                20.0              196.0   \n",
      "4                19.0                21.0              200.0   \n",
      "\n",
      "   RS_E_OilPress_PC2  RS_E_RPM_PC1  ...           datetime_y  aqi      co  \\\n",
      "0              210.0         858.0  ...  2023-01-23 07:00:00  2.0  353.81   \n",
      "1              200.0         801.0  ...  2023-01-23 07:00:00  2.0  353.81   \n",
      "2              207.0         803.0  ...  2023-01-23 07:00:00  2.0  353.81   \n",
      "3              203.0         801.0  ...  2023-01-23 07:00:00  2.0  353.81   \n",
      "4              203.0         795.0  ...  2023-01-23 07:00:00  2.0  353.81   \n",
      "\n",
      "     no    no2    o3   so2  pm2_5   pm10   nh3  \n",
      "0  8.94  40.44  0.21  7.51  11.17  12.77  6.52  \n",
      "1  8.94  40.44  0.21  7.51  11.17  12.77  6.52  \n",
      "2  8.94  40.44  0.21  7.51  11.17  12.77  6.52  \n",
      "3  8.94  40.44  0.21  7.51  11.17  12.77  6.52  \n",
      "4  8.94  40.44  0.21  7.51  11.17  12.77  6.52  \n",
      "\n",
      "[5 rows x 42 columns]\n"
     ]
    }
   ],
   "source": [
    "dataset_path = '/kaggle/input/sncb-data-augumentation/augumented_cleaned_ar41_for_ulb.csv'\n",
    "\n",
    "# # Define the columns that you want to load\n",
    "# columns_to_load = [\n",
    "#     'RS_E_InAirTemp_PC1', 'RS_E_InAirTemp_PC2', \n",
    "#     'RS_E_WatTemp_PC1', 'RS_E_WatTemp_PC2', \n",
    "#     'RS_T_OilTemp_PC1', 'RS_T_OilTemp_PC2',\n",
    "#     'RS_E_OilPress_PC2', 'RS_E_OilPress_PC2',\n",
    "#     'RS_E_RPM_PC1', 'RS_E_RPM_PC1',\n",
    "#     'Speed', 'lat', 'lon', 'mapped_veh_id', \n",
    "#     'hour', 'pm10', 'temp_celsius',\n",
    "#     'weather_main', 'date', 'timestamps_UTC'  # Include 'date' to convert to 'weekday' later\n",
    "# ]\n",
    "\n",
    "# Check if the file exists before trying to read it\n",
    "if os.path.exists(dataset_path):\n",
    "    # Read the specified columns of the CSV file into a DataFrame\n",
    "    data = pd.read_csv(dataset_path)\n",
    "\n",
    "    # Display the basic information and the first few rows of the dataframe\n",
    "    data_info = data.info()\n",
    "    data_head = data.head()\n",
    "\n",
    "    # If you want to print the information to the console\n",
    "    print(\"Dataframe Info:\")\n",
    "    print(data_info)\n",
    "    print(\"\\nFirst Few Rows of Data:\")\n",
    "    print(data_head)\n",
    "else:\n",
    "    print(f\"The file {dataset_path} does not exist.\")"
   ]
  },
  {
   "cell_type": "code",
   "execution_count": 3,
   "id": "9ba2ed57",
   "metadata": {
    "execution": {
     "iopub.execute_input": "2023-12-17T12:48:50.524240Z",
     "iopub.status.busy": "2023-12-17T12:48:50.523830Z",
     "iopub.status.idle": "2023-12-17T12:48:50.766964Z",
     "shell.execute_reply": "2023-12-17T12:48:50.765944Z"
    },
    "papermill": {
     "duration": 0.253313,
     "end_time": "2023-12-17T12:48:50.768951",
     "exception": false,
     "start_time": "2023-12-17T12:48:50.515638",
     "status": "completed"
    },
    "tags": []
   },
   "outputs": [
    {
     "data": {
      "text/plain": [
       "53"
      ]
     },
     "execution_count": 3,
     "metadata": {},
     "output_type": "execute_result"
    }
   ],
   "source": [
    "del data_info\n",
    "del data_head\n",
    "gc.collect()"
   ]
  },
  {
   "cell_type": "code",
   "execution_count": 4,
   "id": "495afed4",
   "metadata": {
    "execution": {
     "iopub.execute_input": "2023-12-17T12:48:50.786240Z",
     "iopub.status.busy": "2023-12-17T12:48:50.785835Z",
     "iopub.status.idle": "2023-12-17T12:48:50.798531Z",
     "shell.execute_reply": "2023-12-17T12:48:50.797385Z"
    },
    "papermill": {
     "duration": 0.023207,
     "end_time": "2023-12-17T12:48:50.800787",
     "exception": false,
     "start_time": "2023-12-17T12:48:50.777580",
     "status": "completed"
    },
    "tags": []
   },
   "outputs": [],
   "source": [
    "def reduce_mem_usage(df):\n",
    "    \"\"\" Iterate through all the columns of a dataframe and modify the data type\n",
    "        to reduce memory usage.        \n",
    "    \"\"\"\n",
    "    start_mem = df.memory_usage().sum() / 1024**2\n",
    "    print('Memory usage of dataframe is {:.2f} MB'.format(start_mem))\n",
    "    \n",
    "    for col in df.columns:\n",
    "        col_type = df[col].dtype\n",
    "        \n",
    "        if np.issubdtype(col_type, np.number):  # Check if column type is numeric\n",
    "            c_min = df[col].min()\n",
    "            c_max = df[col].max()\n",
    "            if str(col_type).startswith('int'):\n",
    "                if c_min > np.iinfo(np.int8).min and c_max < np.iinfo(np.int8).max:\n",
    "                    df[col] = df[col].astype(np.int8)\n",
    "                elif c_min > np.iinfo(np.int16).min and c_max < np.iinfo(np.int16).max:\n",
    "                    df[col] = df[col].astype(np.int16)\n",
    "                elif c_min > np.iinfo(np.int32).min and c_max < np.iinfo(np.int32).max:\n",
    "                    df[col] = df[col].astype(np.int32)\n",
    "                elif c_min > np.iinfo(np.int64).min and c_max < np.iinfo(np.int64).max:\n",
    "                    df[col] = df[col].astype(np.int64)  \n",
    "            else:\n",
    "                if c_min > np.finfo(np.float16).min and c_max < np.finfo(np.float16).max:\n",
    "                    df[col] = df[col].astype(np.float16)\n",
    "                elif c_min > np.finfo(np.float32).min and c_max < np.finfo(np.float32).max:\n",
    "                    df[col] = df[col].astype(np.float32)\n",
    "                else:\n",
    "                    df[col] = df[col].astype(np.float64)\n",
    "        # You can add more conditions here for other data types if necessary\n",
    "\n",
    "    end_mem = df.memory_usage().sum() / 1024**2\n",
    "    print('Memory usage after optimization is: {:.2f} MB'.format(end_mem))\n",
    "    print('Decreased by {:.1f}%'.format(100 * (start_mem - end_mem) / start_mem))\n",
    "    \n",
    "    return df"
   ]
  },
  {
   "cell_type": "code",
   "execution_count": 5,
   "id": "c9b892b9",
   "metadata": {
    "execution": {
     "iopub.execute_input": "2023-12-17T12:48:50.816666Z",
     "iopub.status.busy": "2023-12-17T12:48:50.816234Z",
     "iopub.status.idle": "2023-12-17T12:48:59.326070Z",
     "shell.execute_reply": "2023-12-17T12:48:59.324793Z"
    },
    "papermill": {
     "duration": 8.520636,
     "end_time": "2023-12-17T12:48:59.328552",
     "exception": false,
     "start_time": "2023-12-17T12:48:50.807916",
     "status": "completed"
    },
    "tags": []
   },
   "outputs": [
    {
     "name": "stdout",
     "output_type": "stream",
     "text": [
      "Memory usage of dataframe is 5664.43 MB\n",
      "Memory usage after optimization is: 2157.88 MB\n",
      "Decreased by 61.9%\n"
     ]
    }
   ],
   "source": [
    "# Apply the memory reduction\n",
    "data = reduce_mem_usage(data)"
   ]
  },
  {
   "cell_type": "code",
   "execution_count": 6,
   "id": "4b4213ae",
   "metadata": {
    "execution": {
     "iopub.execute_input": "2023-12-17T12:48:59.345265Z",
     "iopub.status.busy": "2023-12-17T12:48:59.344266Z",
     "iopub.status.idle": "2023-12-17T12:48:59.349958Z",
     "shell.execute_reply": "2023-12-17T12:48:59.349034Z"
    },
    "papermill": {
     "duration": 0.016309,
     "end_time": "2023-12-17T12:48:59.352077",
     "exception": false,
     "start_time": "2023-12-17T12:48:59.335768",
     "status": "completed"
    },
    "tags": []
   },
   "outputs": [],
   "source": [
    "# data = data.drop(['Unnamed: 0', 'dayofweek', 'date_hour'], axis=1)"
   ]
  },
  {
   "cell_type": "code",
   "execution_count": 7,
   "id": "bae47a53",
   "metadata": {
    "execution": {
     "iopub.execute_input": "2023-12-17T12:48:59.367714Z",
     "iopub.status.busy": "2023-12-17T12:48:59.367323Z",
     "iopub.status.idle": "2023-12-17T12:48:59.371395Z",
     "shell.execute_reply": "2023-12-17T12:48:59.370419Z"
    },
    "papermill": {
     "duration": 0.014208,
     "end_time": "2023-12-17T12:48:59.373422",
     "exception": false,
     "start_time": "2023-12-17T12:48:59.359214",
     "status": "completed"
    },
    "tags": []
   },
   "outputs": [],
   "source": [
    "# data.head(500000).to_csv('mini_augumented_cleaned_ar41_for_ulb.csv', index=True)"
   ]
  },
  {
   "cell_type": "markdown",
   "id": "7f106b63",
   "metadata": {
    "papermill": {
     "duration": 0.007048,
     "end_time": "2023-12-17T12:48:59.387629",
     "exception": false,
     "start_time": "2023-12-17T12:48:59.380581",
     "status": "completed"
    },
    "tags": []
   },
   "source": [
    "# Status Label (running | stopped)"
   ]
  },
  {
   "cell_type": "code",
   "execution_count": 8,
   "id": "de997e5b",
   "metadata": {
    "execution": {
     "iopub.execute_input": "2023-12-17T12:48:59.403408Z",
     "iopub.status.busy": "2023-12-17T12:48:59.402595Z",
     "iopub.status.idle": "2023-12-17T12:48:59.407343Z",
     "shell.execute_reply": "2023-12-17T12:48:59.406180Z"
    },
    "papermill": {
     "duration": 0.014557,
     "end_time": "2023-12-17T12:48:59.409182",
     "exception": false,
     "start_time": "2023-12-17T12:48:59.394625",
     "status": "completed"
    },
    "tags": []
   },
   "outputs": [],
   "source": [
    "stopped_threshold = 10  # Speed less than 10 for being stopped\n",
    "minimum_stopped_minutes = 30  # Minimum duration for stopped status"
   ]
  },
  {
   "cell_type": "code",
   "execution_count": 9,
   "id": "443ec54b",
   "metadata": {
    "execution": {
     "iopub.execute_input": "2023-12-17T12:48:59.424687Z",
     "iopub.status.busy": "2023-12-17T12:48:59.424325Z",
     "iopub.status.idle": "2023-12-17T12:49:24.057761Z",
     "shell.execute_reply": "2023-12-17T12:49:24.056541Z"
    },
    "papermill": {
     "duration": 24.644436,
     "end_time": "2023-12-17T12:49:24.060926",
     "exception": false,
     "start_time": "2023-12-17T12:48:59.416490",
     "status": "completed"
    },
    "tags": []
   },
   "outputs": [],
   "source": [
    "# Convert timestamps to datetime and sort\n",
    "data['timestamps_UTC'] = pd.to_datetime(data['timestamps_UTC'])\n",
    "data = data.sort_values('timestamps_UTC')\n",
    "\n",
    "# Calculate time differences in minutes\n",
    "data['time_diff'] = data['timestamps_UTC'].diff().dt.total_seconds() / 60.0\n",
    "\n",
    "# Identify rows where the vehicle is stopped\n",
    "data['is_stopped'] = data['Speed'] < stopped_threshold\n",
    "\n",
    "# Forward-fill the 'is_stopped' status only within the groups where the vehicle is stopped\n",
    "data['stopped_group'] = data['is_stopped'].ne(data['is_stopped'].shift()).cumsum()\n",
    "data.loc[data['is_stopped'], 'stopped_group'] = data.loc[data['is_stopped'], 'stopped_group']\n",
    "\n",
    "# Calculate the cumulative stopped time in minutes only for stopped groups\n",
    "data['cumulative_stopped_time'] = data.groupby('stopped_group')['time_diff'].cumsum().fillna(0)\n",
    "\n",
    "# Determine the stopped groups that exceed the minimum stopped duration\n",
    "stopped_groups = data[data['cumulative_stopped_time'] > minimum_stopped_minutes]['stopped_group'].unique()\n",
    "\n",
    "# Mark the status based on the identified stopped groups\n",
    "data['status'] = 'running'\n",
    "data.loc[data['stopped_group'].isin(stopped_groups), 'status'] = 'stopped'"
   ]
  },
  {
   "cell_type": "code",
   "execution_count": 10,
   "id": "5f4f19eb",
   "metadata": {
    "execution": {
     "iopub.execute_input": "2023-12-17T12:49:24.077930Z",
     "iopub.status.busy": "2023-12-17T12:49:24.077498Z",
     "iopub.status.idle": "2023-12-17T12:49:39.213512Z",
     "shell.execute_reply": "2023-12-17T12:49:39.212292Z"
    },
    "papermill": {
     "duration": 15.147114,
     "end_time": "2023-12-17T12:49:39.215981",
     "exception": false,
     "start_time": "2023-12-17T12:49:24.068867",
     "status": "completed"
    },
    "tags": []
   },
   "outputs": [],
   "source": [
    "data = data.dropna()"
   ]
  },
  {
   "cell_type": "markdown",
   "id": "cc67fce8",
   "metadata": {
    "papermill": {
     "duration": 0.007058,
     "end_time": "2023-12-17T12:49:39.230681",
     "exception": false,
     "start_time": "2023-12-17T12:49:39.223623",
     "status": "completed"
    },
    "tags": []
   },
   "source": [
    "# Load the Models"
   ]
  },
  {
   "cell_type": "code",
   "execution_count": 11,
   "id": "17ddb934",
   "metadata": {
    "execution": {
     "iopub.execute_input": "2023-12-17T12:49:39.247165Z",
     "iopub.status.busy": "2023-12-17T12:49:39.246748Z",
     "iopub.status.idle": "2023-12-17T12:49:40.265223Z",
     "shell.execute_reply": "2023-12-17T12:49:40.264340Z"
    },
    "papermill": {
     "duration": 1.029459,
     "end_time": "2023-12-17T12:49:40.267786",
     "exception": false,
     "start_time": "2023-12-17T12:49:39.238327",
     "status": "completed"
    },
    "tags": []
   },
   "outputs": [],
   "source": [
    "# Load Isolation Forest model\n",
    "iso_forest_model_path = '/kaggle/input/sncb-data-label-isolation-forest/isolation_forest_model.joblib'\n",
    "iso_forest_model = joblib.load(iso_forest_model_path)\n",
    "\n",
    "# Load LSTM Autoencoder model\n",
    "lstm_autoencoder_model_path = '/kaggle/input/lstm-anomely-detection/lstm_autoencoder_model.h5'\n",
    "lstm_autoencoder_model = load_model(lstm_autoencoder_model_path)"
   ]
  },
  {
   "cell_type": "markdown",
   "id": "6c41f627",
   "metadata": {
    "papermill": {
     "duration": 0.00679,
     "end_time": "2023-12-17T12:49:40.281722",
     "exception": false,
     "start_time": "2023-12-17T12:49:40.274932",
     "status": "completed"
    },
    "tags": []
   },
   "source": [
    "# Data Preprocessing Function"
   ]
  },
  {
   "cell_type": "code",
   "execution_count": 12,
   "id": "fd0a4e44",
   "metadata": {
    "execution": {
     "iopub.execute_input": "2023-12-17T12:49:40.297382Z",
     "iopub.status.busy": "2023-12-17T12:49:40.297001Z",
     "iopub.status.idle": "2023-12-17T12:49:40.304810Z",
     "shell.execute_reply": "2023-12-17T12:49:40.303570Z"
    },
    "papermill": {
     "duration": 0.018238,
     "end_time": "2023-12-17T12:49:40.306854",
     "exception": false,
     "start_time": "2023-12-17T12:49:40.288616",
     "status": "completed"
    },
    "tags": []
   },
   "outputs": [],
   "source": [
    "# Function to preprocess data\n",
    "def preprocess_data(data, scaler=None, encoder=None):\n",
    "    # Define numeric and categorical features\n",
    "    numeric_features = [\n",
    "        'RS_E_InAirTemp_PC1', 'RS_E_InAirTemp_PC2', \n",
    "        'RS_E_WatTemp_PC1', 'RS_E_WatTemp_PC2', \n",
    "        'RS_T_OilTemp_PC1', 'RS_T_OilTemp_PC2', \n",
    "        'Speed', 'lat', 'lon', 'mapped_veh_id', \n",
    "        'hour', 'pm10', 'temp_celsius', 'weekday'\n",
    "    ]\n",
    "    categorical_features = ['weather_main', 'status']\n",
    "\n",
    "    # Convert 'weekday' to a numerical format\n",
    "    data['weekday'] = pd.to_datetime(data['date']).dt.dayofweek\n",
    "\n",
    "    # Standardize numeric features\n",
    "    if scaler is None:\n",
    "        scaler = StandardScaler()\n",
    "        X_numeric_scaled = scaler.fit_transform(data[numeric_features])\n",
    "    else:\n",
    "        X_numeric_scaled = scaler.transform(data[numeric_features])\n",
    "\n",
    "    # Encode categorical features\n",
    "    if encoder is None:\n",
    "        encoder = OneHotEncoder(sparse=False)\n",
    "        X_categorical_encoded = encoder.fit_transform(data[categorical_features])\n",
    "    else:\n",
    "        X_categorical_encoded = encoder.transform(data[categorical_features])\n",
    "\n",
    "    # Combine numeric and categorical data\n",
    "    X_combined = np.hstack((X_numeric_scaled, X_categorical_encoded))\n",
    "    \n",
    "    return X_combined, scaler, encoder"
   ]
  },
  {
   "cell_type": "code",
   "execution_count": 13,
   "id": "768d5f66",
   "metadata": {
    "execution": {
     "iopub.execute_input": "2023-12-17T12:49:40.323070Z",
     "iopub.status.busy": "2023-12-17T12:49:40.322154Z",
     "iopub.status.idle": "2023-12-17T12:50:05.945745Z",
     "shell.execute_reply": "2023-12-17T12:50:05.944618Z"
    },
    "papermill": {
     "duration": 25.634017,
     "end_time": "2023-12-17T12:50:05.947957",
     "exception": false,
     "start_time": "2023-12-17T12:49:40.313940",
     "status": "completed"
    },
    "tags": []
   },
   "outputs": [
    {
     "name": "stderr",
     "output_type": "stream",
     "text": [
      "/opt/conda/lib/python3.10/site-packages/sklearn/preprocessing/_encoders.py:868: FutureWarning: `sparse` was renamed to `sparse_output` in version 1.2 and will be removed in 1.4. `sparse_output` is ignored unless you leave `sparse` to its default value.\n",
      "  warnings.warn(\n"
     ]
    },
    {
     "data": {
      "text/plain": [
       "(17480996, 25)"
      ]
     },
     "execution_count": 13,
     "metadata": {},
     "output_type": "execute_result"
    }
   ],
   "source": [
    "# Preprocess the sample data for demonstration\n",
    "X_combined, scaler, encoder = preprocess_data(data)\n",
    "X_combined.shape"
   ]
  },
  {
   "cell_type": "code",
   "execution_count": 14,
   "id": "08467c26",
   "metadata": {
    "execution": {
     "iopub.execute_input": "2023-12-17T12:50:05.964155Z",
     "iopub.status.busy": "2023-12-17T12:50:05.963802Z",
     "iopub.status.idle": "2023-12-17T12:50:05.968173Z",
     "shell.execute_reply": "2023-12-17T12:50:05.967170Z"
    },
    "papermill": {
     "duration": 0.01502,
     "end_time": "2023-12-17T12:50:05.970334",
     "exception": false,
     "start_time": "2023-12-17T12:50:05.955314",
     "status": "completed"
    },
    "tags": []
   },
   "outputs": [],
   "source": [
    "# pd.DataFrame(X_combined).head(50000).to_csv('X_combined_streaming.csv', index=True)"
   ]
  },
  {
   "cell_type": "markdown",
   "id": "04857d54",
   "metadata": {
    "papermill": {
     "duration": 0.007302,
     "end_time": "2023-12-17T12:50:05.984870",
     "exception": false,
     "start_time": "2023-12-17T12:50:05.977568",
     "status": "completed"
    },
    "tags": []
   },
   "source": [
    "# Simulating Data Streaming"
   ]
  },
  {
   "cell_type": "code",
   "execution_count": 15,
   "id": "15f95a42",
   "metadata": {
    "execution": {
     "iopub.execute_input": "2023-12-17T12:50:06.001321Z",
     "iopub.status.busy": "2023-12-17T12:50:06.000948Z",
     "iopub.status.idle": "2023-12-17T12:50:06.006139Z",
     "shell.execute_reply": "2023-12-17T12:50:06.005071Z"
    },
    "papermill": {
     "duration": 0.015956,
     "end_time": "2023-12-17T12:50:06.008249",
     "exception": false,
     "start_time": "2023-12-17T12:50:05.992293",
     "status": "completed"
    },
    "tags": []
   },
   "outputs": [],
   "source": [
    "# Function to simulate data streaming\n",
    "def stream_data(data, batch_size=100):\n",
    "    for i in range(0, len(data), batch_size):\n",
    "        # Yield a batch of data\n",
    "        yield data[i:i + batch_size]"
   ]
  },
  {
   "cell_type": "markdown",
   "id": "83f0a060",
   "metadata": {
    "papermill": {
     "duration": 0.007682,
     "end_time": "2023-12-17T12:50:06.023247",
     "exception": false,
     "start_time": "2023-12-17T12:50:06.015565",
     "status": "completed"
    },
    "tags": []
   },
   "source": [
    "# Anomaly Detection in Streaming Mode"
   ]
  },
  {
   "cell_type": "code",
   "execution_count": 16,
   "id": "730f1e84",
   "metadata": {
    "execution": {
     "iopub.execute_input": "2023-12-17T12:50:06.039735Z",
     "iopub.status.busy": "2023-12-17T12:50:06.039195Z",
     "iopub.status.idle": "2023-12-17T12:50:06.043725Z",
     "shell.execute_reply": "2023-12-17T12:50:06.042828Z"
    },
    "papermill": {
     "duration": 0.015054,
     "end_time": "2023-12-17T12:50:06.045620",
     "exception": false,
     "start_time": "2023-12-17T12:50:06.030566",
     "status": "completed"
    },
    "tags": []
   },
   "outputs": [],
   "source": [
    "# # Function to detect anomalies\n",
    "# def detect_anomalies(batch, iso_forest_model, lstm_autoencoder_model):\n",
    "#     # Isolation Forest prediction\n",
    "#     iso_forest_pred = iso_forest_model.predict(batch)\n",
    "\n",
    "#     # LSTM Autoencoder prediction\n",
    "#     # Reshape data for LSTM (assuming the model expects 3D input)\n",
    "#     batch_reshaped = np.reshape(batch, (batch.shape[0], 1, batch.shape[1]))\n",
    "#     reconstructed = lstm_autoencoder_model.predict(batch_reshaped)\n",
    "#     mse = np.mean(np.power(batch_reshaped - reconstructed, 2), axis=1)\n",
    "#     # A threshold for anomaly detection in LSTM Autoencoder (needs to be defined)\n",
    "#     lstm_threshold = 0.5  # This is an example value\n",
    "#     lstm_pred = mse > lstm_threshold\n",
    "\n",
    "#     return iso_forest_pred, lstm_pred"
   ]
  },
  {
   "cell_type": "code",
   "execution_count": 17,
   "id": "2f795b2f",
   "metadata": {
    "execution": {
     "iopub.execute_input": "2023-12-17T12:50:06.061677Z",
     "iopub.status.busy": "2023-12-17T12:50:06.061288Z",
     "iopub.status.idle": "2023-12-17T12:50:06.068204Z",
     "shell.execute_reply": "2023-12-17T12:50:06.067125Z"
    },
    "papermill": {
     "duration": 0.017423,
     "end_time": "2023-12-17T12:50:06.070311",
     "exception": false,
     "start_time": "2023-12-17T12:50:06.052888",
     "status": "completed"
    },
    "tags": []
   },
   "outputs": [],
   "source": [
    "def detect_anomalies(batch, iso_forest_model, lstm_autoencoder_model, iso_threshold=-0.1, lstm_threshold=2.5):\n",
    "    # Reshape data for Isolation Forest (flatten the 3D batch to 2D)\n",
    "    batch_flattened = batch.reshape(batch.shape[0] * batch.shape[1], -1)\n",
    "    scores = iso_forest_model.decision_function(batch_flattened)\n",
    "    iso_forest_anomalies = np.where(scores < iso_threshold)[0]  # Custom threshold\n",
    "\n",
    "    # LSTM Autoencoder prediction (final step)\n",
    "    reconstructed = lstm_autoencoder_model.predict(batch)\n",
    "    actual_final_step = batch[:, -1, :]\n",
    "    mse = np.mean(np.power(actual_final_step - reconstructed, 2), axis=1)\n",
    "    lstm_pred = mse > lstm_threshold\n",
    "    lstm_anomalies = np.where(lstm_pred)[0]\n",
    "\n",
    "    return iso_forest_anomalies, lstm_anomalies"
   ]
  },
  {
   "cell_type": "markdown",
   "id": "89001145",
   "metadata": {
    "papermill": {
     "duration": 0.006895,
     "end_time": "2023-12-17T12:50:06.084457",
     "exception": false,
     "start_time": "2023-12-17T12:50:06.077562",
     "status": "completed"
    },
    "tags": []
   },
   "source": [
    "# Load Sample Data for Simulation"
   ]
  },
  {
   "cell_type": "code",
   "execution_count": 18,
   "id": "4bb6dc9d",
   "metadata": {
    "execution": {
     "iopub.execute_input": "2023-12-17T12:50:06.100834Z",
     "iopub.status.busy": "2023-12-17T12:50:06.100224Z",
     "iopub.status.idle": "2023-12-17T12:50:06.108220Z",
     "shell.execute_reply": "2023-12-17T12:50:06.107336Z"
    },
    "papermill": {
     "duration": 0.018739,
     "end_time": "2023-12-17T12:50:06.110231",
     "exception": false,
     "start_time": "2023-12-17T12:50:06.091492",
     "status": "completed"
    },
    "tags": []
   },
   "outputs": [],
   "source": [
    "def batch_generator(data, sequence_length, batch_size, n_features):\n",
    "    num_batches = int(np.ceil((data.shape[0] - sequence_length) / batch_size))\n",
    "    while True:  # Loop forever so the generator never terminates\n",
    "        for batch_index in range(num_batches):\n",
    "            start_index = batch_index * batch_size\n",
    "            end_index = start_index + sequence_length + batch_size - 1  # Adjusted end_index calculation\n",
    "            \n",
    "            # Ensure we do not go past the end of the data\n",
    "            end_index = min(end_index, data.shape[0] - 1)\n",
    "            \n",
    "            batch_data = data[start_index:end_index]\n",
    "\n",
    "            # Adjust batch size if we're at the end and have less than a full batch left\n",
    "            current_batch_size = min(batch_size, data.shape[0] - start_index - sequence_length)\n",
    "            X_batch = np.zeros((current_batch_size, sequence_length, n_features))\n",
    "            y_batch = np.zeros((current_batch_size, n_features))\n",
    "\n",
    "            for i in range(current_batch_size):\n",
    "                end_seq_index = i + sequence_length\n",
    "                # Make sure we don't go beyond the end of batch_data when creating the sequence\n",
    "                if end_seq_index < batch_data.shape[0]:\n",
    "                    X_batch[i] = batch_data[i:end_seq_index]\n",
    "                    y_batch[i] = batch_data[end_seq_index]\n",
    "                else:\n",
    "                    # If not enough data for a full sequence, break the loop early\n",
    "                    break\n",
    "\n",
    "            yield X_batch, y_batch"
   ]
  },
  {
   "cell_type": "code",
   "execution_count": 19,
   "id": "8dcd04f6",
   "metadata": {
    "execution": {
     "iopub.execute_input": "2023-12-17T12:50:06.125981Z",
     "iopub.status.busy": "2023-12-17T12:50:06.125619Z",
     "iopub.status.idle": "2023-12-17T12:50:06.130769Z",
     "shell.execute_reply": "2023-12-17T12:50:06.129724Z"
    },
    "papermill": {
     "duration": 0.015117,
     "end_time": "2023-12-17T12:50:06.132670",
     "exception": false,
     "start_time": "2023-12-17T12:50:06.117553",
     "status": "completed"
    },
    "tags": []
   },
   "outputs": [],
   "source": [
    "n_features = X_combined.shape[1]  # Number of features\n",
    "\n",
    "# Define sequence length (the window size) and batch size\n",
    "sequence_length = 10  # This is a hyperparameter you can tune\n",
    "batch_size = 1024 \n",
    "\n",
    "# Initialize streaming data generator\n",
    "streaming_data = batch_generator(X_combined, sequence_length, batch_size, n_features)"
   ]
  },
  {
   "cell_type": "code",
   "execution_count": 20,
   "id": "cea7a3b3",
   "metadata": {
    "execution": {
     "iopub.execute_input": "2023-12-17T12:50:06.148988Z",
     "iopub.status.busy": "2023-12-17T12:50:06.147977Z",
     "iopub.status.idle": "2023-12-17T12:50:07.771668Z",
     "shell.execute_reply": "2023-12-17T12:50:07.770438Z"
    },
    "papermill": {
     "duration": 1.634127,
     "end_time": "2023-12-17T12:50:07.773962",
     "exception": false,
     "start_time": "2023-12-17T12:50:06.139835",
     "status": "completed"
    },
    "tags": []
   },
   "outputs": [
    {
     "name": "stdout",
     "output_type": "stream",
     "text": [
      "32/32 [==============================] - 1s 4ms/step\n",
      "Batch processed. Isolation Forest Anomalies: 0 LSTM Autoencoder Anomalies: 8867\n"
     ]
    }
   ],
   "source": [
    "# Example of processing the data stream\n",
    "for X_batch, _ in streaming_data:  # Unpack the tuple to get only the input data\n",
    "    iso_forest_pred, lstm_pred = detect_anomalies(X_batch, iso_forest_model, lstm_autoencoder_model)\n",
    "    # Process the results as needed (logging, alerts, etc.)\n",
    "    print(\"Batch processed. Isolation Forest Anomalies:\", np.sum(iso_forest_pred == -1),\n",
    "          \"LSTM Autoencoder Anomalies:\", np.sum(lstm_pred))\n",
    "    # Break after one batch for demonstration purposes\n",
    "    break"
   ]
  },
  {
   "cell_type": "code",
   "execution_count": 21,
   "id": "705bf44f",
   "metadata": {
    "execution": {
     "iopub.execute_input": "2023-12-17T12:50:07.791380Z",
     "iopub.status.busy": "2023-12-17T12:50:07.790536Z",
     "iopub.status.idle": "2023-12-17T12:51:16.245332Z",
     "shell.execute_reply": "2023-12-17T12:51:16.244109Z"
    },
    "papermill": {
     "duration": 68.46609,
     "end_time": "2023-12-17T12:51:16.247878",
     "exception": false,
     "start_time": "2023-12-17T12:50:07.781788",
     "status": "completed"
    },
    "tags": []
   },
   "outputs": [
    {
     "name": "stdout",
     "output_type": "stream",
     "text": [
      "32/32 [==============================] - 0s 4ms/step\n",
      "Batch 0 processed. Isolation Forest Anomalies: 0 LSTM Autoencoder Anomalies: 2\n",
      "Anomaly details:\n",
      "     timestamps_UTC      lat      lon  RS_E_WatTemp_PC1  RS_T_OilTemp_PC1  RS_E_InAirTemp_PC1    Speed  status\n",
      "2023-01-23 14:16:11 51.03125 3.769531              40.0              27.0                 5.0 2.771484 stopped\n",
      "2023-01-23 14:26:08 51.03125 3.769531              52.0              36.0                 7.0 2.072266 stopped\n",
      "32/32 [==============================] - 0s 3ms/step\n",
      "Batch 1 processed. Isolation Forest Anomalies: 0 LSTM Autoencoder Anomalies: 0\n",
      "32/32 [==============================] - 0s 3ms/step\n",
      "Batch 2 processed. Isolation Forest Anomalies: 0 LSTM Autoencoder Anomalies: 0\n",
      "32/32 [==============================] - 0s 3ms/step\n",
      "Batch 3 processed. Isolation Forest Anomalies: 0 LSTM Autoencoder Anomalies: 0\n",
      "32/32 [==============================] - 0s 4ms/step\n",
      "Batch 4 processed. Isolation Forest Anomalies: 0 LSTM Autoencoder Anomalies: 0\n",
      "32/32 [==============================] - 0s 4ms/step\n",
      "Batch 5 processed. Isolation Forest Anomalies: 0 LSTM Autoencoder Anomalies: 6\n",
      "Anomaly details:\n",
      "     timestamps_UTC      lat      lon  RS_E_WatTemp_PC1  RS_T_OilTemp_PC1  RS_E_InAirTemp_PC1     Speed  status\n",
      "2023-01-23 18:54:16 50.75000 3.599609              79.0              73.0                11.0  1.196289 running\n",
      "2023-01-23 20:11:14 51.03125 3.710938              78.0              73.0                11.0  2.724609 running\n",
      "2023-01-23 20:49:14 51.18750 3.580078              82.0              77.0                33.0 55.562500 running\n",
      "2023-01-23 21:34:12 51.06250 3.740234              80.0              77.0                28.0 15.546875 running\n",
      "2023-01-23 22:13:20 50.93750 3.640625              85.0              84.0                30.0 20.031250 running\n",
      "2023-01-24 01:06:51 50.87500 3.609375              57.0              53.0                11.0  2.660156 stopped\n",
      "32/32 [==============================] - 0s 3ms/step\n",
      "Batch 6 processed. Isolation Forest Anomalies: 0 LSTM Autoencoder Anomalies: 14\n",
      "Anomaly details:\n",
      "     timestamps_UTC      lat      lon  RS_E_WatTemp_PC1  RS_T_OilTemp_PC1  RS_E_InAirTemp_PC1     Speed  status\n",
      "2023-01-23 14:32:07 51.03125 3.769531              55.0              42.0                 7.0  2.822266 stopped\n",
      "2023-01-23 14:46:11 51.03125 3.769531              62.0              52.0                 6.0  0.375732 stopped\n",
      "2023-01-23 14:59:11 51.03125 3.769531              62.0              58.0                 6.0  2.892578 stopped\n",
      "2023-01-23 15:11:12 51.03125 3.769531              59.0              54.0                 6.0  0.360107 stopped\n",
      "2023-01-23 15:52:11 51.03125 3.730469              68.0              62.0                12.0 22.578125 running\n",
      "2023-01-23 16:37:15 51.03125 3.759766              75.0              74.0                15.0 27.609375 running\n",
      "2023-01-23 17:11:14 51.18750 3.580078              78.0              76.0                16.0  5.265625 running\n",
      "2023-01-23 17:49:10 51.03125 3.710938              78.0              73.0                15.0  2.755859 running\n",
      "2023-01-23 18:23:16 50.87500 3.619141              80.0              79.0                28.0 52.281250 running\n",
      "2023-01-23 19:03:10 50.75000 3.599609              77.0              74.0                 8.0  2.802734 running\n",
      "2023-01-23 19:43:19 50.90625 3.650391              78.0              73.0                23.0  7.175781 running\n",
      "2023-01-23 19:51:10 50.96875 3.630859              80.0              75.0                29.0 46.281250 running\n",
      "2023-01-23 22:29:16 50.84375 3.599609              78.0              79.0                28.0  9.945312 running\n",
      "2023-01-23 22:30:17 50.84375 3.599609              78.0              74.0                26.0  0.096252 running\n",
      "32/32 [==============================] - 0s 3ms/step\n",
      "Batch 7 processed. Isolation Forest Anomalies: 0 LSTM Autoencoder Anomalies: 16\n",
      "Anomaly details:\n",
      "     timestamps_UTC      lat      lon  RS_E_WatTemp_PC1  RS_T_OilTemp_PC1  RS_E_InAirTemp_PC1     Speed  status\n",
      "2023-01-23 14:19:11 51.03125 3.769531              47.0              30.0                 6.0  0.025894 stopped\n",
      "2023-01-23 14:20:06 51.03125 3.769531              48.0              33.0                 6.0  0.300049 stopped\n",
      "2023-01-23 14:52:14 51.03125 3.769531              64.0              55.0                 6.0  2.878906 stopped\n",
      "2023-01-23 14:54:15 51.03125 3.769531              65.0              53.0                 6.0  2.841797 stopped\n",
      "2023-01-23 15:29:13 51.03125 3.769531              61.0              57.0                 6.0  2.791016 stopped\n",
      "2023-01-23 15:32:13 51.03125 3.769531              61.0              52.0                 6.0  2.912109 stopped\n",
      "2023-01-23 16:22:12 51.03125 3.689453              67.0              65.0                 6.0  2.691406 running\n",
      "2023-01-23 16:24:12 51.03125 3.699219              70.0              69.5                 6.0 17.312500 running\n",
      "2023-01-23 16:59:16 51.15625 3.619141              80.0              80.0                30.0 34.312500 running\n",
      "2023-01-23 17:00:09 51.15625 3.609375              80.0              82.0                30.0 13.781250 running\n",
      "2023-01-23 17:36:11 51.06250 3.740234              78.0              76.0                23.0  3.162109 running\n",
      "2023-01-23 17:38:15 51.03125 3.750000              80.0              81.0                31.0 71.812500 running\n",
      "2023-01-23 17:58:07 51.03125 3.710938              78.0              74.0                11.0  1.876953 running\n",
      "2023-01-23 17:59:07 51.03125 3.699219              79.0              77.0                13.0 30.984375 running\n",
      "2023-01-23 18:20:16 50.90625 3.650391              81.0              77.0                36.0 38.625000 running\n",
      "2023-01-23 18:22:15 50.87500 3.630859              81.0              76.0                32.0 82.000000 running\n",
      "32/32 [==============================] - 0s 3ms/step\n",
      "Batch 8 processed. Isolation Forest Anomalies: 0 LSTM Autoencoder Anomalies: 0\n",
      "32/32 [==============================] - 0s 4ms/step\n",
      "Batch 9 processed. Isolation Forest Anomalies: 0 LSTM Autoencoder Anomalies: 0\n",
      "32/32 [==============================] - 0s 4ms/step\n",
      "Batch 10 processed. Isolation Forest Anomalies: 0 LSTM Autoencoder Anomalies: 0\n",
      "32/32 [==============================] - 0s 4ms/step\n",
      "Batch 11 processed. Isolation Forest Anomalies: 0 LSTM Autoencoder Anomalies: 0\n",
      "32/32 [==============================] - 0s 4ms/step\n",
      "Batch 12 processed. Isolation Forest Anomalies: 0 LSTM Autoencoder Anomalies: 0\n",
      "32/32 [==============================] - 0s 4ms/step\n",
      "Batch 13 processed. Isolation Forest Anomalies: 0 LSTM Autoencoder Anomalies: 0\n",
      "32/32 [==============================] - 0s 4ms/step\n",
      "Batch 14 processed. Isolation Forest Anomalies: 0 LSTM Autoencoder Anomalies: 28\n",
      "Anomaly details:\n",
      "     timestamps_UTC      lat      lon  RS_E_WatTemp_PC1  RS_T_OilTemp_PC1  RS_E_InAirTemp_PC1     Speed  status\n",
      "2023-01-23 07:29:11 51.03125 3.769531              77.0              74.0                33.0  2.878906 stopped\n",
      "2023-01-23 14:12:12 51.03125 3.769531              27.0              25.0                 5.0  2.830078 stopped\n",
      "2023-01-23 14:41:11 51.03125 3.769531              60.0              47.0                 6.0  0.343262 stopped\n",
      "2023-01-23 14:44:07 51.03125 3.769531              61.0              52.0                 6.0  2.812500 stopped\n",
      "2023-01-23 15:15:08 51.03125 3.769531              59.0              54.0                 6.0  2.730469 stopped\n",
      "2023-01-23 15:17:12 51.03125 3.769531              60.0              55.0                 6.0  2.726562 stopped\n",
      "2023-01-23 15:51:07 51.03125 3.730469              68.0              62.0                11.0 22.984375 running\n",
      "2023-01-23 15:56:11 51.03125 3.710938              67.5              64.0                11.0  9.664062 running\n",
      "2023-01-23 16:31:16 51.03125 3.710938              70.0              65.0                 8.0  5.152344 running\n",
      "2023-01-23 16:33:11 51.03125 3.720703              72.0              72.0                 9.0 28.656250 running\n",
      "2023-01-23 17:06:11 51.18750 3.580078              78.0              77.0                26.0  2.199219 running\n",
      "2023-01-23 17:08:06 51.18750 3.580078              78.0              75.0                23.0  2.810547 running\n",
      "2023-01-23 17:41:14 51.03125 3.750000              80.0              77.0                35.0 49.812500 running\n",
      "2023-01-23 17:42:15 51.03125 3.730469              78.0              77.0                32.0 46.062500 running\n",
      "2023-01-23 18:16:12 50.90625 3.640625              82.0              77.0                36.0 49.281250 running\n",
      "2023-01-23 18:17:12 50.90625 3.650391              80.0              77.0                36.0 54.468750 running\n",
      "2023-01-23 18:56:16 50.75000 3.599609              77.0              75.0                11.0  1.439453 running\n",
      "2023-01-23 18:57:16 50.75000 3.599609              77.0              76.0                10.0  0.027786 running\n",
      "2023-01-23 19:37:09 50.87500 3.619141              78.0              77.0                10.0 45.656250 running\n",
      "2023-01-23 19:39:12 50.87500 3.630859              80.0              79.0                20.0 63.000000 running\n",
      "2023-01-23 20:10:19 51.03125 3.710938              79.0              76.0                12.0  2.583984 running\n",
      "2023-01-23 20:13:14 51.03125 3.710938              77.0              77.0                11.0  2.960938 running\n",
      "2023-01-23 20:45:14 51.15625 3.609375              80.0              80.0                26.0 55.750000 running\n",
      "2023-01-23 20:47:14 51.15625 3.609375              81.0              84.0                33.0 45.593750 running\n",
      "2023-01-23 21:21:13 51.12500 3.669922              82.0              82.0                35.0 28.437500 running\n",
      "2023-01-23 21:43:09 51.03125 3.740234              80.0              79.0                31.0  1.269531 running\n",
      "2023-01-23 21:48:14 51.03125 3.710938              78.0              77.0                25.0 25.187500 running\n",
      "2023-01-23 22:03:21 51.00000 3.660156              81.0              81.0                31.0 83.125000 running\n",
      "32/32 [==============================] - 0s 4ms/step\n",
      "Batch 15 processed. Isolation Forest Anomalies: 0 LSTM Autoencoder Anomalies: 6\n",
      "Anomaly details:\n",
      "     timestamps_UTC      lat      lon  RS_E_WatTemp_PC1  RS_T_OilTemp_PC1  RS_E_InAirTemp_PC1      Speed  status\n",
      "2023-01-23 18:34:12 50.84375 3.599609              78.0              75.0                16.0   2.656250 running\n",
      "2023-01-23 18:55:16 50.75000 3.599609              78.0              73.0                11.0   1.426758 running\n",
      "2023-01-23 19:20:14 50.81250 3.619141              77.0              75.0                27.0 106.000000 running\n",
      "2023-01-23 19:33:16 50.84375 3.599609              78.0              77.0                 8.0   3.316406 running\n",
      "2023-01-23 20:00:16 51.03125 3.679688              81.0              76.0                33.0  90.000000 running\n",
      "2023-01-23 20:07:16 51.03125 3.710938              78.0              74.0                15.0   2.755859 running\n",
      "32/32 [==============================] - 0s 3ms/step\n",
      "Batch 16 processed. Isolation Forest Anomalies: 0 LSTM Autoencoder Anomalies: 11\n",
      "Anomaly details:\n",
      "     timestamps_UTC      lat      lon  RS_E_WatTemp_PC1  RS_T_OilTemp_PC1  RS_E_InAirTemp_PC1     Speed  status\n",
      "2023-01-23 16:14:05 51.03125 3.689453              68.0              64.0                 6.0  2.771484 running\n",
      "2023-01-23 16:50:10 51.09375 3.710938              81.0              80.0                31.0 62.281250 running\n",
      "2023-01-23 17:26:14 51.09375 3.720703              82.0              81.0                32.0 49.937500 running\n",
      "2023-01-23 18:07:11 50.96875 3.640625              81.0              76.0                32.0 72.312500 running\n",
      "2023-01-23 18:44:19 50.75000 3.609375              80.0              78.0                28.0 57.312500 running\n",
      "2023-01-23 19:24:11 50.84375 3.599609              79.0              77.0                17.0 39.406250 running\n",
      "2023-01-23 20:02:17 51.03125 3.689453              78.0              78.0                28.0 30.578125 running\n",
      "2023-01-23 20:38:11 51.12500 3.699219              80.0              81.0                28.0 32.000000 running\n",
      "2023-01-23 21:13:18 51.15625 3.580078              80.0              77.0                18.0 41.718750 running\n",
      "2023-01-23 21:51:16 51.03125 3.710938              78.0              70.0                20.0  0.151001 running\n",
      "2023-01-23 22:29:16 50.84375 3.599609              78.0              79.0                28.0  9.945312 running\n",
      "32/32 [==============================] - 0s 4ms/step\n",
      "Batch 17 processed. Isolation Forest Anomalies: 0 LSTM Autoencoder Anomalies: 15\n",
      "Anomaly details:\n",
      "     timestamps_UTC      lat      lon  RS_E_WatTemp_PC1  RS_T_OilTemp_PC1  RS_E_InAirTemp_PC1     Speed  status\n",
      "2023-01-23 14:17:11 51.03125 3.769531              43.0              27.0                 5.0  2.785156 stopped\n",
      "2023-01-23 14:48:05 51.03125 3.769531              62.0              51.0                 6.0  2.785156 stopped\n",
      "2023-01-23 14:55:08 51.03125 3.769531              65.0              52.0                 6.0  2.990234 stopped\n",
      "2023-01-23 15:09:15 51.03125 3.769531              60.0              54.0                 6.0  3.347656 stopped\n",
      "2023-01-23 15:11:12 51.03125 3.769531              59.0              54.0                 6.0  0.360107 stopped\n",
      "2023-01-23 15:25:15 51.03125 3.769531              61.0              57.0                 6.0  2.494141 stopped\n",
      "2023-01-23 15:51:17 51.03125 3.730469              68.0              61.0                11.0 22.875000 running\n",
      "2023-01-23 15:53:10 51.03125 3.720703              68.0              66.0                12.0 37.187500 running\n",
      "2023-01-23 16:11:11 51.03125 3.689453              66.0              62.0                 6.0  1.424805 running\n",
      "2023-01-23 16:53:06 51.12500 3.689453              81.0              80.0                38.0 72.937500 running\n",
      "2023-01-23 20:07:10 51.03125 3.710938              78.0              76.0                15.0  2.738281 running\n",
      "2023-01-23 20:46:14 51.15625 3.609375              78.0              79.0                24.0  5.750000 running\n",
      "2023-01-23 21:22:15 51.12500 3.689453              83.0              82.0                40.0 86.500000 running\n",
      "2023-01-23 22:07:16 50.96875 3.640625              82.0              77.0                38.0 74.437500 running\n",
      "2023-01-23 22:50:45 50.87500 3.609375              71.0              74.0                56.0  2.857422 stopped\n",
      "32/32 [==============================] - 0s 4ms/step\n",
      "Batch 18 processed. Isolation Forest Anomalies: 0 LSTM Autoencoder Anomalies: 11\n",
      "Anomaly details:\n",
      "     timestamps_UTC      lat      lon  RS_E_WatTemp_PC1  RS_T_OilTemp_PC1  RS_E_InAirTemp_PC1     Speed  status\n",
      "2023-01-23 14:31:11 51.03125 3.769531              55.0              43.0                 7.0  0.260986 stopped\n",
      "2023-01-23 15:08:09 51.03125 3.769531              60.0              55.0                 6.0  2.890625 stopped\n",
      "2023-01-23 15:48:17 51.03125 3.750000              64.0              58.0                 9.0  5.781250 running\n",
      "2023-01-23 16:37:13 51.03125 3.759766              74.0              71.0                15.0 28.546875 running\n",
      "2023-01-23 17:16:10 51.15625 3.609375              78.0              75.0                36.0  2.115234 running\n",
      "2023-01-23 17:59:10 51.03125 3.699219              79.0              79.0                13.0 31.343750 running\n",
      "2023-01-23 18:39:15 50.81250 3.619141              80.0              77.0                40.0 90.625000 running\n",
      "2023-01-23 19:30:11 50.84375 3.599609              78.0              77.0                 9.0  2.664062 running\n",
      "2023-01-23 20:12:20 51.03125 3.710938              78.0              72.0                11.0  2.771484 running\n",
      "2023-01-23 20:57:21 51.18750 3.580078              77.0              78.0                15.0  2.763672 running\n",
      "2023-01-23 21:36:15 51.06250 3.740234              78.0              77.0                23.0  0.590820 running\n",
      "32/32 [==============================] - 0s 4ms/step\n",
      "Batch 19 processed. Isolation Forest Anomalies: 0 LSTM Autoencoder Anomalies: 10\n",
      "Anomaly details:\n",
      "     timestamps_UTC      lat      lon  RS_E_WatTemp_PC1  RS_T_OilTemp_PC1  RS_E_InAirTemp_PC1     Speed  status\n",
      "2023-01-23 15:32:13 51.03125 3.769531              61.0              52.0                 6.0  2.912109 stopped\n",
      "2023-01-23 16:22:11 51.03125 3.699219              67.0              62.0                 6.0  2.736328 running\n",
      "2023-01-23 17:02:12 51.15625 3.589844              80.0              78.0                34.0 71.750000 running\n",
      "2023-01-23 17:39:13 51.03125 3.759766              79.0              74.0                32.0  9.859375 running\n",
      "2023-01-23 18:12:18 50.93750 3.630859              81.0              76.0                34.0 74.312500 running\n",
      "2023-01-23 18:58:17 50.75000 3.599609              78.0              73.0                10.0  2.853516 running\n",
      "2023-01-23 19:43:13 50.90625 3.650391              78.0              77.0                25.0  2.738281 running\n",
      "2023-01-23 20:22:17 51.03125 3.759766              78.0              76.0                18.0 54.062500 running\n",
      "2023-01-23 21:06:15 51.18750 3.580078              79.0              72.0                10.0  2.707031 running\n",
      "2023-01-23 21:49:13 51.03125 3.710938              78.0              76.0                23.0 11.000000 running\n",
      "32/32 [==============================] - 0s 4ms/step\n",
      "Batch 20 processed. Isolation Forest Anomalies: 0 LSTM Autoencoder Anomalies: 1\n",
      "Anomaly details:\n",
      "     timestamps_UTC      lat      lon  RS_E_WatTemp_PC1  RS_T_OilTemp_PC1  RS_E_InAirTemp_PC1    Speed  status\n",
      "2023-01-23 22:21:19 50.90625 3.640625              82.0              79.0                33.0 49.65625 running\n"
     ]
    }
   ],
   "source": [
    "# Process the data stream\n",
    "for i, (X_batch, _) in enumerate(streaming_data):\n",
    "    iso_forest_anomalies, lstm_anomalies = detect_anomalies(X_batch, iso_forest_model, lstm_autoencoder_model)\n",
    "    print(f\"Batch {i} processed. Isolation Forest Anomalies:\", len(iso_forest_anomalies),\n",
    "          \"LSTM Autoencoder Anomalies:\", len(lstm_anomalies))\n",
    "\n",
    "    # Output specific information for anomalies\n",
    "    if len(iso_forest_anomalies) > 0 or len(lstm_anomalies) > 0:\n",
    "        selected_columns = ['timestamps_UTC', 'lat', 'lon', 'RS_E_WatTemp_PC1', 'RS_T_OilTemp_PC1', 'RS_E_InAirTemp_PC1', 'Speed', 'status']\n",
    "        anomaly_indices = np.unique(np.concatenate((iso_forest_anomalies, lstm_anomalies)))\n",
    "        anomaly_details = data.loc[anomaly_indices, selected_columns]\n",
    "        print(\"Anomaly details:\")\n",
    "        pd.set_option('display.max_columns', None)  # Ensure all columns are shown\n",
    "        pd.set_option('display.width', 1000)  # Set display width for wide tables\n",
    "        pd.set_option('display.max_rows', None)  # Display all rows\n",
    "        print(anomaly_details.to_string(index=False))  # Print without the index\n",
    "\n",
    "    # Break after a few batches for demonstration purposes\n",
    "    if i >= 20:\n",
    "        break\n",
    "\n",
    "    # Delay for 2 seconds before the next batch\n",
    "    time.sleep(2)"
   ]
  },
  {
   "cell_type": "markdown",
   "id": "ff6ae7c6",
   "metadata": {
    "papermill": {
     "duration": 0.015313,
     "end_time": "2023-12-17T12:51:16.278914",
     "exception": false,
     "start_time": "2023-12-17T12:51:16.263601",
     "status": "completed"
    },
    "tags": []
   },
   "source": [
    "# Save to CSV"
   ]
  },
  {
   "cell_type": "code",
   "execution_count": 22,
   "id": "1298d87a",
   "metadata": {
    "execution": {
     "iopub.execute_input": "2023-12-17T12:51:16.312403Z",
     "iopub.status.busy": "2023-12-17T12:51:16.311577Z",
     "iopub.status.idle": "2023-12-17T13:00:55.781629Z",
     "shell.execute_reply": "2023-12-17T13:00:55.780315Z"
    },
    "papermill": {
     "duration": 579.489556,
     "end_time": "2023-12-17T13:00:55.784808",
     "exception": false,
     "start_time": "2023-12-17T12:51:16.295252",
     "status": "completed"
    },
    "tags": []
   },
   "outputs": [],
   "source": [
    "data.to_csv('labeled_augumented_cleaned_ar41_for_ulb.csv', index=True)"
   ]
  }
 ],
 "metadata": {
  "kaggle": {
   "accelerator": "none",
   "dataSources": [
    {
     "datasetId": 4178370,
     "sourceId": 7219356,
     "sourceType": "datasetVersion"
    },
    {
     "sourceId": 155000202,
     "sourceType": "kernelVersion"
    },
    {
     "sourceId": 155132920,
     "sourceType": "kernelVersion"
    },
    {
     "sourceId": 155290439,
     "sourceType": "kernelVersion"
    }
   ],
   "dockerImageVersionId": 30559,
   "isGpuEnabled": false,
   "isInternetEnabled": true,
   "language": "python",
   "sourceType": "notebook"
  },
  "kernelspec": {
   "display_name": "Python 3",
   "language": "python",
   "name": "python3"
  },
  "language_info": {
   "codemirror_mode": {
    "name": "ipython",
    "version": 3
   },
   "file_extension": ".py",
   "mimetype": "text/x-python",
   "name": "python",
   "nbconvert_exporter": "python",
   "pygments_lexer": "ipython3",
   "version": "3.10.12"
  },
  "papermill": {
   "default_parameters": {},
   "duration": 917.22309,
   "end_time": "2023-12-17T13:00:58.723825",
   "environment_variables": {},
   "exception": null,
   "input_path": "__notebook__.ipynb",
   "output_path": "__notebook__.ipynb",
   "parameters": {},
   "start_time": "2023-12-17T12:45:41.500735",
   "version": "2.4.0"
  }
 },
 "nbformat": 4,
 "nbformat_minor": 5
}
