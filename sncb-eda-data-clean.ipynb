{
 "cells": [
  {
   "cell_type": "markdown",
   "id": "86541708",
   "metadata": {
    "papermill": {
     "duration": 0.0234,
     "end_time": "2023-11-19T00:04:31.493722",
     "exception": false,
     "start_time": "2023-11-19T00:04:31.470322",
     "status": "completed"
    },
    "tags": []
   },
   "source": [
    "# Data Import - A first look over data"
   ]
  },
  {
   "cell_type": "code",
   "execution_count": 1,
   "id": "7e4cacfc",
   "metadata": {
    "execution": {
     "iopub.execute_input": "2023-11-19T00:04:31.542290Z",
     "iopub.status.busy": "2023-11-19T00:04:31.541369Z",
     "iopub.status.idle": "2023-11-19T00:04:34.589166Z",
     "shell.execute_reply": "2023-11-19T00:04:34.588073Z"
    },
    "papermill": {
     "duration": 3.075131,
     "end_time": "2023-11-19T00:04:34.591985",
     "exception": false,
     "start_time": "2023-11-19T00:04:31.516854",
     "status": "completed"
    },
    "tags": []
   },
   "outputs": [],
   "source": [
    "import pandas as pd\n",
    "import os\n",
    "import seaborn as sns\n",
    "import numpy as np\n",
    "import matplotlib.pyplot as plt\n",
    "from sklearn.cluster import DBSCAN"
   ]
  },
  {
   "cell_type": "code",
   "execution_count": 2,
   "id": "303a2e45",
   "metadata": {
    "execution": {
     "iopub.execute_input": "2023-11-19T00:04:34.648513Z",
     "iopub.status.busy": "2023-11-19T00:04:34.647375Z",
     "iopub.status.idle": "2023-11-19T00:05:37.713334Z",
     "shell.execute_reply": "2023-11-19T00:05:37.712004Z"
    },
    "papermill": {
     "duration": 63.12444,
     "end_time": "2023-11-19T00:05:37.739790",
     "exception": false,
     "start_time": "2023-11-19T00:04:34.615350",
     "status": "completed"
    },
    "tags": []
   },
   "outputs": [
    {
     "name": "stdout",
     "output_type": "stream",
     "text": [
      "<class 'pandas.core.frame.DataFrame'>\n",
      "RangeIndex: 17679273 entries, 0 to 17679272\n",
      "Data columns (total 15 columns):\n",
      " #   Column              Dtype  \n",
      "---  ------              -----  \n",
      " 0   Unnamed: 0          int64  \n",
      " 1   mapped_veh_id       float64\n",
      " 2   timestamps_UTC      object \n",
      " 3   lat                 float64\n",
      " 4   lon                 float64\n",
      " 5   RS_E_InAirTemp_PC1  float64\n",
      " 6   RS_E_InAirTemp_PC2  float64\n",
      " 7   RS_E_OilPress_PC1   float64\n",
      " 8   RS_E_OilPress_PC2   float64\n",
      " 9   RS_E_RPM_PC1        float64\n",
      " 10  RS_E_RPM_PC2        float64\n",
      " 11  RS_E_WatTemp_PC1    float64\n",
      " 12  RS_E_WatTemp_PC2    float64\n",
      " 13  RS_T_OilTemp_PC1    float64\n",
      " 14  RS_T_OilTemp_PC2    float64\n",
      "dtypes: float64(13), int64(1), object(1)\n",
      "memory usage: 2.0+ GB\n",
      "None\n",
      "   Unnamed: 0  mapped_veh_id       timestamps_UTC        lat       lon  \\\n",
      "0           0          181.0  2023-08-01 03:44:12  50.769818  3.872114   \n",
      "1           1          143.0  2023-08-01 06:36:29  51.039993  3.693429   \n",
      "2           2          183.0  2023-08-24 06:53:54  50.742203  3.602035   \n",
      "3           3          177.0  2023-08-01 13:53:38  50.930914  5.327132   \n",
      "4           4          143.0  2023-08-24 07:02:30  51.180773  3.575259   \n",
      "\n",
      "   RS_E_InAirTemp_PC1  RS_E_InAirTemp_PC2  RS_E_OilPress_PC1  \\\n",
      "0                27.0                23.0              255.0   \n",
      "1                33.0                32.0              272.0   \n",
      "2                31.0                33.0              234.0   \n",
      "3                35.0                38.0              220.0   \n",
      "4                41.0                34.0              227.0   \n",
      "\n",
      "   RS_E_OilPress_PC2  RS_E_RPM_PC1  RS_E_RPM_PC2  RS_E_WatTemp_PC1  \\\n",
      "0              238.0         794.0         801.0              83.0   \n",
      "1              324.0         802.0         804.0              78.0   \n",
      "2              182.0         799.0         802.0              82.0   \n",
      "3              244.0         794.0         801.0              77.0   \n",
      "4              282.0         806.0         800.0              85.0   \n",
      "\n",
      "   RS_E_WatTemp_PC2  RS_T_OilTemp_PC1  RS_T_OilTemp_PC2  \n",
      "0              81.0              76.0              77.0  \n",
      "1              78.0              73.0              74.0  \n",
      "2              82.0              85.0              87.0  \n",
      "3              81.0              78.0              82.0  \n",
      "4              78.0              82.0              79.0  \n"
     ]
    }
   ],
   "source": [
    "dataset_path = '/kaggle/input/sncb-remote-diagnostics-in-fleet-maintenance/ar41_for_ulb.csv'\n",
    "\n",
    "# Check if the file exists before trying to read it\n",
    "if os.path.exists(dataset_path):\n",
    "    data = pd.read_csv(dataset_path, delimiter=';')\n",
    "\n",
    "    # Display the basic information and the first few rows of the dataframe\n",
    "    data_info = data.info()\n",
    "    data_head = data.head()\n",
    "\n",
    "    # If you want to print the information to the console\n",
    "    print(data_info)\n",
    "    print(data_head)\n",
    "else:\n",
    "    print(f\"The file {dataset_path} does not exist.\")"
   ]
  },
  {
   "cell_type": "code",
   "execution_count": 3,
   "id": "c1496081",
   "metadata": {
    "execution": {
     "iopub.execute_input": "2023-11-19T00:05:37.788264Z",
     "iopub.status.busy": "2023-11-19T00:05:37.787852Z",
     "iopub.status.idle": "2023-11-19T00:05:37.979461Z",
     "shell.execute_reply": "2023-11-19T00:05:37.978314Z"
    },
    "papermill": {
     "duration": 0.219106,
     "end_time": "2023-11-19T00:05:37.982050",
     "exception": false,
     "start_time": "2023-11-19T00:05:37.762944",
     "status": "completed"
    },
    "tags": []
   },
   "outputs": [
    {
     "name": "stdout",
     "output_type": "stream",
     "text": [
      "number of unique_train_id: 92\n"
     ]
    }
   ],
   "source": [
    "unique_train_id = data.mapped_veh_id.nunique()\n",
    "print(f\"number of unique_train_id: {unique_train_id}\")"
   ]
  },
  {
   "cell_type": "markdown",
   "id": "8510c0f6",
   "metadata": {
    "papermill": {
     "duration": 0.023047,
     "end_time": "2023-11-19T00:05:38.028871",
     "exception": false,
     "start_time": "2023-11-19T00:05:38.005824",
     "status": "completed"
    },
    "tags": []
   },
   "source": [
    "## Draw the distribution of unique_train_id"
   ]
  },
  {
   "cell_type": "code",
   "execution_count": 4,
   "id": "a12c0509",
   "metadata": {
    "execution": {
     "iopub.execute_input": "2023-11-19T00:05:38.077129Z",
     "iopub.status.busy": "2023-11-19T00:05:38.076372Z",
     "iopub.status.idle": "2023-11-19T00:05:38.995893Z",
     "shell.execute_reply": "2023-11-19T00:05:38.994555Z"
    },
    "papermill": {
     "duration": 0.946792,
     "end_time": "2023-11-19T00:05:38.998780",
     "exception": false,
     "start_time": "2023-11-19T00:05:38.051988",
     "status": "completed"
    },
    "tags": []
   },
   "outputs": [
    {
     "data": {
      "image/png": "[encoded data removed]",
      "text/plain": [
       "<Figure size 1200x600 with 1 Axes>"
      ]
     },
     "metadata": {},
     "output_type": "display_data"
    }
   ],
   "source": [
    "# First, group by 'mapped_veh_id' and count the occurrences\n",
    "unique_train_id_count = data.groupby('mapped_veh_id')['mapped_veh_id'].count()\n",
    "\n",
    "# Now, plot the histogram\n",
    "fig, ax = plt.subplots(figsize=(12, 6))\n",
    "unique_train_id_count.plot.hist(bins=60, ax=ax)\n",
    "ax.set_title(\"Distribution of Vehicle Counts\")\n",
    "plt.xlabel(\"Count of Vehicles\")\n",
    "plt.ylabel(\"Frequency\")\n",
    "plt.show()"
   ]
  },
  {
   "cell_type": "markdown",
   "id": "8dc97e4f",
   "metadata": {
    "papermill": {
     "duration": 0.023562,
     "end_time": "2023-11-19T00:05:39.046349",
     "exception": false,
     "start_time": "2023-11-19T00:05:39.022787",
     "status": "completed"
    },
    "tags": []
   },
   "source": [
    "Draw the distribution of **RS_E_InAirTemp_PC1** and **RS_E_InAirTemp_PC2** "
   ]
  },
  {
   "cell_type": "code",
   "execution_count": 5,
   "id": "893ac9ce",
   "metadata": {
    "execution": {
     "iopub.execute_input": "2023-11-19T00:05:39.095952Z",
     "iopub.status.busy": "2023-11-19T00:05:39.095499Z",
     "iopub.status.idle": "2023-11-19T00:05:40.309911Z",
     "shell.execute_reply": "2023-11-19T00:05:40.308803Z"
    },
    "papermill": {
     "duration": 1.242644,
     "end_time": "2023-11-19T00:05:40.312935",
     "exception": false,
     "start_time": "2023-11-19T00:05:39.070291",
     "status": "completed"
    },
    "tags": []
   },
   "outputs": [
    {
     "data": {
      "image/png": "[encoded data removed]",
      "text/plain": [
       "<Figure size 1200x600 with 1 Axes>"
      ]
     },
     "metadata": {},
     "output_type": "display_data"
    }
   ],
   "source": [
    "# Plotting the distribution of RS_E_InAirTemp_PC1\n",
    "plt.figure(figsize=(12, 6))\n",
    "plt.hist(data['RS_E_InAirTemp_PC1'], bins=50, alpha=0.5, label='RS_E_InAirTemp_PC1')\n",
    "\n",
    "# Plotting the distribution of RS_E_InAirTemp_PC2\n",
    "plt.hist(data['RS_E_InAirTemp_PC2'], bins=50, alpha=0.5, label='RS_E_InAirTemp_PC2')\n",
    "\n",
    "plt.title('Distribution of RS_E_InAirTemp_PC1 and RS_E_InAirTemp_PC2')\n",
    "plt.xlabel('Temperature')\n",
    "plt.ylabel('Frequency')\n",
    "plt.legend()\n",
    "plt.show()"
   ]
  },
  {
   "cell_type": "markdown",
   "id": "d717690e",
   "metadata": {
    "papermill": {
     "duration": 0.024256,
     "end_time": "2023-11-19T00:05:40.424679",
     "exception": false,
     "start_time": "2023-11-19T00:05:40.400423",
     "status": "completed"
    },
    "tags": []
   },
   "source": [
    "it seems there exists a very huge values that make this graph hard to tell"
   ]
  },
  {
   "cell_type": "code",
   "execution_count": 6,
   "id": "dec19b9a",
   "metadata": {
    "execution": {
     "iopub.execute_input": "2023-11-19T00:05:40.475531Z",
     "iopub.status.busy": "2023-11-19T00:05:40.475110Z",
     "iopub.status.idle": "2023-11-19T00:05:42.399243Z",
     "shell.execute_reply": "2023-11-19T00:05:42.397993Z"
    },
    "papermill": {
     "duration": 1.952338,
     "end_time": "2023-11-19T00:05:42.401616",
     "exception": false,
     "start_time": "2023-11-19T00:05:40.449278",
     "status": "completed"
    },
    "tags": []
   },
   "outputs": [
    {
     "data": {
      "text/plain": [
       "(count    1.767927e+07\n",
       " mean     3.202422e+01\n",
       " std      3.280040e+02\n",
       " min      0.000000e+00\n",
       " 25%      2.200000e+01\n",
       " 50%      3.200000e+01\n",
       " 75%      4.000000e+01\n",
       " max      6.553500e+04\n",
       " Name: RS_E_InAirTemp_PC1, dtype: float64,\n",
       " count    1.766655e+07\n",
       " mean     3.233414e+01\n",
       " std      3.479992e+02\n",
       " min      0.000000e+00\n",
       " 25%      2.200000e+01\n",
       " 50%      3.300000e+01\n",
       " 75%      3.900000e+01\n",
       " max      6.553500e+04\n",
       " Name: RS_E_InAirTemp_PC2, dtype: float64)"
      ]
     },
     "execution_count": 6,
     "metadata": {},
     "output_type": "execute_result"
    }
   ],
   "source": [
    "# Display the basic statistics for 'RS_E_InAirTemp_PC1' and 'RS_E_InAirTemp_PC2' to identify outliers\n",
    "stats_pc1 = data['RS_E_InAirTemp_PC1'].describe()\n",
    "stats_pc2 = data['RS_E_InAirTemp_PC2'].describe()\n",
    "\n",
    "(stats_pc1, stats_pc2)"
   ]
  },
  {
   "cell_type": "code",
   "execution_count": 7,
   "id": "4b54137c",
   "metadata": {
    "execution": {
     "iopub.execute_input": "2023-11-19T00:05:42.453118Z",
     "iopub.status.busy": "2023-11-19T00:05:42.452712Z",
     "iopub.status.idle": "2023-11-19T00:05:42.540632Z",
     "shell.execute_reply": "2023-11-19T00:05:42.539824Z"
    },
    "papermill": {
     "duration": 0.116314,
     "end_time": "2023-11-19T00:05:42.542724",
     "exception": false,
     "start_time": "2023-11-19T00:05:42.426410",
     "status": "completed"
    },
    "tags": []
   },
   "outputs": [
    {
     "data": {
      "text/html": [
       "<div>\n",
       "<style scoped>\n",
       "    .dataframe tbody tr th:only-of-type {\n",
       "        vertical-align: middle;\n",
       "    }\n",
       "\n",
       "    .dataframe tbody tr th {\n",
       "        vertical-align: top;\n",
       "    }\n",
       "\n",
       "    .dataframe thead th {\n",
       "        text-align: right;\n",
       "    }\n",
       "</style>\n",
       "<table border=\"1\" class=\"dataframe\">\n",
       "  <thead>\n",
       "    <tr style=\"text-align: right;\">\n",
       "      <th></th>\n",
       "      <th>Unnamed: 0</th>\n",
       "      <th>mapped_veh_id</th>\n",
       "      <th>timestamps_UTC</th>\n",
       "      <th>lat</th>\n",
       "      <th>lon</th>\n",
       "      <th>RS_E_InAirTemp_PC1</th>\n",
       "      <th>RS_E_InAirTemp_PC2</th>\n",
       "      <th>RS_E_OilPress_PC1</th>\n",
       "      <th>RS_E_OilPress_PC2</th>\n",
       "      <th>RS_E_RPM_PC1</th>\n",
       "      <th>RS_E_RPM_PC2</th>\n",
       "      <th>RS_E_WatTemp_PC1</th>\n",
       "      <th>RS_E_WatTemp_PC2</th>\n",
       "      <th>RS_T_OilTemp_PC1</th>\n",
       "      <th>RS_T_OilTemp_PC2</th>\n",
       "    </tr>\n",
       "  </thead>\n",
       "  <tbody>\n",
       "    <tr>\n",
       "      <th>7046724</th>\n",
       "      <td>7046724</td>\n",
       "      <td>197.0</td>\n",
       "      <td>2023-01-28 23:09:24</td>\n",
       "      <td>50.093630</td>\n",
       "      <td>4.529261</td>\n",
       "      <td>65533.0</td>\n",
       "      <td>0.0</td>\n",
       "      <td>610.0</td>\n",
       "      <td>348.0</td>\n",
       "      <td>799.0</td>\n",
       "      <td>452.5</td>\n",
       "      <td>3.0</td>\n",
       "      <td>3.0</td>\n",
       "      <td>1.0</td>\n",
       "      <td>4.0</td>\n",
       "    </tr>\n",
       "    <tr>\n",
       "      <th>15011888</th>\n",
       "      <td>15011888</td>\n",
       "      <td>171.0</td>\n",
       "      <td>2023-01-28 23:09:33</td>\n",
       "      <td>50.094173</td>\n",
       "      <td>4.528174</td>\n",
       "      <td>65535.0</td>\n",
       "      <td>65534.0</td>\n",
       "      <td>638.0</td>\n",
       "      <td>610.0</td>\n",
       "      <td>801.0</td>\n",
       "      <td>802.0</td>\n",
       "      <td>3.0</td>\n",
       "      <td>5.0</td>\n",
       "      <td>1.0</td>\n",
       "      <td>6.0</td>\n",
       "    </tr>\n",
       "    <tr>\n",
       "      <th>11906160</th>\n",
       "      <td>11906160</td>\n",
       "      <td>171.0</td>\n",
       "      <td>2023-01-28 23:09:37</td>\n",
       "      <td>50.093919</td>\n",
       "      <td>4.528709</td>\n",
       "      <td>65535.0</td>\n",
       "      <td>65534.0</td>\n",
       "      <td>617.0</td>\n",
       "      <td>610.0</td>\n",
       "      <td>798.0</td>\n",
       "      <td>800.0</td>\n",
       "      <td>3.0</td>\n",
       "      <td>5.0</td>\n",
       "      <td>1.0</td>\n",
       "      <td>6.0</td>\n",
       "    </tr>\n",
       "    <tr>\n",
       "      <th>15011889</th>\n",
       "      <td>15011889</td>\n",
       "      <td>131.0</td>\n",
       "      <td>2023-01-28 23:09:43</td>\n",
       "      <td>50.093910</td>\n",
       "      <td>4.528723</td>\n",
       "      <td>65535.0</td>\n",
       "      <td>65535.0</td>\n",
       "      <td>655.0</td>\n",
       "      <td>690.0</td>\n",
       "      <td>801.0</td>\n",
       "      <td>801.0</td>\n",
       "      <td>4.0</td>\n",
       "      <td>6.0</td>\n",
       "      <td>1.0</td>\n",
       "      <td>4.0</td>\n",
       "    </tr>\n",
       "    <tr>\n",
       "      <th>12881469</th>\n",
       "      <td>12881469</td>\n",
       "      <td>197.0</td>\n",
       "      <td>2023-01-28 23:10:14</td>\n",
       "      <td>50.093621</td>\n",
       "      <td>4.529263</td>\n",
       "      <td>65533.0</td>\n",
       "      <td>1.0</td>\n",
       "      <td>638.0</td>\n",
       "      <td>10.0</td>\n",
       "      <td>802.0</td>\n",
       "      <td>0.0</td>\n",
       "      <td>6.0</td>\n",
       "      <td>3.0</td>\n",
       "      <td>0.0</td>\n",
       "      <td>4.0</td>\n",
       "    </tr>\n",
       "  </tbody>\n",
       "</table>\n",
       "</div>"
      ],
      "text/plain": [
       "          Unnamed: 0  mapped_veh_id       timestamps_UTC        lat       lon  \\\n",
       "7046724      7046724          197.0  2023-01-28 23:09:24  50.093630  4.529261   \n",
       "15011888    15011888          171.0  2023-01-28 23:09:33  50.094173  4.528174   \n",
       "11906160    11906160          171.0  2023-01-28 23:09:37  50.093919  4.528709   \n",
       "15011889    15011889          131.0  2023-01-28 23:09:43  50.093910  4.528723   \n",
       "12881469    12881469          197.0  2023-01-28 23:10:14  50.093621  4.529263   \n",
       "\n",
       "          RS_E_InAirTemp_PC1  RS_E_InAirTemp_PC2  RS_E_OilPress_PC1  \\\n",
       "7046724              65533.0                 0.0              610.0   \n",
       "15011888             65535.0             65534.0              638.0   \n",
       "11906160             65535.0             65534.0              617.0   \n",
       "15011889             65535.0             65535.0              655.0   \n",
       "12881469             65533.0                 1.0              638.0   \n",
       "\n",
       "          RS_E_OilPress_PC2  RS_E_RPM_PC1  RS_E_RPM_PC2  RS_E_WatTemp_PC1  \\\n",
       "7046724               348.0         799.0         452.5               3.0   \n",
       "15011888              610.0         801.0         802.0               3.0   \n",
       "11906160              610.0         798.0         800.0               3.0   \n",
       "15011889              690.0         801.0         801.0               4.0   \n",
       "12881469               10.0         802.0           0.0               6.0   \n",
       "\n",
       "          RS_E_WatTemp_PC2  RS_T_OilTemp_PC1  RS_T_OilTemp_PC2  \n",
       "7046724                3.0               1.0               4.0  \n",
       "15011888               5.0               1.0               6.0  \n",
       "11906160               5.0               1.0               6.0  \n",
       "15011889               6.0               1.0               4.0  \n",
       "12881469               3.0               0.0               4.0  "
      ]
     },
     "execution_count": 7,
     "metadata": {},
     "output_type": "execute_result"
    }
   ],
   "source": [
    "data[data['RS_E_InAirTemp_PC1'] > 1000].sort_values('timestamps_UTC').head()"
   ]
  },
  {
   "cell_type": "code",
   "execution_count": 8,
   "id": "f1217bef",
   "metadata": {
    "execution": {
     "iopub.execute_input": "2023-11-19T00:05:42.594475Z",
     "iopub.status.busy": "2023-11-19T00:05:42.593768Z",
     "iopub.status.idle": "2023-11-19T00:05:42.642040Z",
     "shell.execute_reply": "2023-11-19T00:05:42.640866Z"
    },
    "papermill": {
     "duration": 0.076757,
     "end_time": "2023-11-19T00:05:42.644230",
     "exception": false,
     "start_time": "2023-11-19T00:05:42.567473",
     "status": "completed"
    },
    "tags": []
   },
   "outputs": [
    {
     "data": {
      "text/html": [
       "<div>\n",
       "<style scoped>\n",
       "    .dataframe tbody tr th:only-of-type {\n",
       "        vertical-align: middle;\n",
       "    }\n",
       "\n",
       "    .dataframe tbody tr th {\n",
       "        vertical-align: top;\n",
       "    }\n",
       "\n",
       "    .dataframe thead th {\n",
       "        text-align: right;\n",
       "    }\n",
       "</style>\n",
       "<table border=\"1\" class=\"dataframe\">\n",
       "  <thead>\n",
       "    <tr style=\"text-align: right;\">\n",
       "      <th></th>\n",
       "      <th>Unnamed: 0</th>\n",
       "      <th>mapped_veh_id</th>\n",
       "      <th>timestamps_UTC</th>\n",
       "      <th>lat</th>\n",
       "      <th>lon</th>\n",
       "      <th>RS_E_InAirTemp_PC1</th>\n",
       "      <th>RS_E_InAirTemp_PC2</th>\n",
       "      <th>RS_E_OilPress_PC1</th>\n",
       "      <th>RS_E_OilPress_PC2</th>\n",
       "      <th>RS_E_RPM_PC1</th>\n",
       "      <th>RS_E_RPM_PC2</th>\n",
       "      <th>RS_E_WatTemp_PC1</th>\n",
       "      <th>RS_E_WatTemp_PC2</th>\n",
       "      <th>RS_T_OilTemp_PC1</th>\n",
       "      <th>RS_T_OilTemp_PC2</th>\n",
       "    </tr>\n",
       "  </thead>\n",
       "  <tbody>\n",
       "    <tr>\n",
       "      <th>2718274</th>\n",
       "      <td>2718274</td>\n",
       "      <td>125.0</td>\n",
       "      <td>2023-01-24 00:37:18</td>\n",
       "      <td>50.936568</td>\n",
       "      <td>5.306207</td>\n",
       "      <td>45.0</td>\n",
       "      <td>65519.0</td>\n",
       "      <td>3.0</td>\n",
       "      <td>0.0</td>\n",
       "      <td>0.0</td>\n",
       "      <td>663.0</td>\n",
       "      <td>65.0</td>\n",
       "      <td>-17.0</td>\n",
       "      <td>50.0</td>\n",
       "      <td>0.0</td>\n",
       "    </tr>\n",
       "    <tr>\n",
       "      <th>3419052</th>\n",
       "      <td>3419052</td>\n",
       "      <td>156.0</td>\n",
       "      <td>2023-01-25 14:14:41</td>\n",
       "      <td>51.014321</td>\n",
       "      <td>3.779286</td>\n",
       "      <td>2.0</td>\n",
       "      <td>65535.0</td>\n",
       "      <td>593.0</td>\n",
       "      <td>579.0</td>\n",
       "      <td>802.0</td>\n",
       "      <td>797.0</td>\n",
       "      <td>19.0</td>\n",
       "      <td>15.0</td>\n",
       "      <td>16.0</td>\n",
       "      <td>11.0</td>\n",
       "    </tr>\n",
       "    <tr>\n",
       "      <th>13874968</th>\n",
       "      <td>13874968</td>\n",
       "      <td>156.0</td>\n",
       "      <td>2023-01-25 14:14:54</td>\n",
       "      <td>51.014146</td>\n",
       "      <td>3.779875</td>\n",
       "      <td>2.0</td>\n",
       "      <td>65535.0</td>\n",
       "      <td>579.0</td>\n",
       "      <td>593.0</td>\n",
       "      <td>796.0</td>\n",
       "      <td>802.0</td>\n",
       "      <td>20.0</td>\n",
       "      <td>15.0</td>\n",
       "      <td>14.0</td>\n",
       "      <td>11.0</td>\n",
       "    </tr>\n",
       "    <tr>\n",
       "      <th>5670468</th>\n",
       "      <td>5670468</td>\n",
       "      <td>156.0</td>\n",
       "      <td>2023-01-25 14:15:55</td>\n",
       "      <td>51.014145</td>\n",
       "      <td>3.779855</td>\n",
       "      <td>2.0</td>\n",
       "      <td>65535.0</td>\n",
       "      <td>572.0</td>\n",
       "      <td>589.0</td>\n",
       "      <td>797.0</td>\n",
       "      <td>804.0</td>\n",
       "      <td>23.0</td>\n",
       "      <td>17.0</td>\n",
       "      <td>15.0</td>\n",
       "      <td>12.0</td>\n",
       "    </tr>\n",
       "    <tr>\n",
       "      <th>396913</th>\n",
       "      <td>396913</td>\n",
       "      <td>156.0</td>\n",
       "      <td>2023-01-25 15:16:47</td>\n",
       "      <td>51.023516</td>\n",
       "      <td>3.758755</td>\n",
       "      <td>11.0</td>\n",
       "      <td>65535.0</td>\n",
       "      <td>434.0</td>\n",
       "      <td>472.0</td>\n",
       "      <td>879.0</td>\n",
       "      <td>872.0</td>\n",
       "      <td>52.0</td>\n",
       "      <td>48.0</td>\n",
       "      <td>52.0</td>\n",
       "      <td>47.0</td>\n",
       "    </tr>\n",
       "  </tbody>\n",
       "</table>\n",
       "</div>"
      ],
      "text/plain": [
       "          Unnamed: 0  mapped_veh_id       timestamps_UTC        lat       lon  \\\n",
       "2718274      2718274          125.0  2023-01-24 00:37:18  50.936568  5.306207   \n",
       "3419052      3419052          156.0  2023-01-25 14:14:41  51.014321  3.779286   \n",
       "13874968    13874968          156.0  2023-01-25 14:14:54  51.014146  3.779875   \n",
       "5670468      5670468          156.0  2023-01-25 14:15:55  51.014145  3.779855   \n",
       "396913        396913          156.0  2023-01-25 15:16:47  51.023516  3.758755   \n",
       "\n",
       "          RS_E_InAirTemp_PC1  RS_E_InAirTemp_PC2  RS_E_OilPress_PC1  \\\n",
       "2718274                 45.0             65519.0                3.0   \n",
       "3419052                  2.0             65535.0              593.0   \n",
       "13874968                 2.0             65535.0              579.0   \n",
       "5670468                  2.0             65535.0              572.0   \n",
       "396913                  11.0             65535.0              434.0   \n",
       "\n",
       "          RS_E_OilPress_PC2  RS_E_RPM_PC1  RS_E_RPM_PC2  RS_E_WatTemp_PC1  \\\n",
       "2718274                 0.0           0.0         663.0              65.0   \n",
       "3419052               579.0         802.0         797.0              19.0   \n",
       "13874968              593.0         796.0         802.0              20.0   \n",
       "5670468               589.0         797.0         804.0              23.0   \n",
       "396913                472.0         879.0         872.0              52.0   \n",
       "\n",
       "          RS_E_WatTemp_PC2  RS_T_OilTemp_PC1  RS_T_OilTemp_PC2  \n",
       "2718274              -17.0              50.0               0.0  \n",
       "3419052               15.0              16.0              11.0  \n",
       "13874968              15.0              14.0              11.0  \n",
       "5670468               17.0              15.0              12.0  \n",
       "396913                48.0              52.0              47.0  "
      ]
     },
     "execution_count": 8,
     "metadata": {},
     "output_type": "execute_result"
    }
   ],
   "source": [
    "data[data['RS_E_InAirTemp_PC2'] > 1000].sort_values('timestamps_UTC').head()"
   ]
  },
  {
   "cell_type": "markdown",
   "id": "6f8fdf9c",
   "metadata": {
    "papermill": {
     "duration": 0.024902,
     "end_time": "2023-11-19T00:05:42.694967",
     "exception": false,
     "start_time": "2023-11-19T00:05:42.670065",
     "status": "completed"
    },
    "tags": []
   },
   "source": [
    "the very huge temperature is not possible in the real world, and it coincidently to be the value of $2^16$ - 1, which is the maximum value for an unsigned 16-bit integer. And the other normal temperature in the near time is about 1 or 2 which is near to 0, so it is reasonable the temperature below 0 here, so we can solve this problem by make those data right "
   ]
  },
  {
   "cell_type": "code",
   "execution_count": 9,
   "id": "4d215df9",
   "metadata": {
    "execution": {
     "iopub.execute_input": "2023-11-19T00:05:42.748088Z",
     "iopub.status.busy": "2023-11-19T00:05:42.747646Z",
     "iopub.status.idle": "2023-11-19T00:05:42.840438Z",
     "shell.execute_reply": "2023-11-19T00:05:42.839002Z"
    },
    "papermill": {
     "duration": 0.122975,
     "end_time": "2023-11-19T00:05:42.843117",
     "exception": false,
     "start_time": "2023-11-19T00:05:42.720142",
     "status": "completed"
    },
    "tags": []
   },
   "outputs": [
    {
     "name": "stdout",
     "output_type": "stream",
     "text": [
      "Minus 65536 to those abnormal data to make it right\n"
     ]
    }
   ],
   "source": [
    "# Minus 65536 to those abnormal data to make it right\n",
    "data.loc[data['RS_E_InAirTemp_PC1'] > 65000, 'RS_E_InAirTemp_PC1'] -= 65536\n",
    "data.loc[data['RS_E_InAirTemp_PC2'] > 65000, 'RS_E_InAirTemp_PC2'] -= 65536\n",
    "\n",
    "print(\"Minus 65536 to those abnormal data to make it right\")"
   ]
  },
  {
   "cell_type": "code",
   "execution_count": 10,
   "id": "c0fdc1e4",
   "metadata": {
    "execution": {
     "iopub.execute_input": "2023-11-19T00:05:42.896194Z",
     "iopub.status.busy": "2023-11-19T00:05:42.895292Z",
     "iopub.status.idle": "2023-11-19T00:05:43.120511Z",
     "shell.execute_reply": "2023-11-19T00:05:43.119168Z"
    },
    "papermill": {
     "duration": 0.254791,
     "end_time": "2023-11-19T00:05:43.123323",
     "exception": false,
     "start_time": "2023-11-19T00:05:42.868532",
     "status": "completed"
    },
    "tags": []
   },
   "outputs": [
    {
     "data": {
      "text/plain": [
       "(32771.5, 32775.0)"
      ]
     },
     "execution_count": 10,
     "metadata": {},
     "output_type": "execute_result"
    }
   ],
   "source": [
    "# From the provided screenshot, it seems the user attempted to subtract 65536 from the outlier values directly in the condition statement.\n",
    "# The correction should be applied to the dataframe itself. Let's apply the correction properly.\n",
    "\n",
    "# Correcting the abnormal values by subtracting 65536 directly in the dataframe\n",
    "data.loc[data['RS_E_InAirTemp_PC1'] > 65000, 'RS_E_InAirTemp_PC1'] -= 65536\n",
    "data.loc[data['RS_E_InAirTemp_PC2'] > 65000, 'RS_E_InAirTemp_PC2'] -= 65536\n",
    "\n",
    "# Let's check if the data has been updated by looking at the maximum values now\n",
    "max_value_pc1_updated = data['RS_E_InAirTemp_PC1'].max()\n",
    "max_value_pc2_updated = data['RS_E_InAirTemp_PC2'].max()\n",
    "\n",
    "max_value_pc1_updated, max_value_pc2_updated"
   ]
  },
  {
   "cell_type": "markdown",
   "id": "42b69e64",
   "metadata": {
    "papermill": {
     "duration": 0.025767,
     "end_time": "2023-11-19T00:05:43.174829",
     "exception": false,
     "start_time": "2023-11-19T00:05:43.149062",
     "status": "completed"
    },
    "tags": []
   },
   "source": [
    "but there are still some temperature larger than 30000 degree, let's figure out the reason behind this:"
   ]
  },
  {
   "cell_type": "code",
   "execution_count": 11,
   "id": "bd97e099",
   "metadata": {
    "execution": {
     "iopub.execute_input": "2023-11-19T00:05:43.228188Z",
     "iopub.status.busy": "2023-11-19T00:05:43.227498Z",
     "iopub.status.idle": "2023-11-19T00:05:43.276560Z",
     "shell.execute_reply": "2023-11-19T00:05:43.275439Z"
    },
    "papermill": {
     "duration": 0.078733,
     "end_time": "2023-11-19T00:05:43.278995",
     "exception": false,
     "start_time": "2023-11-19T00:05:43.200262",
     "status": "completed"
    },
    "tags": []
   },
   "outputs": [
    {
     "data": {
      "text/html": [
       "<div>\n",
       "<style scoped>\n",
       "    .dataframe tbody tr th:only-of-type {\n",
       "        vertical-align: middle;\n",
       "    }\n",
       "\n",
       "    .dataframe tbody tr th {\n",
       "        vertical-align: top;\n",
       "    }\n",
       "\n",
       "    .dataframe thead th {\n",
       "        text-align: right;\n",
       "    }\n",
       "</style>\n",
       "<table border=\"1\" class=\"dataframe\">\n",
       "  <thead>\n",
       "    <tr style=\"text-align: right;\">\n",
       "      <th></th>\n",
       "      <th>Unnamed: 0</th>\n",
       "      <th>mapped_veh_id</th>\n",
       "      <th>timestamps_UTC</th>\n",
       "      <th>lat</th>\n",
       "      <th>lon</th>\n",
       "      <th>RS_E_InAirTemp_PC1</th>\n",
       "      <th>RS_E_InAirTemp_PC2</th>\n",
       "      <th>RS_E_OilPress_PC1</th>\n",
       "      <th>RS_E_OilPress_PC2</th>\n",
       "      <th>RS_E_RPM_PC1</th>\n",
       "      <th>RS_E_RPM_PC2</th>\n",
       "      <th>RS_E_WatTemp_PC1</th>\n",
       "      <th>RS_E_WatTemp_PC2</th>\n",
       "      <th>RS_T_OilTemp_PC1</th>\n",
       "      <th>RS_T_OilTemp_PC2</th>\n",
       "    </tr>\n",
       "  </thead>\n",
       "  <tbody>\n",
       "    <tr>\n",
       "      <th>1227635</th>\n",
       "      <td>1227635</td>\n",
       "      <td>196.0</td>\n",
       "      <td>2023-02-28 03:29:56</td>\n",
       "      <td>50.093810</td>\n",
       "      <td>4.528874</td>\n",
       "      <td>32767.5</td>\n",
       "      <td>7.0</td>\n",
       "      <td>453.0</td>\n",
       "      <td>299.5</td>\n",
       "      <td>799.0</td>\n",
       "      <td>797.5</td>\n",
       "      <td>36.0</td>\n",
       "      <td>61.0</td>\n",
       "      <td>35.5</td>\n",
       "      <td>60.5</td>\n",
       "    </tr>\n",
       "    <tr>\n",
       "      <th>2808943</th>\n",
       "      <td>2808943</td>\n",
       "      <td>162.0</td>\n",
       "      <td>2023-03-19 10:12:18</td>\n",
       "      <td>51.013141</td>\n",
       "      <td>3.781080</td>\n",
       "      <td>32759.5</td>\n",
       "      <td>23.0</td>\n",
       "      <td>0.0</td>\n",
       "      <td>3.0</td>\n",
       "      <td>0.0</td>\n",
       "      <td>0.0</td>\n",
       "      <td>29.0</td>\n",
       "      <td>22.0</td>\n",
       "      <td>58.0</td>\n",
       "      <td>20.5</td>\n",
       "    </tr>\n",
       "    <tr>\n",
       "      <th>4468288</th>\n",
       "      <td>4468288</td>\n",
       "      <td>151.0</td>\n",
       "      <td>2023-06-15 13:34:23</td>\n",
       "      <td>51.013158</td>\n",
       "      <td>3.780460</td>\n",
       "      <td>32759.5</td>\n",
       "      <td>28.5</td>\n",
       "      <td>0.0</td>\n",
       "      <td>3.0</td>\n",
       "      <td>0.0</td>\n",
       "      <td>0.0</td>\n",
       "      <td>-8.5</td>\n",
       "      <td>27.0</td>\n",
       "      <td>16.5</td>\n",
       "      <td>27.5</td>\n",
       "    </tr>\n",
       "    <tr>\n",
       "      <th>7074843</th>\n",
       "      <td>7074843</td>\n",
       "      <td>106.0</td>\n",
       "      <td>2023-03-01 03:10:02</td>\n",
       "      <td>50.094359</td>\n",
       "      <td>4.527792</td>\n",
       "      <td>32767.5</td>\n",
       "      <td>0.0</td>\n",
       "      <td>349.5</td>\n",
       "      <td>313.5</td>\n",
       "      <td>800.0</td>\n",
       "      <td>799.0</td>\n",
       "      <td>48.0</td>\n",
       "      <td>64.0</td>\n",
       "      <td>51.0</td>\n",
       "      <td>61.5</td>\n",
       "    </tr>\n",
       "    <tr>\n",
       "      <th>12233016</th>\n",
       "      <td>12233016</td>\n",
       "      <td>151.0</td>\n",
       "      <td>2023-06-16 13:19:44</td>\n",
       "      <td>51.013180</td>\n",
       "      <td>3.781200</td>\n",
       "      <td>32760.5</td>\n",
       "      <td>25.0</td>\n",
       "      <td>6.5</td>\n",
       "      <td>3.0</td>\n",
       "      <td>385.0</td>\n",
       "      <td>0.0</td>\n",
       "      <td>24.5</td>\n",
       "      <td>23.0</td>\n",
       "      <td>40.0</td>\n",
       "      <td>24.0</td>\n",
       "    </tr>\n",
       "    <tr>\n",
       "      <th>12725746</th>\n",
       "      <td>12725746</td>\n",
       "      <td>133.0</td>\n",
       "      <td>2023-01-29 09:12:21</td>\n",
       "      <td>50.401060</td>\n",
       "      <td>4.456639</td>\n",
       "      <td>32765.5</td>\n",
       "      <td>32767.0</td>\n",
       "      <td>6.5</td>\n",
       "      <td>320.5</td>\n",
       "      <td>0.0</td>\n",
       "      <td>399.5</td>\n",
       "      <td>0.0</td>\n",
       "      <td>0.0</td>\n",
       "      <td>0.0</td>\n",
       "      <td>0.0</td>\n",
       "    </tr>\n",
       "    <tr>\n",
       "      <th>15707416</th>\n",
       "      <td>15707416</td>\n",
       "      <td>151.0</td>\n",
       "      <td>2023-06-16 11:02:14</td>\n",
       "      <td>51.012935</td>\n",
       "      <td>3.780610</td>\n",
       "      <td>32771.5</td>\n",
       "      <td>25.0</td>\n",
       "      <td>284.5</td>\n",
       "      <td>3.0</td>\n",
       "      <td>898.5</td>\n",
       "      <td>0.0</td>\n",
       "      <td>25.0</td>\n",
       "      <td>23.0</td>\n",
       "      <td>10.0</td>\n",
       "      <td>24.0</td>\n",
       "    </tr>\n",
       "  </tbody>\n",
       "</table>\n",
       "</div>"
      ],
      "text/plain": [
       "          Unnamed: 0  mapped_veh_id       timestamps_UTC        lat       lon  \\\n",
       "1227635      1227635          196.0  2023-02-28 03:29:56  50.093810  4.528874   \n",
       "2808943      2808943          162.0  2023-03-19 10:12:18  51.013141  3.781080   \n",
       "4468288      4468288          151.0  2023-06-15 13:34:23  51.013158  3.780460   \n",
       "7074843      7074843          106.0  2023-03-01 03:10:02  50.094359  4.527792   \n",
       "12233016    12233016          151.0  2023-06-16 13:19:44  51.013180  3.781200   \n",
       "12725746    12725746          133.0  2023-01-29 09:12:21  50.401060  4.456639   \n",
       "15707416    15707416          151.0  2023-06-16 11:02:14  51.012935  3.780610   \n",
       "\n",
       "          RS_E_InAirTemp_PC1  RS_E_InAirTemp_PC2  RS_E_OilPress_PC1  \\\n",
       "1227635              32767.5                 7.0              453.0   \n",
       "2808943              32759.5                23.0                0.0   \n",
       "4468288              32759.5                28.5                0.0   \n",
       "7074843              32767.5                 0.0              349.5   \n",
       "12233016             32760.5                25.0                6.5   \n",
       "12725746             32765.5             32767.0                6.5   \n",
       "15707416             32771.5                25.0              284.5   \n",
       "\n",
       "          RS_E_OilPress_PC2  RS_E_RPM_PC1  RS_E_RPM_PC2  RS_E_WatTemp_PC1  \\\n",
       "1227635               299.5         799.0         797.5              36.0   \n",
       "2808943                 3.0           0.0           0.0              29.0   \n",
       "4468288                 3.0           0.0           0.0              -8.5   \n",
       "7074843               313.5         800.0         799.0              48.0   \n",
       "12233016                3.0         385.0           0.0              24.5   \n",
       "12725746              320.5           0.0         399.5               0.0   \n",
       "15707416                3.0         898.5           0.0              25.0   \n",
       "\n",
       "          RS_E_WatTemp_PC2  RS_T_OilTemp_PC1  RS_T_OilTemp_PC2  \n",
       "1227635               61.0              35.5              60.5  \n",
       "2808943               22.0              58.0              20.5  \n",
       "4468288               27.0              16.5              27.5  \n",
       "7074843               64.0              51.0              61.5  \n",
       "12233016              23.0              40.0              24.0  \n",
       "12725746               0.0               0.0               0.0  \n",
       "15707416              23.0              10.0              24.0  "
      ]
     },
     "execution_count": 11,
     "metadata": {},
     "output_type": "execute_result"
    }
   ],
   "source": [
    "data.loc[data['RS_E_InAirTemp_PC1'] > 30000]"
   ]
  },
  {
   "cell_type": "code",
   "execution_count": 12,
   "id": "9120ab8c",
   "metadata": {
    "execution": {
     "iopub.execute_input": "2023-11-19T00:05:43.333780Z",
     "iopub.status.busy": "2023-11-19T00:05:43.333331Z",
     "iopub.status.idle": "2023-11-19T00:05:43.383251Z",
     "shell.execute_reply": "2023-11-19T00:05:43.382157Z"
    },
    "papermill": {
     "duration": 0.079673,
     "end_time": "2023-11-19T00:05:43.385862",
     "exception": false,
     "start_time": "2023-11-19T00:05:43.306189",
     "status": "completed"
    },
    "tags": []
   },
   "outputs": [
    {
     "data": {
      "text/html": [
       "<div>\n",
       "<style scoped>\n",
       "    .dataframe tbody tr th:only-of-type {\n",
       "        vertical-align: middle;\n",
       "    }\n",
       "\n",
       "    .dataframe tbody tr th {\n",
       "        vertical-align: top;\n",
       "    }\n",
       "\n",
       "    .dataframe thead th {\n",
       "        text-align: right;\n",
       "    }\n",
       "</style>\n",
       "<table border=\"1\" class=\"dataframe\">\n",
       "  <thead>\n",
       "    <tr style=\"text-align: right;\">\n",
       "      <th></th>\n",
       "      <th>Unnamed: 0</th>\n",
       "      <th>mapped_veh_id</th>\n",
       "      <th>timestamps_UTC</th>\n",
       "      <th>lat</th>\n",
       "      <th>lon</th>\n",
       "      <th>RS_E_InAirTemp_PC1</th>\n",
       "      <th>RS_E_InAirTemp_PC2</th>\n",
       "      <th>RS_E_OilPress_PC1</th>\n",
       "      <th>RS_E_OilPress_PC2</th>\n",
       "      <th>RS_E_RPM_PC1</th>\n",
       "      <th>RS_E_RPM_PC2</th>\n",
       "      <th>RS_E_WatTemp_PC1</th>\n",
       "      <th>RS_E_WatTemp_PC2</th>\n",
       "      <th>RS_T_OilTemp_PC1</th>\n",
       "      <th>RS_T_OilTemp_PC2</th>\n",
       "    </tr>\n",
       "  </thead>\n",
       "  <tbody>\n",
       "    <tr>\n",
       "      <th>2236133</th>\n",
       "      <td>2236133</td>\n",
       "      <td>161.0</td>\n",
       "      <td>2023-05-16 23:15:27</td>\n",
       "      <td>51.013925</td>\n",
       "      <td>3.780516</td>\n",
       "      <td>47.0</td>\n",
       "      <td>32759.5</td>\n",
       "      <td>138.0</td>\n",
       "      <td>3.0</td>\n",
       "      <td>0.0</td>\n",
       "      <td>0.0</td>\n",
       "      <td>76.0</td>\n",
       "      <td>30.0</td>\n",
       "      <td>73.5</td>\n",
       "      <td>65.5</td>\n",
       "    </tr>\n",
       "    <tr>\n",
       "      <th>8810344</th>\n",
       "      <td>8810344</td>\n",
       "      <td>183.0</td>\n",
       "      <td>2023-03-15 21:51:57</td>\n",
       "      <td>51.013422</td>\n",
       "      <td>3.780588</td>\n",
       "      <td>42.0</td>\n",
       "      <td>32760.5</td>\n",
       "      <td>6.0</td>\n",
       "      <td>6.5</td>\n",
       "      <td>0.0</td>\n",
       "      <td>401.0</td>\n",
       "      <td>38.0</td>\n",
       "      <td>0.0</td>\n",
       "      <td>38.0</td>\n",
       "      <td>45.0</td>\n",
       "    </tr>\n",
       "    <tr>\n",
       "      <th>12725746</th>\n",
       "      <td>12725746</td>\n",
       "      <td>133.0</td>\n",
       "      <td>2023-01-29 09:12:21</td>\n",
       "      <td>50.401060</td>\n",
       "      <td>4.456639</td>\n",
       "      <td>32765.5</td>\n",
       "      <td>32767.0</td>\n",
       "      <td>6.5</td>\n",
       "      <td>320.5</td>\n",
       "      <td>0.0</td>\n",
       "      <td>399.5</td>\n",
       "      <td>0.0</td>\n",
       "      <td>0.0</td>\n",
       "      <td>0.0</td>\n",
       "      <td>0.0</td>\n",
       "    </tr>\n",
       "    <tr>\n",
       "      <th>13712665</th>\n",
       "      <td>13712665</td>\n",
       "      <td>183.0</td>\n",
       "      <td>2023-03-15 21:55:28</td>\n",
       "      <td>51.013201</td>\n",
       "      <td>3.780720</td>\n",
       "      <td>41.0</td>\n",
       "      <td>32759.5</td>\n",
       "      <td>6.0</td>\n",
       "      <td>0.0</td>\n",
       "      <td>0.0</td>\n",
       "      <td>0.0</td>\n",
       "      <td>38.0</td>\n",
       "      <td>-8.5</td>\n",
       "      <td>37.0</td>\n",
       "      <td>24.0</td>\n",
       "    </tr>\n",
       "    <tr>\n",
       "      <th>14439216</th>\n",
       "      <td>14439216</td>\n",
       "      <td>164.0</td>\n",
       "      <td>2023-08-04 22:14:53</td>\n",
       "      <td>51.188264</td>\n",
       "      <td>5.101418</td>\n",
       "      <td>28.0</td>\n",
       "      <td>32775.0</td>\n",
       "      <td>399.5</td>\n",
       "      <td>344.5</td>\n",
       "      <td>1456.5</td>\n",
       "      <td>446.5</td>\n",
       "      <td>82.0</td>\n",
       "      <td>40.0</td>\n",
       "      <td>82.0</td>\n",
       "      <td>84.0</td>\n",
       "    </tr>\n",
       "    <tr>\n",
       "      <th>14657237</th>\n",
       "      <td>14657237</td>\n",
       "      <td>130.0</td>\n",
       "      <td>2023-02-08 03:46:11</td>\n",
       "      <td>51.191021</td>\n",
       "      <td>5.114999</td>\n",
       "      <td>0.0</td>\n",
       "      <td>32767.0</td>\n",
       "      <td>373.5</td>\n",
       "      <td>410.0</td>\n",
       "      <td>852.5</td>\n",
       "      <td>898.5</td>\n",
       "      <td>53.0</td>\n",
       "      <td>53.0</td>\n",
       "      <td>51.5</td>\n",
       "      <td>48.5</td>\n",
       "    </tr>\n",
       "    <tr>\n",
       "      <th>14964385</th>\n",
       "      <td>14964385</td>\n",
       "      <td>167.0</td>\n",
       "      <td>2023-02-08 08:25:51</td>\n",
       "      <td>51.013902</td>\n",
       "      <td>3.780504</td>\n",
       "      <td>-1.0</td>\n",
       "      <td>32767.0</td>\n",
       "      <td>622.5</td>\n",
       "      <td>291.5</td>\n",
       "      <td>792.0</td>\n",
       "      <td>400.0</td>\n",
       "      <td>5.0</td>\n",
       "      <td>1.0</td>\n",
       "      <td>3.5</td>\n",
       "      <td>2.0</td>\n",
       "    </tr>\n",
       "    <tr>\n",
       "      <th>17408118</th>\n",
       "      <td>17408118</td>\n",
       "      <td>156.0</td>\n",
       "      <td>2023-01-25 15:16:48</td>\n",
       "      <td>51.023798</td>\n",
       "      <td>3.758218</td>\n",
       "      <td>12.0</td>\n",
       "      <td>32768.0</td>\n",
       "      <td>494.5</td>\n",
       "      <td>527.5</td>\n",
       "      <td>1270.0</td>\n",
       "      <td>1244.5</td>\n",
       "      <td>52.0</td>\n",
       "      <td>48.0</td>\n",
       "      <td>51.0</td>\n",
       "      <td>46.0</td>\n",
       "    </tr>\n",
       "  </tbody>\n",
       "</table>\n",
       "</div>"
      ],
      "text/plain": [
       "          Unnamed: 0  mapped_veh_id       timestamps_UTC        lat       lon  \\\n",
       "2236133      2236133          161.0  2023-05-16 23:15:27  51.013925  3.780516   \n",
       "8810344      8810344          183.0  2023-03-15 21:51:57  51.013422  3.780588   \n",
       "12725746    12725746          133.0  2023-01-29 09:12:21  50.401060  4.456639   \n",
       "13712665    13712665          183.0  2023-03-15 21:55:28  51.013201  3.780720   \n",
       "14439216    14439216          164.0  2023-08-04 22:14:53  51.188264  5.101418   \n",
       "14657237    14657237          130.0  2023-02-08 03:46:11  51.191021  5.114999   \n",
       "14964385    14964385          167.0  2023-02-08 08:25:51  51.013902  3.780504   \n",
       "17408118    17408118          156.0  2023-01-25 15:16:48  51.023798  3.758218   \n",
       "\n",
       "          RS_E_InAirTemp_PC1  RS_E_InAirTemp_PC2  RS_E_OilPress_PC1  \\\n",
       "2236133                 47.0             32759.5              138.0   \n",
       "8810344                 42.0             32760.5                6.0   \n",
       "12725746             32765.5             32767.0                6.5   \n",
       "13712665                41.0             32759.5                6.0   \n",
       "14439216                28.0             32775.0              399.5   \n",
       "14657237                 0.0             32767.0              373.5   \n",
       "14964385                -1.0             32767.0              622.5   \n",
       "17408118                12.0             32768.0              494.5   \n",
       "\n",
       "          RS_E_OilPress_PC2  RS_E_RPM_PC1  RS_E_RPM_PC2  RS_E_WatTemp_PC1  \\\n",
       "2236133                 3.0           0.0           0.0              76.0   \n",
       "8810344                 6.5           0.0         401.0              38.0   \n",
       "12725746              320.5           0.0         399.5               0.0   \n",
       "13712665                0.0           0.0           0.0              38.0   \n",
       "14439216              344.5        1456.5         446.5              82.0   \n",
       "14657237              410.0         852.5         898.5              53.0   \n",
       "14964385              291.5         792.0         400.0               5.0   \n",
       "17408118              527.5        1270.0        1244.5              52.0   \n",
       "\n",
       "          RS_E_WatTemp_PC2  RS_T_OilTemp_PC1  RS_T_OilTemp_PC2  \n",
       "2236133               30.0              73.5              65.5  \n",
       "8810344                0.0              38.0              45.0  \n",
       "12725746               0.0               0.0               0.0  \n",
       "13712665              -8.5              37.0              24.0  \n",
       "14439216              40.0              82.0              84.0  \n",
       "14657237              53.0              51.5              48.5  \n",
       "14964385               1.0               3.5               2.0  \n",
       "17408118              48.0              51.0              46.0  "
      ]
     },
     "execution_count": 12,
     "metadata": {},
     "output_type": "execute_result"
    }
   ],
   "source": [
    "data.loc[data['RS_E_InAirTemp_PC2'] > 30000]"
   ]
  },
  {
   "cell_type": "markdown",
   "id": "6e34ed42",
   "metadata": {
    "papermill": {
     "duration": 0.025721,
     "end_time": "2023-11-19T00:05:43.438575",
     "exception": false,
     "start_time": "2023-11-19T00:05:43.412854",
     "status": "completed"
    },
    "tags": []
   },
   "source": [
    "it is interesting that the temperature is around 32765, and we find out that 65536 / 2 is 32768, so it is still becuase the minus temperature rolled over, and the reason it is around 32765 some times with a decimal 0.5, it is because it was 16 unsigned bits, but in order to save the decimal numbers, it becomes to $11111111$.$10000000$,8 bits for integers and 8 bits for decimals"
   ]
  },
  {
   "cell_type": "markdown",
   "id": "d95fa422",
   "metadata": {
    "papermill": {
     "duration": 0.026317,
     "end_time": "2023-11-19T00:05:43.491571",
     "exception": false,
     "start_time": "2023-11-19T00:05:43.465254",
     "status": "completed"
    },
    "tags": []
   },
   "source": [
    "so the solution for this should be: minus 0.5 of those data, multiple it with 2, minus 65536, and add 0.5 back"
   ]
  },
  {
   "cell_type": "markdown",
   "id": "6d3f4486",
   "metadata": {
    "papermill": {
     "duration": 0.02684,
     "end_time": "2023-11-19T00:05:43.544969",
     "exception": false,
     "start_time": "2023-11-19T00:05:43.518129",
     "status": "completed"
    },
    "tags": []
   },
   "source": [
    "but data 32775.0 is an error here because the result of it is $(32775.0 - 0.5）* 2 - 65536 = 13$, so let's remove this line"
   ]
  },
  {
   "cell_type": "code",
   "execution_count": 13,
   "id": "c34972c2",
   "metadata": {
    "execution": {
     "iopub.execute_input": "2023-11-19T00:05:43.599578Z",
     "iopub.status.busy": "2023-11-19T00:05:43.599195Z",
     "iopub.status.idle": "2023-11-19T00:05:45.156908Z",
     "shell.execute_reply": "2023-11-19T00:05:45.155901Z"
    },
    "papermill": {
     "duration": 1.587965,
     "end_time": "2023-11-19T00:05:45.159324",
     "exception": false,
     "start_time": "2023-11-19T00:05:43.571359",
     "status": "completed"
    },
    "tags": []
   },
   "outputs": [
    {
     "data": {
      "text/plain": [
       "(122.0, 21839.666666666668)"
      ]
     },
     "execution_count": 13,
     "metadata": {},
     "output_type": "execute_result"
    }
   ],
   "source": [
    "# Remove the row with the specific erroneous value mentioned in the analysis\n",
    "data = data[data['RS_E_InAirTemp_PC1'] != 32775.0]\n",
    "\n",
    "# Apply the correction to RS_E_InAirTemp_PC1\n",
    "data.loc[data['RS_E_InAirTemp_PC1'] > 32700, 'RS_E_InAirTemp_PC1'] = (data['RS_E_InAirTemp_PC1'] - 0.5) * 2 - 65536 + 0.5\n",
    "\n",
    "# Apply the correction to RS_E_InAirTemp_PC2\n",
    "data.loc[data['RS_E_InAirTemp_PC2'] > 32700, 'RS_E_InAirTemp_PC2'] = (data['RS_E_InAirTemp_PC2'] - 0.5) * 2 - 65536 + 0.5\n",
    "\n",
    "\n",
    "# Let's check if the data has been updated by looking at the maximum values now\n",
    "max_value_pc1_updated = data['RS_E_InAirTemp_PC1'].max()\n",
    "max_value_pc2_updated = data['RS_E_InAirTemp_PC2'].max()\n",
    "\n",
    "max_value_pc1_updated, max_value_pc2_updated"
   ]
  },
  {
   "cell_type": "markdown",
   "id": "83f2ec24",
   "metadata": {
    "papermill": {
     "duration": 0.026339,
     "end_time": "2023-11-19T00:05:45.212465",
     "exception": false,
     "start_time": "2023-11-19T00:05:45.186126",
     "status": "completed"
    },
    "tags": []
   },
   "source": [
    "and now we get a new outlier 21839.666666666668, let's figure out the reason:"
   ]
  },
  {
   "cell_type": "code",
   "execution_count": 14,
   "id": "82d8a62e",
   "metadata": {
    "execution": {
     "iopub.execute_input": "2023-11-19T00:05:45.270455Z",
     "iopub.status.busy": "2023-11-19T00:05:45.270071Z",
     "iopub.status.idle": "2023-11-19T00:05:45.310376Z",
     "shell.execute_reply": "2023-11-19T00:05:45.309060Z"
    },
    "papermill": {
     "duration": 0.073714,
     "end_time": "2023-11-19T00:05:45.313009",
     "exception": false,
     "start_time": "2023-11-19T00:05:45.239295",
     "status": "completed"
    },
    "tags": []
   },
   "outputs": [
    {
     "data": {
      "text/html": [
       "<div>\n",
       "<style scoped>\n",
       "    .dataframe tbody tr th:only-of-type {\n",
       "        vertical-align: middle;\n",
       "    }\n",
       "\n",
       "    .dataframe tbody tr th {\n",
       "        vertical-align: top;\n",
       "    }\n",
       "\n",
       "    .dataframe thead th {\n",
       "        text-align: right;\n",
       "    }\n",
       "</style>\n",
       "<table border=\"1\" class=\"dataframe\">\n",
       "  <thead>\n",
       "    <tr style=\"text-align: right;\">\n",
       "      <th></th>\n",
       "      <th>Unnamed: 0</th>\n",
       "      <th>mapped_veh_id</th>\n",
       "      <th>timestamps_UTC</th>\n",
       "      <th>lat</th>\n",
       "      <th>lon</th>\n",
       "      <th>RS_E_InAirTemp_PC1</th>\n",
       "      <th>RS_E_InAirTemp_PC2</th>\n",
       "      <th>RS_E_OilPress_PC1</th>\n",
       "      <th>RS_E_OilPress_PC2</th>\n",
       "      <th>RS_E_RPM_PC1</th>\n",
       "      <th>RS_E_RPM_PC2</th>\n",
       "      <th>RS_E_WatTemp_PC1</th>\n",
       "      <th>RS_E_WatTemp_PC2</th>\n",
       "      <th>RS_T_OilTemp_PC1</th>\n",
       "      <th>RS_T_OilTemp_PC2</th>\n",
       "    </tr>\n",
       "  </thead>\n",
       "  <tbody>\n",
       "    <tr>\n",
       "      <th>15582979</th>\n",
       "      <td>15582979</td>\n",
       "      <td>164.0</td>\n",
       "      <td>2023-08-05 06:28:14</td>\n",
       "      <td>51.038786</td>\n",
       "      <td>5.275683</td>\n",
       "      <td>37.666667</td>\n",
       "      <td>21839.666667</td>\n",
       "      <td>386.666667</td>\n",
       "      <td>0.0</td>\n",
       "      <td>1708.333333</td>\n",
       "      <td>1158.666667</td>\n",
       "      <td>83.333333</td>\n",
       "      <td>27.333333</td>\n",
       "      <td>85.333333</td>\n",
       "      <td>86.666667</td>\n",
       "    </tr>\n",
       "  </tbody>\n",
       "</table>\n",
       "</div>"
      ],
      "text/plain": [
       "          Unnamed: 0  mapped_veh_id       timestamps_UTC        lat       lon  \\\n",
       "15582979    15582979          164.0  2023-08-05 06:28:14  51.038786  5.275683   \n",
       "\n",
       "          RS_E_InAirTemp_PC1  RS_E_InAirTemp_PC2  RS_E_OilPress_PC1  \\\n",
       "15582979           37.666667        21839.666667         386.666667   \n",
       "\n",
       "          RS_E_OilPress_PC2  RS_E_RPM_PC1  RS_E_RPM_PC2  RS_E_WatTemp_PC1  \\\n",
       "15582979                0.0   1708.333333   1158.666667         83.333333   \n",
       "\n",
       "          RS_E_WatTemp_PC2  RS_T_OilTemp_PC1  RS_T_OilTemp_PC2  \n",
       "15582979         27.333333         85.333333         86.666667  "
      ]
     },
     "execution_count": 14,
     "metadata": {},
     "output_type": "execute_result"
    }
   ],
   "source": [
    "data.loc[data['RS_E_InAirTemp_PC2'] > 20000]"
   ]
  },
  {
   "cell_type": "markdown",
   "id": "cb06fc58",
   "metadata": {
    "papermill": {
     "duration": 0.026643,
     "end_time": "2023-11-19T00:05:45.367066",
     "exception": false,
     "start_time": "2023-11-19T00:05:45.340423",
     "status": "completed"
    },
    "tags": []
   },
   "source": [
    "it is weired, $21839 * 3 - 65536 = -19$, we can not assure it is conincidence or by some reason, but it is totally safe to remove this outlier, so let's remove it"
   ]
  },
  {
   "cell_type": "code",
   "execution_count": 15,
   "id": "5e49bc29",
   "metadata": {
    "execution": {
     "iopub.execute_input": "2023-11-19T00:05:45.422932Z",
     "iopub.status.busy": "2023-11-19T00:05:45.422001Z",
     "iopub.status.idle": "2023-11-19T00:05:47.047302Z",
     "shell.execute_reply": "2023-11-19T00:05:47.046067Z"
    },
    "papermill": {
     "duration": 1.656114,
     "end_time": "2023-11-19T00:05:47.050095",
     "exception": false,
     "start_time": "2023-11-19T00:05:45.393981",
     "status": "completed"
    },
    "tags": []
   },
   "outputs": [],
   "source": [
    "# Remove the row with the specific erroneous value mentioned in the analysis\n",
    "data = data[data['RS_E_InAirTemp_PC2'] < 21838]"
   ]
  },
  {
   "cell_type": "code",
   "execution_count": 16,
   "id": "669cfa1e",
   "metadata": {
    "execution": {
     "iopub.execute_input": "2023-11-19T00:05:47.107348Z",
     "iopub.status.busy": "2023-11-19T00:05:47.106149Z",
     "iopub.status.idle": "2023-11-19T00:05:48.289296Z",
     "shell.execute_reply": "2023-11-19T00:05:48.287889Z"
    },
    "papermill": {
     "duration": 1.214475,
     "end_time": "2023-11-19T00:05:48.292398",
     "exception": false,
     "start_time": "2023-11-19T00:05:47.077923",
     "status": "completed"
    },
    "tags": []
   },
   "outputs": [
    {
     "data": {
      "image/png": "[encoded data removed]",
      "text/plain": [
       "<Figure size 1200x600 with 1 Axes>"
      ]
     },
     "metadata": {},
     "output_type": "display_data"
    }
   ],
   "source": [
    "# Plotting the distribution of RS_E_InAirTemp_PC1\n",
    "plt.figure(figsize=(12, 6))\n",
    "plt.hist(data['RS_E_InAirTemp_PC1'], bins=50, alpha=0.5, label='RS_E_InAirTemp_PC1')\n",
    "\n",
    "# Plotting the distribution of RS_E_InAirTemp_PC2\n",
    "plt.hist(data['RS_E_InAirTemp_PC2'], bins=50, alpha=0.5, label='RS_E_InAirTemp_PC2')\n",
    "\n",
    "plt.title('Distribution of RS_E_InAirTemp_PC1 and RS_E_InAirTemp_PC2')\n",
    "plt.xlabel('Temperature')\n",
    "plt.ylabel('Frequency')\n",
    "plt.legend()\n",
    "plt.show()"
   ]
  },
  {
   "cell_type": "markdown",
   "id": "f7b47e5e",
   "metadata": {
    "papermill": {
     "duration": 0.02743,
     "end_time": "2023-11-19T00:05:48.349509",
     "exception": false,
     "start_time": "2023-11-19T00:05:48.322079",
     "status": "completed"
    },
    "tags": []
   },
   "source": [
    "the graph seems more reasonable now, but let's check more detailed where is the data larger than 100"
   ]
  },
  {
   "cell_type": "code",
   "execution_count": 17,
   "id": "ef5ccf14",
   "metadata": {
    "execution": {
     "iopub.execute_input": "2023-11-19T00:05:48.407164Z",
     "iopub.status.busy": "2023-11-19T00:05:48.406763Z",
     "iopub.status.idle": "2023-11-19T00:05:48.463996Z",
     "shell.execute_reply": "2023-11-19T00:05:48.462825Z"
    },
    "papermill": {
     "duration": 0.089648,
     "end_time": "2023-11-19T00:05:48.466848",
     "exception": false,
     "start_time": "2023-11-19T00:05:48.377200",
     "status": "completed"
    },
    "tags": []
   },
   "outputs": [
    {
     "data": {
      "text/html": [
       "<div>\n",
       "<style scoped>\n",
       "    .dataframe tbody tr th:only-of-type {\n",
       "        vertical-align: middle;\n",
       "    }\n",
       "\n",
       "    .dataframe tbody tr th {\n",
       "        vertical-align: top;\n",
       "    }\n",
       "\n",
       "    .dataframe thead th {\n",
       "        text-align: right;\n",
       "    }\n",
       "</style>\n",
       "<table border=\"1\" class=\"dataframe\">\n",
       "  <thead>\n",
       "    <tr style=\"text-align: right;\">\n",
       "      <th></th>\n",
       "      <th>Unnamed: 0</th>\n",
       "      <th>mapped_veh_id</th>\n",
       "      <th>timestamps_UTC</th>\n",
       "      <th>lat</th>\n",
       "      <th>lon</th>\n",
       "      <th>RS_E_InAirTemp_PC1</th>\n",
       "      <th>RS_E_InAirTemp_PC2</th>\n",
       "      <th>RS_E_OilPress_PC1</th>\n",
       "      <th>RS_E_OilPress_PC2</th>\n",
       "      <th>RS_E_RPM_PC1</th>\n",
       "      <th>RS_E_RPM_PC2</th>\n",
       "      <th>RS_E_WatTemp_PC1</th>\n",
       "      <th>RS_E_WatTemp_PC2</th>\n",
       "      <th>RS_T_OilTemp_PC1</th>\n",
       "      <th>RS_T_OilTemp_PC2</th>\n",
       "    </tr>\n",
       "  </thead>\n",
       "  <tbody>\n",
       "    <tr>\n",
       "      <th>1445023</th>\n",
       "      <td>1445023</td>\n",
       "      <td>128.0</td>\n",
       "      <td>2023-08-18 14:05:30</td>\n",
       "      <td>50.930459</td>\n",
       "      <td>5.327558</td>\n",
       "      <td>91.0</td>\n",
       "      <td>36.0</td>\n",
       "      <td>10.0</td>\n",
       "      <td>189.0</td>\n",
       "      <td>0.0</td>\n",
       "      <td>799.0</td>\n",
       "      <td>95.0</td>\n",
       "      <td>73.0</td>\n",
       "      <td>92.0</td>\n",
       "      <td>86.0</td>\n",
       "    </tr>\n",
       "    <tr>\n",
       "      <th>2513840</th>\n",
       "      <td>2513840</td>\n",
       "      <td>194.0</td>\n",
       "      <td>2023-04-03 14:24:04</td>\n",
       "      <td>50.893255</td>\n",
       "      <td>3.810035</td>\n",
       "      <td>122.0</td>\n",
       "      <td>40.0</td>\n",
       "      <td>0.0</td>\n",
       "      <td>286.0</td>\n",
       "      <td>0.0</td>\n",
       "      <td>954.0</td>\n",
       "      <td>0.0</td>\n",
       "      <td>82.0</td>\n",
       "      <td>77.0</td>\n",
       "      <td>82.0</td>\n",
       "    </tr>\n",
       "    <tr>\n",
       "      <th>7251976</th>\n",
       "      <td>7251976</td>\n",
       "      <td>128.0</td>\n",
       "      <td>2023-08-18 14:08:29</td>\n",
       "      <td>50.930715</td>\n",
       "      <td>5.326633</td>\n",
       "      <td>91.0</td>\n",
       "      <td>36.0</td>\n",
       "      <td>10.0</td>\n",
       "      <td>369.0</td>\n",
       "      <td>0.0</td>\n",
       "      <td>1699.0</td>\n",
       "      <td>93.0</td>\n",
       "      <td>73.0</td>\n",
       "      <td>90.0</td>\n",
       "      <td>85.0</td>\n",
       "    </tr>\n",
       "    <tr>\n",
       "      <th>10365770</th>\n",
       "      <td>10365770</td>\n",
       "      <td>128.0</td>\n",
       "      <td>2023-08-18 14:09:23</td>\n",
       "      <td>50.932252</td>\n",
       "      <td>5.321323</td>\n",
       "      <td>91.0</td>\n",
       "      <td>37.0</td>\n",
       "      <td>10.0</td>\n",
       "      <td>186.0</td>\n",
       "      <td>0.0</td>\n",
       "      <td>829.0</td>\n",
       "      <td>93.0</td>\n",
       "      <td>76.0</td>\n",
       "      <td>90.0</td>\n",
       "      <td>86.0</td>\n",
       "    </tr>\n",
       "    <tr>\n",
       "      <th>10620220</th>\n",
       "      <td>10620220</td>\n",
       "      <td>128.0</td>\n",
       "      <td>2023-08-18 14:06:33</td>\n",
       "      <td>50.930469</td>\n",
       "      <td>5.327587</td>\n",
       "      <td>91.0</td>\n",
       "      <td>36.0</td>\n",
       "      <td>10.0</td>\n",
       "      <td>193.0</td>\n",
       "      <td>0.0</td>\n",
       "      <td>797.0</td>\n",
       "      <td>94.0</td>\n",
       "      <td>73.0</td>\n",
       "      <td>90.0</td>\n",
       "      <td>85.0</td>\n",
       "    </tr>\n",
       "    <tr>\n",
       "      <th>11377513</th>\n",
       "      <td>11377513</td>\n",
       "      <td>128.0</td>\n",
       "      <td>2023-08-18 14:08:33</td>\n",
       "      <td>50.930634</td>\n",
       "      <td>5.326947</td>\n",
       "      <td>91.0</td>\n",
       "      <td>36.0</td>\n",
       "      <td>10.0</td>\n",
       "      <td>369.0</td>\n",
       "      <td>0.0</td>\n",
       "      <td>1703.0</td>\n",
       "      <td>93.0</td>\n",
       "      <td>73.0</td>\n",
       "      <td>90.0</td>\n",
       "      <td>84.0</td>\n",
       "    </tr>\n",
       "    <tr>\n",
       "      <th>13076778</th>\n",
       "      <td>13076778</td>\n",
       "      <td>128.0</td>\n",
       "      <td>2023-08-18 14:07:28</td>\n",
       "      <td>50.930630</td>\n",
       "      <td>5.326952</td>\n",
       "      <td>91.0</td>\n",
       "      <td>36.0</td>\n",
       "      <td>10.0</td>\n",
       "      <td>196.0</td>\n",
       "      <td>0.0</td>\n",
       "      <td>800.0</td>\n",
       "      <td>93.0</td>\n",
       "      <td>73.0</td>\n",
       "      <td>90.0</td>\n",
       "      <td>85.0</td>\n",
       "    </tr>\n",
       "    <tr>\n",
       "      <th>14442521</th>\n",
       "      <td>14442521</td>\n",
       "      <td>128.0</td>\n",
       "      <td>2023-08-18 14:07:32</td>\n",
       "      <td>50.930490</td>\n",
       "      <td>5.327528</td>\n",
       "      <td>91.0</td>\n",
       "      <td>36.0</td>\n",
       "      <td>10.0</td>\n",
       "      <td>189.0</td>\n",
       "      <td>0.0</td>\n",
       "      <td>794.0</td>\n",
       "      <td>94.0</td>\n",
       "      <td>73.0</td>\n",
       "      <td>89.0</td>\n",
       "      <td>84.0</td>\n",
       "    </tr>\n",
       "    <tr>\n",
       "      <th>14450719</th>\n",
       "      <td>14450719</td>\n",
       "      <td>128.0</td>\n",
       "      <td>2023-08-18 14:09:28</td>\n",
       "      <td>50.932629</td>\n",
       "      <td>5.320049</td>\n",
       "      <td>91.0</td>\n",
       "      <td>37.0</td>\n",
       "      <td>10.0</td>\n",
       "      <td>179.0</td>\n",
       "      <td>0.0</td>\n",
       "      <td>778.0</td>\n",
       "      <td>93.0</td>\n",
       "      <td>76.0</td>\n",
       "      <td>90.0</td>\n",
       "      <td>86.0</td>\n",
       "    </tr>\n",
       "    <tr>\n",
       "      <th>16309593</th>\n",
       "      <td>16309593</td>\n",
       "      <td>128.0</td>\n",
       "      <td>2023-08-18 14:06:28</td>\n",
       "      <td>50.930632</td>\n",
       "      <td>5.326918</td>\n",
       "      <td>91.0</td>\n",
       "      <td>36.0</td>\n",
       "      <td>10.0</td>\n",
       "      <td>189.0</td>\n",
       "      <td>0.0</td>\n",
       "      <td>802.0</td>\n",
       "      <td>94.0</td>\n",
       "      <td>73.0</td>\n",
       "      <td>92.0</td>\n",
       "      <td>85.0</td>\n",
       "    </tr>\n",
       "  </tbody>\n",
       "</table>\n",
       "</div>"
      ],
      "text/plain": [
       "          Unnamed: 0  mapped_veh_id       timestamps_UTC        lat       lon  \\\n",
       "1445023      1445023          128.0  2023-08-18 14:05:30  50.930459  5.327558   \n",
       "2513840      2513840          194.0  2023-04-03 14:24:04  50.893255  3.810035   \n",
       "7251976      7251976          128.0  2023-08-18 14:08:29  50.930715  5.326633   \n",
       "10365770    10365770          128.0  2023-08-18 14:09:23  50.932252  5.321323   \n",
       "10620220    10620220          128.0  2023-08-18 14:06:33  50.930469  5.327587   \n",
       "11377513    11377513          128.0  2023-08-18 14:08:33  50.930634  5.326947   \n",
       "13076778    13076778          128.0  2023-08-18 14:07:28  50.930630  5.326952   \n",
       "14442521    14442521          128.0  2023-08-18 14:07:32  50.930490  5.327528   \n",
       "14450719    14450719          128.0  2023-08-18 14:09:28  50.932629  5.320049   \n",
       "16309593    16309593          128.0  2023-08-18 14:06:28  50.930632  5.326918   \n",
       "\n",
       "          RS_E_InAirTemp_PC1  RS_E_InAirTemp_PC2  RS_E_OilPress_PC1  \\\n",
       "1445023                 91.0                36.0               10.0   \n",
       "2513840                122.0                40.0                0.0   \n",
       "7251976                 91.0                36.0               10.0   \n",
       "10365770                91.0                37.0               10.0   \n",
       "10620220                91.0                36.0               10.0   \n",
       "11377513                91.0                36.0               10.0   \n",
       "13076778                91.0                36.0               10.0   \n",
       "14442521                91.0                36.0               10.0   \n",
       "14450719                91.0                37.0               10.0   \n",
       "16309593                91.0                36.0               10.0   \n",
       "\n",
       "          RS_E_OilPress_PC2  RS_E_RPM_PC1  RS_E_RPM_PC2  RS_E_WatTemp_PC1  \\\n",
       "1445023               189.0           0.0         799.0              95.0   \n",
       "2513840               286.0           0.0         954.0               0.0   \n",
       "7251976               369.0           0.0        1699.0              93.0   \n",
       "10365770              186.0           0.0         829.0              93.0   \n",
       "10620220              193.0           0.0         797.0              94.0   \n",
       "11377513              369.0           0.0        1703.0              93.0   \n",
       "13076778              196.0           0.0         800.0              93.0   \n",
       "14442521              189.0           0.0         794.0              94.0   \n",
       "14450719              179.0           0.0         778.0              93.0   \n",
       "16309593              189.0           0.0         802.0              94.0   \n",
       "\n",
       "          RS_E_WatTemp_PC2  RS_T_OilTemp_PC1  RS_T_OilTemp_PC2  \n",
       "1445023               73.0              92.0              86.0  \n",
       "2513840               82.0              77.0              82.0  \n",
       "7251976               73.0              90.0              85.0  \n",
       "10365770              76.0              90.0              86.0  \n",
       "10620220              73.0              90.0              85.0  \n",
       "11377513              73.0              90.0              84.0  \n",
       "13076778              73.0              90.0              85.0  \n",
       "14442521              73.0              89.0              84.0  \n",
       "14450719              76.0              90.0              86.0  \n",
       "16309593              73.0              92.0              85.0  "
      ]
     },
     "execution_count": 17,
     "metadata": {},
     "output_type": "execute_result"
    }
   ],
   "source": [
    "data.loc[data['RS_E_InAirTemp_PC1'] > 90]"
   ]
  },
  {
   "cell_type": "code",
   "execution_count": 18,
   "id": "24da1fc0",
   "metadata": {
    "execution": {
     "iopub.execute_input": "2023-11-19T00:05:48.525273Z",
     "iopub.status.busy": "2023-11-19T00:05:48.524582Z",
     "iopub.status.idle": "2023-11-19T00:05:48.580592Z",
     "shell.execute_reply": "2023-11-19T00:05:48.579419Z"
    },
    "papermill": {
     "duration": 0.087823,
     "end_time": "2023-11-19T00:05:48.582855",
     "exception": false,
     "start_time": "2023-11-19T00:05:48.495032",
     "status": "completed"
    },
    "tags": []
   },
   "outputs": [
    {
     "data": {
      "text/html": [
       "<div>\n",
       "<style scoped>\n",
       "    .dataframe tbody tr th:only-of-type {\n",
       "        vertical-align: middle;\n",
       "    }\n",
       "\n",
       "    .dataframe tbody tr th {\n",
       "        vertical-align: top;\n",
       "    }\n",
       "\n",
       "    .dataframe thead th {\n",
       "        text-align: right;\n",
       "    }\n",
       "</style>\n",
       "<table border=\"1\" class=\"dataframe\">\n",
       "  <thead>\n",
       "    <tr style=\"text-align: right;\">\n",
       "      <th></th>\n",
       "      <th>Unnamed: 0</th>\n",
       "      <th>mapped_veh_id</th>\n",
       "      <th>timestamps_UTC</th>\n",
       "      <th>lat</th>\n",
       "      <th>lon</th>\n",
       "      <th>RS_E_InAirTemp_PC1</th>\n",
       "      <th>RS_E_InAirTemp_PC2</th>\n",
       "      <th>RS_E_OilPress_PC1</th>\n",
       "      <th>RS_E_OilPress_PC2</th>\n",
       "      <th>RS_E_RPM_PC1</th>\n",
       "      <th>RS_E_RPM_PC2</th>\n",
       "      <th>RS_E_WatTemp_PC1</th>\n",
       "      <th>RS_E_WatTemp_PC2</th>\n",
       "      <th>RS_T_OilTemp_PC1</th>\n",
       "      <th>RS_T_OilTemp_PC2</th>\n",
       "    </tr>\n",
       "  </thead>\n",
       "  <tbody>\n",
       "    <tr>\n",
       "      <th>324538</th>\n",
       "      <td>324538</td>\n",
       "      <td>128.0</td>\n",
       "      <td>2023-06-23 17:01:30</td>\n",
       "      <td>51.215554</td>\n",
       "      <td>4.420982</td>\n",
       "      <td>42.0</td>\n",
       "      <td>91.0</td>\n",
       "      <td>217.0</td>\n",
       "      <td>3.0</td>\n",
       "      <td>801.0</td>\n",
       "      <td>0.0</td>\n",
       "      <td>82.0</td>\n",
       "      <td>70.0</td>\n",
       "      <td>82.0</td>\n",
       "      <td>86.0</td>\n",
       "    </tr>\n",
       "    <tr>\n",
       "      <th>327681</th>\n",
       "      <td>327681</td>\n",
       "      <td>128.0</td>\n",
       "      <td>2023-06-23 16:39:06</td>\n",
       "      <td>51.139778</td>\n",
       "      <td>4.540462</td>\n",
       "      <td>43.0</td>\n",
       "      <td>92.0</td>\n",
       "      <td>365.5</td>\n",
       "      <td>3.0</td>\n",
       "      <td>1788.5</td>\n",
       "      <td>0.0</td>\n",
       "      <td>90.0</td>\n",
       "      <td>79.0</td>\n",
       "      <td>89.0</td>\n",
       "      <td>92.0</td>\n",
       "    </tr>\n",
       "    <tr>\n",
       "      <th>331147</th>\n",
       "      <td>331147</td>\n",
       "      <td>128.0</td>\n",
       "      <td>2023-06-23 16:22:02</td>\n",
       "      <td>51.180817</td>\n",
       "      <td>4.827914</td>\n",
       "      <td>42.0</td>\n",
       "      <td>93.0</td>\n",
       "      <td>196.0</td>\n",
       "      <td>3.0</td>\n",
       "      <td>800.0</td>\n",
       "      <td>0.0</td>\n",
       "      <td>87.0</td>\n",
       "      <td>85.0</td>\n",
       "      <td>85.0</td>\n",
       "      <td>97.0</td>\n",
       "    </tr>\n",
       "    <tr>\n",
       "      <th>331253</th>\n",
       "      <td>331253</td>\n",
       "      <td>128.0</td>\n",
       "      <td>2023-06-23 16:33:12</td>\n",
       "      <td>51.151072</td>\n",
       "      <td>4.618712</td>\n",
       "      <td>42.0</td>\n",
       "      <td>93.0</td>\n",
       "      <td>379.0</td>\n",
       "      <td>3.0</td>\n",
       "      <td>1919.0</td>\n",
       "      <td>0.0</td>\n",
       "      <td>85.0</td>\n",
       "      <td>81.0</td>\n",
       "      <td>85.0</td>\n",
       "      <td>93.0</td>\n",
       "    </tr>\n",
       "    <tr>\n",
       "      <th>337453</th>\n",
       "      <td>337453</td>\n",
       "      <td>128.0</td>\n",
       "      <td>2023-06-23 16:57:07</td>\n",
       "      <td>51.215085</td>\n",
       "      <td>4.420949</td>\n",
       "      <td>41.0</td>\n",
       "      <td>91.0</td>\n",
       "      <td>210.0</td>\n",
       "      <td>3.0</td>\n",
       "      <td>796.5</td>\n",
       "      <td>0.0</td>\n",
       "      <td>83.0</td>\n",
       "      <td>69.0</td>\n",
       "      <td>84.5</td>\n",
       "      <td>88.0</td>\n",
       "    </tr>\n",
       "    <tr>\n",
       "      <th>...</th>\n",
       "      <td>...</td>\n",
       "      <td>...</td>\n",
       "      <td>...</td>\n",
       "      <td>...</td>\n",
       "      <td>...</td>\n",
       "      <td>...</td>\n",
       "      <td>...</td>\n",
       "      <td>...</td>\n",
       "      <td>...</td>\n",
       "      <td>...</td>\n",
       "      <td>...</td>\n",
       "      <td>...</td>\n",
       "      <td>...</td>\n",
       "      <td>...</td>\n",
       "      <td>...</td>\n",
       "    </tr>\n",
       "    <tr>\n",
       "      <th>16780040</th>\n",
       "      <td>16780040</td>\n",
       "      <td>128.0</td>\n",
       "      <td>2023-06-23 16:21:11</td>\n",
       "      <td>51.180556</td>\n",
       "      <td>4.827335</td>\n",
       "      <td>42.0</td>\n",
       "      <td>93.0</td>\n",
       "      <td>193.0</td>\n",
       "      <td>3.0</td>\n",
       "      <td>797.0</td>\n",
       "      <td>0.0</td>\n",
       "      <td>88.0</td>\n",
       "      <td>86.0</td>\n",
       "      <td>89.0</td>\n",
       "      <td>97.0</td>\n",
       "    </tr>\n",
       "    <tr>\n",
       "      <th>17179772</th>\n",
       "      <td>17179772</td>\n",
       "      <td>128.0</td>\n",
       "      <td>2023-06-23 16:48:00</td>\n",
       "      <td>51.194405</td>\n",
       "      <td>4.436466</td>\n",
       "      <td>41.0</td>\n",
       "      <td>92.0</td>\n",
       "      <td>200.0</td>\n",
       "      <td>3.0</td>\n",
       "      <td>802.0</td>\n",
       "      <td>0.0</td>\n",
       "      <td>86.0</td>\n",
       "      <td>73.0</td>\n",
       "      <td>85.0</td>\n",
       "      <td>89.0</td>\n",
       "    </tr>\n",
       "    <tr>\n",
       "      <th>17189307</th>\n",
       "      <td>17189307</td>\n",
       "      <td>128.0</td>\n",
       "      <td>2023-06-23 16:35:12</td>\n",
       "      <td>51.139300</td>\n",
       "      <td>4.573102</td>\n",
       "      <td>42.0</td>\n",
       "      <td>93.0</td>\n",
       "      <td>203.0</td>\n",
       "      <td>3.0</td>\n",
       "      <td>828.0</td>\n",
       "      <td>0.0</td>\n",
       "      <td>86.0</td>\n",
       "      <td>81.0</td>\n",
       "      <td>87.0</td>\n",
       "      <td>93.0</td>\n",
       "    </tr>\n",
       "    <tr>\n",
       "      <th>17195604</th>\n",
       "      <td>17195604</td>\n",
       "      <td>128.0</td>\n",
       "      <td>2023-06-23 16:24:05</td>\n",
       "      <td>51.177940</td>\n",
       "      <td>4.820459</td>\n",
       "      <td>42.0</td>\n",
       "      <td>94.0</td>\n",
       "      <td>196.0</td>\n",
       "      <td>3.0</td>\n",
       "      <td>809.0</td>\n",
       "      <td>0.0</td>\n",
       "      <td>88.0</td>\n",
       "      <td>84.0</td>\n",
       "      <td>90.0</td>\n",
       "      <td>96.0</td>\n",
       "    </tr>\n",
       "    <tr>\n",
       "      <th>17195920</th>\n",
       "      <td>17195920</td>\n",
       "      <td>128.0</td>\n",
       "      <td>2023-06-23 16:13:07</td>\n",
       "      <td>51.172814</td>\n",
       "      <td>4.915847</td>\n",
       "      <td>42.0</td>\n",
       "      <td>92.0</td>\n",
       "      <td>362.0</td>\n",
       "      <td>3.0</td>\n",
       "      <td>1500.0</td>\n",
       "      <td>0.0</td>\n",
       "      <td>87.0</td>\n",
       "      <td>90.0</td>\n",
       "      <td>87.0</td>\n",
       "      <td>100.0</td>\n",
       "    </tr>\n",
       "  </tbody>\n",
       "</table>\n",
       "<p>110 rows × 15 columns</p>\n",
       "</div>"
      ],
      "text/plain": [
       "          Unnamed: 0  mapped_veh_id       timestamps_UTC        lat       lon  \\\n",
       "324538        324538          128.0  2023-06-23 17:01:30  51.215554  4.420982   \n",
       "327681        327681          128.0  2023-06-23 16:39:06  51.139778  4.540462   \n",
       "331147        331147          128.0  2023-06-23 16:22:02  51.180817  4.827914   \n",
       "331253        331253          128.0  2023-06-23 16:33:12  51.151072  4.618712   \n",
       "337453        337453          128.0  2023-06-23 16:57:07  51.215085  4.420949   \n",
       "...              ...            ...                  ...        ...       ...   \n",
       "16780040    16780040          128.0  2023-06-23 16:21:11  51.180556  4.827335   \n",
       "17179772    17179772          128.0  2023-06-23 16:48:00  51.194405  4.436466   \n",
       "17189307    17189307          128.0  2023-06-23 16:35:12  51.139300  4.573102   \n",
       "17195604    17195604          128.0  2023-06-23 16:24:05  51.177940  4.820459   \n",
       "17195920    17195920          128.0  2023-06-23 16:13:07  51.172814  4.915847   \n",
       "\n",
       "          RS_E_InAirTemp_PC1  RS_E_InAirTemp_PC2  RS_E_OilPress_PC1  \\\n",
       "324538                  42.0                91.0              217.0   \n",
       "327681                  43.0                92.0              365.5   \n",
       "331147                  42.0                93.0              196.0   \n",
       "331253                  42.0                93.0              379.0   \n",
       "337453                  41.0                91.0              210.0   \n",
       "...                      ...                 ...                ...   \n",
       "16780040                42.0                93.0              193.0   \n",
       "17179772                41.0                92.0              200.0   \n",
       "17189307                42.0                93.0              203.0   \n",
       "17195604                42.0                94.0              196.0   \n",
       "17195920                42.0                92.0              362.0   \n",
       "\n",
       "          RS_E_OilPress_PC2  RS_E_RPM_PC1  RS_E_RPM_PC2  RS_E_WatTemp_PC1  \\\n",
       "324538                  3.0         801.0           0.0              82.0   \n",
       "327681                  3.0        1788.5           0.0              90.0   \n",
       "331147                  3.0         800.0           0.0              87.0   \n",
       "331253                  3.0        1919.0           0.0              85.0   \n",
       "337453                  3.0         796.5           0.0              83.0   \n",
       "...                     ...           ...           ...               ...   \n",
       "16780040                3.0         797.0           0.0              88.0   \n",
       "17179772                3.0         802.0           0.0              86.0   \n",
       "17189307                3.0         828.0           0.0              86.0   \n",
       "17195604                3.0         809.0           0.0              88.0   \n",
       "17195920                3.0        1500.0           0.0              87.0   \n",
       "\n",
       "          RS_E_WatTemp_PC2  RS_T_OilTemp_PC1  RS_T_OilTemp_PC2  \n",
       "324538                70.0              82.0              86.0  \n",
       "327681                79.0              89.0              92.0  \n",
       "331147                85.0              85.0              97.0  \n",
       "331253                81.0              85.0              93.0  \n",
       "337453                69.0              84.5              88.0  \n",
       "...                    ...               ...               ...  \n",
       "16780040              86.0              89.0              97.0  \n",
       "17179772              73.0              85.0              89.0  \n",
       "17189307              81.0              87.0              93.0  \n",
       "17195604              84.0              90.0              96.0  \n",
       "17195920              90.0              87.0             100.0  \n",
       "\n",
       "[110 rows x 15 columns]"
      ]
     },
     "execution_count": 18,
     "metadata": {},
     "output_type": "execute_result"
    }
   ],
   "source": [
    "data.loc[data['RS_E_InAirTemp_PC2'] > 90]"
   ]
  },
  {
   "cell_type": "markdown",
   "id": "2133f1b1",
   "metadata": {
    "papermill": {
     "duration": 0.027996,
     "end_time": "2023-11-19T00:05:48.639364",
     "exception": false,
     "start_time": "2023-11-19T00:05:48.611368",
     "status": "completed"
    },
    "tags": []
   },
   "source": [
    "it may be the correct data, there may exist some engineer problems when the temperature is unreasonablely high, so we will figure this out in the next step"
   ]
  },
  {
   "cell_type": "markdown",
   "id": "0d1c01dc",
   "metadata": {
    "papermill": {
     "duration": 0.028182,
     "end_time": "2023-11-19T00:05:48.696051",
     "exception": false,
     "start_time": "2023-11-19T00:05:48.667869",
     "status": "completed"
    },
    "tags": []
   },
   "source": [
    "Draw the distribution of **RS_E_OilPress_PC1** and **RS_E_OilPress_PC2**"
   ]
  },
  {
   "cell_type": "code",
   "execution_count": 19,
   "id": "c1a98b93",
   "metadata": {
    "execution": {
     "iopub.execute_input": "2023-11-19T00:05:48.756288Z",
     "iopub.status.busy": "2023-11-19T00:05:48.755865Z",
     "iopub.status.idle": "2023-11-19T00:05:50.110851Z",
     "shell.execute_reply": "2023-11-19T00:05:50.109676Z"
    },
    "papermill": {
     "duration": 1.388738,
     "end_time": "2023-11-19T00:05:50.113292",
     "exception": false,
     "start_time": "2023-11-19T00:05:48.724554",
     "status": "completed"
    },
    "tags": []
   },
   "outputs": [
    {
     "data": {
      "image/png": "[encoded data removed]",
      "text/plain": [
       "<Figure size 1200x600 with 1 Axes>"
      ]
     },
     "metadata": {},
     "output_type": "display_data"
    }
   ],
   "source": [
    "# Plotting the distribution of RS_E_OilPress_PC1\n",
    "plt.figure(figsize=(12, 6))\n",
    "plt.hist(data['RS_E_OilPress_PC1'], bins=50, alpha=0.5, label='RS_E_OilPress_PC1')\n",
    "\n",
    "# Plotting the distribution of RS_E_OilPress_PC2\n",
    "plt.hist(data['RS_E_OilPress_PC2'], bins=50, alpha=0.5, label='RS_E_OilPress_PC2')\n",
    "\n",
    "plt.title('Distribution of RS_E_OilPress_PC1 and RS_E_OilPress_PC2')\n",
    "plt.xlabel('Temperature')\n",
    "plt.ylabel('Frequency')\n",
    "plt.legend()\n",
    "plt.show()"
   ]
  },
  {
   "cell_type": "markdown",
   "id": "e98e9a0d",
   "metadata": {
    "papermill": {
     "duration": 0.030082,
     "end_time": "2023-11-19T00:05:50.172587",
     "exception": false,
     "start_time": "2023-11-19T00:05:50.142505",
     "status": "completed"
    },
    "tags": []
   },
   "source": [
    "Draw the distribution of **RS_E_RPM_PC1** and **RS_E_RPM_PC2**  "
   ]
  },
  {
   "cell_type": "code",
   "execution_count": 20,
   "id": "e41869b6",
   "metadata": {
    "execution": {
     "iopub.execute_input": "2023-11-19T00:05:50.234316Z",
     "iopub.status.busy": "2023-11-19T00:05:50.233655Z",
     "iopub.status.idle": "2023-11-19T00:05:51.448339Z",
     "shell.execute_reply": "2023-11-19T00:05:51.447071Z"
    },
    "papermill": {
     "duration": 1.248204,
     "end_time": "2023-11-19T00:05:51.451071",
     "exception": false,
     "start_time": "2023-11-19T00:05:50.202867",
     "status": "completed"
    },
    "tags": []
   },
   "outputs": [
    {
     "data": {
      "image/png": "[encoded data removed]",
      "text/plain": [
       "<Figure size 1200x600 with 1 Axes>"
      ]
     },
     "metadata": {},
     "output_type": "display_data"
    }
   ],
   "source": [
    "# Plotting the distribution of RS_E_RPM_PC1\n",
    "plt.figure(figsize=(12, 6))\n",
    "plt.hist(data['RS_E_RPM_PC1'], bins=50, alpha=0.5, label='RS_E_RPM_PC1')\n",
    "\n",
    "# Plotting the distribution of RS_E_RPM_PC2\n",
    "plt.hist(data['RS_E_RPM_PC2'], bins=50, alpha=0.5, label='RS_E_RPM_PC2')\n",
    "\n",
    "plt.title('Distribution of RS_E_RPM_PC1 and RS_E_RPM_PC2')\n",
    "plt.xlabel('RPM')\n",
    "plt.ylabel('Frequency')\n",
    "plt.legend()\n",
    "plt.show()"
   ]
  },
  {
   "cell_type": "code",
   "execution_count": 21,
   "id": "d10140b0",
   "metadata": {
    "execution": {
     "iopub.execute_input": "2023-11-19T00:05:51.513701Z",
     "iopub.status.busy": "2023-11-19T00:05:51.513239Z",
     "iopub.status.idle": "2023-11-19T00:05:51.551535Z",
     "shell.execute_reply": "2023-11-19T00:05:51.550339Z"
    },
    "papermill": {
     "duration": 0.072596,
     "end_time": "2023-11-19T00:05:51.554141",
     "exception": false,
     "start_time": "2023-11-19T00:05:51.481545",
     "status": "completed"
    },
    "tags": []
   },
   "outputs": [
    {
     "data": {
      "text/html": [
       "<div>\n",
       "<style scoped>\n",
       "    .dataframe tbody tr th:only-of-type {\n",
       "        vertical-align: middle;\n",
       "    }\n",
       "\n",
       "    .dataframe tbody tr th {\n",
       "        vertical-align: top;\n",
       "    }\n",
       "\n",
       "    .dataframe thead th {\n",
       "        text-align: right;\n",
       "    }\n",
       "</style>\n",
       "<table border=\"1\" class=\"dataframe\">\n",
       "  <thead>\n",
       "    <tr style=\"text-align: right;\">\n",
       "      <th></th>\n",
       "      <th>Unnamed: 0</th>\n",
       "      <th>mapped_veh_id</th>\n",
       "      <th>timestamps_UTC</th>\n",
       "      <th>lat</th>\n",
       "      <th>lon</th>\n",
       "      <th>RS_E_InAirTemp_PC1</th>\n",
       "      <th>RS_E_InAirTemp_PC2</th>\n",
       "      <th>RS_E_OilPress_PC1</th>\n",
       "      <th>RS_E_OilPress_PC2</th>\n",
       "      <th>RS_E_RPM_PC1</th>\n",
       "      <th>RS_E_RPM_PC2</th>\n",
       "      <th>RS_E_WatTemp_PC1</th>\n",
       "      <th>RS_E_WatTemp_PC2</th>\n",
       "      <th>RS_T_OilTemp_PC1</th>\n",
       "      <th>RS_T_OilTemp_PC2</th>\n",
       "    </tr>\n",
       "  </thead>\n",
       "  <tbody>\n",
       "  </tbody>\n",
       "</table>\n",
       "</div>"
      ],
      "text/plain": [
       "Empty DataFrame\n",
       "Columns: [Unnamed: 0, mapped_veh_id, timestamps_UTC, lat, lon, RS_E_InAirTemp_PC1, RS_E_InAirTemp_PC2, RS_E_OilPress_PC1, RS_E_OilPress_PC2, RS_E_RPM_PC1, RS_E_RPM_PC2, RS_E_WatTemp_PC1, RS_E_WatTemp_PC2, RS_T_OilTemp_PC1, RS_T_OilTemp_PC2]\n",
       "Index: []"
      ]
     },
     "execution_count": 21,
     "metadata": {},
     "output_type": "execute_result"
    }
   ],
   "source": [
    "data[data['RS_E_RPM_PC1'] > 3000]"
   ]
  },
  {
   "cell_type": "code",
   "execution_count": 22,
   "id": "b34ff318",
   "metadata": {
    "execution": {
     "iopub.execute_input": "2023-11-19T00:05:51.616627Z",
     "iopub.status.busy": "2023-11-19T00:05:51.616206Z",
     "iopub.status.idle": "2023-11-19T00:05:51.666742Z",
     "shell.execute_reply": "2023-11-19T00:05:51.665623Z"
    },
    "papermill": {
     "duration": 0.084618,
     "end_time": "2023-11-19T00:05:51.669350",
     "exception": false,
     "start_time": "2023-11-19T00:05:51.584732",
     "status": "completed"
    },
    "tags": []
   },
   "outputs": [
    {
     "data": {
      "text/html": [
       "<div>\n",
       "<style scoped>\n",
       "    .dataframe tbody tr th:only-of-type {\n",
       "        vertical-align: middle;\n",
       "    }\n",
       "\n",
       "    .dataframe tbody tr th {\n",
       "        vertical-align: top;\n",
       "    }\n",
       "\n",
       "    .dataframe thead th {\n",
       "        text-align: right;\n",
       "    }\n",
       "</style>\n",
       "<table border=\"1\" class=\"dataframe\">\n",
       "  <thead>\n",
       "    <tr style=\"text-align: right;\">\n",
       "      <th></th>\n",
       "      <th>Unnamed: 0</th>\n",
       "      <th>mapped_veh_id</th>\n",
       "      <th>timestamps_UTC</th>\n",
       "      <th>lat</th>\n",
       "      <th>lon</th>\n",
       "      <th>RS_E_InAirTemp_PC1</th>\n",
       "      <th>RS_E_InAirTemp_PC2</th>\n",
       "      <th>RS_E_OilPress_PC1</th>\n",
       "      <th>RS_E_OilPress_PC2</th>\n",
       "      <th>RS_E_RPM_PC1</th>\n",
       "      <th>RS_E_RPM_PC2</th>\n",
       "      <th>RS_E_WatTemp_PC1</th>\n",
       "      <th>RS_E_WatTemp_PC2</th>\n",
       "      <th>RS_T_OilTemp_PC1</th>\n",
       "      <th>RS_T_OilTemp_PC2</th>\n",
       "    </tr>\n",
       "  </thead>\n",
       "  <tbody>\n",
       "    <tr>\n",
       "      <th>55165</th>\n",
       "      <td>55165</td>\n",
       "      <td>164.0</td>\n",
       "      <td>2023-08-17 15:40:29</td>\n",
       "      <td>51.033765</td>\n",
       "      <td>5.329525</td>\n",
       "      <td>31.0</td>\n",
       "      <td>0.0</td>\n",
       "      <td>396.0</td>\n",
       "      <td>0.0</td>\n",
       "      <td>1389.0</td>\n",
       "      <td>9732.0</td>\n",
       "      <td>83.0</td>\n",
       "      <td>0.0</td>\n",
       "      <td>82.0</td>\n",
       "      <td>84.0</td>\n",
       "    </tr>\n",
       "    <tr>\n",
       "      <th>3642546</th>\n",
       "      <td>3642546</td>\n",
       "      <td>140.0</td>\n",
       "      <td>2023-02-06 10:35:17</td>\n",
       "      <td>50.393047</td>\n",
       "      <td>4.382487</td>\n",
       "      <td>12.0</td>\n",
       "      <td>20.0</td>\n",
       "      <td>17.0</td>\n",
       "      <td>189.5</td>\n",
       "      <td>0.0</td>\n",
       "      <td>6790.5</td>\n",
       "      <td>11.0</td>\n",
       "      <td>84.5</td>\n",
       "      <td>16.5</td>\n",
       "      <td>87.0</td>\n",
       "    </tr>\n",
       "  </tbody>\n",
       "</table>\n",
       "</div>"
      ],
      "text/plain": [
       "         Unnamed: 0  mapped_veh_id       timestamps_UTC        lat       lon  \\\n",
       "55165         55165          164.0  2023-08-17 15:40:29  51.033765  5.329525   \n",
       "3642546     3642546          140.0  2023-02-06 10:35:17  50.393047  4.382487   \n",
       "\n",
       "         RS_E_InAirTemp_PC1  RS_E_InAirTemp_PC2  RS_E_OilPress_PC1  \\\n",
       "55165                  31.0                 0.0              396.0   \n",
       "3642546                12.0                20.0               17.0   \n",
       "\n",
       "         RS_E_OilPress_PC2  RS_E_RPM_PC1  RS_E_RPM_PC2  RS_E_WatTemp_PC1  \\\n",
       "55165                  0.0        1389.0        9732.0              83.0   \n",
       "3642546              189.5           0.0        6790.5              11.0   \n",
       "\n",
       "         RS_E_WatTemp_PC2  RS_T_OilTemp_PC1  RS_T_OilTemp_PC2  \n",
       "55165                 0.0              82.0              84.0  \n",
       "3642546              84.5              16.5              87.0  "
      ]
     },
     "execution_count": 22,
     "metadata": {},
     "output_type": "execute_result"
    }
   ],
   "source": [
    "data[data['RS_E_RPM_PC2'] > 3000]"
   ]
  },
  {
   "cell_type": "markdown",
   "id": "c66c1065",
   "metadata": {
    "papermill": {
     "duration": 0.030495,
     "end_time": "2023-11-19T00:05:51.730759",
     "exception": false,
     "start_time": "2023-11-19T00:05:51.700264",
     "status": "completed"
    },
    "tags": []
   },
   "source": [
    "the high RPM is not continus and the data is unreasonable, so it is safe to remove those two errors data"
   ]
  },
  {
   "cell_type": "code",
   "execution_count": 23,
   "id": "d6147c92",
   "metadata": {
    "execution": {
     "iopub.execute_input": "2023-11-19T00:05:51.794259Z",
     "iopub.status.busy": "2023-11-19T00:05:51.793887Z",
     "iopub.status.idle": "2023-11-19T00:05:53.419943Z",
     "shell.execute_reply": "2023-11-19T00:05:53.418965Z"
    },
    "papermill": {
     "duration": 1.661016,
     "end_time": "2023-11-19T00:05:53.422551",
     "exception": false,
     "start_time": "2023-11-19T00:05:51.761535",
     "status": "completed"
    },
    "tags": []
   },
   "outputs": [],
   "source": [
    "data = data[data['RS_E_RPM_PC2'] < 3000]"
   ]
  },
  {
   "cell_type": "code",
   "execution_count": 24,
   "id": "cf0b4f78",
   "metadata": {
    "execution": {
     "iopub.execute_input": "2023-11-19T00:05:53.488240Z",
     "iopub.status.busy": "2023-11-19T00:05:53.487506Z",
     "iopub.status.idle": "2023-11-19T00:05:54.655522Z",
     "shell.execute_reply": "2023-11-19T00:05:54.654373Z"
    },
    "papermill": {
     "duration": 1.204268,
     "end_time": "2023-11-19T00:05:54.658247",
     "exception": false,
     "start_time": "2023-11-19T00:05:53.453979",
     "status": "completed"
    },
    "tags": []
   },
   "outputs": [
    {
     "data": {
      "image/png": "[encoded data removed]",
      "text/plain": [
       "<Figure size 1200x600 with 1 Axes>"
      ]
     },
     "metadata": {},
     "output_type": "display_data"
    }
   ],
   "source": [
    "# Plotting the distribution of RS_E_RPM_PC1\n",
    "plt.figure(figsize=(12, 6))\n",
    "plt.hist(data['RS_E_RPM_PC1'], bins=50, alpha=0.5, label='RS_E_RPM_PC1')\n",
    "\n",
    "# Plotting the distribution of RS_E_RPM_PC2\n",
    "plt.hist(data['RS_E_RPM_PC2'], bins=50, alpha=0.5, label='RS_E_RPM_PC2')\n",
    "\n",
    "plt.title('Distribution of RS_E_RPM_PC1 and RS_E_RPM_PC2')\n",
    "plt.xlabel('RPM')\n",
    "plt.ylabel('Frequency')\n",
    "plt.legend()\n",
    "plt.show()"
   ]
  },
  {
   "cell_type": "markdown",
   "id": "89fc4943",
   "metadata": {
    "papermill": {
     "duration": 0.037346,
     "end_time": "2023-11-19T00:05:54.730862",
     "exception": false,
     "start_time": "2023-11-19T00:05:54.693516",
     "status": "completed"
    },
    "tags": []
   },
   "source": [
    "the graph becomes more reasonable"
   ]
  },
  {
   "cell_type": "markdown",
   "id": "c349a5f6",
   "metadata": {
    "papermill": {
     "duration": 0.030574,
     "end_time": "2023-11-19T00:05:54.799010",
     "exception": false,
     "start_time": "2023-11-19T00:05:54.768436",
     "status": "completed"
    },
    "tags": []
   },
   "source": [
    "Draw the distribution of **RS_E_WatTemp_PC1** and **RS_E_WatTemp_PC2** "
   ]
  },
  {
   "cell_type": "code",
   "execution_count": 25,
   "id": "05fd58c2",
   "metadata": {
    "execution": {
     "iopub.execute_input": "2023-11-19T00:05:54.863262Z",
     "iopub.status.busy": "2023-11-19T00:05:54.862808Z",
     "iopub.status.idle": "2023-11-19T00:05:56.066750Z",
     "shell.execute_reply": "2023-11-19T00:05:56.065482Z"
    },
    "papermill": {
     "duration": 1.239295,
     "end_time": "2023-11-19T00:05:56.069487",
     "exception": false,
     "start_time": "2023-11-19T00:05:54.830192",
     "status": "completed"
    },
    "tags": []
   },
   "outputs": [
    {
     "data": {
      "image/png": "[encoded data removed]",
      "text/plain": [
       "<Figure size 1200x600 with 1 Axes>"
      ]
     },
     "metadata": {},
     "output_type": "display_data"
    }
   ],
   "source": [
    "# Plotting the distribution of RS_E_WatTemp_PC1\n",
    "plt.figure(figsize=(12, 6))\n",
    "plt.hist(data['RS_E_WatTemp_PC1'], bins=50, alpha=0.5, label='RS_E_WatTemp_PC1')\n",
    "\n",
    "# Plotting the distribution of RS_E_WatTemp_PC2\n",
    "plt.hist(data['RS_E_WatTemp_PC2'], bins=50, alpha=0.5, label='RS_E_WatTemp_PC2')\n",
    "\n",
    "plt.title('Distribution of RS_E_WatTemp_PC1 and RS_E_WatTemp_PC2')\n",
    "plt.xlabel('Temperature')\n",
    "plt.ylabel('Frequency')\n",
    "plt.legend()\n",
    "plt.show()"
   ]
  },
  {
   "cell_type": "markdown",
   "id": "fb572ce2",
   "metadata": {
    "papermill": {
     "duration": 0.031069,
     "end_time": "2023-11-19T00:05:56.132021",
     "exception": false,
     "start_time": "2023-11-19T00:05:56.100952",
     "status": "completed"
    },
    "tags": []
   },
   "source": [
    "Draw the distribution of **RS_T_OilTemp_PC1** and **RS_T_OilTemp_PC2**"
   ]
  },
  {
   "cell_type": "code",
   "execution_count": 26,
   "id": "0b3deec1",
   "metadata": {
    "execution": {
     "iopub.execute_input": "2023-11-19T00:05:56.197781Z",
     "iopub.status.busy": "2023-11-19T00:05:56.197077Z",
     "iopub.status.idle": "2023-11-19T00:05:57.296205Z",
     "shell.execute_reply": "2023-11-19T00:05:57.294919Z"
    },
    "papermill": {
     "duration": 1.134515,
     "end_time": "2023-11-19T00:05:57.298569",
     "exception": false,
     "start_time": "2023-11-19T00:05:56.164054",
     "status": "completed"
    },
    "tags": []
   },
   "outputs": [
    {
     "data": {
      "image/png": "[encoded data removed]",
      "text/plain": [
       "<Figure size 1200x600 with 1 Axes>"
      ]
     },
     "metadata": {},
     "output_type": "display_data"
    }
   ],
   "source": [
    "# Plotting the distribution of RS_T_OilTemp_PC1\n",
    "plt.figure(figsize=(12, 6))\n",
    "plt.hist(data['RS_T_OilTemp_PC1'], bins=50, alpha=0.5, label='RS_T_OilTemp_PC1')\n",
    "\n",
    "# Plotting the distribution of RS_T_OilTemp_PC2\n",
    "plt.hist(data['RS_T_OilTemp_PC2'], bins=50, alpha=0.5, label='RS_T_OilTemp_PC2')\n",
    "\n",
    "plt.title('Distribution of RS_T_OilTemp_PC1 and RS_T_OilTemp_PC2')\n",
    "plt.xlabel('Temperature')\n",
    "plt.ylabel('Frequency')\n",
    "plt.legend()\n",
    "plt.show()"
   ]
  },
  {
   "cell_type": "markdown",
   "id": "69dbbf5a",
   "metadata": {
    "papermill": {
     "duration": 0.031546,
     "end_time": "2023-11-19T00:05:57.362724",
     "exception": false,
     "start_time": "2023-11-19T00:05:57.331178",
     "status": "completed"
    },
    "tags": []
   },
   "source": [
    "# Remove Column `Unnamed: 0`"
   ]
  },
  {
   "cell_type": "code",
   "execution_count": 27,
   "id": "97dabeac",
   "metadata": {
    "execution": {
     "iopub.execute_input": "2023-11-19T00:05:57.428533Z",
     "iopub.status.busy": "2023-11-19T00:05:57.428130Z",
     "iopub.status.idle": "2023-11-19T00:05:58.494093Z",
     "shell.execute_reply": "2023-11-19T00:05:58.493250Z"
    },
    "papermill": {
     "duration": 1.101701,
     "end_time": "2023-11-19T00:05:58.496393",
     "exception": false,
     "start_time": "2023-11-19T00:05:57.394692",
     "status": "completed"
    },
    "tags": []
   },
   "outputs": [
    {
     "data": {
      "text/plain": [
       "(17666544, 14)"
      ]
     },
     "execution_count": 27,
     "metadata": {},
     "output_type": "execute_result"
    }
   ],
   "source": [
    "data.drop(['Unnamed: 0'], axis=1, inplace = True)\n",
    "data.shape"
   ]
  },
  {
   "cell_type": "markdown",
   "id": "2f5436c2",
   "metadata": {
    "papermill": {
     "duration": 0.031985,
     "end_time": "2023-11-19T00:05:58.561139",
     "exception": false,
     "start_time": "2023-11-19T00:05:58.529154",
     "status": "completed"
    },
    "tags": []
   },
   "source": [
    "# Diagnose the Missing Value"
   ]
  },
  {
   "cell_type": "code",
   "execution_count": 28,
   "id": "bd5b9171",
   "metadata": {
    "execution": {
     "iopub.execute_input": "2023-11-19T00:05:58.627003Z",
     "iopub.status.busy": "2023-11-19T00:05:58.626574Z",
     "iopub.status.idle": "2023-11-19T00:06:14.510156Z",
     "shell.execute_reply": "2023-11-19T00:06:14.508836Z"
    },
    "papermill": {
     "duration": 15.919761,
     "end_time": "2023-11-19T00:06:14.512903",
     "exception": false,
     "start_time": "2023-11-19T00:05:58.593142",
     "status": "completed"
    },
    "tags": []
   },
   "outputs": [
    {
     "name": "stdout",
     "output_type": "stream",
     "text": [
      "datetime64[ns]\n"
     ]
    }
   ],
   "source": [
    "# Convert the 'timestamps_UTC' column to datetime format and coerce errors\n",
    "data['timestamps_UTC'] = pd.to_datetime(data['timestamps_UTC'], errors='coerce')\n",
    "\n",
    "# Verify the datatype of 'timestamps_UTC' after conversion\n",
    "print(data['timestamps_UTC'].dtype)\n",
    "\n",
    "# Extract date and time attributes for visualization\n",
    "data['date'] = data['timestamps_UTC'].dt.date"
   ]
  },
  {
   "cell_type": "code",
   "execution_count": 29,
   "id": "13a5be46",
   "metadata": {
    "execution": {
     "iopub.execute_input": "2023-11-19T00:06:14.580492Z",
     "iopub.status.busy": "2023-11-19T00:06:14.580053Z",
     "iopub.status.idle": "2023-11-19T00:06:15.566015Z",
     "shell.execute_reply": "2023-11-19T00:06:15.564836Z"
    },
    "papermill": {
     "duration": 1.02239,
     "end_time": "2023-11-19T00:06:15.568447",
     "exception": false,
     "start_time": "2023-11-19T00:06:14.546057",
     "status": "completed"
    },
    "tags": []
   },
   "outputs": [
    {
     "name": "stderr",
     "output_type": "stream",
     "text": [
      "/tmp/ipykernel_20/1368856383.py:8: SettingWithCopyWarning: \n",
      "A value is trying to be set on a copy of a slice from a DataFrame.\n",
      "Try using .loc[row_indexer,col_indexer] = value instead\n",
      "\n",
      "See the caveats in the documentation: https://pandas.pydata.org/pandas-docs/stable/user_guide/indexing.html#returning-a-view-versus-a-copy\n",
      "  data_1['date'] = pd.to_datetime(data_1['timestamps_UTC']).dt.date\n",
      "/tmp/ipykernel_20/1368856383.py:9: SettingWithCopyWarning: \n",
      "A value is trying to be set on a copy of a slice from a DataFrame.\n",
      "Try using .loc[row_indexer,col_indexer] = value instead\n",
      "\n",
      "See the caveats in the documentation: https://pandas.pydata.org/pandas-docs/stable/user_guide/indexing.html#returning-a-view-versus-a-copy\n",
      "  data_1['time'] = pd.to_datetime(data_1['timestamps_UTC']).dt.time\n",
      "/tmp/ipykernel_20/1368856383.py:11: SettingWithCopyWarning: \n",
      "A value is trying to be set on a copy of a slice from a DataFrame\n",
      "\n",
      "See the caveats in the documentation: https://pandas.pydata.org/pandas-docs/stable/user_guide/indexing.html#returning-a-view-versus-a-copy\n",
      "  data_1.sort_values('time', inplace=True)\n"
     ]
    },
    {
     "data": {
      "text/html": [
       "<div>\n",
       "<style scoped>\n",
       "    .dataframe tbody tr th:only-of-type {\n",
       "        vertical-align: middle;\n",
       "    }\n",
       "\n",
       "    .dataframe tbody tr th {\n",
       "        vertical-align: top;\n",
       "    }\n",
       "\n",
       "    .dataframe thead th {\n",
       "        text-align: right;\n",
       "    }\n",
       "</style>\n",
       "<table border=\"1\" class=\"dataframe\">\n",
       "  <thead>\n",
       "    <tr style=\"text-align: right;\">\n",
       "      <th></th>\n",
       "      <th>mapped_veh_id</th>\n",
       "      <th>timestamps_UTC</th>\n",
       "      <th>lat</th>\n",
       "      <th>lon</th>\n",
       "      <th>RS_E_InAirTemp_PC1</th>\n",
       "      <th>RS_E_InAirTemp_PC2</th>\n",
       "      <th>RS_E_OilPress_PC1</th>\n",
       "      <th>RS_E_OilPress_PC2</th>\n",
       "      <th>RS_E_RPM_PC1</th>\n",
       "      <th>RS_E_RPM_PC2</th>\n",
       "      <th>RS_E_WatTemp_PC1</th>\n",
       "      <th>RS_E_WatTemp_PC2</th>\n",
       "      <th>RS_T_OilTemp_PC1</th>\n",
       "      <th>RS_T_OilTemp_PC2</th>\n",
       "      <th>date</th>\n",
       "      <th>time</th>\n",
       "    </tr>\n",
       "  </thead>\n",
       "  <tbody>\n",
       "    <tr>\n",
       "      <th>3384612</th>\n",
       "      <td>102.0</td>\n",
       "      <td>2023-02-27 00:23:40</td>\n",
       "      <td>51.012727</td>\n",
       "      <td>3.780777</td>\n",
       "      <td>22.0</td>\n",
       "      <td>12.0</td>\n",
       "      <td>0.0</td>\n",
       "      <td>552.0</td>\n",
       "      <td>0.0</td>\n",
       "      <td>800.0</td>\n",
       "      <td>20.0</td>\n",
       "      <td>26.0</td>\n",
       "      <td>19.0</td>\n",
       "      <td>19.0</td>\n",
       "      <td>2023-02-27</td>\n",
       "      <td>00:23:40</td>\n",
       "    </tr>\n",
       "    <tr>\n",
       "      <th>9318770</th>\n",
       "      <td>102.0</td>\n",
       "      <td>2023-02-27 00:24:40</td>\n",
       "      <td>51.012949</td>\n",
       "      <td>3.780629</td>\n",
       "      <td>22.0</td>\n",
       "      <td>11.0</td>\n",
       "      <td>0.0</td>\n",
       "      <td>565.0</td>\n",
       "      <td>0.0</td>\n",
       "      <td>799.0</td>\n",
       "      <td>20.0</td>\n",
       "      <td>28.0</td>\n",
       "      <td>17.0</td>\n",
       "      <td>19.0</td>\n",
       "      <td>2023-02-27</td>\n",
       "      <td>00:24:40</td>\n",
       "    </tr>\n",
       "    <tr>\n",
       "      <th>14640907</th>\n",
       "      <td>102.0</td>\n",
       "      <td>2023-02-27 00:26:42</td>\n",
       "      <td>51.013114</td>\n",
       "      <td>3.780752</td>\n",
       "      <td>22.0</td>\n",
       "      <td>11.0</td>\n",
       "      <td>0.0</td>\n",
       "      <td>538.0</td>\n",
       "      <td>0.0</td>\n",
       "      <td>798.0</td>\n",
       "      <td>20.0</td>\n",
       "      <td>35.0</td>\n",
       "      <td>20.0</td>\n",
       "      <td>20.0</td>\n",
       "      <td>2023-02-27</td>\n",
       "      <td>00:26:42</td>\n",
       "    </tr>\n",
       "    <tr>\n",
       "      <th>16617741</th>\n",
       "      <td>102.0</td>\n",
       "      <td>2023-02-27 00:27:42</td>\n",
       "      <td>51.013026</td>\n",
       "      <td>3.780587</td>\n",
       "      <td>22.0</td>\n",
       "      <td>11.0</td>\n",
       "      <td>0.0</td>\n",
       "      <td>517.0</td>\n",
       "      <td>0.0</td>\n",
       "      <td>798.0</td>\n",
       "      <td>20.0</td>\n",
       "      <td>37.0</td>\n",
       "      <td>17.0</td>\n",
       "      <td>21.0</td>\n",
       "      <td>2023-02-27</td>\n",
       "      <td>00:27:42</td>\n",
       "    </tr>\n",
       "    <tr>\n",
       "      <th>10296487</th>\n",
       "      <td>102.0</td>\n",
       "      <td>2023-02-27 00:28:41</td>\n",
       "      <td>51.013077</td>\n",
       "      <td>3.780709</td>\n",
       "      <td>22.0</td>\n",
       "      <td>10.0</td>\n",
       "      <td>0.0</td>\n",
       "      <td>507.0</td>\n",
       "      <td>0.0</td>\n",
       "      <td>800.0</td>\n",
       "      <td>19.0</td>\n",
       "      <td>40.0</td>\n",
       "      <td>17.0</td>\n",
       "      <td>22.0</td>\n",
       "      <td>2023-02-27</td>\n",
       "      <td>00:28:41</td>\n",
       "    </tr>\n",
       "    <tr>\n",
       "      <th>...</th>\n",
       "      <td>...</td>\n",
       "      <td>...</td>\n",
       "      <td>...</td>\n",
       "      <td>...</td>\n",
       "      <td>...</td>\n",
       "      <td>...</td>\n",
       "      <td>...</td>\n",
       "      <td>...</td>\n",
       "      <td>...</td>\n",
       "      <td>...</td>\n",
       "      <td>...</td>\n",
       "      <td>...</td>\n",
       "      <td>...</td>\n",
       "      <td>...</td>\n",
       "      <td>...</td>\n",
       "      <td>...</td>\n",
       "    </tr>\n",
       "    <tr>\n",
       "      <th>4855423</th>\n",
       "      <td>102.0</td>\n",
       "      <td>2023-02-27 16:12:49</td>\n",
       "      <td>51.015782</td>\n",
       "      <td>3.774001</td>\n",
       "      <td>22.0</td>\n",
       "      <td>13.0</td>\n",
       "      <td>3.0</td>\n",
       "      <td>0.0</td>\n",
       "      <td>0.0</td>\n",
       "      <td>0.0</td>\n",
       "      <td>66.0</td>\n",
       "      <td>58.0</td>\n",
       "      <td>62.0</td>\n",
       "      <td>50.0</td>\n",
       "      <td>2023-02-27</td>\n",
       "      <td>16:12:49</td>\n",
       "    </tr>\n",
       "    <tr>\n",
       "      <th>3399945</th>\n",
       "      <td>102.0</td>\n",
       "      <td>2023-02-27 16:13:46</td>\n",
       "      <td>51.015579</td>\n",
       "      <td>3.774632</td>\n",
       "      <td>27.0</td>\n",
       "      <td>18.0</td>\n",
       "      <td>3.0</td>\n",
       "      <td>0.0</td>\n",
       "      <td>0.0</td>\n",
       "      <td>0.0</td>\n",
       "      <td>65.0</td>\n",
       "      <td>57.0</td>\n",
       "      <td>63.0</td>\n",
       "      <td>50.0</td>\n",
       "      <td>2023-02-27</td>\n",
       "      <td>16:13:46</td>\n",
       "    </tr>\n",
       "    <tr>\n",
       "      <th>15951747</th>\n",
       "      <td>102.0</td>\n",
       "      <td>2023-02-27 16:13:48</td>\n",
       "      <td>51.015796</td>\n",
       "      <td>3.774018</td>\n",
       "      <td>27.0</td>\n",
       "      <td>18.0</td>\n",
       "      <td>3.0</td>\n",
       "      <td>0.0</td>\n",
       "      <td>0.0</td>\n",
       "      <td>0.0</td>\n",
       "      <td>65.0</td>\n",
       "      <td>57.0</td>\n",
       "      <td>62.0</td>\n",
       "      <td>49.0</td>\n",
       "      <td>2023-02-27</td>\n",
       "      <td>16:13:48</td>\n",
       "    </tr>\n",
       "    <tr>\n",
       "      <th>1949813</th>\n",
       "      <td>102.0</td>\n",
       "      <td>2023-02-27 16:14:45</td>\n",
       "      <td>51.015567</td>\n",
       "      <td>3.774603</td>\n",
       "      <td>30.0</td>\n",
       "      <td>22.0</td>\n",
       "      <td>0.0</td>\n",
       "      <td>0.0</td>\n",
       "      <td>0.0</td>\n",
       "      <td>0.0</td>\n",
       "      <td>64.0</td>\n",
       "      <td>56.0</td>\n",
       "      <td>60.0</td>\n",
       "      <td>50.0</td>\n",
       "      <td>2023-02-27</td>\n",
       "      <td>16:14:45</td>\n",
       "    </tr>\n",
       "    <tr>\n",
       "      <th>11003360</th>\n",
       "      <td>102.0</td>\n",
       "      <td>2023-02-27 16:14:48</td>\n",
       "      <td>51.015847</td>\n",
       "      <td>3.774009</td>\n",
       "      <td>30.0</td>\n",
       "      <td>22.0</td>\n",
       "      <td>0.0</td>\n",
       "      <td>0.0</td>\n",
       "      <td>0.0</td>\n",
       "      <td>0.0</td>\n",
       "      <td>64.0</td>\n",
       "      <td>56.0</td>\n",
       "      <td>59.0</td>\n",
       "      <td>50.0</td>\n",
       "      <td>2023-02-27</td>\n",
       "      <td>16:14:48</td>\n",
       "    </tr>\n",
       "  </tbody>\n",
       "</table>\n",
       "<p>634 rows × 16 columns</p>\n",
       "</div>"
      ],
      "text/plain": [
       "          mapped_veh_id      timestamps_UTC        lat       lon  \\\n",
       "3384612           102.0 2023-02-27 00:23:40  51.012727  3.780777   \n",
       "9318770           102.0 2023-02-27 00:24:40  51.012949  3.780629   \n",
       "14640907          102.0 2023-02-27 00:26:42  51.013114  3.780752   \n",
       "16617741          102.0 2023-02-27 00:27:42  51.013026  3.780587   \n",
       "10296487          102.0 2023-02-27 00:28:41  51.013077  3.780709   \n",
       "...                 ...                 ...        ...       ...   \n",
       "4855423           102.0 2023-02-27 16:12:49  51.015782  3.774001   \n",
       "3399945           102.0 2023-02-27 16:13:46  51.015579  3.774632   \n",
       "15951747          102.0 2023-02-27 16:13:48  51.015796  3.774018   \n",
       "1949813           102.0 2023-02-27 16:14:45  51.015567  3.774603   \n",
       "11003360          102.0 2023-02-27 16:14:48  51.015847  3.774009   \n",
       "\n",
       "          RS_E_InAirTemp_PC1  RS_E_InAirTemp_PC2  RS_E_OilPress_PC1  \\\n",
       "3384612                 22.0                12.0                0.0   \n",
       "9318770                 22.0                11.0                0.0   \n",
       "14640907                22.0                11.0                0.0   \n",
       "16617741                22.0                11.0                0.0   \n",
       "10296487                22.0                10.0                0.0   \n",
       "...                      ...                 ...                ...   \n",
       "4855423                 22.0                13.0                3.0   \n",
       "3399945                 27.0                18.0                3.0   \n",
       "15951747                27.0                18.0                3.0   \n",
       "1949813                 30.0                22.0                0.0   \n",
       "11003360                30.0                22.0                0.0   \n",
       "\n",
       "          RS_E_OilPress_PC2  RS_E_RPM_PC1  RS_E_RPM_PC2  RS_E_WatTemp_PC1  \\\n",
       "3384612               552.0           0.0         800.0              20.0   \n",
       "9318770               565.0           0.0         799.0              20.0   \n",
       "14640907              538.0           0.0         798.0              20.0   \n",
       "16617741              517.0           0.0         798.0              20.0   \n",
       "10296487              507.0           0.0         800.0              19.0   \n",
       "...                     ...           ...           ...               ...   \n",
       "4855423                 0.0           0.0           0.0              66.0   \n",
       "3399945                 0.0           0.0           0.0              65.0   \n",
       "15951747                0.0           0.0           0.0              65.0   \n",
       "1949813                 0.0           0.0           0.0              64.0   \n",
       "11003360                0.0           0.0           0.0              64.0   \n",
       "\n",
       "          RS_E_WatTemp_PC2  RS_T_OilTemp_PC1  RS_T_OilTemp_PC2        date  \\\n",
       "3384612               26.0              19.0              19.0  2023-02-27   \n",
       "9318770               28.0              17.0              19.0  2023-02-27   \n",
       "14640907              35.0              20.0              20.0  2023-02-27   \n",
       "16617741              37.0              17.0              21.0  2023-02-27   \n",
       "10296487              40.0              17.0              22.0  2023-02-27   \n",
       "...                    ...               ...               ...         ...   \n",
       "4855423               58.0              62.0              50.0  2023-02-27   \n",
       "3399945               57.0              63.0              50.0  2023-02-27   \n",
       "15951747              57.0              62.0              49.0  2023-02-27   \n",
       "1949813               56.0              60.0              50.0  2023-02-27   \n",
       "11003360              56.0              59.0              50.0  2023-02-27   \n",
       "\n",
       "              time  \n",
       "3384612   00:23:40  \n",
       "9318770   00:24:40  \n",
       "14640907  00:26:42  \n",
       "16617741  00:27:42  \n",
       "10296487  00:28:41  \n",
       "...            ...  \n",
       "4855423   16:12:49  \n",
       "3399945   16:13:46  \n",
       "15951747  16:13:48  \n",
       "1949813   16:14:45  \n",
       "11003360  16:14:48  \n",
       "\n",
       "[634 rows x 16 columns]"
      ]
     },
     "execution_count": 29,
     "metadata": {},
     "output_type": "execute_result"
    }
   ],
   "source": [
    "# change pd settings to show 700 rows\n",
    "pd.set_option('display.max_rows', 70)\n",
    "\n",
    "# using the training id == 102\n",
    "data_1 = data[(data['mapped_veh_id'] == 102.0)]\n",
    "\n",
    "# get the date and time from timestamps_UTC\n",
    "data_1['date'] = pd.to_datetime(data_1['timestamps_UTC']).dt.date\n",
    "data_1['time'] = pd.to_datetime(data_1['timestamps_UTC']).dt.time\n",
    "\n",
    "data_1.sort_values('time', inplace=True)\n",
    "\n",
    "# choosing date == 2023-02-27\n",
    "# result = data_1[data_1['date'] == pd.to_datetime(\"2023-02-27\").date()]\n",
    "data_1[data_1['date'] == pd.to_datetime(\"2023-02-27\").date()]\n",
    "# print(result)"
   ]
  },
  {
   "cell_type": "markdown",
   "id": "45a33ef7",
   "metadata": {
    "papermill": {
     "duration": 0.035082,
     "end_time": "2023-11-19T00:06:15.636771",
     "exception": false,
     "start_time": "2023-11-19T00:06:15.601689",
     "status": "completed"
    },
    "tags": []
   },
   "source": [
    "we can choose an iconic part of interesting data:"
   ]
  },
  {
   "cell_type": "markdown",
   "id": "609abbf6",
   "metadata": {
    "papermill": {
     "duration": 0.034655,
     "end_time": "2023-11-19T00:06:15.706762",
     "exception": false,
     "start_time": "2023-11-19T00:06:15.672107",
     "status": "completed"
    },
    "tags": []
   },
   "source": [
    "| mapped_veh_id | timestamps_UTC | lat       | lon      | RS_E_InAirTemp_PC1 | RS_E_InAirTemp_PC2 | RS_E_OilPress_PC1 | RS_E_OilPress_PC2 | RS_E_RPM_PC1 | RS_E_RPM_PC2 | RS_E_WatTemp_PC1 | RS_E_WatTemp_PC2 | RS_T_OilTemp_PC1 | RS_T_OilTemp_PC2 | date       | time     |\n",
    "|---------------|----------------|-----------|----------|--------------------|--------------------|-------------------|-------------------|--------------|--------------|------------------|------------------|------------------|------------------|------------|---------|\n",
    "| 1212149       | 102.0          | 51.014305 | 3.777572 | 5.0                | 1.0                | 486.0             | 465.0             | 798.00       | 802.00       | 40.0              | 44.0              | 28.0              | 34.00             | 2023-02-27 | 05:51:49 |\n",
    "| 8948897       | 102.0          | 51.013711 | 3.779479 | 5.0                | 1.0                | 483.0             | 465.0             | 797.00       | 800.00       | 41.0              | 45.0              | 28.0              | 35.00             | 2023-02-27 | 05:52:20 |\n",
    "| 8906016       | 102.0          | 51.013922 | 3.779001 | 0.0                | 1.0                | 0.0               | 131.0             | 0.00         | 0.00         | 0.0               | 45.0              | 26.0              | 34.00             | 2023-02-27 | 05:52:29 |\n",
    "| 11817588      | 102.0          | 51.013670 | 3.779544 | 0.0                | 1.0                | 120.0             | 148.0             | 0.00         | 211.00       | 0.0               | 45.0              | 26.0              | 35.00             | 2023-02-27 | 05:52:30 |\n",
    "| 6107927       | 102.0          | 51.013928 | 3.779015 | 0.0                | 0.0                | 0.0               | 0.0               | 0.00         | 0.00         | 0.0               | 0.0               | 24.0              | 34.00             | 2023-02-27 | 05:52:50 |\n",
    "| 14922602      | 102.0          | 51.013925 | 3.779021 | 0.0                | 0.0                | 0.0               | 0.0               | 0.00         | 0.00         | 40.0              | 0.0               | 28.0              | 35.00             | 2023-02-27 | 05:52:59 |\n",
    "| 8923184       | 102.0          | 51.013689 | 3.779530 | 7.0                | 3.0                | 0.0               | 0.0               | 0.00         | 0.00         | 40.0              | 0.0               | 25.0              | 34.00             | 2023-02-27 | 05:53:00 |\n",
    "| 3628039       | 102.0          | 51.013924 | 3.779001 | 8.0                | NaN                | 0.0               | NaN               | 0.00         | NaN          | 40.0              | NaN               | 25.0              | NaN              | 2023-02-27 | 05:53:19 |\n",
    "| 4831678       | 102.0          | 51.013933 | 3.779009 | 0.0                | NaN                | 0.0               | NaN               | 0.00         | NaN          | 0.0               | NaN               | 25.0              | NaN              | 2023-02-27 | 05:53:29 |\n",
    "| 10987874      | 102.0          | 51.013939 | 3.779012 | 0.0                | NaN                | 0.0               | NaN               | 0.00         | NaN          | 0.0               | NaN               | 27.0              | NaN              | 2023-02-27 | 05:53:49 |\n"
   ]
  },
  {
   "cell_type": "markdown",
   "id": "b3b54308",
   "metadata": {
    "papermill": {
     "duration": 0.034164,
     "end_time": "2023-11-19T00:06:15.774832",
     "exception": false,
     "start_time": "2023-11-19T00:06:15.740668",
     "status": "completed"
    },
    "tags": []
   },
   "source": [
    "we can find that the 0 and NaN is also coming together, we assume that the senser should have some bugs at this time"
   ]
  },
  {
   "cell_type": "markdown",
   "id": "e3e78aa2",
   "metadata": {
    "papermill": {
     "duration": 0.033217,
     "end_time": "2023-11-19T00:06:15.841930",
     "exception": false,
     "start_time": "2023-11-19T00:06:15.808713",
     "status": "completed"
    },
    "tags": []
   },
   "source": [
    "Find a lot of missing values, and the count of them are the same, so let's try to diagnose whether it is caused by systematic problem of senser from PC2"
   ]
  },
  {
   "cell_type": "code",
   "execution_count": 30,
   "id": "a92beec3",
   "metadata": {
    "execution": {
     "iopub.execute_input": "2023-11-19T00:06:15.910972Z",
     "iopub.status.busy": "2023-11-19T00:06:15.910260Z",
     "iopub.status.idle": "2023-11-19T00:06:59.841324Z",
     "shell.execute_reply": "2023-11-19T00:06:59.838854Z"
    },
    "papermill": {
     "duration": 44.001005,
     "end_time": "2023-11-19T00:06:59.876468",
     "exception": false,
     "start_time": "2023-11-19T00:06:15.875463",
     "status": "completed"
    },
    "tags": []
   },
   "outputs": [
    {
     "data": {
      "text/plain": [
       "11759521    False\n",
       "14409419    False\n",
       "13286611    False\n",
       "17234666    False\n",
       "5221806     False\n",
       "            ...  \n",
       "16724009    False\n",
       "995273      False\n",
       "14298087    False\n",
       "15979243    False\n",
       "10041108    False\n",
       "Name: RS_E_InAirTemp_PC2, Length: 17679273, dtype: bool"
      ]
     },
     "execution_count": 30,
     "metadata": {},
     "output_type": "execute_result"
    }
   ],
   "source": [
    "# Load a subset of the data for analysis, we are focusing on one column with missing values for demonstration\n",
    "subset_data = pd.read_csv(dataset_path, delimiter = ';', usecols=['timestamps_UTC', 'RS_E_InAirTemp_PC2', 'RS_E_OilPress_PC2'])\n",
    "\n",
    "# Convert timestamps to datetime objects for easier analysis\n",
    "subset_data['timestamps_UTC'] = pd.to_datetime(subset_data['timestamps_UTC'])\n",
    "\n",
    "# Sort the data based on the timestamp\n",
    "subset_data.sort_values('timestamps_UTC', inplace=True)\n",
    "\n",
    "# Create a boolean series to indicate rows with missing values\n",
    "missing_value_series = subset_data['RS_E_InAirTemp_PC2'].isnull()\n",
    "\n",
    "# Print Missing Values\n",
    "missing_value_series"
   ]
  },
  {
   "cell_type": "code",
   "execution_count": 31,
   "id": "401e14d8",
   "metadata": {
    "execution": {
     "iopub.execute_input": "2023-11-19T00:06:59.944909Z",
     "iopub.status.busy": "2023-11-19T00:06:59.944495Z",
     "iopub.status.idle": "2023-11-19T00:07:01.971964Z",
     "shell.execute_reply": "2023-11-19T00:07:01.970989Z"
    },
    "papermill": {
     "duration": 2.0648,
     "end_time": "2023-11-19T00:07:01.974452",
     "exception": false,
     "start_time": "2023-11-19T00:06:59.909652",
     "status": "completed"
    },
    "tags": []
   },
   "outputs": [
    {
     "data": {
      "image/png": "[encoded data removed]",
      "text/plain": [
       "<Figure size 1500x500 with 1 Axes>"
      ]
     },
     "metadata": {},
     "output_type": "display_data"
    }
   ],
   "source": [
    "# Resampling the data to get daily missing data proportion\n",
    "daily_missing_data = subset_data.set_index('timestamps_UTC').resample('D')['RS_E_InAirTemp_PC2'].apply(lambda x: x.isnull().mean())\n",
    "\n",
    "# Plotting the line plot\n",
    "plt.figure(figsize=(15,5))\n",
    "daily_missing_data.plot(kind='line', color='red', label='Missing Value Proportion', lw=2)\n",
    "plt.xlabel('Date')\n",
    "plt.ylabel('Proportion of Missing Data')\n",
    "plt.title('Daily Proportion of Missing Values for RS_E_InAirTemp_PC2')\n",
    "plt.legend()\n",
    "plt.grid(True)  # Adding grid for better readability\n",
    "plt.tight_layout()  # Adjust the plot to ensure everything fits without overlapping\n",
    "plt.show()"
   ]
  },
  {
   "cell_type": "markdown",
   "id": "dd03db7c",
   "metadata": {
    "papermill": {
     "duration": 0.033874,
     "end_time": "2023-11-19T00:07:02.042382",
     "exception": false,
     "start_time": "2023-11-19T00:07:02.008508",
     "status": "completed"
    },
    "tags": []
   },
   "source": [
    "we can find that the graph starting from September, but just very few data slot, it seems be errors, we will handle this later"
   ]
  },
  {
   "cell_type": "code",
   "execution_count": 32,
   "id": "2b1006e8",
   "metadata": {
    "execution": {
     "iopub.execute_input": "2023-11-19T00:07:02.113304Z",
     "iopub.status.busy": "2023-11-19T00:07:02.112093Z",
     "iopub.status.idle": "2023-11-19T00:07:04.268853Z",
     "shell.execute_reply": "2023-11-19T00:07:04.267647Z"
    },
    "papermill": {
     "duration": 2.19522,
     "end_time": "2023-11-19T00:07:04.271441",
     "exception": false,
     "start_time": "2023-11-19T00:07:02.076221",
     "status": "completed"
    },
    "tags": []
   },
   "outputs": [
    {
     "data": {
      "image/png": "[encoded data removed]",
      "text/plain": [
       "<Figure size 1500x500 with 1 Axes>"
      ]
     },
     "metadata": {},
     "output_type": "display_data"
    }
   ],
   "source": [
    "# Resampling the data to get daily missing data proportion\n",
    "daily_missing_data = subset_data.set_index('timestamps_UTC').resample('D')['RS_E_OilPress_PC2'].apply(lambda x: x.isnull().mean())\n",
    "\n",
    "# Plotting the line plot\n",
    "plt.figure(figsize=(15,5))\n",
    "daily_missing_data.plot(kind='line', color='red', label='Missing Value Proportion', lw=2)\n",
    "plt.xlabel('Date')\n",
    "plt.ylabel('Proportion of Missing Data')\n",
    "plt.title('Daily Proportion of Missing Values for RS_E_InAirTemp_PC2')\n",
    "plt.legend()\n",
    "plt.grid(True)  # Adding grid for better readability\n",
    "plt.tight_layout()  # Adjust the plot to ensure everything fits without overlapping\n",
    "plt.show()"
   ]
  },
  {
   "cell_type": "markdown",
   "id": "29f304ca",
   "metadata": {
    "papermill": {
     "duration": 0.034888,
     "end_time": "2023-11-19T00:07:04.342283",
     "exception": false,
     "start_time": "2023-11-19T00:07:04.307395",
     "status": "completed"
    },
    "tags": []
   },
   "source": [
    "The two graph shows that the distribution of all missing value are the same, so let's remove the missing values"
   ]
  },
  {
   "cell_type": "code",
   "execution_count": 33,
   "id": "73a0646b",
   "metadata": {
    "execution": {
     "iopub.execute_input": "2023-11-19T00:07:04.414452Z",
     "iopub.status.busy": "2023-11-19T00:07:04.414026Z",
     "iopub.status.idle": "2023-11-19T00:07:05.906707Z",
     "shell.execute_reply": "2023-11-19T00:07:05.905555Z"
    },
    "papermill": {
     "duration": 1.53147,
     "end_time": "2023-11-19T00:07:05.909035",
     "exception": false,
     "start_time": "2023-11-19T00:07:04.377565",
     "status": "completed"
    },
    "tags": []
   },
   "outputs": [
    {
     "data": {
      "text/plain": [
       "((17666544, 15), (17666544, 15))"
      ]
     },
     "execution_count": 33,
     "metadata": {},
     "output_type": "execute_result"
    }
   ],
   "source": [
    "# Size of the dataset before removing missing values\n",
    "original_size = data.shape\n",
    "\n",
    "# Removing rows with missing values in any of the specified columns\n",
    "columns_with_missing_values = [\n",
    "    'RS_E_InAirTemp_PC2', 'RS_E_OilPress_PC2', \n",
    "    'RS_E_RPM_PC2', 'RS_E_WatTemp_PC2', 'RS_T_OilTemp_PC2'\n",
    "]\n",
    "\n",
    "# Drop the rows contain the missing value\n",
    "data = data.dropna(subset=columns_with_missing_values)\n",
    "\n",
    "# Size of the dataset after removing missing values\n",
    "data_size = data.shape\n",
    "\n",
    "original_size, data_size"
   ]
  },
  {
   "cell_type": "markdown",
   "id": "19d447f2",
   "metadata": {
    "papermill": {
     "duration": 0.034673,
     "end_time": "2023-11-19T00:07:05.979001",
     "exception": false,
     "start_time": "2023-11-19T00:07:05.944328",
     "status": "completed"
    },
    "tags": []
   },
   "source": [
    "# Remove Duplicate Rows"
   ]
  },
  {
   "cell_type": "code",
   "execution_count": 34,
   "id": "503fc6a4",
   "metadata": {
    "execution": {
     "iopub.execute_input": "2023-11-19T00:07:06.052580Z",
     "iopub.status.busy": "2023-11-19T00:07:06.051880Z",
     "iopub.status.idle": "2023-11-19T00:07:06.058160Z",
     "shell.execute_reply": "2023-11-19T00:07:06.056673Z"
    },
    "papermill": {
     "duration": 0.04611,
     "end_time": "2023-11-19T00:07:06.060333",
     "exception": false,
     "start_time": "2023-11-19T00:07:06.014223",
     "status": "completed"
    },
    "tags": []
   },
   "outputs": [
    {
     "name": "stdout",
     "output_type": "stream",
     "text": [
      "(17666544, 15)\n"
     ]
    }
   ],
   "source": [
    "print(data.shape)"
   ]
  },
  {
   "cell_type": "code",
   "execution_count": 35,
   "id": "ffc3bdc8",
   "metadata": {
    "execution": {
     "iopub.execute_input": "2023-11-19T00:07:06.133918Z",
     "iopub.status.busy": "2023-11-19T00:07:06.133113Z",
     "iopub.status.idle": "2023-11-19T00:07:51.384881Z",
     "shell.execute_reply": "2023-11-19T00:07:51.383883Z"
    },
    "papermill": {
     "duration": 45.291616,
     "end_time": "2023-11-19T00:07:51.387298",
     "exception": false,
     "start_time": "2023-11-19T00:07:06.095682",
     "status": "completed"
    },
    "tags": []
   },
   "outputs": [],
   "source": [
    "data.drop_duplicates(inplace=True)"
   ]
  },
  {
   "cell_type": "code",
   "execution_count": 36,
   "id": "cff2c4c9",
   "metadata": {
    "execution": {
     "iopub.execute_input": "2023-11-19T00:07:51.462645Z",
     "iopub.status.busy": "2023-11-19T00:07:51.461904Z",
     "iopub.status.idle": "2023-11-19T00:07:51.467127Z",
     "shell.execute_reply": "2023-11-19T00:07:51.465978Z"
    },
    "papermill": {
     "duration": 0.044315,
     "end_time": "2023-11-19T00:07:51.469448",
     "exception": false,
     "start_time": "2023-11-19T00:07:51.425133",
     "status": "completed"
    },
    "tags": []
   },
   "outputs": [
    {
     "name": "stdout",
     "output_type": "stream",
     "text": [
      "(17666544, 15)\n"
     ]
    }
   ],
   "source": [
    "print(data.shape)"
   ]
  },
  {
   "cell_type": "markdown",
   "id": "60353075",
   "metadata": {
    "papermill": {
     "duration": 0.035385,
     "end_time": "2023-11-19T00:07:51.540411",
     "exception": false,
     "start_time": "2023-11-19T00:07:51.505026",
     "status": "completed"
    },
    "tags": []
   },
   "source": [
    "no duplicate was found, move on"
   ]
  },
  {
   "cell_type": "markdown",
   "id": "bd51b4f1",
   "metadata": {
    "papermill": {
     "duration": 0.035061,
     "end_time": "2023-11-19T00:07:51.610857",
     "exception": false,
     "start_time": "2023-11-19T00:07:51.575796",
     "status": "completed"
    },
    "tags": []
   },
   "source": [
    "# Remove Value 0 from all columns"
   ]
  },
  {
   "cell_type": "markdown",
   "id": "7ef4d0b9",
   "metadata": {
    "papermill": {
     "duration": 0.035085,
     "end_time": "2023-11-19T00:07:51.681425",
     "exception": false,
     "start_time": "2023-11-19T00:07:51.646340",
     "status": "completed"
    },
    "tags": []
   },
   "source": [
    "this code not worked because it will remove the tempure higher than usual (the information we need), bue do not treat tempurature 0 as outlier"
   ]
  },
  {
   "cell_type": "code",
   "execution_count": 37,
   "id": "979ce773",
   "metadata": {
    "execution": {
     "iopub.execute_input": "2023-11-19T00:07:51.754428Z",
     "iopub.status.busy": "2023-11-19T00:07:51.753995Z",
     "iopub.status.idle": "2023-11-19T00:07:51.759213Z",
     "shell.execute_reply": "2023-11-19T00:07:51.758089Z"
    },
    "papermill": {
     "duration": 0.044764,
     "end_time": "2023-11-19T00:07:51.761646",
     "exception": false,
     "start_time": "2023-11-19T00:07:51.716882",
     "status": "completed"
    },
    "tags": []
   },
   "outputs": [],
   "source": [
    "# # Make use of IQR Methodology\n",
    "# Q1 = data['RS_E_InAirTemp_PC1'].quantile(0.25)\n",
    "# Q3 = data['RS_E_InAirTemp_PC1'].quantile(0.75)\n",
    "\n",
    "# # Calculate IQR\n",
    "# IQR = Q3 - Q1\n",
    "\n",
    "# # Define Outlier Boundary\n",
    "# lower_bound = Q1 - 1.5 * IQR\n",
    "# upper_bound = Q3 + 1.5 * IQR\n",
    "\n",
    "# # Define Outliers\n",
    "# outliers = data[(data['RS_E_InAirTemp_PC1'] < lower_bound) | (data['RS_E_InAirTemp_PC1'] > upper_bound)]\n",
    "\n",
    "# outliers['RS_E_InAirTemp_PC1']"
   ]
  },
  {
   "cell_type": "code",
   "execution_count": 38,
   "id": "7c97f678",
   "metadata": {
    "execution": {
     "iopub.execute_input": "2023-11-19T00:07:51.835135Z",
     "iopub.status.busy": "2023-11-19T00:07:51.834380Z",
     "iopub.status.idle": "2023-11-19T00:07:54.197143Z",
     "shell.execute_reply": "2023-11-19T00:07:54.195997Z"
    },
    "papermill": {
     "duration": 2.402608,
     "end_time": "2023-11-19T00:07:54.199794",
     "exception": false,
     "start_time": "2023-11-19T00:07:51.797186",
     "status": "completed"
    },
    "tags": []
   },
   "outputs": [
    {
     "data": {
      "text/plain": [
       "(16302714, 15)"
      ]
     },
     "execution_count": 38,
     "metadata": {},
     "output_type": "execute_result"
    }
   ],
   "source": [
    "# list of columns should not contain 0 value\n",
    "columns_need_check = ['mapped_veh_id', 'timestamps_UTC', 'lat', 'lon', 'RS_E_InAirTemp_PC1', 'RS_E_InAirTemp_PC2', 'RS_E_OilPress_PC1',\n",
    "       'RS_E_OilPress_PC2', 'RS_E_RPM_PC1', 'RS_E_RPM_PC2', 'RS_E_WatTemp_PC1', 'RS_E_WatTemp_PC2', 'RS_T_OilTemp_PC1', 'RS_T_OilTemp_PC2']\n",
    "\n",
    "# Remove all the rows where columns value contains 0\n",
    "data = data[(data[columns_need_check] != 0).all(axis=1)]\n",
    "\n",
    "data.shape"
   ]
  },
  {
   "cell_type": "markdown",
   "id": "e14e51f8",
   "metadata": {
    "papermill": {
     "duration": 0.035199,
     "end_time": "2023-11-19T00:07:54.270714",
     "exception": false,
     "start_time": "2023-11-19T00:07:54.235515",
     "status": "completed"
    },
    "tags": []
   },
   "source": [
    "# Convert the 'timestamps_UTC' column to datetime"
   ]
  },
  {
   "cell_type": "code",
   "execution_count": 39,
   "id": "d228548c",
   "metadata": {
    "execution": {
     "iopub.execute_input": "2023-11-19T00:07:54.343816Z",
     "iopub.status.busy": "2023-11-19T00:07:54.343410Z",
     "iopub.status.idle": "2023-11-19T00:10:40.824472Z",
     "shell.execute_reply": "2023-11-19T00:10:40.822459Z"
    },
    "papermill": {
     "duration": 166.521208,
     "end_time": "2023-11-19T00:10:40.827796",
     "exception": false,
     "start_time": "2023-11-19T00:07:54.306588",
     "status": "completed"
    },
    "tags": []
   },
   "outputs": [
    {
     "name": "stdout",
     "output_type": "stream",
     "text": [
      "datetime64[ns]\n",
      "         date      time  hour  day  dayofweek   weekday\n",
      "0  2023-08-01  03:44:12     3    1          1   Tuesday\n",
      "1  2023-08-01  06:36:29     6    1          1   Tuesday\n",
      "2  2023-08-24  06:53:54     6   24          3  Thursday\n",
      "3  2023-08-01  13:53:38    13    1          1   Tuesday\n",
      "4  2023-08-24  07:02:30     7   24          3  Thursday\n",
      "(16302714, 19)\n"
     ]
    }
   ],
   "source": [
    "# Convert the 'timestamps_UTC' column to datetime format and coerce errors\n",
    "data['timestamps_UTC'] = pd.to_datetime(data['timestamps_UTC'], errors='coerce')\n",
    "\n",
    "# Verify the datatype of 'timestamps_UTC' after conversion\n",
    "print(data['timestamps_UTC'].dtype)\n",
    "\n",
    "# Extract date and time attributes for visualization\n",
    "data['date'] = data['timestamps_UTC'].dt.date\n",
    "data['time'] = data['timestamps_UTC'].dt.time\n",
    "data['hour'] = data['timestamps_UTC'].dt.hour\n",
    "data['day'] = data['timestamps_UTC'].dt.day\n",
    "data['dayofweek'] = data['timestamps_UTC'].dt.dayofweek\n",
    "data['weekday'] = data['timestamps_UTC'].dt.strftime('%A')\n",
    "\n",
    "# Verify that the new columns have been created\n",
    "print(data[['date', 'time', 'hour', 'day', 'dayofweek', 'weekday']].head())\n",
    "\n",
    "# Drop the 'timestamps_UTC' column if it's no longer needed\n",
    "data.drop(['timestamps_UTC'], axis=1, inplace=True)\n",
    "\n",
    "# Verify the shape of the data\n",
    "print(data.shape)\n"
   ]
  },
  {
   "cell_type": "markdown",
   "id": "0a3c7609",
   "metadata": {
    "papermill": {
     "duration": 0.037011,
     "end_time": "2023-11-19T00:10:40.901344",
     "exception": false,
     "start_time": "2023-11-19T00:10:40.864333",
     "status": "completed"
    },
    "tags": []
   },
   "source": [
    "# Remove outranged Date"
   ]
  },
  {
   "cell_type": "code",
   "execution_count": 40,
   "id": "de74cfc4",
   "metadata": {
    "execution": {
     "iopub.execute_input": "2023-11-19T00:10:40.977360Z",
     "iopub.status.busy": "2023-11-19T00:10:40.976917Z",
     "iopub.status.idle": "2023-11-19T00:10:44.287882Z",
     "shell.execute_reply": "2023-11-19T00:10:44.286479Z"
    },
    "papermill": {
     "duration": 3.353102,
     "end_time": "2023-11-19T00:10:44.290632",
     "exception": false,
     "start_time": "2023-11-19T00:10:40.937530",
     "status": "completed"
    },
    "tags": []
   },
   "outputs": [
    {
     "data": {
      "text/plain": [
       "date\n",
       "2022-08-22        22\n",
       "2023-01-01         3\n",
       "2023-01-03        21\n",
       "2023-01-04        47\n",
       "2023-01-05       104\n",
       "2023-01-06        81\n",
       "2023-01-07       139\n",
       "2023-01-08       228\n",
       "2023-01-09       142\n",
       "2023-01-10       143\n",
       "2023-01-11        88\n",
       "2023-01-12       113\n",
       "2023-01-13       408\n",
       "2023-01-14        55\n",
       "2023-01-15        55\n",
       "2023-01-16        32\n",
       "2023-01-17         2\n",
       "2023-01-20        34\n",
       "2023-01-22         4\n",
       "2023-01-23     59346\n",
       "2023-01-24     97312\n",
       "2023-01-25    101314\n",
       "2023-01-26    101466\n",
       "2023-01-27     98007\n",
       "2023-01-28     40499\n",
       "2023-01-29     47186\n",
       "2023-01-30     91982\n",
       "2023-01-31    106886\n",
       "2023-02-01    100152\n",
       "2023-02-02     90146\n",
       "2023-02-03     91637\n",
       "2023-02-04     36932\n",
       "2023-02-05     37128\n",
       "2023-02-06     91967\n",
       "2023-02-07    105060\n",
       "2023-02-08    102756\n",
       "2023-02-09    104948\n",
       "2023-02-10    105306\n",
       "2023-02-11     41584\n",
       "2023-02-12     41480\n",
       "2023-02-13     90099\n",
       "2023-02-14     94536\n",
       "2023-02-15     94108\n",
       "2023-02-16     91243\n",
       "2023-02-17     92072\n",
       "2023-02-18     42290\n",
       "2023-02-19     40461\n",
       "2023-02-20    102425\n",
       "2023-02-21     96579\n",
       "2023-02-22    101884\n",
       "2023-02-23     95838\n",
       "2023-02-24     84916\n",
       "2023-02-25     34471\n",
       "2023-02-26     38366\n",
       "2023-02-27    100056\n",
       "2023-02-28    108150\n",
       "2023-03-01    107690\n",
       "2023-03-02    113232\n",
       "2023-03-03    104013\n",
       "2023-03-04     47155\n",
       "2023-03-05     49200\n",
       "2023-03-06     99606\n",
       "2023-03-07    101856\n",
       "2023-03-08    108820\n",
       "2023-03-09    102798\n",
       "2023-03-10     37806\n",
       "2023-03-11     53089\n",
       "2023-03-12     42756\n",
       "2023-03-13     93645\n",
       "2023-03-14     80636\n",
       "2023-03-15     95153\n",
       "2023-03-16     87932\n",
       "2023-03-17     94101\n",
       "2023-03-18     15837\n",
       "2023-03-19     22048\n",
       "2023-03-20     96726\n",
       "2023-03-21     97521\n",
       "2023-03-22     92643\n",
       "2023-03-23     92384\n",
       "2023-03-24     89662\n",
       "2023-03-25      1811\n",
       "2023-03-26     40193\n",
       "2023-03-27     95865\n",
       "2023-03-28     99525\n",
       "2023-03-29     96983\n",
       "2023-03-30     86911\n",
       "2023-03-31     78918\n",
       "2023-04-01     28322\n",
       "2023-04-02     45206\n",
       "2023-04-03     77394\n",
       "2023-04-04     74890\n",
       "2023-04-05     77245\n",
       "2023-04-06     67204\n",
       "2023-04-07     62118\n",
       "2023-04-08     37155\n",
       "2023-04-09     29964\n",
       "2023-04-10     34203\n",
       "2023-04-11     56813\n",
       "2023-04-12     71661\n",
       "2023-04-13     69867\n",
       "2023-04-14     68001\n",
       "2023-04-15     39843\n",
       "2023-04-16     37198\n",
       "2023-04-17     97894\n",
       "2023-04-18     94381\n",
       "2023-04-19     99017\n",
       "2023-04-20     97723\n",
       "2023-04-21     90536\n",
       "2023-04-22     38337\n",
       "2023-04-23     44255\n",
       "2023-04-24     92610\n",
       "2023-04-25     90826\n",
       "2023-04-26     91459\n",
       "2023-04-27     96136\n",
       "2023-04-28     86289\n",
       "2023-04-29     21183\n",
       "2023-04-30     20430\n",
       "2023-05-01     35031\n",
       "2023-05-02     91096\n",
       "2023-05-03     92352\n",
       "2023-05-04     76720\n",
       "2023-05-05     90187\n",
       "2023-05-06     18280\n",
       "2023-05-07     24186\n",
       "2023-05-08     84840\n",
       "2023-05-09     89073\n",
       "2023-05-10     94859\n",
       "2023-05-11     92585\n",
       "2023-05-12     92471\n",
       "2023-05-13     35862\n",
       "2023-05-14     39805\n",
       "2023-05-15     92378\n",
       "2023-05-16    100583\n",
       "2023-05-17     95565\n",
       "2023-05-18     41910\n",
       "2023-05-19     79388\n",
       "2023-05-20     18380\n",
       "2023-05-21     23144\n",
       "2023-05-22     83308\n",
       "2023-05-23     98570\n",
       "2023-05-24     97497\n",
       "2023-05-25     95136\n",
       "2023-05-26     92298\n",
       "2023-05-27     23828\n",
       "2023-05-28     20961\n",
       "2023-05-29     40004\n",
       "2023-05-30     92002\n",
       "2023-05-31     99634\n",
       "2023-06-01     91411\n",
       "2023-06-02     89225\n",
       "2023-06-03     25418\n",
       "2023-06-04     28918\n",
       "2023-06-05     90916\n",
       "2023-06-06     91097\n",
       "2023-06-07     93676\n",
       "2023-06-08     90844\n",
       "2023-06-09     93399\n",
       "2023-06-10     29112\n",
       "2023-06-11     34775\n",
       "2023-06-12     96268\n",
       "2023-06-13     94758\n",
       "2023-06-14     94320\n",
       "2023-06-15     89336\n",
       "2023-06-16     85682\n",
       "2023-06-17     37204\n",
       "2023-06-18     40961\n",
       "2023-06-19     86860\n",
       "2023-06-20     89399\n",
       "2023-06-21    100163\n",
       "2023-06-22     96643\n",
       "2023-06-23     88662\n",
       "2023-06-24     37417\n",
       "2023-06-25     30384\n",
       "2023-06-26     82702\n",
       "2023-06-27     87236\n",
       "2023-06-28     95931\n",
       "2023-06-29     87732\n",
       "2023-06-30     87162\n",
       "2023-07-01     35551\n",
       "2023-07-02     36341\n",
       "2023-07-03     68165\n",
       "2023-07-04     65912\n",
       "2023-07-05     69889\n",
       "2023-07-06     53804\n",
       "2023-07-07     68350\n",
       "2023-07-08     41737\n",
       "2023-07-09     28275\n",
       "2023-07-10     74946\n",
       "2023-07-11     69752\n",
       "2023-07-12     69672\n",
       "2023-07-13     72598\n",
       "2023-07-14     67220\n",
       "2023-07-15     37473\n",
       "2023-07-16     35015\n",
       "2023-07-17     70810\n",
       "2023-07-18     65975\n",
       "2023-07-19     74225\n",
       "2023-07-20     69543\n",
       "2023-07-21     38167\n",
       "2023-07-22     41299\n",
       "2023-07-23     40800\n",
       "2023-07-24     72279\n",
       "2023-07-25     67943\n",
       "2023-07-26     67754\n",
       "2023-07-27     72304\n",
       "2023-07-28     61784\n",
       "2023-07-29     32963\n",
       "2023-07-30     42356\n",
       "2023-07-31     69001\n",
       "2023-08-01     70823\n",
       "2023-08-02     74348\n",
       "2023-08-03     74214\n",
       "2023-08-04     65083\n",
       "2023-08-05     35717\n",
       "2023-08-06     34258\n",
       "2023-08-07     71094\n",
       "2023-08-08     64475\n",
       "2023-08-09     67556\n",
       "2023-08-10     59767\n",
       "2023-08-11     69094\n",
       "2023-08-12     25054\n",
       "2023-08-13     27052\n",
       "2023-08-14     50710\n",
       "2023-08-15     31413\n",
       "2023-08-16     60453\n",
       "2023-08-17     61607\n",
       "2023-08-18     57091\n",
       "2023-08-19     28989\n",
       "2023-08-20     34839\n",
       "2023-08-21     65627\n",
       "2023-08-22     64350\n",
       "2023-08-23     64482\n",
       "2023-08-24     64586\n",
       "2023-08-25     66354\n",
       "2023-08-26     36244\n",
       "2023-08-27     36550\n",
       "2023-08-28     87883\n",
       "2023-08-29     91335\n",
       "2023-08-30     90396\n",
       "2023-08-31     87536\n",
       "2023-09-01     80327\n",
       "2023-09-02     33394\n",
       "2023-09-03     35239\n",
       "2023-09-04     91471\n",
       "2023-09-05     87586\n",
       "2023-09-06     83163\n",
       "2023-09-07     86820\n",
       "2023-09-08     83471\n",
       "2023-09-09     29354\n",
       "2023-09-10     31601\n",
       "2023-09-11     89159\n",
       "2023-09-12     93914\n",
       "2023-09-13     89804\n",
       "Name: count, dtype: int64"
      ]
     },
     "execution_count": 40,
     "metadata": {},
     "output_type": "execute_result"
    }
   ],
   "source": [
    "# Set the option to display up to 500 rows to shows all the results\n",
    "pd.set_option('display.max_rows', 500)\n",
    "\n",
    "date_distribution = data['date'].value_counts().sort_index()\n",
    "date_distribution"
   ]
  },
  {
   "cell_type": "code",
   "execution_count": 41,
   "id": "d520ffed",
   "metadata": {
    "execution": {
     "iopub.execute_input": "2023-11-19T00:10:44.368146Z",
     "iopub.status.busy": "2023-11-19T00:10:44.367254Z",
     "iopub.status.idle": "2023-11-19T00:10:44.372579Z",
     "shell.execute_reply": "2023-11-19T00:10:44.371407Z"
    },
    "papermill": {
     "duration": 0.046416,
     "end_time": "2023-11-19T00:10:44.375226",
     "exception": false,
     "start_time": "2023-11-19T00:10:44.328810",
     "status": "completed"
    },
    "tags": []
   },
   "outputs": [],
   "source": [
    "# data['timestamps_UTC'].value_counts().sort_index()"
   ]
  },
  {
   "cell_type": "code",
   "execution_count": 42,
   "id": "fe6b0b4b",
   "metadata": {
    "execution": {
     "iopub.execute_input": "2023-11-19T00:10:44.451635Z",
     "iopub.status.busy": "2023-11-19T00:10:44.450642Z",
     "iopub.status.idle": "2023-11-19T00:10:47.459979Z",
     "shell.execute_reply": "2023-11-19T00:10:47.459088Z"
    },
    "papermill": {
     "duration": 3.0498,
     "end_time": "2023-11-19T00:10:47.462178",
     "exception": false,
     "start_time": "2023-11-19T00:10:44.412378",
     "status": "completed"
    },
    "tags": []
   },
   "outputs": [
    {
     "data": {
      "text/html": [
       "<div>\n",
       "<style scoped>\n",
       "    .dataframe tbody tr th:only-of-type {\n",
       "        vertical-align: middle;\n",
       "    }\n",
       "\n",
       "    .dataframe tbody tr th {\n",
       "        vertical-align: top;\n",
       "    }\n",
       "\n",
       "    .dataframe thead th {\n",
       "        text-align: right;\n",
       "    }\n",
       "</style>\n",
       "<table border=\"1\" class=\"dataframe\">\n",
       "  <thead>\n",
       "    <tr style=\"text-align: right;\">\n",
       "      <th></th>\n",
       "      <th>mapped_veh_id</th>\n",
       "      <th>lat</th>\n",
       "      <th>lon</th>\n",
       "      <th>RS_E_InAirTemp_PC1</th>\n",
       "      <th>RS_E_InAirTemp_PC2</th>\n",
       "      <th>RS_E_OilPress_PC1</th>\n",
       "      <th>RS_E_OilPress_PC2</th>\n",
       "      <th>RS_E_RPM_PC1</th>\n",
       "      <th>RS_E_RPM_PC2</th>\n",
       "      <th>RS_E_WatTemp_PC1</th>\n",
       "      <th>RS_E_WatTemp_PC2</th>\n",
       "      <th>RS_T_OilTemp_PC1</th>\n",
       "      <th>RS_T_OilTemp_PC2</th>\n",
       "      <th>date</th>\n",
       "      <th>time</th>\n",
       "      <th>hour</th>\n",
       "      <th>day</th>\n",
       "      <th>dayofweek</th>\n",
       "      <th>weekday</th>\n",
       "    </tr>\n",
       "  </thead>\n",
       "  <tbody>\n",
       "    <tr>\n",
       "      <th>387835</th>\n",
       "      <td>114.0</td>\n",
       "      <td>51.167832</td>\n",
       "      <td>4.970915</td>\n",
       "      <td>16.0</td>\n",
       "      <td>37.0</td>\n",
       "      <td>365.0</td>\n",
       "      <td>369.0</td>\n",
       "      <td>1488.0</td>\n",
       "      <td>1504.0</td>\n",
       "      <td>81.0</td>\n",
       "      <td>81.0</td>\n",
       "      <td>77.0</td>\n",
       "      <td>81.0</td>\n",
       "      <td>2023-01-05</td>\n",
       "      <td>04:08:17</td>\n",
       "      <td>4</td>\n",
       "      <td>5</td>\n",
       "      <td>3</td>\n",
       "      <td>Thursday</td>\n",
       "    </tr>\n",
       "    <tr>\n",
       "      <th>387860</th>\n",
       "      <td>114.0</td>\n",
       "      <td>51.224405</td>\n",
       "      <td>4.440917</td>\n",
       "      <td>15.0</td>\n",
       "      <td>21.0</td>\n",
       "      <td>244.0</td>\n",
       "      <td>241.0</td>\n",
       "      <td>797.0</td>\n",
       "      <td>819.0</td>\n",
       "      <td>80.0</td>\n",
       "      <td>80.0</td>\n",
       "      <td>73.0</td>\n",
       "      <td>74.0</td>\n",
       "      <td>2023-01-05</td>\n",
       "      <td>09:38:28</td>\n",
       "      <td>9</td>\n",
       "      <td>5</td>\n",
       "      <td>3</td>\n",
       "      <td>Thursday</td>\n",
       "    </tr>\n",
       "    <tr>\n",
       "      <th>388129</th>\n",
       "      <td>114.0</td>\n",
       "      <td>51.291419</td>\n",
       "      <td>4.399841</td>\n",
       "      <td>13.0</td>\n",
       "      <td>30.0</td>\n",
       "      <td>217.0</td>\n",
       "      <td>210.0</td>\n",
       "      <td>791.0</td>\n",
       "      <td>794.0</td>\n",
       "      <td>79.0</td>\n",
       "      <td>79.0</td>\n",
       "      <td>76.0</td>\n",
       "      <td>78.0</td>\n",
       "      <td>2023-01-05</td>\n",
       "      <td>06:59:46</td>\n",
       "      <td>6</td>\n",
       "      <td>5</td>\n",
       "      <td>3</td>\n",
       "      <td>Thursday</td>\n",
       "    </tr>\n",
       "    <tr>\n",
       "      <th>388130</th>\n",
       "      <td>114.0</td>\n",
       "      <td>51.169224</td>\n",
       "      <td>4.990896</td>\n",
       "      <td>15.0</td>\n",
       "      <td>36.0</td>\n",
       "      <td>224.0</td>\n",
       "      <td>213.0</td>\n",
       "      <td>799.0</td>\n",
       "      <td>790.0</td>\n",
       "      <td>78.0</td>\n",
       "      <td>78.0</td>\n",
       "      <td>76.0</td>\n",
       "      <td>78.0</td>\n",
       "      <td>2023-01-05</td>\n",
       "      <td>04:06:25</td>\n",
       "      <td>4</td>\n",
       "      <td>5</td>\n",
       "      <td>3</td>\n",
       "      <td>Thursday</td>\n",
       "    </tr>\n",
       "    <tr>\n",
       "      <th>388131</th>\n",
       "      <td>114.0</td>\n",
       "      <td>51.190393</td>\n",
       "      <td>5.113896</td>\n",
       "      <td>13.0</td>\n",
       "      <td>21.0</td>\n",
       "      <td>231.0</td>\n",
       "      <td>227.0</td>\n",
       "      <td>795.0</td>\n",
       "      <td>802.0</td>\n",
       "      <td>80.0</td>\n",
       "      <td>80.0</td>\n",
       "      <td>74.0</td>\n",
       "      <td>75.0</td>\n",
       "      <td>2023-01-05</td>\n",
       "      <td>03:51:36</td>\n",
       "      <td>3</td>\n",
       "      <td>5</td>\n",
       "      <td>3</td>\n",
       "      <td>Thursday</td>\n",
       "    </tr>\n",
       "    <tr>\n",
       "      <th>...</th>\n",
       "      <td>...</td>\n",
       "      <td>...</td>\n",
       "      <td>...</td>\n",
       "      <td>...</td>\n",
       "      <td>...</td>\n",
       "      <td>...</td>\n",
       "      <td>...</td>\n",
       "      <td>...</td>\n",
       "      <td>...</td>\n",
       "      <td>...</td>\n",
       "      <td>...</td>\n",
       "      <td>...</td>\n",
       "      <td>...</td>\n",
       "      <td>...</td>\n",
       "      <td>...</td>\n",
       "      <td>...</td>\n",
       "      <td>...</td>\n",
       "      <td>...</td>\n",
       "      <td>...</td>\n",
       "    </tr>\n",
       "    <tr>\n",
       "      <th>16694651</th>\n",
       "      <td>114.0</td>\n",
       "      <td>51.190395</td>\n",
       "      <td>5.113913</td>\n",
       "      <td>13.0</td>\n",
       "      <td>20.0</td>\n",
       "      <td>244.0</td>\n",
       "      <td>244.0</td>\n",
       "      <td>801.0</td>\n",
       "      <td>802.0</td>\n",
       "      <td>77.0</td>\n",
       "      <td>78.0</td>\n",
       "      <td>70.0</td>\n",
       "      <td>71.0</td>\n",
       "      <td>2023-01-05</td>\n",
       "      <td>03:23:40</td>\n",
       "      <td>3</td>\n",
       "      <td>5</td>\n",
       "      <td>3</td>\n",
       "      <td>Thursday</td>\n",
       "    </tr>\n",
       "    <tr>\n",
       "      <th>17386068</th>\n",
       "      <td>114.0</td>\n",
       "      <td>51.190425</td>\n",
       "      <td>5.113904</td>\n",
       "      <td>13.0</td>\n",
       "      <td>21.0</td>\n",
       "      <td>231.0</td>\n",
       "      <td>224.0</td>\n",
       "      <td>797.0</td>\n",
       "      <td>794.0</td>\n",
       "      <td>80.0</td>\n",
       "      <td>80.0</td>\n",
       "      <td>75.0</td>\n",
       "      <td>75.0</td>\n",
       "      <td>2023-01-05</td>\n",
       "      <td>03:52:57</td>\n",
       "      <td>3</td>\n",
       "      <td>5</td>\n",
       "      <td>3</td>\n",
       "      <td>Thursday</td>\n",
       "    </tr>\n",
       "    <tr>\n",
       "      <th>17398823</th>\n",
       "      <td>114.0</td>\n",
       "      <td>51.190412</td>\n",
       "      <td>5.113923</td>\n",
       "      <td>13.0</td>\n",
       "      <td>20.0</td>\n",
       "      <td>244.0</td>\n",
       "      <td>238.0</td>\n",
       "      <td>802.0</td>\n",
       "      <td>798.0</td>\n",
       "      <td>78.0</td>\n",
       "      <td>78.0</td>\n",
       "      <td>70.0</td>\n",
       "      <td>71.0</td>\n",
       "      <td>2023-01-05</td>\n",
       "      <td>03:25:28</td>\n",
       "      <td>3</td>\n",
       "      <td>5</td>\n",
       "      <td>3</td>\n",
       "      <td>Thursday</td>\n",
       "    </tr>\n",
       "    <tr>\n",
       "      <th>17407804</th>\n",
       "      <td>114.0</td>\n",
       "      <td>51.221958</td>\n",
       "      <td>5.437313</td>\n",
       "      <td>19.0</td>\n",
       "      <td>26.0</td>\n",
       "      <td>231.0</td>\n",
       "      <td>220.0</td>\n",
       "      <td>800.0</td>\n",
       "      <td>801.0</td>\n",
       "      <td>79.0</td>\n",
       "      <td>78.0</td>\n",
       "      <td>76.0</td>\n",
       "      <td>77.0</td>\n",
       "      <td>2023-01-05</td>\n",
       "      <td>20:38:39</td>\n",
       "      <td>20</td>\n",
       "      <td>5</td>\n",
       "      <td>3</td>\n",
       "      <td>Thursday</td>\n",
       "    </tr>\n",
       "    <tr>\n",
       "      <th>17407805</th>\n",
       "      <td>114.0</td>\n",
       "      <td>51.190379</td>\n",
       "      <td>5.113893</td>\n",
       "      <td>13.0</td>\n",
       "      <td>21.0</td>\n",
       "      <td>255.0</td>\n",
       "      <td>244.0</td>\n",
       "      <td>787.0</td>\n",
       "      <td>787.0</td>\n",
       "      <td>75.0</td>\n",
       "      <td>76.0</td>\n",
       "      <td>66.0</td>\n",
       "      <td>67.0</td>\n",
       "      <td>2023-01-05</td>\n",
       "      <td>03:12:49</td>\n",
       "      <td>3</td>\n",
       "      <td>5</td>\n",
       "      <td>3</td>\n",
       "      <td>Thursday</td>\n",
       "    </tr>\n",
       "  </tbody>\n",
       "</table>\n",
       "<p>104 rows × 19 columns</p>\n",
       "</div>"
      ],
      "text/plain": [
       "          mapped_veh_id        lat       lon  RS_E_InAirTemp_PC1  \\\n",
       "387835            114.0  51.167832  4.970915                16.0   \n",
       "387860            114.0  51.224405  4.440917                15.0   \n",
       "388129            114.0  51.291419  4.399841                13.0   \n",
       "388130            114.0  51.169224  4.990896                15.0   \n",
       "388131            114.0  51.190393  5.113896                13.0   \n",
       "...                 ...        ...       ...                 ...   \n",
       "16694651          114.0  51.190395  5.113913                13.0   \n",
       "17386068          114.0  51.190425  5.113904                13.0   \n",
       "17398823          114.0  51.190412  5.113923                13.0   \n",
       "17407804          114.0  51.221958  5.437313                19.0   \n",
       "17407805          114.0  51.190379  5.113893                13.0   \n",
       "\n",
       "          RS_E_InAirTemp_PC2  RS_E_OilPress_PC1  RS_E_OilPress_PC2  \\\n",
       "387835                  37.0              365.0              369.0   \n",
       "387860                  21.0              244.0              241.0   \n",
       "388129                  30.0              217.0              210.0   \n",
       "388130                  36.0              224.0              213.0   \n",
       "388131                  21.0              231.0              227.0   \n",
       "...                      ...                ...                ...   \n",
       "16694651                20.0              244.0              244.0   \n",
       "17386068                21.0              231.0              224.0   \n",
       "17398823                20.0              244.0              238.0   \n",
       "17407804                26.0              231.0              220.0   \n",
       "17407805                21.0              255.0              244.0   \n",
       "\n",
       "          RS_E_RPM_PC1  RS_E_RPM_PC2  RS_E_WatTemp_PC1  RS_E_WatTemp_PC2  \\\n",
       "387835          1488.0        1504.0              81.0              81.0   \n",
       "387860           797.0         819.0              80.0              80.0   \n",
       "388129           791.0         794.0              79.0              79.0   \n",
       "388130           799.0         790.0              78.0              78.0   \n",
       "388131           795.0         802.0              80.0              80.0   \n",
       "...                ...           ...               ...               ...   \n",
       "16694651         801.0         802.0              77.0              78.0   \n",
       "17386068         797.0         794.0              80.0              80.0   \n",
       "17398823         802.0         798.0              78.0              78.0   \n",
       "17407804         800.0         801.0              79.0              78.0   \n",
       "17407805         787.0         787.0              75.0              76.0   \n",
       "\n",
       "          RS_T_OilTemp_PC1  RS_T_OilTemp_PC2        date      time  hour  day  \\\n",
       "387835                77.0              81.0  2023-01-05  04:08:17     4    5   \n",
       "387860                73.0              74.0  2023-01-05  09:38:28     9    5   \n",
       "388129                76.0              78.0  2023-01-05  06:59:46     6    5   \n",
       "388130                76.0              78.0  2023-01-05  04:06:25     4    5   \n",
       "388131                74.0              75.0  2023-01-05  03:51:36     3    5   \n",
       "...                    ...               ...         ...       ...   ...  ...   \n",
       "16694651              70.0              71.0  2023-01-05  03:23:40     3    5   \n",
       "17386068              75.0              75.0  2023-01-05  03:52:57     3    5   \n",
       "17398823              70.0              71.0  2023-01-05  03:25:28     3    5   \n",
       "17407804              76.0              77.0  2023-01-05  20:38:39    20    5   \n",
       "17407805              66.0              67.0  2023-01-05  03:12:49     3    5   \n",
       "\n",
       "          dayofweek   weekday  \n",
       "387835            3  Thursday  \n",
       "387860            3  Thursday  \n",
       "388129            3  Thursday  \n",
       "388130            3  Thursday  \n",
       "388131            3  Thursday  \n",
       "...             ...       ...  \n",
       "16694651          3  Thursday  \n",
       "17386068          3  Thursday  \n",
       "17398823          3  Thursday  \n",
       "17407804          3  Thursday  \n",
       "17407805          3  Thursday  \n",
       "\n",
       "[104 rows x 19 columns]"
      ]
     },
     "execution_count": 42,
     "metadata": {},
     "output_type": "execute_result"
    }
   ],
   "source": [
    "# Set the option to display up to 500 rows to shows all the results\n",
    "pd.set_option('display.max_rows', 50)\n",
    "data[data['date'] == pd.to_datetime('2023-01-05').date()]"
   ]
  },
  {
   "cell_type": "markdown",
   "id": "1c14d186",
   "metadata": {
    "papermill": {
     "duration": 0.037856,
     "end_time": "2023-11-19T00:10:47.537967",
     "exception": false,
     "start_time": "2023-11-19T00:10:47.500111",
     "status": "completed"
    },
    "tags": []
   },
   "source": [
    "we can find that the data is uncontinues and almost useless, so let's remove the data of date frequency less than 1000"
   ]
  },
  {
   "cell_type": "code",
   "execution_count": 43,
   "id": "1474254e",
   "metadata": {
    "execution": {
     "iopub.execute_input": "2023-11-19T00:10:47.614295Z",
     "iopub.status.busy": "2023-11-19T00:10:47.613795Z",
     "iopub.status.idle": "2023-11-19T00:10:51.794120Z",
     "shell.execute_reply": "2023-11-19T00:10:51.792717Z"
    },
    "papermill": {
     "duration": 4.221749,
     "end_time": "2023-11-19T00:10:51.796984",
     "exception": false,
     "start_time": "2023-11-19T00:10:47.575235",
     "status": "completed"
    },
    "tags": []
   },
   "outputs": [
    {
     "data": {
      "text/plain": [
       "(16300993, 19)"
      ]
     },
     "execution_count": 43,
     "metadata": {},
     "output_type": "execute_result"
    }
   ],
   "source": [
    "# Find dates with a frequency of less than 1000\n",
    "dates_to_remove = date_distribution[date_distribution < 1000].index\n",
    "\n",
    "# Remove these dates from the DataFrame\n",
    "data = data[~data['date'].isin(dates_to_remove)]\n",
    "\n",
    "data.shape"
   ]
  },
  {
   "cell_type": "markdown",
   "id": "4130d2fa",
   "metadata": {
    "papermill": {
     "duration": 0.037553,
     "end_time": "2023-11-19T00:10:51.872245",
     "exception": false,
     "start_time": "2023-11-19T00:10:51.834692",
     "status": "completed"
    },
    "tags": []
   },
   "source": [
    "# Remove Outliers in lon & lat"
   ]
  },
  {
   "cell_type": "code",
   "execution_count": 44,
   "id": "cf29b1d1",
   "metadata": {
    "execution": {
     "iopub.execute_input": "2023-11-19T00:10:51.949251Z",
     "iopub.status.busy": "2023-11-19T00:10:51.948835Z",
     "iopub.status.idle": "2023-11-19T00:10:52.567592Z",
     "shell.execute_reply": "2023-11-19T00:10:52.566373Z"
    },
    "papermill": {
     "duration": 0.660452,
     "end_time": "2023-11-19T00:10:52.570524",
     "exception": false,
     "start_time": "2023-11-19T00:10:51.910072",
     "status": "completed"
    },
    "tags": []
   },
   "outputs": [
    {
     "data": {
      "text/plain": [
       "377873      49.383591\n",
       "2929855     52.857059\n",
       "14485639    49.729545\n",
       "Name: lat, dtype: float64"
      ]
     },
     "execution_count": 44,
     "metadata": {},
     "output_type": "execute_result"
    }
   ],
   "source": [
    "# Make use of IQR Methodology\n",
    "Q1 = data['lat'].quantile(0.25)\n",
    "Q3 = data['lat'].quantile(0.75)\n",
    "\n",
    "# Calculate IQR\n",
    "IQR = Q3 - Q1\n",
    "\n",
    "# Define Outlier Boundary\n",
    "lower_bound = Q1 - 2.5 * IQR\n",
    "upper_bound = Q3 + 2 * IQR\n",
    "\n",
    "# Define Outliers\n",
    "outliers = data[(data['lat'] < lower_bound) | (data['lat'] > upper_bound)]\n",
    "\n",
    "outliers['lat']"
   ]
  },
  {
   "cell_type": "code",
   "execution_count": 45,
   "id": "87a5a739",
   "metadata": {
    "execution": {
     "iopub.execute_input": "2023-11-19T00:10:52.648660Z",
     "iopub.status.busy": "2023-11-19T00:10:52.647837Z",
     "iopub.status.idle": "2023-11-19T00:10:55.176838Z",
     "shell.execute_reply": "2023-11-19T00:10:55.175556Z"
    },
    "papermill": {
     "duration": 2.57105,
     "end_time": "2023-11-19T00:10:55.179531",
     "exception": false,
     "start_time": "2023-11-19T00:10:52.608481",
     "status": "completed"
    },
    "tags": []
   },
   "outputs": [
    {
     "data": {
      "text/plain": [
       "(16300990, 19)"
      ]
     },
     "execution_count": 45,
     "metadata": {},
     "output_type": "execute_result"
    }
   ],
   "source": [
    "# Filtering out the outliers directly without using the .drop() method\n",
    "data = data[~((data['lat'] < lower_bound) | (data['lat'] > upper_bound))]\n",
    "data.shape"
   ]
  },
  {
   "cell_type": "code",
   "execution_count": 46,
   "id": "f9834ffe",
   "metadata": {
    "execution": {
     "iopub.execute_input": "2023-11-19T00:10:55.258005Z",
     "iopub.status.busy": "2023-11-19T00:10:55.257542Z",
     "iopub.status.idle": "2023-11-19T00:10:55.986326Z",
     "shell.execute_reply": "2023-11-19T00:10:55.985226Z"
    },
    "papermill": {
     "duration": 0.770936,
     "end_time": "2023-11-19T00:10:55.988896",
     "exception": false,
     "start_time": "2023-11-19T00:10:55.217960",
     "status": "completed"
    },
    "tags": []
   },
   "outputs": [
    {
     "data": {
      "text/plain": [
       "3213259     0.206793\n",
       "4484586     0.175049\n",
       "9624290     2.474403\n",
       "12241898    1.954037\n",
       "13246459    0.190611\n",
       "16414114    2.872149\n",
       "17612420    1.960787\n",
       "Name: lon, dtype: float64"
      ]
     },
     "execution_count": 46,
     "metadata": {},
     "output_type": "execute_result"
    }
   ],
   "source": [
    "# Make use of IQR Methodology\n",
    "Q1 = data['lon'].quantile(0.25)\n",
    "Q3 = data['lon'].quantile(0.75)\n",
    "\n",
    "# Calculate IQR\n",
    "IQR = Q3 - Q1\n",
    "\n",
    "# Define Outlier Boundary\n",
    "lower_bound = Q1 - 1 * IQR\n",
    "upper_bound = Q3 + 1.5 * IQR\n",
    "\n",
    "# Define Outliers\n",
    "outliers = data[(data['lon'] < lower_bound) | (data['lon'] > upper_bound)]\n",
    "\n",
    "outliers['lon']"
   ]
  },
  {
   "cell_type": "code",
   "execution_count": 47,
   "id": "06a0cf63",
   "metadata": {
    "execution": {
     "iopub.execute_input": "2023-11-19T00:10:56.067914Z",
     "iopub.status.busy": "2023-11-19T00:10:56.067501Z",
     "iopub.status.idle": "2023-11-19T00:10:58.543301Z",
     "shell.execute_reply": "2023-11-19T00:10:58.541992Z"
    },
    "papermill": {
     "duration": 2.518746,
     "end_time": "2023-11-19T00:10:58.546112",
     "exception": false,
     "start_time": "2023-11-19T00:10:56.027366",
     "status": "completed"
    },
    "tags": []
   },
   "outputs": [
    {
     "data": {
      "text/plain": [
       "(16300983, 19)"
      ]
     },
     "execution_count": 47,
     "metadata": {},
     "output_type": "execute_result"
    }
   ],
   "source": [
    "# Filtering out the outliers directly without using the .drop() method\n",
    "data = data[~((data['lon'] < lower_bound) | (data['lon'] > upper_bound))]\n",
    "data.shape"
   ]
  },
  {
   "cell_type": "markdown",
   "id": "6252e3d1",
   "metadata": {
    "papermill": {
     "duration": 0.038003,
     "end_time": "2023-11-19T00:10:58.622498",
     "exception": false,
     "start_time": "2023-11-19T00:10:58.584495",
     "status": "completed"
    },
    "tags": []
   },
   "source": [
    "# Group the data by column `mapped_veh_id`"
   ]
  },
  {
   "cell_type": "code",
   "execution_count": 48,
   "id": "c93502b9",
   "metadata": {
    "execution": {
     "iopub.execute_input": "2023-11-19T00:10:58.700937Z",
     "iopub.status.busy": "2023-11-19T00:10:58.700476Z",
     "iopub.status.idle": "2023-11-19T00:10:58.710009Z",
     "shell.execute_reply": "2023-11-19T00:10:58.709085Z"
    },
    "papermill": {
     "duration": 0.051741,
     "end_time": "2023-11-19T00:10:58.712108",
     "exception": false,
     "start_time": "2023-11-19T00:10:58.660367",
     "status": "completed"
    },
    "tags": []
   },
   "outputs": [
    {
     "data": {
      "text/plain": [
       "0           181.0\n",
       "1           143.0\n",
       "2           183.0\n",
       "3           177.0\n",
       "4           143.0\n",
       "            ...  \n",
       "17679267    180.0\n",
       "17679268    180.0\n",
       "17679269    180.0\n",
       "17679271    177.0\n",
       "17679272    110.0\n",
       "Name: mapped_veh_id, Length: 16300983, dtype: float64"
      ]
     },
     "execution_count": 48,
     "metadata": {},
     "output_type": "execute_result"
    }
   ],
   "source": [
    "data['mapped_veh_id']"
   ]
  },
  {
   "cell_type": "code",
   "execution_count": 49,
   "id": "24474b3c",
   "metadata": {
    "execution": {
     "iopub.execute_input": "2023-11-19T00:10:58.792355Z",
     "iopub.status.busy": "2023-11-19T00:10:58.791862Z",
     "iopub.status.idle": "2023-11-19T00:11:12.341947Z",
     "shell.execute_reply": "2023-11-19T00:11:12.340760Z"
    },
    "papermill": {
     "duration": 13.592375,
     "end_time": "2023-11-19T00:11:12.344408",
     "exception": false,
     "start_time": "2023-11-19T00:10:58.752033",
     "status": "completed"
    },
    "tags": []
   },
   "outputs": [
    {
     "data": {
      "text/html": [
       "<div>\n",
       "<style scoped>\n",
       "    .dataframe tbody tr th:only-of-type {\n",
       "        vertical-align: middle;\n",
       "    }\n",
       "\n",
       "    .dataframe tbody tr th {\n",
       "        vertical-align: top;\n",
       "    }\n",
       "\n",
       "    .dataframe thead th {\n",
       "        text-align: right;\n",
       "    }\n",
       "</style>\n",
       "<table border=\"1\" class=\"dataframe\">\n",
       "  <thead>\n",
       "    <tr style=\"text-align: right;\">\n",
       "      <th></th>\n",
       "      <th>mapped_veh_id</th>\n",
       "      <th>lat</th>\n",
       "      <th>lon</th>\n",
       "      <th>RS_E_InAirTemp_PC1</th>\n",
       "      <th>RS_E_InAirTemp_PC2</th>\n",
       "      <th>RS_E_OilPress_PC1</th>\n",
       "      <th>RS_E_OilPress_PC2</th>\n",
       "      <th>RS_E_RPM_PC1</th>\n",
       "      <th>RS_E_RPM_PC2</th>\n",
       "      <th>RS_E_WatTemp_PC1</th>\n",
       "      <th>RS_E_WatTemp_PC2</th>\n",
       "      <th>RS_T_OilTemp_PC1</th>\n",
       "      <th>RS_T_OilTemp_PC2</th>\n",
       "      <th>date</th>\n",
       "      <th>time</th>\n",
       "      <th>hour</th>\n",
       "      <th>day</th>\n",
       "      <th>dayofweek</th>\n",
       "      <th>weekday</th>\n",
       "    </tr>\n",
       "  </thead>\n",
       "  <tbody>\n",
       "    <tr>\n",
       "      <th>3697751</th>\n",
       "      <td>102.0</td>\n",
       "      <td>51.107771</td>\n",
       "      <td>3.986401</td>\n",
       "      <td>6.0</td>\n",
       "      <td>10.0</td>\n",
       "      <td>227.0</td>\n",
       "      <td>231.0</td>\n",
       "      <td>798.0</td>\n",
       "      <td>798.0</td>\n",
       "      <td>78.0</td>\n",
       "      <td>81.0</td>\n",
       "      <td>72.0</td>\n",
       "      <td>79.0</td>\n",
       "      <td>2023-01-26</td>\n",
       "      <td>07:28:19</td>\n",
       "      <td>7</td>\n",
       "      <td>26</td>\n",
       "      <td>3</td>\n",
       "      <td>Thursday</td>\n",
       "    </tr>\n",
       "    <tr>\n",
       "      <th>9173140</th>\n",
       "      <td>102.0</td>\n",
       "      <td>50.770013</td>\n",
       "      <td>3.871419</td>\n",
       "      <td>21.0</td>\n",
       "      <td>27.0</td>\n",
       "      <td>269.0</td>\n",
       "      <td>269.0</td>\n",
       "      <td>797.0</td>\n",
       "      <td>799.0</td>\n",
       "      <td>68.0</td>\n",
       "      <td>71.0</td>\n",
       "      <td>58.0</td>\n",
       "      <td>62.0</td>\n",
       "      <td>2023-07-28</td>\n",
       "      <td>03:00:13</td>\n",
       "      <td>3</td>\n",
       "      <td>28</td>\n",
       "      <td>4</td>\n",
       "      <td>Friday</td>\n",
       "    </tr>\n",
       "    <tr>\n",
       "      <th>9173161</th>\n",
       "      <td>102.0</td>\n",
       "      <td>50.877348</td>\n",
       "      <td>3.625066</td>\n",
       "      <td>45.0</td>\n",
       "      <td>44.0</td>\n",
       "      <td>317.0</td>\n",
       "      <td>339.5</td>\n",
       "      <td>1414.0</td>\n",
       "      <td>1537.0</td>\n",
       "      <td>85.0</td>\n",
       "      <td>86.0</td>\n",
       "      <td>85.0</td>\n",
       "      <td>85.5</td>\n",
       "      <td>2023-07-28</td>\n",
       "      <td>15:16:24</td>\n",
       "      <td>15</td>\n",
       "      <td>28</td>\n",
       "      <td>4</td>\n",
       "      <td>Friday</td>\n",
       "    </tr>\n",
       "    <tr>\n",
       "      <th>14953329</th>\n",
       "      <td>102.0</td>\n",
       "      <td>50.906726</td>\n",
       "      <td>3.920042</td>\n",
       "      <td>25.0</td>\n",
       "      <td>13.0</td>\n",
       "      <td>213.0</td>\n",
       "      <td>217.0</td>\n",
       "      <td>796.0</td>\n",
       "      <td>806.0</td>\n",
       "      <td>78.0</td>\n",
       "      <td>81.0</td>\n",
       "      <td>73.0</td>\n",
       "      <td>81.0</td>\n",
       "      <td>2023-02-09</td>\n",
       "      <td>06:25:15</td>\n",
       "      <td>6</td>\n",
       "      <td>9</td>\n",
       "      <td>3</td>\n",
       "      <td>Thursday</td>\n",
       "    </tr>\n",
       "    <tr>\n",
       "      <th>4882786</th>\n",
       "      <td>102.0</td>\n",
       "      <td>51.040131</td>\n",
       "      <td>3.692792</td>\n",
       "      <td>38.0</td>\n",
       "      <td>36.0</td>\n",
       "      <td>203.0</td>\n",
       "      <td>203.0</td>\n",
       "      <td>795.0</td>\n",
       "      <td>807.0</td>\n",
       "      <td>80.0</td>\n",
       "      <td>81.0</td>\n",
       "      <td>77.0</td>\n",
       "      <td>80.0</td>\n",
       "      <td>2023-06-23</td>\n",
       "      <td>12:43:33</td>\n",
       "      <td>12</td>\n",
       "      <td>23</td>\n",
       "      <td>4</td>\n",
       "      <td>Friday</td>\n",
       "    </tr>\n",
       "    <tr>\n",
       "      <th>...</th>\n",
       "      <td>...</td>\n",
       "      <td>...</td>\n",
       "      <td>...</td>\n",
       "      <td>...</td>\n",
       "      <td>...</td>\n",
       "      <td>...</td>\n",
       "      <td>...</td>\n",
       "      <td>...</td>\n",
       "      <td>...</td>\n",
       "      <td>...</td>\n",
       "      <td>...</td>\n",
       "      <td>...</td>\n",
       "      <td>...</td>\n",
       "      <td>...</td>\n",
       "      <td>...</td>\n",
       "      <td>...</td>\n",
       "      <td>...</td>\n",
       "      <td>...</td>\n",
       "      <td>...</td>\n",
       "    </tr>\n",
       "    <tr>\n",
       "      <th>1183488</th>\n",
       "      <td>197.0</td>\n",
       "      <td>50.095041</td>\n",
       "      <td>4.526048</td>\n",
       "      <td>20.0</td>\n",
       "      <td>12.0</td>\n",
       "      <td>217.0</td>\n",
       "      <td>365.0</td>\n",
       "      <td>796.0</td>\n",
       "      <td>794.0</td>\n",
       "      <td>78.0</td>\n",
       "      <td>52.0</td>\n",
       "      <td>76.0</td>\n",
       "      <td>52.0</td>\n",
       "      <td>2023-02-06</td>\n",
       "      <td>04:43:00</td>\n",
       "      <td>4</td>\n",
       "      <td>6</td>\n",
       "      <td>0</td>\n",
       "      <td>Monday</td>\n",
       "    </tr>\n",
       "    <tr>\n",
       "      <th>4394852</th>\n",
       "      <td>197.0</td>\n",
       "      <td>50.237087</td>\n",
       "      <td>4.507164</td>\n",
       "      <td>47.0</td>\n",
       "      <td>40.0</td>\n",
       "      <td>338.0</td>\n",
       "      <td>427.0</td>\n",
       "      <td>1499.0</td>\n",
       "      <td>1500.0</td>\n",
       "      <td>87.0</td>\n",
       "      <td>82.0</td>\n",
       "      <td>89.0</td>\n",
       "      <td>87.0</td>\n",
       "      <td>2023-01-30</td>\n",
       "      <td>05:58:30</td>\n",
       "      <td>5</td>\n",
       "      <td>30</td>\n",
       "      <td>0</td>\n",
       "      <td>Monday</td>\n",
       "    </tr>\n",
       "    <tr>\n",
       "      <th>16777054</th>\n",
       "      <td>197.0</td>\n",
       "      <td>50.303358</td>\n",
       "      <td>4.111566</td>\n",
       "      <td>38.0</td>\n",
       "      <td>40.0</td>\n",
       "      <td>193.0</td>\n",
       "      <td>255.0</td>\n",
       "      <td>798.0</td>\n",
       "      <td>804.0</td>\n",
       "      <td>86.0</td>\n",
       "      <td>77.0</td>\n",
       "      <td>82.0</td>\n",
       "      <td>79.0</td>\n",
       "      <td>2023-06-23</td>\n",
       "      <td>14:38:51</td>\n",
       "      <td>14</td>\n",
       "      <td>23</td>\n",
       "      <td>4</td>\n",
       "      <td>Friday</td>\n",
       "    </tr>\n",
       "    <tr>\n",
       "      <th>14850387</th>\n",
       "      <td>197.0</td>\n",
       "      <td>50.419169</td>\n",
       "      <td>4.534289</td>\n",
       "      <td>17.0</td>\n",
       "      <td>13.0</td>\n",
       "      <td>200.0</td>\n",
       "      <td>393.0</td>\n",
       "      <td>796.0</td>\n",
       "      <td>797.0</td>\n",
       "      <td>86.0</td>\n",
       "      <td>51.0</td>\n",
       "      <td>78.0</td>\n",
       "      <td>50.0</td>\n",
       "      <td>2023-03-08</td>\n",
       "      <td>02:39:58</td>\n",
       "      <td>2</td>\n",
       "      <td>8</td>\n",
       "      <td>2</td>\n",
       "      <td>Wednesday</td>\n",
       "    </tr>\n",
       "    <tr>\n",
       "      <th>1880620</th>\n",
       "      <td>197.0</td>\n",
       "      <td>50.405963</td>\n",
       "      <td>4.429336</td>\n",
       "      <td>23.0</td>\n",
       "      <td>25.0</td>\n",
       "      <td>372.0</td>\n",
       "      <td>534.0</td>\n",
       "      <td>1339.0</td>\n",
       "      <td>1455.0</td>\n",
       "      <td>79.0</td>\n",
       "      <td>62.0</td>\n",
       "      <td>77.0</td>\n",
       "      <td>63.0</td>\n",
       "      <td>2023-03-08</td>\n",
       "      <td>15:56:24</td>\n",
       "      <td>15</td>\n",
       "      <td>8</td>\n",
       "      <td>2</td>\n",
       "      <td>Wednesday</td>\n",
       "    </tr>\n",
       "  </tbody>\n",
       "</table>\n",
       "<p>16300983 rows × 19 columns</p>\n",
       "</div>"
      ],
      "text/plain": [
       "          mapped_veh_id        lat       lon  RS_E_InAirTemp_PC1  \\\n",
       "3697751           102.0  51.107771  3.986401                 6.0   \n",
       "9173140           102.0  50.770013  3.871419                21.0   \n",
       "9173161           102.0  50.877348  3.625066                45.0   \n",
       "14953329          102.0  50.906726  3.920042                25.0   \n",
       "4882786           102.0  51.040131  3.692792                38.0   \n",
       "...                 ...        ...       ...                 ...   \n",
       "1183488           197.0  50.095041  4.526048                20.0   \n",
       "4394852           197.0  50.237087  4.507164                47.0   \n",
       "16777054          197.0  50.303358  4.111566                38.0   \n",
       "14850387          197.0  50.419169  4.534289                17.0   \n",
       "1880620           197.0  50.405963  4.429336                23.0   \n",
       "\n",
       "          RS_E_InAirTemp_PC2  RS_E_OilPress_PC1  RS_E_OilPress_PC2  \\\n",
       "3697751                 10.0              227.0              231.0   \n",
       "9173140                 27.0              269.0              269.0   \n",
       "9173161                 44.0              317.0              339.5   \n",
       "14953329                13.0              213.0              217.0   \n",
       "4882786                 36.0              203.0              203.0   \n",
       "...                      ...                ...                ...   \n",
       "1183488                 12.0              217.0              365.0   \n",
       "4394852                 40.0              338.0              427.0   \n",
       "16777054                40.0              193.0              255.0   \n",
       "14850387                13.0              200.0              393.0   \n",
       "1880620                 25.0              372.0              534.0   \n",
       "\n",
       "          RS_E_RPM_PC1  RS_E_RPM_PC2  RS_E_WatTemp_PC1  RS_E_WatTemp_PC2  \\\n",
       "3697751          798.0         798.0              78.0              81.0   \n",
       "9173140          797.0         799.0              68.0              71.0   \n",
       "9173161         1414.0        1537.0              85.0              86.0   \n",
       "14953329         796.0         806.0              78.0              81.0   \n",
       "4882786          795.0         807.0              80.0              81.0   \n",
       "...                ...           ...               ...               ...   \n",
       "1183488          796.0         794.0              78.0              52.0   \n",
       "4394852         1499.0        1500.0              87.0              82.0   \n",
       "16777054         798.0         804.0              86.0              77.0   \n",
       "14850387         796.0         797.0              86.0              51.0   \n",
       "1880620         1339.0        1455.0              79.0              62.0   \n",
       "\n",
       "          RS_T_OilTemp_PC1  RS_T_OilTemp_PC2        date      time  hour  day  \\\n",
       "3697751               72.0              79.0  2023-01-26  07:28:19     7   26   \n",
       "9173140               58.0              62.0  2023-07-28  03:00:13     3   28   \n",
       "9173161               85.0              85.5  2023-07-28  15:16:24    15   28   \n",
       "14953329              73.0              81.0  2023-02-09  06:25:15     6    9   \n",
       "4882786               77.0              80.0  2023-06-23  12:43:33    12   23   \n",
       "...                    ...               ...         ...       ...   ...  ...   \n",
       "1183488               76.0              52.0  2023-02-06  04:43:00     4    6   \n",
       "4394852               89.0              87.0  2023-01-30  05:58:30     5   30   \n",
       "16777054              82.0              79.0  2023-06-23  14:38:51    14   23   \n",
       "14850387              78.0              50.0  2023-03-08  02:39:58     2    8   \n",
       "1880620               77.0              63.0  2023-03-08  15:56:24    15    8   \n",
       "\n",
       "          dayofweek    weekday  \n",
       "3697751           3   Thursday  \n",
       "9173140           4     Friday  \n",
       "9173161           4     Friday  \n",
       "14953329          3   Thursday  \n",
       "4882786           4     Friday  \n",
       "...             ...        ...  \n",
       "1183488           0     Monday  \n",
       "4394852           0     Monday  \n",
       "16777054          4     Friday  \n",
       "14850387          2  Wednesday  \n",
       "1880620           2  Wednesday  \n",
       "\n",
       "[16300983 rows x 19 columns]"
      ]
     },
     "execution_count": 49,
     "metadata": {},
     "output_type": "execute_result"
    }
   ],
   "source": [
    "data.sort_values(by=['mapped_veh_id'], inplace=True)\n",
    "data"
   ]
  },
  {
   "cell_type": "markdown",
   "id": "87fa40a6",
   "metadata": {
    "papermill": {
     "duration": 0.039007,
     "end_time": "2023-11-19T00:11:12.423122",
     "exception": false,
     "start_time": "2023-11-19T00:11:12.384115",
     "status": "completed"
    },
    "tags": []
   },
   "source": [
    "# Save Cleaned Data as a new Dataset"
   ]
  },
  {
   "cell_type": "code",
   "execution_count": 50,
   "id": "ce5f20ec",
   "metadata": {
    "execution": {
     "iopub.execute_input": "2023-11-19T00:11:12.502766Z",
     "iopub.status.busy": "2023-11-19T00:11:12.502228Z",
     "iopub.status.idle": "2023-11-19T00:16:47.800512Z",
     "shell.execute_reply": "2023-11-19T00:16:47.799131Z"
    },
    "papermill": {
     "duration": 335.34199,
     "end_time": "2023-11-19T00:16:47.803810",
     "exception": false,
     "start_time": "2023-11-19T00:11:12.461820",
     "status": "completed"
    },
    "tags": []
   },
   "outputs": [],
   "source": [
    "data.to_csv('cleaned_ar41_for_ulb.csv', index=False)"
   ]
  }
 ],
 "metadata": {
  "kaggle": {
   "accelerator": "none",
   "dataSources": [
    {
     "datasetId": 3977452,
     "sourceId": 6927364,
     "sourceType": "datasetVersion"
    }
   ],
   "dockerImageVersionId": 30558,
   "isGpuEnabled": false,
   "isInternetEnabled": true,
   "language": "python",
   "sourceType": "notebook"
  },
  "kernelspec": {
   "display_name": "Python 3",
   "language": "python",
   "name": "python3"
  },
  "language_info": {
   "codemirror_mode": {
    "name": "ipython",
    "version": 3
   },
   "file_extension": ".py",
   "mimetype": "text/x-python",
   "name": "python",
   "nbconvert_exporter": "python",
   "pygments_lexer": "ipython3",
   "version": "3.10.12"
  },
  "papermill": {
   "default_parameters": {},
   "duration": 743.249596,
   "end_time": "2023-11-19T00:16:50.570865",
   "environment_variables": {},
   "exception": null,
   "input_path": "__notebook__.ipynb",
   "output_path": "__notebook__.ipynb",
   "parameters": {},
   "start_time": "2023-11-19T00:04:27.321269",
   "version": "2.4.0"
  }
 },
 "nbformat": 4,
 "nbformat_minor": 5
}
