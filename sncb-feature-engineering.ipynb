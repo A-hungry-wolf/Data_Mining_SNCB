{
 "cells": [
  {
   "cell_type": "markdown",
   "id": "45f934a7",
   "metadata": {
    "papermill": {
     "duration": 0.006391,
     "end_time": "2023-12-11T18:15:46.151574",
     "exception": false,
     "start_time": "2023-12-11T18:15:46.145183",
     "status": "completed"
    },
    "tags": []
   },
   "source": [
    "# Data Import"
   ]
  },
  {
   "cell_type": "code",
   "execution_count": 1,
   "id": "019fc110",
   "metadata": {
    "execution": {
     "iopub.execute_input": "2023-12-11T18:15:46.167833Z",
     "iopub.status.busy": "2023-12-11T18:15:46.167130Z",
     "iopub.status.idle": "2023-12-11T18:15:51.028413Z",
     "shell.execute_reply": "2023-12-11T18:15:51.027393Z"
    },
    "papermill": {
     "duration": 4.871302,
     "end_time": "2023-12-11T18:15:51.031185",
     "exception": false,
     "start_time": "2023-12-11T18:15:46.159883",
     "status": "completed"
    },
    "tags": []
   },
   "outputs": [],
   "source": [
    "import pandas as pd\n",
    "import os\n",
    "import seaborn as sns\n",
    "import numpy as np\n",
    "import matplotlib.pyplot as plt\n",
    "import matplotlib.dates as mdates\n",
    "from geopy.distance import geodesic\n",
    "\n",
    "from sklearn.cluster import KMeans\n",
    "from sklearn.ensemble import IsolationForest\n",
    "from sklearn.preprocessing import StandardScaler, OneHotEncoder\n",
    "from sklearn.compose import ColumnTransformer\n",
    "from sklearn.impute import SimpleImputer\n",
    "from sklearn.pipeline import Pipeline\n",
    "from sklearn.metrics import silhouette_score\n",
    "from sklearn.cluster import DBSCAN\n",
    "from sklearn.cluster import MiniBatchKMeans\n",
    "\n",
    "from sklearn.decomposition import PCA\n",
    "\n",
    "from mpl_toolkits.mplot3d import Axes3D\n",
    "\n",
    "import plotly.graph_objs as go\n",
    "\n",
    "import dask.dataframe as dd\n",
    "\n",
    "import gc\n",
    "\n",
    "import pyarrow"
   ]
  },
  {
   "cell_type": "code",
   "execution_count": 2,
   "id": "745ebcc6",
   "metadata": {
    "execution": {
     "iopub.execute_input": "2023-12-11T18:15:51.041812Z",
     "iopub.status.busy": "2023-12-11T18:15:51.041193Z",
     "iopub.status.idle": "2023-12-11T18:18:30.330150Z",
     "shell.execute_reply": "2023-12-11T18:18:30.328611Z"
    },
    "papermill": {
     "duration": 159.297946,
     "end_time": "2023-12-11T18:18:30.333486",
     "exception": false,
     "start_time": "2023-12-11T18:15:51.035540",
     "status": "completed"
    },
    "tags": []
   },
   "outputs": [
    {
     "name": "stdout",
     "output_type": "stream",
     "text": [
      "<class 'pandas.core.frame.DataFrame'>\n",
      "RangeIndex: 17677337 entries, 0 to 17677336\n",
      "Data columns (total 32 columns):\n",
      " #   Column              Dtype  \n",
      "---  ------              -----  \n",
      " 0   Unnamed: 0          int64  \n",
      " 1   timestamps_UTC      object \n",
      " 2   mapped_veh_id       float64\n",
      " 3   lat                 float64\n",
      " 4   lon                 float64\n",
      " 5   RS_E_InAirTemp_PC1  float64\n",
      " 6   RS_E_InAirTemp_PC2  float64\n",
      " 7   RS_E_OilPress_PC1   float64\n",
      " 8   RS_E_OilPress_PC2   float64\n",
      " 9   RS_E_RPM_PC1        float64\n",
      " 10  RS_E_RPM_PC2        float64\n",
      " 11  RS_E_WatTemp_PC1    float64\n",
      " 12  RS_E_WatTemp_PC2    float64\n",
      " 13  RS_T_OilTemp_PC1    float64\n",
      " 14  RS_T_OilTemp_PC2    float64\n",
      " 15  date                object \n",
      " 16  hour                float64\n",
      " 17  dayofweek           float64\n",
      " 18  weekday             object \n",
      " 19  Distance            float64\n",
      " 20  Speed               float64\n",
      " 21  date_hour           object \n",
      " 22  datetime            object \n",
      " 23  weather_main        object \n",
      " 24  temp                float64\n",
      " 25  feels_like          float64\n",
      " 26  pressure            float64\n",
      " 27  humidity            float64\n",
      " 28  wind                float64\n",
      " 29  clouds              float64\n",
      " 30  temp_celsius        float64\n",
      " 31  feels_like_celsius  float64\n",
      "dtypes: float64(25), int64(1), object(6)\n",
      "memory usage: 4.2+ GB\n",
      "None\n",
      "   Unnamed: 0       timestamps_UTC  mapped_veh_id    lat   lon  \\\n",
      "0           0  2023-01-23 07:25:08          102.0  51.02  3.77   \n",
      "1           1  2023-01-23 07:25:16          102.0  51.02  3.77   \n",
      "2           2  2023-01-23 07:25:37          102.0  51.02  3.77   \n",
      "3           3  2023-01-23 07:25:41          102.0  51.02  3.77   \n",
      "4           4  2023-01-23 07:26:10          102.0  51.02  3.77   \n",
      "\n",
      "   RS_E_InAirTemp_PC1  RS_E_InAirTemp_PC2  RS_E_OilPress_PC1  \\\n",
      "0                17.0                18.0              210.0   \n",
      "1                17.0                20.0              200.0   \n",
      "2                19.0                20.0              193.0   \n",
      "3                19.0                20.0              196.0   \n",
      "4                19.0                21.0              200.0   \n",
      "\n",
      "   RS_E_OilPress_PC2  RS_E_RPM_PC1  ...             datetime  weather_main  \\\n",
      "0              210.0         858.0  ...  2023-01-23 07:00:00        Clouds   \n",
      "1              200.0         801.0  ...  2023-01-23 07:00:00        Clouds   \n",
      "2              207.0         803.0  ...  2023-01-23 07:00:00        Clouds   \n",
      "3              203.0         801.0  ...  2023-01-23 07:00:00        Clouds   \n",
      "4              203.0         795.0  ...  2023-01-23 07:00:00        Clouds   \n",
      "\n",
      "     temp  feels_like  pressure humidity  wind  clouds temp_celsius  \\\n",
      "0  274.54      271.75    1035.0     92.0  2.52   100.0         1.39   \n",
      "1  274.54      271.75    1035.0     92.0  2.52   100.0         1.39   \n",
      "2  274.54      271.75    1035.0     92.0  2.52   100.0         1.39   \n",
      "3  274.54      271.75    1035.0     92.0  2.52   100.0         1.39   \n",
      "4  274.54      271.75    1035.0     92.0  2.52   100.0         1.39   \n",
      "\n",
      "   feels_like_celsius  \n",
      "0                -1.4  \n",
      "1                -1.4  \n",
      "2                -1.4  \n",
      "3                -1.4  \n",
      "4                -1.4  \n",
      "\n",
      "[5 rows x 32 columns]\n"
     ]
    }
   ],
   "source": [
    "dataset_path = '/kaggle/input/sncb-data-augumentation/enriched_cleaned_ar41_for_ulb.csv'\n",
    "\n",
    "# Check if the file exists before trying to read it\n",
    "if os.path.exists(dataset_path):\n",
    "    data = pd.read_csv(dataset_path)\n",
    "\n",
    "    # Display the basic information and the first few rows of the dataframe\n",
    "    data_info = data.info()\n",
    "    data_head = data.head()\n",
    "\n",
    "    # If you want to print the information to the console\n",
    "    print(data_info)\n",
    "    print(data_head)\n",
    "else:\n",
    "    print(f\"The file {dataset_path} does not exist.\")\n",
    "    \n",
    "data = data.drop(['Unnamed: 0', 'dayofweek', 'datetime', 'date_hour'], axis=1)"
   ]
  },
  {
   "cell_type": "markdown",
   "id": "36522391",
   "metadata": {
    "papermill": {
     "duration": 0.004823,
     "end_time": "2023-12-11T18:18:30.343217",
     "exception": false,
     "start_time": "2023-12-11T18:18:30.338394",
     "status": "completed"
    },
    "tags": []
   },
   "source": [
    "# Feature Engineering"
   ]
  },
  {
   "cell_type": "code",
   "execution_count": 3,
   "id": "dababab1",
   "metadata": {
    "execution": {
     "iopub.execute_input": "2023-12-11T18:18:30.354848Z",
     "iopub.status.busy": "2023-12-11T18:18:30.354392Z",
     "iopub.status.idle": "2023-12-11T18:18:30.370998Z",
     "shell.execute_reply": "2023-12-11T18:18:30.369827Z"
    },
    "papermill": {
     "duration": 0.026098,
     "end_time": "2023-12-11T18:18:30.373835",
     "exception": false,
     "start_time": "2023-12-11T18:18:30.347737",
     "status": "completed"
    },
    "tags": []
   },
   "outputs": [],
   "source": [
    "def optimize_datatypes(df):\n",
    "    \"\"\"\n",
    "    Convert columns to more memory-efficient types.\n",
    "    \"\"\"\n",
    "    for col in df.select_dtypes(include=['float64', 'float32']).columns:\n",
    "        df[col] = pd.to_numeric(df[col], downcast='float')\n",
    "    for col in df.select_dtypes(include=['int64', 'int32']).columns:\n",
    "        df[col] = pd.to_numeric(df[col], downcast='unsigned')\n",
    "    return df\n",
    "\n",
    "def feat_eng(df):\n",
    "    \"\"\"\n",
    "    Perform feature engineering on the dataset with optimizations for memory efficiency.\n",
    "    \"\"\"\n",
    "    # Define aggregation functions\n",
    "    agg_funcs = {\n",
    "        'mean': 'mean',\n",
    "        'median': 'median',\n",
    "        'std': 'std',\n",
    "        'skew': 'skew',\n",
    "        'kurt': lambda x: pd.Series.kurt(x),\n",
    "        'min': 'min',\n",
    "        'max': 'max'\n",
    "    }\n",
    "\n",
    "    # Optimize data types first\n",
    "    df = optimize_datatypes(df)\n",
    "    \n",
    "    # Identify sensor columns in the dataset\n",
    "    sensors = [col for col in df.columns if col.startswith('RS_E_') or col.startswith('RS_T_')]\n",
    "    \n",
    "    # Initialize the sequence DataFrame with the correct index\n",
    "    seq_df = pd.DataFrame(index=df['mapped_veh_id'].unique())\n",
    "    \n",
    "    for sensor in sensors:\n",
    "        # Compute rolling means and other window-based metrics only when needed\n",
    "        sensor_df = df.groupby('mapped_veh_id')[sensor]\n",
    "        for window in [3, 6, 9]:\n",
    "            df[f'{sensor}_roll_mean{window}'] = sensor_df.rolling(window=window, min_periods=1).mean().reset_index(level=0, drop=True).astype('float32')\n",
    "        \n",
    "        # Fill NaN values if necessary\n",
    "        df.fillna(method='ffill', inplace=True)\n",
    "\n",
    "        # Calculate aggregated features for each sensor and mapped_veh_id\n",
    "        for func_name, func in agg_funcs.items():\n",
    "            seq_df[f'{sensor}_{func_name}'] = df.groupby('mapped_veh_id')[sensor].agg(func).astype('float32')\n",
    "\n",
    "    # Drop temporary columns to free up memory\n",
    "    temp_cols = [col for col in df.columns if 'roll_mean' in col]\n",
    "    df.drop(columns=temp_cols, inplace=True)\n",
    "    \n",
    "    # Manually trigger garbage collection to free up memory\n",
    "    gc.collect()\n",
    "    \n",
    "    return df, seq_df\n"
   ]
  },
  {
   "cell_type": "code",
   "execution_count": 4,
   "id": "7cbeff47",
   "metadata": {
    "execution": {
     "iopub.execute_input": "2023-12-11T18:18:30.384899Z",
     "iopub.status.busy": "2023-12-11T18:18:30.384477Z",
     "iopub.status.idle": "2023-12-11T18:24:46.612956Z",
     "shell.execute_reply": "2023-12-11T18:24:46.611710Z"
    },
    "papermill": {
     "duration": 376.243323,
     "end_time": "2023-12-11T18:24:46.621831",
     "exception": false,
     "start_time": "2023-12-11T18:18:30.378508",
     "status": "completed"
    },
    "tags": []
   },
   "outputs": [
    {
     "data": {
      "text/plain": [
       "(               timestamps_UTC  mapped_veh_id        lat   lon  \\\n",
       " 0         2023-01-23 07:25:08          102.0  51.020000  3.77   \n",
       " 1         2023-01-23 07:25:16          102.0  51.020000  3.77   \n",
       " 2         2023-01-23 07:25:37          102.0  51.020000  3.77   \n",
       " 3         2023-01-23 07:25:41          102.0  51.020000  3.77   \n",
       " 4         2023-01-23 07:26:10          102.0  51.020000  3.77   \n",
       " ...                       ...            ...        ...   ...   \n",
       " 17677332  2023-09-13 17:33:03          197.0  50.400002  4.45   \n",
       " 17677333  2023-09-13 17:33:58          197.0  50.400002  4.45   \n",
       " 17677334  2023-09-13 17:34:03          197.0  50.400002  4.45   \n",
       " 17677335  2023-09-13 17:34:58          197.0  50.400002  4.46   \n",
       " 17677336  2023-09-13 17:35:04          197.0  50.400002  4.46   \n",
       " \n",
       "           RS_E_InAirTemp_PC1  RS_E_InAirTemp_PC2  RS_E_OilPress_PC1  \\\n",
       " 0                       17.0                18.0              210.0   \n",
       " 1                       17.0                20.0              200.0   \n",
       " 2                       19.0                20.0              193.0   \n",
       " 3                       19.0                20.0              196.0   \n",
       " 4                       19.0                21.0              200.0   \n",
       " ...                      ...                 ...                ...   \n",
       " 17677332                37.0                40.0              220.0   \n",
       " 17677333                37.0                38.0              224.0   \n",
       " 17677334                37.0                38.0              224.0   \n",
       " 17677335                36.0                38.0              207.0   \n",
       " 17677336                36.0                38.0              213.0   \n",
       " \n",
       "           RS_E_OilPress_PC2  RS_E_RPM_PC1  RS_E_RPM_PC2  ...      Speed  \\\n",
       " 0                     210.0         858.0         839.0  ...   0.000000   \n",
       " 1                     200.0         801.0         804.0  ...   0.000000   \n",
       " 2                     207.0         803.0         808.0  ...   0.000000   \n",
       " 3                     203.0         801.0         803.0  ...   7.465564   \n",
       " 4                     203.0         795.0         807.0  ...   6.287259   \n",
       " ...                     ...           ...           ...  ...        ...   \n",
       " 17677332              258.0         803.0         803.0  ...   1.811908   \n",
       " 17677333              307.0         843.0         941.0  ...  12.899179   \n",
       " 17677334              307.0         841.0         932.0  ...  14.176354   \n",
       " 17677335              244.0         800.0         803.0  ...  12.017265   \n",
       " 17677336              244.0         802.0         801.0  ...  11.643050   \n",
       " \n",
       "           weather_main        temp  feels_like pressure  humidity  wind  \\\n",
       " 0               Clouds  274.540009  271.750000   1035.0      92.0  2.52   \n",
       " 1               Clouds  274.540009  271.750000   1035.0      92.0  2.52   \n",
       " 2               Clouds  274.540009  271.750000   1035.0      92.0  2.52   \n",
       " 3               Clouds  274.540009  271.750000   1035.0      92.0  2.52   \n",
       " 4               Clouds  274.540009  271.750000   1035.0      92.0  2.52   \n",
       " ...                ...         ...         ...      ...       ...   ...   \n",
       " 17677332        Clouds  290.380005  290.220001   1021.0      79.0  3.60   \n",
       " 17677333        Clouds  290.380005  290.220001   1021.0      79.0  3.60   \n",
       " 17677334        Clouds  290.380005  290.220001   1021.0      79.0  3.60   \n",
       " 17677335        Clouds  290.380005  290.220001   1021.0      79.0  3.60   \n",
       " 17677336        Clouds  290.380005  290.220001   1021.0      79.0  3.60   \n",
       " \n",
       "           clouds  temp_celsius feels_like_celsius  \n",
       " 0          100.0          1.39              -1.40  \n",
       " 1          100.0          1.39              -1.40  \n",
       " 2          100.0          1.39              -1.40  \n",
       " 3          100.0          1.39              -1.40  \n",
       " 4          100.0          1.39              -1.40  \n",
       " ...          ...           ...                ...  \n",
       " 17677332    20.0         17.23              17.07  \n",
       " 17677333    20.0         17.23              17.07  \n",
       " 17677334    20.0         17.23              17.07  \n",
       " 17677335    20.0         17.23              17.07  \n",
       " 17677336    20.0         17.23              17.07  \n",
       " \n",
       " [17677337 rows x 28 columns],\n",
       "        RS_E_InAirTemp_PC1_mean  RS_E_InAirTemp_PC1_median  \\\n",
       " 102.0                28.698778                       30.0   \n",
       " 103.0                25.744884                       27.0   \n",
       " 104.0                24.675091                       25.0   \n",
       " 105.0                24.290545                       22.0   \n",
       " 106.0                23.794077                       25.0   \n",
       " ...                        ...                        ...   \n",
       " 191.0                35.467842                       37.0   \n",
       " 192.0                36.149647                       40.0   \n",
       " 194.0                29.949476                       31.0   \n",
       " 196.0                24.489315                       25.0   \n",
       " 197.0                32.590164                       36.0   \n",
       " \n",
       "        RS_E_InAirTemp_PC1_std  RS_E_InAirTemp_PC1_skew  \\\n",
       " 102.0               10.885866                -0.178617   \n",
       " 103.0               11.380274                -0.105909   \n",
       " 104.0               11.398066                 0.081679   \n",
       " 105.0               13.580769                 0.325972   \n",
       " 106.0               10.999530                -0.013375   \n",
       " ...                       ...                      ...   \n",
       " 191.0                8.968339                -0.268063   \n",
       " 192.0               14.964128                -0.347071   \n",
       " 194.0               10.855587                -0.111449   \n",
       " 196.0               10.484929                 0.014751   \n",
       " 197.0               10.134329                -0.609359   \n",
       " \n",
       "        RS_E_InAirTemp_PC1_kurt  RS_E_InAirTemp_PC1_min  \\\n",
       " 102.0                -0.320473                     0.5   \n",
       " 103.0                -0.720394                    -3.0   \n",
       " 104.0                -0.466223                     1.0   \n",
       " 105.0                -0.849830                    -1.0   \n",
       " 106.0                -0.668524                    -4.0   \n",
       " ...                        ...                     ...   \n",
       " 191.0                 1.812366                     1.0   \n",
       " 192.0                -1.156335                     1.0   \n",
       " 194.0                -0.304798                    -1.0   \n",
       " 196.0                -0.459133                    -3.0   \n",
       " 197.0                -0.000291                    -3.0   \n",
       " \n",
       "        RS_E_InAirTemp_PC1_max  RS_E_InAirTemp_PC2_mean  \\\n",
       " 102.0                    86.0                28.649839   \n",
       " 103.0                    68.0                26.739771   \n",
       " 104.0                    76.0                26.014578   \n",
       " 105.0                    73.0                21.593323   \n",
       " 106.0                    70.0                20.861959   \n",
       " ...                       ...                      ...   \n",
       " 191.0                    76.0                35.082695   \n",
       " 192.0                    73.0                32.541344   \n",
       " 194.0                   122.0                35.688461   \n",
       " 196.0                    70.0                25.987463   \n",
       " 197.0                    72.0                30.673573   \n",
       " \n",
       "        RS_E_InAirTemp_PC2_median  RS_E_InAirTemp_PC2_std  ...  \\\n",
       " 102.0                       30.0               10.751511  ...   \n",
       " 103.0                       28.0               10.932399  ...   \n",
       " 104.0                       27.0               10.844879  ...   \n",
       " 105.0                       18.0               12.724847  ...   \n",
       " 106.0                       20.0               11.390758  ...   \n",
       " ...                          ...                     ...  ...   \n",
       " 191.0                       37.0                8.381181  ...   \n",
       " 192.0                       35.0               10.130674  ...   \n",
       " 194.0                       38.0                8.199789  ...   \n",
       " 196.0                       26.0               11.022288  ...   \n",
       " 197.0                       32.0               10.769976  ...   \n",
       " \n",
       "        RS_T_OilTemp_PC1_kurt  RS_T_OilTemp_PC1_min  RS_T_OilTemp_PC1_max  \\\n",
       " 102.0               3.987617                  1.00                 105.0   \n",
       " 103.0               5.297938                  1.00                 101.0   \n",
       " 104.0               8.590345                  4.00                 102.0   \n",
       " 105.0               7.908747                  1.00                 100.0   \n",
       " 106.0              -0.081694                  1.00                 103.0   \n",
       " ...                      ...                   ...                   ...   \n",
       " 191.0               7.413821                  0.50                 120.0   \n",
       " 192.0               4.682540                  1.00                 103.0   \n",
       " 194.0               7.233428                  0.25                  97.0   \n",
       " 196.0               0.219329                  1.00                  99.0   \n",
       " 197.0              11.563074                  1.00                  97.0   \n",
       " \n",
       "        RS_T_OilTemp_PC2_mean  RS_T_OilTemp_PC2_median  RS_T_OilTemp_PC2_std  \\\n",
       " 102.0              75.811020                     81.0             15.490449   \n",
       " 103.0              76.649734                     81.0             12.817473   \n",
       " 104.0              56.559479                     56.0             16.823750   \n",
       " 105.0              77.284950                     80.0             12.128186   \n",
       " 106.0              76.451469                     80.0             13.087856   \n",
       " ...                      ...                      ...                   ...   \n",
       " 191.0              78.207191                     81.0             11.416896   \n",
       " 192.0              73.759605                     78.0             15.684937   \n",
       " 194.0              79.077072                     83.0             13.911130   \n",
       " 196.0              72.191246                     76.5             15.855945   \n",
       " 197.0              68.989258                     73.0             16.047575   \n",
       " \n",
       "        RS_T_OilTemp_PC2_skew  RS_T_OilTemp_PC2_kurt  RS_T_OilTemp_PC2_min  \\\n",
       " 102.0              -2.031295               3.801332                   1.0   \n",
       " 103.0              -2.421834               7.013375                   1.0   \n",
       " 104.0               0.027120              -0.515047                   3.0   \n",
       " 105.0              -2.547148               8.396799                   1.0   \n",
       " 106.0              -2.243729               6.085453                   1.0   \n",
       " ...                      ...                    ...                   ...   \n",
       " 191.0              -2.719661              10.042174                   1.0   \n",
       " 192.0              -2.005420               3.681264                   1.0   \n",
       " 194.0              -2.345203               6.225101                   1.0   \n",
       " 196.0              -0.956632               0.491501                   1.0   \n",
       " 197.0              -0.845237               0.307066                   1.0   \n",
       " \n",
       "        RS_T_OilTemp_PC2_max  \n",
       " 102.0                 100.0  \n",
       " 103.0                 106.0  \n",
       " 104.0                  98.0  \n",
       " 105.0                 100.0  \n",
       " 106.0                 101.0  \n",
       " ...                     ...  \n",
       " 191.0                 101.0  \n",
       " 192.0                 105.0  \n",
       " 194.0                 105.0  \n",
       " 196.0                 101.0  \n",
       " 197.0                 100.0  \n",
       " \n",
       " [92 rows x 70 columns])"
      ]
     },
     "execution_count": 4,
     "metadata": {},
     "output_type": "execute_result"
    }
   ],
   "source": [
    "data = feat_eng(data)\n",
    "data"
   ]
  },
  {
   "cell_type": "code",
   "execution_count": 5,
   "id": "6ee4f5bc",
   "metadata": {
    "execution": {
     "iopub.execute_input": "2023-12-11T18:24:46.633796Z",
     "iopub.status.busy": "2023-12-11T18:24:46.633408Z",
     "iopub.status.idle": "2023-12-11T18:24:46.640501Z",
     "shell.execute_reply": "2023-12-11T18:24:46.639268Z"
    },
    "papermill": {
     "duration": 0.016218,
     "end_time": "2023-12-11T18:24:46.643099",
     "exception": false,
     "start_time": "2023-12-11T18:24:46.626881",
     "status": "completed"
    },
    "tags": []
   },
   "outputs": [
    {
     "data": {
      "text/plain": [
       "tuple"
      ]
     },
     "execution_count": 5,
     "metadata": {},
     "output_type": "execute_result"
    }
   ],
   "source": [
    "type(data)"
   ]
  },
  {
   "cell_type": "markdown",
   "id": "9c097763",
   "metadata": {
    "papermill": {
     "duration": 0.004913,
     "end_time": "2023-12-11T18:24:46.653441",
     "exception": false,
     "start_time": "2023-12-11T18:24:46.648528",
     "status": "completed"
    },
    "tags": []
   },
   "source": [
    "# Save to CSV"
   ]
  },
  {
   "cell_type": "code",
   "execution_count": 6,
   "id": "f5b84f1d",
   "metadata": {
    "execution": {
     "iopub.execute_input": "2023-12-11T18:24:46.665920Z",
     "iopub.status.busy": "2023-12-11T18:24:46.665541Z",
     "iopub.status.idle": "2023-12-11T18:24:46.670330Z",
     "shell.execute_reply": "2023-12-11T18:24:46.669194Z"
    },
    "papermill": {
     "duration": 0.014057,
     "end_time": "2023-12-11T18:24:46.672645",
     "exception": false,
     "start_time": "2023-12-11T18:24:46.658588",
     "status": "completed"
    },
    "tags": []
   },
   "outputs": [],
   "source": [
    "# data.to_csv('labeled_augumented_cleaned_ar41_for_ulb.csv', index=True)"
   ]
  },
  {
   "cell_type": "code",
   "execution_count": 7,
   "id": "b1fec43f",
   "metadata": {
    "execution": {
     "iopub.execute_input": "2023-12-11T18:24:46.685081Z",
     "iopub.status.busy": "2023-12-11T18:24:46.684667Z",
     "iopub.status.idle": "2023-12-11T18:25:06.861504Z",
     "shell.execute_reply": "2023-12-11T18:25:06.860362Z"
    },
    "papermill": {
     "duration": 20.186838,
     "end_time": "2023-12-11T18:25:06.864901",
     "exception": false,
     "start_time": "2023-12-11T18:24:46.678063",
     "status": "completed"
    },
    "tags": []
   },
   "outputs": [],
   "source": [
    "df1, df2 = data \n",
    "\n",
    "df1.to_parquet('enriched_data.parquet') \n",
    "df2.to_parquet('feature_engineering.parquet')  "
   ]
  }
 ],
 "metadata": {
  "kaggle": {
   "accelerator": "none",
   "dataSources": [
    {
     "datasetId": 3977452,
     "sourceId": 6927364,
     "sourceType": "datasetVersion"
    },
    {
     "datasetId": 4070186,
     "sourceId": 7074663,
     "sourceType": "datasetVersion"
    },
    {
     "sourceId": 153146077,
     "sourceType": "kernelVersion"
    },
    {
     "sourceId": 153597435,
     "sourceType": "kernelVersion"
    },
    {
     "sourceId": 154552242,
     "sourceType": "kernelVersion"
    }
   ],
   "dockerImageVersionId": 30558,
   "isGpuEnabled": false,
   "isInternetEnabled": true,
   "language": "python",
   "sourceType": "notebook"
  },
  "kernelspec": {
   "display_name": "Python 3",
   "language": "python",
   "name": "python3"
  },
  "language_info": {
   "codemirror_mode": {
    "name": "ipython",
    "version": 3
   },
   "file_extension": ".py",
   "mimetype": "text/x-python",
   "name": "python",
   "nbconvert_exporter": "python",
   "pygments_lexer": "ipython3",
   "version": "3.10.12"
  },
  "papermill": {
   "default_parameters": {},
   "duration": 568.009443,
   "end_time": "2023-12-11T18:25:09.799684",
   "environment_variables": {},
   "exception": null,
   "input_path": "__notebook__.ipynb",
   "output_path": "__notebook__.ipynb",
   "parameters": {},
   "start_time": "2023-12-11T18:15:41.790241",
   "version": "2.4.0"
  }
 },
 "nbformat": 4,
 "nbformat_minor": 5
}
